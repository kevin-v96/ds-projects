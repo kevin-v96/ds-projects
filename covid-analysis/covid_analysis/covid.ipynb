{
 "cells": [
  {
   "cell_type": "markdown",
   "metadata": {},
   "source": [
    "In this project we're going to analyze Covid data along with economic data of different countries to see what kind of effect Covid had on the economies."
   ]
  },
  {
   "cell_type": "code",
   "execution_count": 1,
   "metadata": {},
   "outputs": [],
   "source": [
    "# %%\n",
    "import pandas as pd\n",
    "import plotly.express as px\n",
    "import plotly.graph_objects as go"
   ]
  },
  {
   "cell_type": "markdown",
   "metadata": {},
   "source": [
    "We have three datasets.\n",
    "\n",
    "Two of them are taken from here : [Kaggle Dataset: Impact of Covid-19 Pandemic on the Global Economy](https://www.kaggle.com/datasets/shashwatwork/impact-of-covid19-pandemic-on-the-global-economy), \\\n",
    "which in turn is taken from: Vitenu-Sackey, Prince Asare (2020), “The Impact of Covid-19 Pandemic on the Global Economy: Emphasis on Poverty Alleviation and Economic Growth”, Mendeley Data, V1, doi: 10.17632/b2wvnbnpj9.1\n",
    "\n",
    "The columns in the first dataset are: ['CODE', 'COUNTRY', 'DATE', 'HDI', 'TC', 'TD', 'STI', 'POP', 'GDPCAP'] \\\n",
    "The columns in the second dataset (a transformed dataset) are: ['iso_code', 'location', 'date', 'total_cases', 'total_deaths', \\\n",
    "'stringency_index', 'population', 'gdp_per_capita'] and some other unnamed columns. The data is available upto 2022.\n",
    "\n",
    "Sadly, the GDP Per Capita data in these datasets has no variance in it over time, so I had to resort to finding that data from another source. I found this data here: \\\n",
    "[Our world in data: GDP per capitaIn constant 2017 international $ – World Bank](https://ourworldindata.org/grapher/gdp-per-capita-worldbank?tab=chart)\n",
    "\n",
    "The columns in this dataset are: ['Entity', 'Code', 'Year', 'GDP per capita, PPP (constant 2017 international $)']"
   ]
  },
  {
   "cell_type": "code",
   "execution_count": 29,
   "metadata": {},
   "outputs": [],
   "source": [
    "# %%\n",
    "data = pd.read_csv(\"../data/transformed_data.csv\")\n",
    "data2 = pd.read_csv(\"../data/raw_data.csv\")\n",
    "gdp_per_capita_data = pd.read_csv(\"../data/gdp-per-capita-worldbank.csv\")"
   ]
  },
  {
   "cell_type": "markdown",
   "metadata": {},
   "source": [
    "I initially did the data analysis here in interactive python and a Python file using VSCode and later converted it to this notebook, thus the markdown # %% syntax for cells."
   ]
  },
  {
   "cell_type": "code",
   "execution_count": 31,
   "metadata": {},
   "outputs": [
    {
     "data": {
      "text/html": [
       "<div>\n",
       "<style scoped>\n",
       "    .dataframe tbody tr th:only-of-type {\n",
       "        vertical-align: middle;\n",
       "    }\n",
       "\n",
       "    .dataframe tbody tr th {\n",
       "        vertical-align: top;\n",
       "    }\n",
       "\n",
       "    .dataframe thead th {\n",
       "        text-align: right;\n",
       "    }\n",
       "</style>\n",
       "<table border=\"1\" class=\"dataframe\">\n",
       "  <thead>\n",
       "    <tr style=\"text-align: right;\">\n",
       "      <th></th>\n",
       "      <th>CODE</th>\n",
       "      <th>COUNTRY</th>\n",
       "      <th>DATE</th>\n",
       "      <th>HDI</th>\n",
       "      <th>TC</th>\n",
       "      <th>TD</th>\n",
       "      <th>STI</th>\n",
       "      <th>POP</th>\n",
       "      <th>GDPCAP</th>\n",
       "    </tr>\n",
       "  </thead>\n",
       "  <tbody>\n",
       "    <tr>\n",
       "      <th>0</th>\n",
       "      <td>AFG</td>\n",
       "      <td>Afghanistan</td>\n",
       "      <td>2019-12-31</td>\n",
       "      <td>0.498</td>\n",
       "      <td>0.0</td>\n",
       "      <td>0.0</td>\n",
       "      <td>0.0</td>\n",
       "      <td>17.477233</td>\n",
       "      <td>7.497754</td>\n",
       "    </tr>\n",
       "    <tr>\n",
       "      <th>1</th>\n",
       "      <td>AFG</td>\n",
       "      <td>Afghanistan</td>\n",
       "      <td>2020-01-01</td>\n",
       "      <td>0.498</td>\n",
       "      <td>0.0</td>\n",
       "      <td>0.0</td>\n",
       "      <td>0.0</td>\n",
       "      <td>17.477233</td>\n",
       "      <td>7.497754</td>\n",
       "    </tr>\n",
       "    <tr>\n",
       "      <th>2</th>\n",
       "      <td>AFG</td>\n",
       "      <td>Afghanistan</td>\n",
       "      <td>2020-01-02</td>\n",
       "      <td>0.498</td>\n",
       "      <td>0.0</td>\n",
       "      <td>0.0</td>\n",
       "      <td>0.0</td>\n",
       "      <td>17.477233</td>\n",
       "      <td>7.497754</td>\n",
       "    </tr>\n",
       "    <tr>\n",
       "      <th>3</th>\n",
       "      <td>AFG</td>\n",
       "      <td>Afghanistan</td>\n",
       "      <td>2020-01-03</td>\n",
       "      <td>0.498</td>\n",
       "      <td>0.0</td>\n",
       "      <td>0.0</td>\n",
       "      <td>0.0</td>\n",
       "      <td>17.477233</td>\n",
       "      <td>7.497754</td>\n",
       "    </tr>\n",
       "    <tr>\n",
       "      <th>4</th>\n",
       "      <td>AFG</td>\n",
       "      <td>Afghanistan</td>\n",
       "      <td>2020-01-04</td>\n",
       "      <td>0.498</td>\n",
       "      <td>0.0</td>\n",
       "      <td>0.0</td>\n",
       "      <td>0.0</td>\n",
       "      <td>17.477233</td>\n",
       "      <td>7.497754</td>\n",
       "    </tr>\n",
       "  </tbody>\n",
       "</table>\n",
       "</div>"
      ],
      "text/plain": [
       "  CODE      COUNTRY        DATE    HDI   TC   TD  STI        POP    GDPCAP\n",
       "0  AFG  Afghanistan  2019-12-31  0.498  0.0  0.0  0.0  17.477233  7.497754\n",
       "1  AFG  Afghanistan  2020-01-01  0.498  0.0  0.0  0.0  17.477233  7.497754\n",
       "2  AFG  Afghanistan  2020-01-02  0.498  0.0  0.0  0.0  17.477233  7.497754\n",
       "3  AFG  Afghanistan  2020-01-03  0.498  0.0  0.0  0.0  17.477233  7.497754\n",
       "4  AFG  Afghanistan  2020-01-04  0.498  0.0  0.0  0.0  17.477233  7.497754"
      ]
     },
     "execution_count": 31,
     "metadata": {},
     "output_type": "execute_result"
    }
   ],
   "source": [
    "# %%\n",
    "data.head()"
   ]
  },
  {
   "cell_type": "code",
   "execution_count": 32,
   "metadata": {},
   "outputs": [
    {
     "data": {
      "text/html": [
       "<div>\n",
       "<style scoped>\n",
       "    .dataframe tbody tr th:only-of-type {\n",
       "        vertical-align: middle;\n",
       "    }\n",
       "\n",
       "    .dataframe tbody tr th {\n",
       "        vertical-align: top;\n",
       "    }\n",
       "\n",
       "    .dataframe thead th {\n",
       "        text-align: right;\n",
       "    }\n",
       "</style>\n",
       "<table border=\"1\" class=\"dataframe\">\n",
       "  <thead>\n",
       "    <tr style=\"text-align: right;\">\n",
       "      <th></th>\n",
       "      <th>iso_code</th>\n",
       "      <th>location</th>\n",
       "      <th>date</th>\n",
       "      <th>total_cases</th>\n",
       "      <th>total_deaths</th>\n",
       "      <th>stringency_index</th>\n",
       "      <th>population</th>\n",
       "      <th>gdp_per_capita</th>\n",
       "      <th>human_development_index</th>\n",
       "      <th>Unnamed: 9</th>\n",
       "      <th>Unnamed: 10</th>\n",
       "      <th>Unnamed: 11</th>\n",
       "      <th>Unnamed: 12</th>\n",
       "      <th>Unnamed: 13</th>\n",
       "    </tr>\n",
       "  </thead>\n",
       "  <tbody>\n",
       "    <tr>\n",
       "      <th>0</th>\n",
       "      <td>AFG</td>\n",
       "      <td>Afghanistan</td>\n",
       "      <td>2019-12-31</td>\n",
       "      <td>0.0</td>\n",
       "      <td>0.0</td>\n",
       "      <td>0.0</td>\n",
       "      <td>38928341</td>\n",
       "      <td>1803.987</td>\n",
       "      <td>0.498</td>\n",
       "      <td>#NUM!</td>\n",
       "      <td>#NUM!</td>\n",
       "      <td>#NUM!</td>\n",
       "      <td>17.477233</td>\n",
       "      <td>7.497754494</td>\n",
       "    </tr>\n",
       "    <tr>\n",
       "      <th>1</th>\n",
       "      <td>AFG</td>\n",
       "      <td>Afghanistan</td>\n",
       "      <td>2020-01-01</td>\n",
       "      <td>0.0</td>\n",
       "      <td>0.0</td>\n",
       "      <td>0.0</td>\n",
       "      <td>38928341</td>\n",
       "      <td>1803.987</td>\n",
       "      <td>0.498</td>\n",
       "      <td>#NUM!</td>\n",
       "      <td>#NUM!</td>\n",
       "      <td>#NUM!</td>\n",
       "      <td>17.477233</td>\n",
       "      <td>7.497754494</td>\n",
       "    </tr>\n",
       "    <tr>\n",
       "      <th>2</th>\n",
       "      <td>AFG</td>\n",
       "      <td>Afghanistan</td>\n",
       "      <td>2020-01-02</td>\n",
       "      <td>0.0</td>\n",
       "      <td>0.0</td>\n",
       "      <td>0.0</td>\n",
       "      <td>38928341</td>\n",
       "      <td>1803.987</td>\n",
       "      <td>0.498</td>\n",
       "      <td>#NUM!</td>\n",
       "      <td>#NUM!</td>\n",
       "      <td>#NUM!</td>\n",
       "      <td>17.477233</td>\n",
       "      <td>7.497754494</td>\n",
       "    </tr>\n",
       "    <tr>\n",
       "      <th>3</th>\n",
       "      <td>AFG</td>\n",
       "      <td>Afghanistan</td>\n",
       "      <td>2020-01-03</td>\n",
       "      <td>0.0</td>\n",
       "      <td>0.0</td>\n",
       "      <td>0.0</td>\n",
       "      <td>38928341</td>\n",
       "      <td>1803.987</td>\n",
       "      <td>0.498</td>\n",
       "      <td>#NUM!</td>\n",
       "      <td>#NUM!</td>\n",
       "      <td>#NUM!</td>\n",
       "      <td>17.477233</td>\n",
       "      <td>7.497754494</td>\n",
       "    </tr>\n",
       "    <tr>\n",
       "      <th>4</th>\n",
       "      <td>AFG</td>\n",
       "      <td>Afghanistan</td>\n",
       "      <td>2020-01-04</td>\n",
       "      <td>0.0</td>\n",
       "      <td>0.0</td>\n",
       "      <td>0.0</td>\n",
       "      <td>38928341</td>\n",
       "      <td>1803.987</td>\n",
       "      <td>0.498</td>\n",
       "      <td>#NUM!</td>\n",
       "      <td>#NUM!</td>\n",
       "      <td>#NUM!</td>\n",
       "      <td>17.477233</td>\n",
       "      <td>7.497754494</td>\n",
       "    </tr>\n",
       "  </tbody>\n",
       "</table>\n",
       "</div>"
      ],
      "text/plain": [
       "  iso_code     location        date  total_cases  total_deaths  \\\n",
       "0      AFG  Afghanistan  2019-12-31          0.0           0.0   \n",
       "1      AFG  Afghanistan  2020-01-01          0.0           0.0   \n",
       "2      AFG  Afghanistan  2020-01-02          0.0           0.0   \n",
       "3      AFG  Afghanistan  2020-01-03          0.0           0.0   \n",
       "4      AFG  Afghanistan  2020-01-04          0.0           0.0   \n",
       "\n",
       "   stringency_index  population  gdp_per_capita  human_development_index  \\\n",
       "0               0.0    38928341        1803.987                    0.498   \n",
       "1               0.0    38928341        1803.987                    0.498   \n",
       "2               0.0    38928341        1803.987                    0.498   \n",
       "3               0.0    38928341        1803.987                    0.498   \n",
       "4               0.0    38928341        1803.987                    0.498   \n",
       "\n",
       "  Unnamed: 9 Unnamed: 10 Unnamed: 11  Unnamed: 12  Unnamed: 13  \n",
       "0      #NUM!       #NUM!       #NUM!    17.477233  7.497754494  \n",
       "1      #NUM!       #NUM!       #NUM!    17.477233  7.497754494  \n",
       "2      #NUM!       #NUM!       #NUM!    17.477233  7.497754494  \n",
       "3      #NUM!       #NUM!       #NUM!    17.477233  7.497754494  \n",
       "4      #NUM!       #NUM!       #NUM!    17.477233  7.497754494  "
      ]
     },
     "execution_count": 32,
     "metadata": {},
     "output_type": "execute_result"
    }
   ],
   "source": [
    "# %%\n",
    "data2.head()"
   ]
  },
  {
   "cell_type": "code",
   "execution_count": 33,
   "metadata": {},
   "outputs": [
    {
     "data": {
      "text/html": [
       "<div>\n",
       "<style scoped>\n",
       "    .dataframe tbody tr th:only-of-type {\n",
       "        vertical-align: middle;\n",
       "    }\n",
       "\n",
       "    .dataframe tbody tr th {\n",
       "        vertical-align: top;\n",
       "    }\n",
       "\n",
       "    .dataframe thead th {\n",
       "        text-align: right;\n",
       "    }\n",
       "</style>\n",
       "<table border=\"1\" class=\"dataframe\">\n",
       "  <thead>\n",
       "    <tr style=\"text-align: right;\">\n",
       "      <th></th>\n",
       "      <th>Entity</th>\n",
       "      <th>Code</th>\n",
       "      <th>Year</th>\n",
       "      <th>GDP per capita, PPP (constant 2017 international $)</th>\n",
       "    </tr>\n",
       "  </thead>\n",
       "  <tbody>\n",
       "    <tr>\n",
       "      <th>0</th>\n",
       "      <td>Afghanistan</td>\n",
       "      <td>AFG</td>\n",
       "      <td>2002</td>\n",
       "      <td>1280.4631</td>\n",
       "    </tr>\n",
       "    <tr>\n",
       "      <th>1</th>\n",
       "      <td>Afghanistan</td>\n",
       "      <td>AFG</td>\n",
       "      <td>2003</td>\n",
       "      <td>1292.3335</td>\n",
       "    </tr>\n",
       "    <tr>\n",
       "      <th>2</th>\n",
       "      <td>Afghanistan</td>\n",
       "      <td>AFG</td>\n",
       "      <td>2004</td>\n",
       "      <td>1260.0605</td>\n",
       "    </tr>\n",
       "    <tr>\n",
       "      <th>3</th>\n",
       "      <td>Afghanistan</td>\n",
       "      <td>AFG</td>\n",
       "      <td>2005</td>\n",
       "      <td>1352.3207</td>\n",
       "    </tr>\n",
       "    <tr>\n",
       "      <th>4</th>\n",
       "      <td>Afghanistan</td>\n",
       "      <td>AFG</td>\n",
       "      <td>2006</td>\n",
       "      <td>1366.9932</td>\n",
       "    </tr>\n",
       "  </tbody>\n",
       "</table>\n",
       "</div>"
      ],
      "text/plain": [
       "        Entity Code  Year  GDP per capita, PPP (constant 2017 international $)\n",
       "0  Afghanistan  AFG  2002                                          1280.4631  \n",
       "1  Afghanistan  AFG  2003                                          1292.3335  \n",
       "2  Afghanistan  AFG  2004                                          1260.0605  \n",
       "3  Afghanistan  AFG  2005                                          1352.3207  \n",
       "4  Afghanistan  AFG  2006                                          1366.9932  "
      ]
     },
     "execution_count": 33,
     "metadata": {},
     "output_type": "execute_result"
    }
   ],
   "source": [
    "gdp_per_capita_data.head()"
   ]
  },
  {
   "cell_type": "markdown",
   "metadata": {},
   "source": [
    "We'll only need some of these columns, let's get a sense for how many countries we have data for before we do some data preprocessing and aggregation."
   ]
  },
  {
   "cell_type": "code",
   "execution_count": 5,
   "metadata": {},
   "outputs": [
    {
     "data": {
      "text/plain": [
       "COUNTRY\n",
       "Afghanistan        294\n",
       "Indonesia          294\n",
       "Macedonia          294\n",
       "Luxembourg         294\n",
       "Lithuania          294\n",
       "                  ... \n",
       "Tajikistan         172\n",
       "Comoros            171\n",
       "Lesotho            158\n",
       "Hong Kong           51\n",
       "Solomon Islands      4\n",
       "Name: count, Length: 210, dtype: int64"
      ]
     },
     "execution_count": 5,
     "metadata": {},
     "output_type": "execute_result"
    }
   ],
   "source": [
    "# %%\n",
    "data[\"COUNTRY\"].value_counts()"
   ]
  },
  {
   "cell_type": "code",
   "execution_count": 6,
   "metadata": {},
   "outputs": [
    {
     "data": {
      "text/plain": [
       "0    294\n",
       "Name: count, dtype: int64"
      ]
     },
     "execution_count": 6,
     "metadata": {},
     "output_type": "execute_result"
    }
   ],
   "source": [
    "# %%\n",
    "data[\"COUNTRY\"].value_counts().mode()"
   ]
  },
  {
   "cell_type": "markdown",
   "metadata": {},
   "source": [
    "We have 294 entries for most of the countries, as expressed by the mode above. We will need to use it for dividing the sum of all the samples related to the human development index and the population, to get an aggregate."
   ]
  },
  {
   "cell_type": "code",
   "execution_count": 36,
   "metadata": {},
   "outputs": [
    {
     "data": {
      "text/plain": [
       "210"
      ]
     },
     "execution_count": 36,
     "metadata": {},
     "output_type": "execute_result"
    }
   ],
   "source": [
    "len(data[\"COUNTRY\"].unique())"
   ]
  },
  {
   "cell_type": "code",
   "execution_count": 35,
   "metadata": {},
   "outputs": [
    {
     "data": {
      "text/plain": [
       "202"
      ]
     },
     "execution_count": 35,
     "metadata": {},
     "output_type": "execute_result"
    }
   ],
   "source": [
    "len(gdp_per_capita_data.loc[gdp_per_capita_data[\"Year\"] == 2022][\"Entity\"].unique())"
   ]
  },
  {
   "cell_type": "markdown",
   "metadata": {},
   "source": [
    "Since our GDP Per Capita and Covid data are taken from different sources, we don't have completely matching data in both the datasets. One has data for 210 countries, while the other has data for 202 countries. (for 2022) We'll thus have to merge our data and see how many countries we can get all our required data for."
   ]
  },
  {
   "cell_type": "code",
   "execution_count": 44,
   "metadata": {},
   "outputs": [
    {
     "name": "stdout",
     "output_type": "stream",
     "text": [
      "175\n"
     ]
    }
   ],
   "source": [
    "# %%\n",
    "code = data[\"CODE\"].unique().tolist()\n",
    "country = sorted(list(set(data[\"COUNTRY\"].unique()) & \n",
    "                      set(\n",
    "                          gdp_per_capita_data.loc[gdp_per_capita_data[\"Year\"] == 2022][\"Entity\"].unique()\n",
    "                          )))\n",
    "\n",
    "print(len(country))\n",
    "\n",
    "population = []\n",
    "hdi = []\n",
    "tc = []\n",
    "td = []\n",
    "sti = []\n",
    "gdp = []\n",
    "gdp_per_capita_before_covid = []\n",
    "gdp_per_capita_during_covid = []\n",
    "gdp_per_capita_after_covid = []"
   ]
  },
  {
   "cell_type": "markdown",
   "metadata": {},
   "source": [
    "We have adequate data for 175 countries, which for our purposes might be enough because we won't be able to visually analyze the data for all the countries.\n",
    "\n",
    "I'm taking 2019 as the year \"before covid\", 2021 as \"during covid\", and 2022 as \"after covid\", though technically the effects of covid still ravage the world's economies. This is just for the sake of easy analysis."
   ]
  },
  {
   "cell_type": "code",
   "execution_count": 45,
   "metadata": {},
   "outputs": [
    {
     "data": {
      "text/html": [
       "<div>\n",
       "<style scoped>\n",
       "    .dataframe tbody tr th:only-of-type {\n",
       "        vertical-align: middle;\n",
       "    }\n",
       "\n",
       "    .dataframe tbody tr th {\n",
       "        vertical-align: top;\n",
       "    }\n",
       "\n",
       "    .dataframe thead th {\n",
       "        text-align: right;\n",
       "    }\n",
       "</style>\n",
       "<table border=\"1\" class=\"dataframe\">\n",
       "  <thead>\n",
       "    <tr style=\"text-align: right;\">\n",
       "      <th></th>\n",
       "      <th>Country Code</th>\n",
       "      <th>Country</th>\n",
       "      <th>HDI</th>\n",
       "      <th>Total Cases</th>\n",
       "      <th>Total Deaths</th>\n",
       "      <th>Stringency Index</th>\n",
       "      <th>Population</th>\n",
       "      <th>GDP Per Capita Before Covid</th>\n",
       "      <th>GDP Per Capita During Covid</th>\n",
       "      <th>GDP Per Capita After Covid</th>\n",
       "    </tr>\n",
       "  </thead>\n",
       "  <tbody>\n",
       "    <tr>\n",
       "      <th>0</th>\n",
       "      <td>AFG</td>\n",
       "      <td>Albania</td>\n",
       "      <td>0.600765</td>\n",
       "      <td>1071951.0</td>\n",
       "      <td>31056.0</td>\n",
       "      <td>3.005624</td>\n",
       "      <td>2.202398e+06</td>\n",
       "      <td>13653.249</td>\n",
       "      <td>14596.0160</td>\n",
       "      <td>15492.0670</td>\n",
       "    </tr>\n",
       "    <tr>\n",
       "      <th>1</th>\n",
       "      <td>ALB</td>\n",
       "      <td>Algeria</td>\n",
       "      <td>0.754000</td>\n",
       "      <td>4893999.0</td>\n",
       "      <td>206429.0</td>\n",
       "      <td>3.195168</td>\n",
       "      <td>4.385104e+07</td>\n",
       "      <td>11627.280</td>\n",
       "      <td>11029.1390</td>\n",
       "      <td>11198.2330</td>\n",
       "    </tr>\n",
       "    <tr>\n",
       "      <th>2</th>\n",
       "      <td>DZA</td>\n",
       "      <td>Angola</td>\n",
       "      <td>0.418952</td>\n",
       "      <td>304005.0</td>\n",
       "      <td>11820.0</td>\n",
       "      <td>2.965560</td>\n",
       "      <td>2.369949e+07</td>\n",
       "      <td>6602.269</td>\n",
       "      <td>5911.8354</td>\n",
       "      <td>5906.1157</td>\n",
       "    </tr>\n",
       "    <tr>\n",
       "      <th>3</th>\n",
       "      <td>AND</td>\n",
       "      <td>Antigua and Barbuda</td>\n",
       "      <td>0.567755</td>\n",
       "      <td>12619.0</td>\n",
       "      <td>568.0</td>\n",
       "      <td>0.000000</td>\n",
       "      <td>7.128093e+04</td>\n",
       "      <td>23638.686</td>\n",
       "      <td>20501.1620</td>\n",
       "      <td>22321.8700</td>\n",
       "    </tr>\n",
       "    <tr>\n",
       "      <th>4</th>\n",
       "      <td>AGO</td>\n",
       "      <td>Argentina</td>\n",
       "      <td>0.707143</td>\n",
       "      <td>47155234.0</td>\n",
       "      <td>1077426.0</td>\n",
       "      <td>3.475438</td>\n",
       "      <td>3.873924e+07</td>\n",
       "      <td>22071.748</td>\n",
       "      <td>21599.7970</td>\n",
       "      <td>22461.4410</td>\n",
       "    </tr>\n",
       "  </tbody>\n",
       "</table>\n",
       "</div>"
      ],
      "text/plain": [
       "  Country Code              Country       HDI  Total Cases  Total Deaths  \\\n",
       "0          AFG              Albania  0.600765    1071951.0       31056.0   \n",
       "1          ALB              Algeria  0.754000    4893999.0      206429.0   \n",
       "2          DZA               Angola  0.418952     304005.0       11820.0   \n",
       "3          AND  Antigua and Barbuda  0.567755      12619.0         568.0   \n",
       "4          AGO            Argentina  0.707143   47155234.0     1077426.0   \n",
       "\n",
       "   Stringency Index    Population  GDP Per Capita Before Covid  \\\n",
       "0          3.005624  2.202398e+06                    13653.249   \n",
       "1          3.195168  4.385104e+07                    11627.280   \n",
       "2          2.965560  2.369949e+07                     6602.269   \n",
       "3          0.000000  7.128093e+04                    23638.686   \n",
       "4          3.475438  3.873924e+07                    22071.748   \n",
       "\n",
       "   GDP Per Capita During Covid  GDP Per Capita After Covid  \n",
       "0                   14596.0160                  15492.0670  \n",
       "1                   11029.1390                  11198.2330  \n",
       "2                    5911.8354                   5906.1157  \n",
       "3                   20501.1620                  22321.8700  \n",
       "4                   21599.7970                  22461.4410  "
      ]
     },
     "execution_count": 45,
     "metadata": {},
     "output_type": "execute_result"
    }
   ],
   "source": [
    "# %%\n",
    "for i in country:\n",
    "    hdi.append((data.loc[data[\"COUNTRY\"] == i, \"HDI\"]).sum()/294) #dividing by mode to get the aggregate\n",
    "    tc.append((data2.loc[data2[\"location\"] == i, \"total_cases\"]).sum())\n",
    "    td.append((data2.loc[data2[\"location\"] == i, \"total_deaths\"]).sum())\n",
    "    sti.append((data.loc[data[\"COUNTRY\"] == i, \"STI\"]).sum()/294)\n",
    "    population.append((data2.loc[data2[\"location\"] == i, \"population\"]).sum()/294)\n",
    "    gdp_per_capita_before_covid.append(\n",
    "        gdp_per_capita_data.loc[(gdp_per_capita_data[\"Entity\"] == i) \n",
    "                                & (gdp_per_capita_data[\"Year\"] == 2019), \n",
    "                                \"GDP per capita, PPP (constant 2017 international $)\"].item()\n",
    "        )\n",
    "    gdp_per_capita_during_covid.append(\n",
    "        gdp_per_capita_data.loc[(gdp_per_capita_data[\"Entity\"] == i) \n",
    "                                & (gdp_per_capita_data[\"Year\"] == 2021), \n",
    "                                \"GDP per capita, PPP (constant 2017 international $)\"].item()\n",
    "        )\n",
    "    gdp_per_capita_after_covid.append(\n",
    "        gdp_per_capita_data.loc[(gdp_per_capita_data[\"Entity\"] == i) \n",
    "                                & (gdp_per_capita_data[\"Year\"] == 2022), \n",
    "                                \"GDP per capita, PPP (constant 2017 international $)\"].item()\n",
    "        )\n",
    "\n",
    "aggregated_data = pd.DataFrame(list(zip(code, country, hdi, tc, td, sti, population, \n",
    "                                        gdp_per_capita_before_covid, \n",
    "                                        gdp_per_capita_during_covid, \n",
    "                                        gdp_per_capita_after_covid)), \n",
    "                               columns = [\"Country Code\", \"Country\", \"HDI\", \n",
    "                                          \"Total Cases\", \"Total Deaths\", \n",
    "                                          \"Stringency Index\", \"Population\", \n",
    "                                          \"GDP Per Capita Before Covid\", \n",
    "                                          \"GDP Per Capita During Covid\",\n",
    "                                          \"GDP Per Capita After Covid\"])\n",
    "\n",
    "aggregated_data.head()"
   ]
  },
  {
   "cell_type": "markdown",
   "metadata": {},
   "source": [
    "Let's see the top 20 countries by total cases."
   ]
  },
  {
   "cell_type": "code",
   "execution_count": 46,
   "metadata": {},
   "outputs": [
    {
     "data": {
      "text/html": [
       "<div>\n",
       "<style scoped>\n",
       "    .dataframe tbody tr th:only-of-type {\n",
       "        vertical-align: middle;\n",
       "    }\n",
       "\n",
       "    .dataframe tbody tr th {\n",
       "        vertical-align: top;\n",
       "    }\n",
       "\n",
       "    .dataframe thead th {\n",
       "        text-align: right;\n",
       "    }\n",
       "</style>\n",
       "<table border=\"1\" class=\"dataframe\">\n",
       "  <thead>\n",
       "    <tr style=\"text-align: right;\">\n",
       "      <th></th>\n",
       "      <th>Country Code</th>\n",
       "      <th>Country</th>\n",
       "      <th>HDI</th>\n",
       "      <th>Total Cases</th>\n",
       "      <th>Total Deaths</th>\n",
       "      <th>Stringency Index</th>\n",
       "      <th>Population</th>\n",
       "      <th>GDP Per Capita Before Covid</th>\n",
       "      <th>GDP Per Capita During Covid</th>\n",
       "      <th>GDP Per Capita After Covid</th>\n",
       "    </tr>\n",
       "  </thead>\n",
       "  <tbody>\n",
       "    <tr>\n",
       "      <th>169</th>\n",
       "      <td>SGP</td>\n",
       "      <td>United States</td>\n",
       "      <td>0.924000</td>\n",
       "      <td>746014098.0</td>\n",
       "      <td>26477574.0</td>\n",
       "      <td>3.350949</td>\n",
       "      <td>3.310026e+08</td>\n",
       "      <td>62470.9300</td>\n",
       "      <td>63635.8240</td>\n",
       "      <td>64623.1250</td>\n",
       "    </tr>\n",
       "    <tr>\n",
       "      <th>22</th>\n",
       "      <td>BTN</td>\n",
       "      <td>Brazil</td>\n",
       "      <td>0.759000</td>\n",
       "      <td>425704517.0</td>\n",
       "      <td>14340567.0</td>\n",
       "      <td>3.136028</td>\n",
       "      <td>2.125594e+08</td>\n",
       "      <td>14685.1280</td>\n",
       "      <td>14735.5820</td>\n",
       "      <td>15093.4650</td>\n",
       "    </tr>\n",
       "    <tr>\n",
       "      <th>74</th>\n",
       "      <td>GHA</td>\n",
       "      <td>India</td>\n",
       "      <td>0.640000</td>\n",
       "      <td>407771615.0</td>\n",
       "      <td>7247327.0</td>\n",
       "      <td>3.610552</td>\n",
       "      <td>1.380004e+09</td>\n",
       "      <td>6617.1300</td>\n",
       "      <td>6677.1850</td>\n",
       "      <td>7112.0396</td>\n",
       "    </tr>\n",
       "    <tr>\n",
       "      <th>132</th>\n",
       "      <td>MOZ</td>\n",
       "      <td>Russia</td>\n",
       "      <td>0.816000</td>\n",
       "      <td>132888951.0</td>\n",
       "      <td>2131571.0</td>\n",
       "      <td>3.380088</td>\n",
       "      <td>1.459345e+08</td>\n",
       "      <td>27254.5740</td>\n",
       "      <td>28057.0310</td>\n",
       "      <td>27450.4500</td>\n",
       "    </tr>\n",
       "    <tr>\n",
       "      <th>125</th>\n",
       "      <td>MEX</td>\n",
       "      <td>Peru</td>\n",
       "      <td>0.599490</td>\n",
       "      <td>74882695.0</td>\n",
       "      <td>3020038.0</td>\n",
       "      <td>3.430126</td>\n",
       "      <td>2.635505e+07</td>\n",
       "      <td>12735.1680</td>\n",
       "      <td>12533.8420</td>\n",
       "      <td>12743.9420</td>\n",
       "    </tr>\n",
       "    <tr>\n",
       "      <th>104</th>\n",
       "      <td>OWID_KOS</td>\n",
       "      <td>Mexico</td>\n",
       "      <td>0.774000</td>\n",
       "      <td>74347548.0</td>\n",
       "      <td>7295850.0</td>\n",
       "      <td>3.019289</td>\n",
       "      <td>1.289328e+08</td>\n",
       "      <td>20553.9550</td>\n",
       "      <td>19617.7600</td>\n",
       "      <td>20254.7810</td>\n",
       "    </tr>\n",
       "    <tr>\n",
       "      <th>151</th>\n",
       "      <td>PHL</td>\n",
       "      <td>Spain</td>\n",
       "      <td>0.887969</td>\n",
       "      <td>73717676.0</td>\n",
       "      <td>5510624.0</td>\n",
       "      <td>3.393922</td>\n",
       "      <td>4.659575e+07</td>\n",
       "      <td>40782.2340</td>\n",
       "      <td>38319.2900</td>\n",
       "      <td>40223.0100</td>\n",
       "    </tr>\n",
       "    <tr>\n",
       "      <th>149</th>\n",
       "      <td>PRY</td>\n",
       "      <td>South Africa</td>\n",
       "      <td>0.608653</td>\n",
       "      <td>63027659.0</td>\n",
       "      <td>1357682.0</td>\n",
       "      <td>3.364333</td>\n",
       "      <td>5.164294e+07</td>\n",
       "      <td>13850.8955</td>\n",
       "      <td>13337.7900</td>\n",
       "      <td>13478.7540</td>\n",
       "    </tr>\n",
       "    <tr>\n",
       "      <th>36</th>\n",
       "      <td>CPV</td>\n",
       "      <td>Colombia</td>\n",
       "      <td>0.581847</td>\n",
       "      <td>60543682.0</td>\n",
       "      <td>1936134.0</td>\n",
       "      <td>3.357923</td>\n",
       "      <td>3.963327e+07</td>\n",
       "      <td>14616.1350</td>\n",
       "      <td>14661.2130</td>\n",
       "      <td>15616.7520</td>\n",
       "    </tr>\n",
       "    <tr>\n",
       "      <th>168</th>\n",
       "      <td>SLE</td>\n",
       "      <td>United Kingdom</td>\n",
       "      <td>0.922000</td>\n",
       "      <td>59475032.0</td>\n",
       "      <td>7249573.0</td>\n",
       "      <td>3.353883</td>\n",
       "      <td>6.788600e+07</td>\n",
       "      <td>46909.0800</td>\n",
       "      <td>45567.5700</td>\n",
       "      <td>47587.1680</td>\n",
       "    </tr>\n",
       "    <tr>\n",
       "      <th>76</th>\n",
       "      <td>GRC</td>\n",
       "      <td>Iran</td>\n",
       "      <td>0.798000</td>\n",
       "      <td>52421884.0</td>\n",
       "      <td>2914070.0</td>\n",
       "      <td>3.207064</td>\n",
       "      <td>8.399295e+07</td>\n",
       "      <td>14084.3540</td>\n",
       "      <td>15004.6875</td>\n",
       "      <td>15461.0790</td>\n",
       "    </tr>\n",
       "    <tr>\n",
       "      <th>34</th>\n",
       "      <td>CMR</td>\n",
       "      <td>Chile</td>\n",
       "      <td>0.656622</td>\n",
       "      <td>51268034.0</td>\n",
       "      <td>1283880.0</td>\n",
       "      <td>2.989194</td>\n",
       "      <td>1.488984e+07</td>\n",
       "      <td>24809.8610</td>\n",
       "      <td>25412.7520</td>\n",
       "      <td>25886.1210</td>\n",
       "    </tr>\n",
       "    <tr>\n",
       "      <th>80</th>\n",
       "      <td>GTM</td>\n",
       "      <td>Italy</td>\n",
       "      <td>0.880000</td>\n",
       "      <td>50752853.0</td>\n",
       "      <td>6664225.0</td>\n",
       "      <td>3.629838</td>\n",
       "      <td>6.046183e+07</td>\n",
       "      <td>42739.0500</td>\n",
       "      <td>42562.5550</td>\n",
       "      <td>44292.1900</td>\n",
       "    </tr>\n",
       "    <tr>\n",
       "      <th>57</th>\n",
       "      <td>ECU</td>\n",
       "      <td>France</td>\n",
       "      <td>0.901000</td>\n",
       "      <td>50084335.0</td>\n",
       "      <td>5633444.0</td>\n",
       "      <td>3.385794</td>\n",
       "      <td>6.527351e+07</td>\n",
       "      <td>45922.7930</td>\n",
       "      <td>44941.4380</td>\n",
       "      <td>45904.4100</td>\n",
       "    </tr>\n",
       "    <tr>\n",
       "      <th>4</th>\n",
       "      <td>AGO</td>\n",
       "      <td>Argentina</td>\n",
       "      <td>0.707143</td>\n",
       "      <td>47155234.0</td>\n",
       "      <td>1077426.0</td>\n",
       "      <td>3.475438</td>\n",
       "      <td>3.873924e+07</td>\n",
       "      <td>22071.7480</td>\n",
       "      <td>21599.7970</td>\n",
       "      <td>22461.4410</td>\n",
       "    </tr>\n",
       "    <tr>\n",
       "      <th>61</th>\n",
       "      <td>ERI</td>\n",
       "      <td>Germany</td>\n",
       "      <td>0.936000</td>\n",
       "      <td>42447678.0</td>\n",
       "      <td>1640691.0</td>\n",
       "      <td>3.284516</td>\n",
       "      <td>8.378394e+07</td>\n",
       "      <td>53884.3750</td>\n",
       "      <td>53395.6500</td>\n",
       "      <td>53969.6250</td>\n",
       "    </tr>\n",
       "    <tr>\n",
       "      <th>163</th>\n",
       "      <td>STP</td>\n",
       "      <td>Turkey</td>\n",
       "      <td>0.591905</td>\n",
       "      <td>41431948.0</td>\n",
       "      <td>1049757.0</td>\n",
       "      <td>3.041418</td>\n",
       "      <td>6.311087e+07</td>\n",
       "      <td>28476.6840</td>\n",
       "      <td>31722.1600</td>\n",
       "      <td>33149.5000</td>\n",
       "    </tr>\n",
       "    <tr>\n",
       "      <th>138</th>\n",
       "      <td>NZL</td>\n",
       "      <td>Saudi Arabia</td>\n",
       "      <td>0.673116</td>\n",
       "      <td>38585191.0</td>\n",
       "      <td>442507.0</td>\n",
       "      <td>3.263361</td>\n",
       "      <td>2.747217e+07</td>\n",
       "      <td>47024.5430</td>\n",
       "      <td>46768.4340</td>\n",
       "      <td>50188.2970</td>\n",
       "    </tr>\n",
       "    <tr>\n",
       "      <th>120</th>\n",
       "      <td>MDV</td>\n",
       "      <td>Pakistan</td>\n",
       "      <td>0.562000</td>\n",
       "      <td>37738077.0</td>\n",
       "      <td>789557.0</td>\n",
       "      <td>3.385802</td>\n",
       "      <td>2.208923e+08</td>\n",
       "      <td>5157.5464</td>\n",
       "      <td>5233.4595</td>\n",
       "      <td>5376.9670</td>\n",
       "    </tr>\n",
       "    <tr>\n",
       "      <th>12</th>\n",
       "      <td>AZE</td>\n",
       "      <td>Bangladesh</td>\n",
       "      <td>0.477714</td>\n",
       "      <td>35266178.0</td>\n",
       "      <td>484534.0</td>\n",
       "      <td>3.186410</td>\n",
       "      <td>1.293988e+08</td>\n",
       "      <td>5467.2075</td>\n",
       "      <td>5911.0130</td>\n",
       "      <td>6263.0044</td>\n",
       "    </tr>\n",
       "  </tbody>\n",
       "</table>\n",
       "</div>"
      ],
      "text/plain": [
       "    Country Code         Country       HDI  Total Cases  Total Deaths  \\\n",
       "169          SGP   United States  0.924000  746014098.0    26477574.0   \n",
       "22           BTN          Brazil  0.759000  425704517.0    14340567.0   \n",
       "74           GHA           India  0.640000  407771615.0     7247327.0   \n",
       "132          MOZ          Russia  0.816000  132888951.0     2131571.0   \n",
       "125          MEX            Peru  0.599490   74882695.0     3020038.0   \n",
       "104     OWID_KOS          Mexico  0.774000   74347548.0     7295850.0   \n",
       "151          PHL           Spain  0.887969   73717676.0     5510624.0   \n",
       "149          PRY    South Africa  0.608653   63027659.0     1357682.0   \n",
       "36           CPV        Colombia  0.581847   60543682.0     1936134.0   \n",
       "168          SLE  United Kingdom  0.922000   59475032.0     7249573.0   \n",
       "76           GRC            Iran  0.798000   52421884.0     2914070.0   \n",
       "34           CMR           Chile  0.656622   51268034.0     1283880.0   \n",
       "80           GTM           Italy  0.880000   50752853.0     6664225.0   \n",
       "57           ECU          France  0.901000   50084335.0     5633444.0   \n",
       "4            AGO       Argentina  0.707143   47155234.0     1077426.0   \n",
       "61           ERI         Germany  0.936000   42447678.0     1640691.0   \n",
       "163          STP          Turkey  0.591905   41431948.0     1049757.0   \n",
       "138          NZL    Saudi Arabia  0.673116   38585191.0      442507.0   \n",
       "120          MDV        Pakistan  0.562000   37738077.0      789557.0   \n",
       "12           AZE      Bangladesh  0.477714   35266178.0      484534.0   \n",
       "\n",
       "     Stringency Index    Population  GDP Per Capita Before Covid  \\\n",
       "169          3.350949  3.310026e+08                   62470.9300   \n",
       "22           3.136028  2.125594e+08                   14685.1280   \n",
       "74           3.610552  1.380004e+09                    6617.1300   \n",
       "132          3.380088  1.459345e+08                   27254.5740   \n",
       "125          3.430126  2.635505e+07                   12735.1680   \n",
       "104          3.019289  1.289328e+08                   20553.9550   \n",
       "151          3.393922  4.659575e+07                   40782.2340   \n",
       "149          3.364333  5.164294e+07                   13850.8955   \n",
       "36           3.357923  3.963327e+07                   14616.1350   \n",
       "168          3.353883  6.788600e+07                   46909.0800   \n",
       "76           3.207064  8.399295e+07                   14084.3540   \n",
       "34           2.989194  1.488984e+07                   24809.8610   \n",
       "80           3.629838  6.046183e+07                   42739.0500   \n",
       "57           3.385794  6.527351e+07                   45922.7930   \n",
       "4            3.475438  3.873924e+07                   22071.7480   \n",
       "61           3.284516  8.378394e+07                   53884.3750   \n",
       "163          3.041418  6.311087e+07                   28476.6840   \n",
       "138          3.263361  2.747217e+07                   47024.5430   \n",
       "120          3.385802  2.208923e+08                    5157.5464   \n",
       "12           3.186410  1.293988e+08                    5467.2075   \n",
       "\n",
       "     GDP Per Capita During Covid  GDP Per Capita After Covid  \n",
       "169                   63635.8240                  64623.1250  \n",
       "22                    14735.5820                  15093.4650  \n",
       "74                     6677.1850                   7112.0396  \n",
       "132                   28057.0310                  27450.4500  \n",
       "125                   12533.8420                  12743.9420  \n",
       "104                   19617.7600                  20254.7810  \n",
       "151                   38319.2900                  40223.0100  \n",
       "149                   13337.7900                  13478.7540  \n",
       "36                    14661.2130                  15616.7520  \n",
       "168                   45567.5700                  47587.1680  \n",
       "76                    15004.6875                  15461.0790  \n",
       "34                    25412.7520                  25886.1210  \n",
       "80                    42562.5550                  44292.1900  \n",
       "57                    44941.4380                  45904.4100  \n",
       "4                     21599.7970                  22461.4410  \n",
       "61                    53395.6500                  53969.6250  \n",
       "163                   31722.1600                  33149.5000  \n",
       "138                   46768.4340                  50188.2970  \n",
       "120                    5233.4595                   5376.9670  \n",
       "12                     5911.0130                   6263.0044  "
      ]
     },
     "execution_count": 46,
     "metadata": {},
     "output_type": "execute_result"
    }
   ],
   "source": [
    "# %%\n",
    "data = aggregated_data.sort_values(by=[\"Total Cases\"], ascending=False)\n",
    "data.head(20)"
   ]
  },
  {
   "cell_type": "markdown",
   "metadata": {},
   "source": [
    "Understandably, the countries with bigger populations, like the USA, Brazil, India, and Russia were leading in the number of cases over the data that we have. \n",
    "The US and India reportedly handled their cases catastrophically, so that might reflect in the number of deaths. We'll look at this later. For now, let's see which countries had more than 10 million covid cases."
   ]
  },
  {
   "cell_type": "code",
   "execution_count": 10,
   "metadata": {},
   "outputs": [
    {
     "data": {
      "application/vnd.plotly.v1+json": {
       "config": {
        "plotlyServerURL": "https://plot.ly"
       },
       "data": [
        {
         "alignmentgroup": "True",
         "hovertemplate": "Country=%{x}<br>Total Cases=%{y}<extra></extra>",
         "legendgroup": "",
         "marker": {
          "color": "#636efa",
          "pattern": {
           "shape": ""
          }
         },
         "name": "",
         "offsetgroup": "",
         "orientation": "v",
         "showlegend": false,
         "textposition": "auto",
         "type": "bar",
         "x": [
          "United States",
          "Brazil",
          "India",
          "Russia",
          "Peru",
          "Mexico",
          "Spain",
          "South Africa",
          "Colombia",
          "United Kingdom",
          "Iran",
          "Chile",
          "Italy",
          "France",
          "Argentina",
          "Germany",
          "Turkey",
          "Saudi Arabia",
          "Pakistan",
          "Bangladesh",
          "Iraq",
          "Philippines",
          "China",
          "Indonesia",
          "Canada",
          "Qatar",
          "Israel",
          "Ukraine",
          "Belgium",
          "Ecuador",
          "Kazakhstan",
          "Netherlands",
          "Egypt",
          "Sweden",
          "Bolivia",
          "Romania",
          "Dominican Republic",
          "Kuwait",
          "Belarus",
          "Panama",
          "United Arab Emirates",
          "Oman"
         ],
         "xaxis": "x",
         "y": [
          746014098,
          425704517,
          407771615,
          132888951,
          74882695,
          74347548,
          73717676,
          63027659,
          60543682,
          59475032,
          52421884,
          51268034,
          50752853,
          50084335,
          47155234,
          42447678,
          41431948,
          38585191,
          37738077,
          35266178,
          25280332,
          22409936,
          21632319,
          21570149,
          20902374,
          16351440,
          16202474,
          15805665,
          15192468,
          14408757,
          13194863,
          13026629,
          12422845,
          11910109,
          11858838,
          10672859,
          10649646,
          10622205,
          10595186,
          10371724,
          10247326,
          10060093
         ],
         "yaxis": "y"
        }
       ],
       "layout": {
        "barmode": "relative",
        "legend": {
         "tracegroupgap": 0
        },
        "template": {
         "data": {
          "bar": [
           {
            "error_x": {
             "color": "#2a3f5f"
            },
            "error_y": {
             "color": "#2a3f5f"
            },
            "marker": {
             "line": {
              "color": "#E5ECF6",
              "width": 0.5
             },
             "pattern": {
              "fillmode": "overlay",
              "size": 10,
              "solidity": 0.2
             }
            },
            "type": "bar"
           }
          ],
          "barpolar": [
           {
            "marker": {
             "line": {
              "color": "#E5ECF6",
              "width": 0.5
             },
             "pattern": {
              "fillmode": "overlay",
              "size": 10,
              "solidity": 0.2
             }
            },
            "type": "barpolar"
           }
          ],
          "carpet": [
           {
            "aaxis": {
             "endlinecolor": "#2a3f5f",
             "gridcolor": "white",
             "linecolor": "white",
             "minorgridcolor": "white",
             "startlinecolor": "#2a3f5f"
            },
            "baxis": {
             "endlinecolor": "#2a3f5f",
             "gridcolor": "white",
             "linecolor": "white",
             "minorgridcolor": "white",
             "startlinecolor": "#2a3f5f"
            },
            "type": "carpet"
           }
          ],
          "choropleth": [
           {
            "colorbar": {
             "outlinewidth": 0,
             "ticks": ""
            },
            "type": "choropleth"
           }
          ],
          "contour": [
           {
            "colorbar": {
             "outlinewidth": 0,
             "ticks": ""
            },
            "colorscale": [
             [
              0,
              "#0d0887"
             ],
             [
              0.1111111111111111,
              "#46039f"
             ],
             [
              0.2222222222222222,
              "#7201a8"
             ],
             [
              0.3333333333333333,
              "#9c179e"
             ],
             [
              0.4444444444444444,
              "#bd3786"
             ],
             [
              0.5555555555555556,
              "#d8576b"
             ],
             [
              0.6666666666666666,
              "#ed7953"
             ],
             [
              0.7777777777777778,
              "#fb9f3a"
             ],
             [
              0.8888888888888888,
              "#fdca26"
             ],
             [
              1,
              "#f0f921"
             ]
            ],
            "type": "contour"
           }
          ],
          "contourcarpet": [
           {
            "colorbar": {
             "outlinewidth": 0,
             "ticks": ""
            },
            "type": "contourcarpet"
           }
          ],
          "heatmap": [
           {
            "colorbar": {
             "outlinewidth": 0,
             "ticks": ""
            },
            "colorscale": [
             [
              0,
              "#0d0887"
             ],
             [
              0.1111111111111111,
              "#46039f"
             ],
             [
              0.2222222222222222,
              "#7201a8"
             ],
             [
              0.3333333333333333,
              "#9c179e"
             ],
             [
              0.4444444444444444,
              "#bd3786"
             ],
             [
              0.5555555555555556,
              "#d8576b"
             ],
             [
              0.6666666666666666,
              "#ed7953"
             ],
             [
              0.7777777777777778,
              "#fb9f3a"
             ],
             [
              0.8888888888888888,
              "#fdca26"
             ],
             [
              1,
              "#f0f921"
             ]
            ],
            "type": "heatmap"
           }
          ],
          "heatmapgl": [
           {
            "colorbar": {
             "outlinewidth": 0,
             "ticks": ""
            },
            "colorscale": [
             [
              0,
              "#0d0887"
             ],
             [
              0.1111111111111111,
              "#46039f"
             ],
             [
              0.2222222222222222,
              "#7201a8"
             ],
             [
              0.3333333333333333,
              "#9c179e"
             ],
             [
              0.4444444444444444,
              "#bd3786"
             ],
             [
              0.5555555555555556,
              "#d8576b"
             ],
             [
              0.6666666666666666,
              "#ed7953"
             ],
             [
              0.7777777777777778,
              "#fb9f3a"
             ],
             [
              0.8888888888888888,
              "#fdca26"
             ],
             [
              1,
              "#f0f921"
             ]
            ],
            "type": "heatmapgl"
           }
          ],
          "histogram": [
           {
            "marker": {
             "pattern": {
              "fillmode": "overlay",
              "size": 10,
              "solidity": 0.2
             }
            },
            "type": "histogram"
           }
          ],
          "histogram2d": [
           {
            "colorbar": {
             "outlinewidth": 0,
             "ticks": ""
            },
            "colorscale": [
             [
              0,
              "#0d0887"
             ],
             [
              0.1111111111111111,
              "#46039f"
             ],
             [
              0.2222222222222222,
              "#7201a8"
             ],
             [
              0.3333333333333333,
              "#9c179e"
             ],
             [
              0.4444444444444444,
              "#bd3786"
             ],
             [
              0.5555555555555556,
              "#d8576b"
             ],
             [
              0.6666666666666666,
              "#ed7953"
             ],
             [
              0.7777777777777778,
              "#fb9f3a"
             ],
             [
              0.8888888888888888,
              "#fdca26"
             ],
             [
              1,
              "#f0f921"
             ]
            ],
            "type": "histogram2d"
           }
          ],
          "histogram2dcontour": [
           {
            "colorbar": {
             "outlinewidth": 0,
             "ticks": ""
            },
            "colorscale": [
             [
              0,
              "#0d0887"
             ],
             [
              0.1111111111111111,
              "#46039f"
             ],
             [
              0.2222222222222222,
              "#7201a8"
             ],
             [
              0.3333333333333333,
              "#9c179e"
             ],
             [
              0.4444444444444444,
              "#bd3786"
             ],
             [
              0.5555555555555556,
              "#d8576b"
             ],
             [
              0.6666666666666666,
              "#ed7953"
             ],
             [
              0.7777777777777778,
              "#fb9f3a"
             ],
             [
              0.8888888888888888,
              "#fdca26"
             ],
             [
              1,
              "#f0f921"
             ]
            ],
            "type": "histogram2dcontour"
           }
          ],
          "mesh3d": [
           {
            "colorbar": {
             "outlinewidth": 0,
             "ticks": ""
            },
            "type": "mesh3d"
           }
          ],
          "parcoords": [
           {
            "line": {
             "colorbar": {
              "outlinewidth": 0,
              "ticks": ""
             }
            },
            "type": "parcoords"
           }
          ],
          "pie": [
           {
            "automargin": true,
            "type": "pie"
           }
          ],
          "scatter": [
           {
            "fillpattern": {
             "fillmode": "overlay",
             "size": 10,
             "solidity": 0.2
            },
            "type": "scatter"
           }
          ],
          "scatter3d": [
           {
            "line": {
             "colorbar": {
              "outlinewidth": 0,
              "ticks": ""
             }
            },
            "marker": {
             "colorbar": {
              "outlinewidth": 0,
              "ticks": ""
             }
            },
            "type": "scatter3d"
           }
          ],
          "scattercarpet": [
           {
            "marker": {
             "colorbar": {
              "outlinewidth": 0,
              "ticks": ""
             }
            },
            "type": "scattercarpet"
           }
          ],
          "scattergeo": [
           {
            "marker": {
             "colorbar": {
              "outlinewidth": 0,
              "ticks": ""
             }
            },
            "type": "scattergeo"
           }
          ],
          "scattergl": [
           {
            "marker": {
             "colorbar": {
              "outlinewidth": 0,
              "ticks": ""
             }
            },
            "type": "scattergl"
           }
          ],
          "scattermapbox": [
           {
            "marker": {
             "colorbar": {
              "outlinewidth": 0,
              "ticks": ""
             }
            },
            "type": "scattermapbox"
           }
          ],
          "scatterpolar": [
           {
            "marker": {
             "colorbar": {
              "outlinewidth": 0,
              "ticks": ""
             }
            },
            "type": "scatterpolar"
           }
          ],
          "scatterpolargl": [
           {
            "marker": {
             "colorbar": {
              "outlinewidth": 0,
              "ticks": ""
             }
            },
            "type": "scatterpolargl"
           }
          ],
          "scatterternary": [
           {
            "marker": {
             "colorbar": {
              "outlinewidth": 0,
              "ticks": ""
             }
            },
            "type": "scatterternary"
           }
          ],
          "surface": [
           {
            "colorbar": {
             "outlinewidth": 0,
             "ticks": ""
            },
            "colorscale": [
             [
              0,
              "#0d0887"
             ],
             [
              0.1111111111111111,
              "#46039f"
             ],
             [
              0.2222222222222222,
              "#7201a8"
             ],
             [
              0.3333333333333333,
              "#9c179e"
             ],
             [
              0.4444444444444444,
              "#bd3786"
             ],
             [
              0.5555555555555556,
              "#d8576b"
             ],
             [
              0.6666666666666666,
              "#ed7953"
             ],
             [
              0.7777777777777778,
              "#fb9f3a"
             ],
             [
              0.8888888888888888,
              "#fdca26"
             ],
             [
              1,
              "#f0f921"
             ]
            ],
            "type": "surface"
           }
          ],
          "table": [
           {
            "cells": {
             "fill": {
              "color": "#EBF0F8"
             },
             "line": {
              "color": "white"
             }
            },
            "header": {
             "fill": {
              "color": "#C8D4E3"
             },
             "line": {
              "color": "white"
             }
            },
            "type": "table"
           }
          ]
         },
         "layout": {
          "annotationdefaults": {
           "arrowcolor": "#2a3f5f",
           "arrowhead": 0,
           "arrowwidth": 1
          },
          "autotypenumbers": "strict",
          "coloraxis": {
           "colorbar": {
            "outlinewidth": 0,
            "ticks": ""
           }
          },
          "colorscale": {
           "diverging": [
            [
             0,
             "#8e0152"
            ],
            [
             0.1,
             "#c51b7d"
            ],
            [
             0.2,
             "#de77ae"
            ],
            [
             0.3,
             "#f1b6da"
            ],
            [
             0.4,
             "#fde0ef"
            ],
            [
             0.5,
             "#f7f7f7"
            ],
            [
             0.6,
             "#e6f5d0"
            ],
            [
             0.7,
             "#b8e186"
            ],
            [
             0.8,
             "#7fbc41"
            ],
            [
             0.9,
             "#4d9221"
            ],
            [
             1,
             "#276419"
            ]
           ],
           "sequential": [
            [
             0,
             "#0d0887"
            ],
            [
             0.1111111111111111,
             "#46039f"
            ],
            [
             0.2222222222222222,
             "#7201a8"
            ],
            [
             0.3333333333333333,
             "#9c179e"
            ],
            [
             0.4444444444444444,
             "#bd3786"
            ],
            [
             0.5555555555555556,
             "#d8576b"
            ],
            [
             0.6666666666666666,
             "#ed7953"
            ],
            [
             0.7777777777777778,
             "#fb9f3a"
            ],
            [
             0.8888888888888888,
             "#fdca26"
            ],
            [
             1,
             "#f0f921"
            ]
           ],
           "sequentialminus": [
            [
             0,
             "#0d0887"
            ],
            [
             0.1111111111111111,
             "#46039f"
            ],
            [
             0.2222222222222222,
             "#7201a8"
            ],
            [
             0.3333333333333333,
             "#9c179e"
            ],
            [
             0.4444444444444444,
             "#bd3786"
            ],
            [
             0.5555555555555556,
             "#d8576b"
            ],
            [
             0.6666666666666666,
             "#ed7953"
            ],
            [
             0.7777777777777778,
             "#fb9f3a"
            ],
            [
             0.8888888888888888,
             "#fdca26"
            ],
            [
             1,
             "#f0f921"
            ]
           ]
          },
          "colorway": [
           "#636efa",
           "#EF553B",
           "#00cc96",
           "#ab63fa",
           "#FFA15A",
           "#19d3f3",
           "#FF6692",
           "#B6E880",
           "#FF97FF",
           "#FECB52"
          ],
          "font": {
           "color": "#2a3f5f"
          },
          "geo": {
           "bgcolor": "white",
           "lakecolor": "white",
           "landcolor": "#E5ECF6",
           "showlakes": true,
           "showland": true,
           "subunitcolor": "white"
          },
          "hoverlabel": {
           "align": "left"
          },
          "hovermode": "closest",
          "mapbox": {
           "style": "light"
          },
          "paper_bgcolor": "white",
          "plot_bgcolor": "#E5ECF6",
          "polar": {
           "angularaxis": {
            "gridcolor": "white",
            "linecolor": "white",
            "ticks": ""
           },
           "bgcolor": "#E5ECF6",
           "radialaxis": {
            "gridcolor": "white",
            "linecolor": "white",
            "ticks": ""
           }
          },
          "scene": {
           "xaxis": {
            "backgroundcolor": "#E5ECF6",
            "gridcolor": "white",
            "gridwidth": 2,
            "linecolor": "white",
            "showbackground": true,
            "ticks": "",
            "zerolinecolor": "white"
           },
           "yaxis": {
            "backgroundcolor": "#E5ECF6",
            "gridcolor": "white",
            "gridwidth": 2,
            "linecolor": "white",
            "showbackground": true,
            "ticks": "",
            "zerolinecolor": "white"
           },
           "zaxis": {
            "backgroundcolor": "#E5ECF6",
            "gridcolor": "white",
            "gridwidth": 2,
            "linecolor": "white",
            "showbackground": true,
            "ticks": "",
            "zerolinecolor": "white"
           }
          },
          "shapedefaults": {
           "line": {
            "color": "#2a3f5f"
           }
          },
          "ternary": {
           "aaxis": {
            "gridcolor": "white",
            "linecolor": "white",
            "ticks": ""
           },
           "baxis": {
            "gridcolor": "white",
            "linecolor": "white",
            "ticks": ""
           },
           "bgcolor": "#E5ECF6",
           "caxis": {
            "gridcolor": "white",
            "linecolor": "white",
            "ticks": ""
           }
          },
          "title": {
           "x": 0.05
          },
          "xaxis": {
           "automargin": true,
           "gridcolor": "white",
           "linecolor": "white",
           "ticks": "",
           "title": {
            "standoff": 15
           },
           "zerolinecolor": "white",
           "zerolinewidth": 2
          },
          "yaxis": {
           "automargin": true,
           "gridcolor": "white",
           "linecolor": "white",
           "ticks": "",
           "title": {
            "standoff": 15
           },
           "zerolinecolor": "white",
           "zerolinewidth": 2
          }
         }
        },
        "title": {
         "text": "Countries with more than 10 million Covid cases"
        },
        "xaxis": {
         "anchor": "y",
         "domain": [
          0,
          1
         ],
         "title": {
          "text": "Country"
         }
        },
        "yaxis": {
         "anchor": "x",
         "domain": [
          0,
          1
         ],
         "title": {
          "text": "Total Cases"
         }
        }
       }
      }
     },
     "metadata": {},
     "output_type": "display_data"
    }
   ],
   "source": [
    "# %%\n",
    "figure = px.bar(data[data[\"Total Cases\"] > 1e7], \n",
    "                y = 'Total Cases', \n",
    "                x = 'Country',\n",
    "                title = \"Countries with more than 10 million Covid cases\")\n",
    "figure.show()"
   ]
  },
  {
   "cell_type": "markdown",
   "metadata": {},
   "source": [
    "Let's see which countries had the highest number of cases per capita."
   ]
  },
  {
   "cell_type": "code",
   "execution_count": 49,
   "metadata": {},
   "outputs": [
    {
     "data": {
      "text/html": [
       "<div>\n",
       "<style scoped>\n",
       "    .dataframe tbody tr th:only-of-type {\n",
       "        vertical-align: middle;\n",
       "    }\n",
       "\n",
       "    .dataframe tbody tr th {\n",
       "        vertical-align: top;\n",
       "    }\n",
       "\n",
       "    .dataframe thead th {\n",
       "        text-align: right;\n",
       "    }\n",
       "</style>\n",
       "<table border=\"1\" class=\"dataframe\">\n",
       "  <thead>\n",
       "    <tr style=\"text-align: right;\">\n",
       "      <th></th>\n",
       "      <th>Country Code</th>\n",
       "      <th>Country</th>\n",
       "      <th>HDI</th>\n",
       "      <th>Total Cases</th>\n",
       "      <th>Total Deaths</th>\n",
       "      <th>Stringency Index</th>\n",
       "      <th>Population</th>\n",
       "      <th>GDP Per Capita Before Covid</th>\n",
       "      <th>GDP Per Capita During Covid</th>\n",
       "      <th>GDP Per Capita After Covid</th>\n",
       "      <th>Cases Per Capita</th>\n",
       "      <th>Cases Per Thousand</th>\n",
       "    </tr>\n",
       "  </thead>\n",
       "  <tbody>\n",
       "    <tr>\n",
       "      <th>169</th>\n",
       "      <td>SGP</td>\n",
       "      <td>United States</td>\n",
       "      <td>0.92400</td>\n",
       "      <td>746014098.0</td>\n",
       "      <td>26477574.0</td>\n",
       "      <td>3.350949</td>\n",
       "      <td>3.310026e+08</td>\n",
       "      <td>62470.930</td>\n",
       "      <td>63635.824</td>\n",
       "      <td>64623.1250</td>\n",
       "      <td>2.253801</td>\n",
       "      <td>2253.801004</td>\n",
       "    </tr>\n",
       "    <tr>\n",
       "      <th>22</th>\n",
       "      <td>BTN</td>\n",
       "      <td>Brazil</td>\n",
       "      <td>0.75900</td>\n",
       "      <td>425704517.0</td>\n",
       "      <td>14340567.0</td>\n",
       "      <td>3.136028</td>\n",
       "      <td>2.125594e+08</td>\n",
       "      <td>14685.128</td>\n",
       "      <td>14735.582</td>\n",
       "      <td>15093.4650</td>\n",
       "      <td>2.002755</td>\n",
       "      <td>2002.755460</td>\n",
       "    </tr>\n",
       "    <tr>\n",
       "      <th>74</th>\n",
       "      <td>GHA</td>\n",
       "      <td>India</td>\n",
       "      <td>0.64000</td>\n",
       "      <td>407771615.0</td>\n",
       "      <td>7247327.0</td>\n",
       "      <td>3.610552</td>\n",
       "      <td>1.380004e+09</td>\n",
       "      <td>6617.130</td>\n",
       "      <td>6677.185</td>\n",
       "      <td>7112.0396</td>\n",
       "      <td>0.295486</td>\n",
       "      <td>295.485739</td>\n",
       "    </tr>\n",
       "    <tr>\n",
       "      <th>132</th>\n",
       "      <td>MOZ</td>\n",
       "      <td>Russia</td>\n",
       "      <td>0.81600</td>\n",
       "      <td>132888951.0</td>\n",
       "      <td>2131571.0</td>\n",
       "      <td>3.380088</td>\n",
       "      <td>1.459345e+08</td>\n",
       "      <td>27254.574</td>\n",
       "      <td>28057.031</td>\n",
       "      <td>27450.4500</td>\n",
       "      <td>0.910607</td>\n",
       "      <td>910.607070</td>\n",
       "    </tr>\n",
       "    <tr>\n",
       "      <th>125</th>\n",
       "      <td>MEX</td>\n",
       "      <td>Peru</td>\n",
       "      <td>0.59949</td>\n",
       "      <td>74882695.0</td>\n",
       "      <td>3020038.0</td>\n",
       "      <td>3.430126</td>\n",
       "      <td>2.635505e+07</td>\n",
       "      <td>12735.168</td>\n",
       "      <td>12533.842</td>\n",
       "      <td>12743.9420</td>\n",
       "      <td>2.841304</td>\n",
       "      <td>2841.303796</td>\n",
       "    </tr>\n",
       "  </tbody>\n",
       "</table>\n",
       "</div>"
      ],
      "text/plain": [
       "    Country Code        Country      HDI  Total Cases  Total Deaths  \\\n",
       "169          SGP  United States  0.92400  746014098.0    26477574.0   \n",
       "22           BTN         Brazil  0.75900  425704517.0    14340567.0   \n",
       "74           GHA          India  0.64000  407771615.0     7247327.0   \n",
       "132          MOZ         Russia  0.81600  132888951.0     2131571.0   \n",
       "125          MEX           Peru  0.59949   74882695.0     3020038.0   \n",
       "\n",
       "     Stringency Index    Population  GDP Per Capita Before Covid  \\\n",
       "169          3.350949  3.310026e+08                    62470.930   \n",
       "22           3.136028  2.125594e+08                    14685.128   \n",
       "74           3.610552  1.380004e+09                     6617.130   \n",
       "132          3.380088  1.459345e+08                    27254.574   \n",
       "125          3.430126  2.635505e+07                    12735.168   \n",
       "\n",
       "     GDP Per Capita During Covid  GDP Per Capita After Covid  \\\n",
       "169                    63635.824                  64623.1250   \n",
       "22                     14735.582                  15093.4650   \n",
       "74                      6677.185                   7112.0396   \n",
       "132                    28057.031                  27450.4500   \n",
       "125                    12533.842                  12743.9420   \n",
       "\n",
       "     Cases Per Capita  Cases Per Thousand  \n",
       "169          2.253801         2253.801004  \n",
       "22           2.002755         2002.755460  \n",
       "74           0.295486          295.485739  \n",
       "132          0.910607          910.607070  \n",
       "125          2.841304         2841.303796  "
      ]
     },
     "execution_count": 49,
     "metadata": {},
     "output_type": "execute_result"
    }
   ],
   "source": [
    "data[\"Cases Per Capita\"] = data[\"Total Cases\"] / data[\"Population\"]\n",
    "data[\"Cases Per Thousand\"] = data[\"Cases Per Capita\"] * 1000\n",
    "data.head()"
   ]
  },
  {
   "cell_type": "code",
   "execution_count": 50,
   "metadata": {},
   "outputs": [
    {
     "data": {
      "application/vnd.plotly.v1+json": {
       "config": {
        "plotlyServerURL": "https://plot.ly"
       },
       "data": [
        {
         "alignmentgroup": "True",
         "hovertemplate": "Country=%{x}<br>Cases Per Thousand=%{y}<extra></extra>",
         "legendgroup": "",
         "marker": {
          "color": "#636efa",
          "pattern": {
           "shape": ""
          }
         },
         "name": "",
         "offsetgroup": "",
         "orientation": "v",
         "showlegend": false,
         "textposition": "auto",
         "type": "bar",
         "x": [
          "Qatar",
          "Bahrain",
          "Chile",
          "Panama",
          "Peru",
          "Aruba",
          "Kuwait",
          "United States",
          "Maldives",
          "Brazil",
          "Oman",
          "Israel",
          "Armenia",
          "Luxembourg",
          "Puerto Rico",
          "Turks and Caicos Islands",
          "Spain",
          "Colombia",
          "Moldova",
          "Montenegro",
          "Sint Maarten (Dutch part)",
          "Saudi Arabia",
          "Singapore",
          "Bolivia",
          "Belgium",
          "Iceland",
          "South Africa",
          "Argentina",
          "Sweden",
          "Costa Rica"
         ],
         "xaxis": "x",
         "y": [
          5675.494436075611,
          3849.3538076015097,
          3443.156331488202,
          3140.930410781453,
          2841.303795713754,
          2742.3394255765984,
          2487.307879546561,
          2253.80100359137,
          2049.429091541453,
          2002.7554602393539,
          1970.0093329798053,
          1871.919271135103,
          1847.5182857648097,
          1831.8977085383465,
          1789.1753056981158,
          1614.2990501061408,
          1582.0685589284528,
          1527.597569035791,
          1507.235595616519,
          1464.8097374675324,
          1456.9353314900368,
          1404.51937338053,
          1400.1163692453588,
          1345.404660745863,
          1319.847525578069,
          1234.3150183150183,
          1220.4506141142638,
          1217.2473473941309,
          1191.4617223686446,
          1182.8326710055073
         ],
         "yaxis": "y"
        }
       ],
       "layout": {
        "barmode": "relative",
        "legend": {
         "tracegroupgap": 0
        },
        "template": {
         "data": {
          "bar": [
           {
            "error_x": {
             "color": "#2a3f5f"
            },
            "error_y": {
             "color": "#2a3f5f"
            },
            "marker": {
             "line": {
              "color": "#E5ECF6",
              "width": 0.5
             },
             "pattern": {
              "fillmode": "overlay",
              "size": 10,
              "solidity": 0.2
             }
            },
            "type": "bar"
           }
          ],
          "barpolar": [
           {
            "marker": {
             "line": {
              "color": "#E5ECF6",
              "width": 0.5
             },
             "pattern": {
              "fillmode": "overlay",
              "size": 10,
              "solidity": 0.2
             }
            },
            "type": "barpolar"
           }
          ],
          "carpet": [
           {
            "aaxis": {
             "endlinecolor": "#2a3f5f",
             "gridcolor": "white",
             "linecolor": "white",
             "minorgridcolor": "white",
             "startlinecolor": "#2a3f5f"
            },
            "baxis": {
             "endlinecolor": "#2a3f5f",
             "gridcolor": "white",
             "linecolor": "white",
             "minorgridcolor": "white",
             "startlinecolor": "#2a3f5f"
            },
            "type": "carpet"
           }
          ],
          "choropleth": [
           {
            "colorbar": {
             "outlinewidth": 0,
             "ticks": ""
            },
            "type": "choropleth"
           }
          ],
          "contour": [
           {
            "colorbar": {
             "outlinewidth": 0,
             "ticks": ""
            },
            "colorscale": [
             [
              0,
              "#0d0887"
             ],
             [
              0.1111111111111111,
              "#46039f"
             ],
             [
              0.2222222222222222,
              "#7201a8"
             ],
             [
              0.3333333333333333,
              "#9c179e"
             ],
             [
              0.4444444444444444,
              "#bd3786"
             ],
             [
              0.5555555555555556,
              "#d8576b"
             ],
             [
              0.6666666666666666,
              "#ed7953"
             ],
             [
              0.7777777777777778,
              "#fb9f3a"
             ],
             [
              0.8888888888888888,
              "#fdca26"
             ],
             [
              1,
              "#f0f921"
             ]
            ],
            "type": "contour"
           }
          ],
          "contourcarpet": [
           {
            "colorbar": {
             "outlinewidth": 0,
             "ticks": ""
            },
            "type": "contourcarpet"
           }
          ],
          "heatmap": [
           {
            "colorbar": {
             "outlinewidth": 0,
             "ticks": ""
            },
            "colorscale": [
             [
              0,
              "#0d0887"
             ],
             [
              0.1111111111111111,
              "#46039f"
             ],
             [
              0.2222222222222222,
              "#7201a8"
             ],
             [
              0.3333333333333333,
              "#9c179e"
             ],
             [
              0.4444444444444444,
              "#bd3786"
             ],
             [
              0.5555555555555556,
              "#d8576b"
             ],
             [
              0.6666666666666666,
              "#ed7953"
             ],
             [
              0.7777777777777778,
              "#fb9f3a"
             ],
             [
              0.8888888888888888,
              "#fdca26"
             ],
             [
              1,
              "#f0f921"
             ]
            ],
            "type": "heatmap"
           }
          ],
          "heatmapgl": [
           {
            "colorbar": {
             "outlinewidth": 0,
             "ticks": ""
            },
            "colorscale": [
             [
              0,
              "#0d0887"
             ],
             [
              0.1111111111111111,
              "#46039f"
             ],
             [
              0.2222222222222222,
              "#7201a8"
             ],
             [
              0.3333333333333333,
              "#9c179e"
             ],
             [
              0.4444444444444444,
              "#bd3786"
             ],
             [
              0.5555555555555556,
              "#d8576b"
             ],
             [
              0.6666666666666666,
              "#ed7953"
             ],
             [
              0.7777777777777778,
              "#fb9f3a"
             ],
             [
              0.8888888888888888,
              "#fdca26"
             ],
             [
              1,
              "#f0f921"
             ]
            ],
            "type": "heatmapgl"
           }
          ],
          "histogram": [
           {
            "marker": {
             "pattern": {
              "fillmode": "overlay",
              "size": 10,
              "solidity": 0.2
             }
            },
            "type": "histogram"
           }
          ],
          "histogram2d": [
           {
            "colorbar": {
             "outlinewidth": 0,
             "ticks": ""
            },
            "colorscale": [
             [
              0,
              "#0d0887"
             ],
             [
              0.1111111111111111,
              "#46039f"
             ],
             [
              0.2222222222222222,
              "#7201a8"
             ],
             [
              0.3333333333333333,
              "#9c179e"
             ],
             [
              0.4444444444444444,
              "#bd3786"
             ],
             [
              0.5555555555555556,
              "#d8576b"
             ],
             [
              0.6666666666666666,
              "#ed7953"
             ],
             [
              0.7777777777777778,
              "#fb9f3a"
             ],
             [
              0.8888888888888888,
              "#fdca26"
             ],
             [
              1,
              "#f0f921"
             ]
            ],
            "type": "histogram2d"
           }
          ],
          "histogram2dcontour": [
           {
            "colorbar": {
             "outlinewidth": 0,
             "ticks": ""
            },
            "colorscale": [
             [
              0,
              "#0d0887"
             ],
             [
              0.1111111111111111,
              "#46039f"
             ],
             [
              0.2222222222222222,
              "#7201a8"
             ],
             [
              0.3333333333333333,
              "#9c179e"
             ],
             [
              0.4444444444444444,
              "#bd3786"
             ],
             [
              0.5555555555555556,
              "#d8576b"
             ],
             [
              0.6666666666666666,
              "#ed7953"
             ],
             [
              0.7777777777777778,
              "#fb9f3a"
             ],
             [
              0.8888888888888888,
              "#fdca26"
             ],
             [
              1,
              "#f0f921"
             ]
            ],
            "type": "histogram2dcontour"
           }
          ],
          "mesh3d": [
           {
            "colorbar": {
             "outlinewidth": 0,
             "ticks": ""
            },
            "type": "mesh3d"
           }
          ],
          "parcoords": [
           {
            "line": {
             "colorbar": {
              "outlinewidth": 0,
              "ticks": ""
             }
            },
            "type": "parcoords"
           }
          ],
          "pie": [
           {
            "automargin": true,
            "type": "pie"
           }
          ],
          "scatter": [
           {
            "fillpattern": {
             "fillmode": "overlay",
             "size": 10,
             "solidity": 0.2
            },
            "type": "scatter"
           }
          ],
          "scatter3d": [
           {
            "line": {
             "colorbar": {
              "outlinewidth": 0,
              "ticks": ""
             }
            },
            "marker": {
             "colorbar": {
              "outlinewidth": 0,
              "ticks": ""
             }
            },
            "type": "scatter3d"
           }
          ],
          "scattercarpet": [
           {
            "marker": {
             "colorbar": {
              "outlinewidth": 0,
              "ticks": ""
             }
            },
            "type": "scattercarpet"
           }
          ],
          "scattergeo": [
           {
            "marker": {
             "colorbar": {
              "outlinewidth": 0,
              "ticks": ""
             }
            },
            "type": "scattergeo"
           }
          ],
          "scattergl": [
           {
            "marker": {
             "colorbar": {
              "outlinewidth": 0,
              "ticks": ""
             }
            },
            "type": "scattergl"
           }
          ],
          "scattermapbox": [
           {
            "marker": {
             "colorbar": {
              "outlinewidth": 0,
              "ticks": ""
             }
            },
            "type": "scattermapbox"
           }
          ],
          "scatterpolar": [
           {
            "marker": {
             "colorbar": {
              "outlinewidth": 0,
              "ticks": ""
             }
            },
            "type": "scatterpolar"
           }
          ],
          "scatterpolargl": [
           {
            "marker": {
             "colorbar": {
              "outlinewidth": 0,
              "ticks": ""
             }
            },
            "type": "scatterpolargl"
           }
          ],
          "scatterternary": [
           {
            "marker": {
             "colorbar": {
              "outlinewidth": 0,
              "ticks": ""
             }
            },
            "type": "scatterternary"
           }
          ],
          "surface": [
           {
            "colorbar": {
             "outlinewidth": 0,
             "ticks": ""
            },
            "colorscale": [
             [
              0,
              "#0d0887"
             ],
             [
              0.1111111111111111,
              "#46039f"
             ],
             [
              0.2222222222222222,
              "#7201a8"
             ],
             [
              0.3333333333333333,
              "#9c179e"
             ],
             [
              0.4444444444444444,
              "#bd3786"
             ],
             [
              0.5555555555555556,
              "#d8576b"
             ],
             [
              0.6666666666666666,
              "#ed7953"
             ],
             [
              0.7777777777777778,
              "#fb9f3a"
             ],
             [
              0.8888888888888888,
              "#fdca26"
             ],
             [
              1,
              "#f0f921"
             ]
            ],
            "type": "surface"
           }
          ],
          "table": [
           {
            "cells": {
             "fill": {
              "color": "#EBF0F8"
             },
             "line": {
              "color": "white"
             }
            },
            "header": {
             "fill": {
              "color": "#C8D4E3"
             },
             "line": {
              "color": "white"
             }
            },
            "type": "table"
           }
          ]
         },
         "layout": {
          "annotationdefaults": {
           "arrowcolor": "#2a3f5f",
           "arrowhead": 0,
           "arrowwidth": 1
          },
          "autotypenumbers": "strict",
          "coloraxis": {
           "colorbar": {
            "outlinewidth": 0,
            "ticks": ""
           }
          },
          "colorscale": {
           "diverging": [
            [
             0,
             "#8e0152"
            ],
            [
             0.1,
             "#c51b7d"
            ],
            [
             0.2,
             "#de77ae"
            ],
            [
             0.3,
             "#f1b6da"
            ],
            [
             0.4,
             "#fde0ef"
            ],
            [
             0.5,
             "#f7f7f7"
            ],
            [
             0.6,
             "#e6f5d0"
            ],
            [
             0.7,
             "#b8e186"
            ],
            [
             0.8,
             "#7fbc41"
            ],
            [
             0.9,
             "#4d9221"
            ],
            [
             1,
             "#276419"
            ]
           ],
           "sequential": [
            [
             0,
             "#0d0887"
            ],
            [
             0.1111111111111111,
             "#46039f"
            ],
            [
             0.2222222222222222,
             "#7201a8"
            ],
            [
             0.3333333333333333,
             "#9c179e"
            ],
            [
             0.4444444444444444,
             "#bd3786"
            ],
            [
             0.5555555555555556,
             "#d8576b"
            ],
            [
             0.6666666666666666,
             "#ed7953"
            ],
            [
             0.7777777777777778,
             "#fb9f3a"
            ],
            [
             0.8888888888888888,
             "#fdca26"
            ],
            [
             1,
             "#f0f921"
            ]
           ],
           "sequentialminus": [
            [
             0,
             "#0d0887"
            ],
            [
             0.1111111111111111,
             "#46039f"
            ],
            [
             0.2222222222222222,
             "#7201a8"
            ],
            [
             0.3333333333333333,
             "#9c179e"
            ],
            [
             0.4444444444444444,
             "#bd3786"
            ],
            [
             0.5555555555555556,
             "#d8576b"
            ],
            [
             0.6666666666666666,
             "#ed7953"
            ],
            [
             0.7777777777777778,
             "#fb9f3a"
            ],
            [
             0.8888888888888888,
             "#fdca26"
            ],
            [
             1,
             "#f0f921"
            ]
           ]
          },
          "colorway": [
           "#636efa",
           "#EF553B",
           "#00cc96",
           "#ab63fa",
           "#FFA15A",
           "#19d3f3",
           "#FF6692",
           "#B6E880",
           "#FF97FF",
           "#FECB52"
          ],
          "font": {
           "color": "#2a3f5f"
          },
          "geo": {
           "bgcolor": "white",
           "lakecolor": "white",
           "landcolor": "#E5ECF6",
           "showlakes": true,
           "showland": true,
           "subunitcolor": "white"
          },
          "hoverlabel": {
           "align": "left"
          },
          "hovermode": "closest",
          "mapbox": {
           "style": "light"
          },
          "paper_bgcolor": "white",
          "plot_bgcolor": "#E5ECF6",
          "polar": {
           "angularaxis": {
            "gridcolor": "white",
            "linecolor": "white",
            "ticks": ""
           },
           "bgcolor": "#E5ECF6",
           "radialaxis": {
            "gridcolor": "white",
            "linecolor": "white",
            "ticks": ""
           }
          },
          "scene": {
           "xaxis": {
            "backgroundcolor": "#E5ECF6",
            "gridcolor": "white",
            "gridwidth": 2,
            "linecolor": "white",
            "showbackground": true,
            "ticks": "",
            "zerolinecolor": "white"
           },
           "yaxis": {
            "backgroundcolor": "#E5ECF6",
            "gridcolor": "white",
            "gridwidth": 2,
            "linecolor": "white",
            "showbackground": true,
            "ticks": "",
            "zerolinecolor": "white"
           },
           "zaxis": {
            "backgroundcolor": "#E5ECF6",
            "gridcolor": "white",
            "gridwidth": 2,
            "linecolor": "white",
            "showbackground": true,
            "ticks": "",
            "zerolinecolor": "white"
           }
          },
          "shapedefaults": {
           "line": {
            "color": "#2a3f5f"
           }
          },
          "ternary": {
           "aaxis": {
            "gridcolor": "white",
            "linecolor": "white",
            "ticks": ""
           },
           "baxis": {
            "gridcolor": "white",
            "linecolor": "white",
            "ticks": ""
           },
           "bgcolor": "#E5ECF6",
           "caxis": {
            "gridcolor": "white",
            "linecolor": "white",
            "ticks": ""
           }
          },
          "title": {
           "x": 0.05
          },
          "xaxis": {
           "automargin": true,
           "gridcolor": "white",
           "linecolor": "white",
           "ticks": "",
           "title": {
            "standoff": 15
           },
           "zerolinecolor": "white",
           "zerolinewidth": 2
          },
          "yaxis": {
           "automargin": true,
           "gridcolor": "white",
           "linecolor": "white",
           "ticks": "",
           "title": {
            "standoff": 15
           },
           "zerolinecolor": "white",
           "zerolinewidth": 2
          }
         }
        },
        "title": {
         "text": "Highest number of cases of Covid per thousand people"
        },
        "xaxis": {
         "anchor": "y",
         "domain": [
          0,
          1
         ],
         "title": {
          "text": "Country"
         }
        },
        "yaxis": {
         "anchor": "x",
         "domain": [
          0,
          1
         ],
         "title": {
          "text": "Cases Per Thousand"
         }
        }
       }
      }
     },
     "metadata": {},
     "output_type": "display_data"
    }
   ],
   "source": [
    "# %%\n",
    "figure = px.bar(data.sort_values(by=[\"Cases Per Thousand\"], ascending=False).head(30), \n",
    "                y = 'Cases Per Thousand', \n",
    "                x = 'Country',\n",
    "                title = \"Highest number of cases of Covid per thousand people\")\n",
    "figure.show()"
   ]
  },
  {
   "cell_type": "markdown",
   "metadata": {},
   "source": [
    "Unless there's some fault in our data, it seems like many countries had more that a thousand cases per thousand people in their population. \\\n",
    "This could be because of cases of visitors, or because the same people got Covid multiple times over the three years we have data for. The latter is highly likely.\n",
    "\n",
    "Now let's take a look at countries with more than a million deaths."
   ]
  },
  {
   "cell_type": "code",
   "execution_count": 52,
   "metadata": {},
   "outputs": [
    {
     "data": {
      "application/vnd.plotly.v1+json": {
       "config": {
        "plotlyServerURL": "https://plot.ly"
       },
       "data": [
        {
         "alignmentgroup": "True",
         "hovertemplate": "Country=%{x}<br>Total Deaths=%{y}<extra></extra>",
         "legendgroup": "",
         "marker": {
          "color": "#636efa",
          "pattern": {
           "shape": ""
          }
         },
         "name": "",
         "offsetgroup": "",
         "orientation": "v",
         "showlegend": false,
         "textposition": "auto",
         "type": "bar",
         "x": [
          "United States",
          "Brazil",
          "India",
          "Russia",
          "Peru",
          "Mexico",
          "Spain",
          "South Africa",
          "Colombia",
          "United Kingdom",
          "Iran",
          "Chile",
          "Italy",
          "France",
          "Argentina",
          "Germany",
          "Turkey",
          "China",
          "Canada",
          "Belgium",
          "Ecuador",
          "Netherlands"
         ],
         "xaxis": "x",
         "y": [
          26477574,
          14340567,
          7247327,
          2131571,
          3020038,
          7295850,
          5510624,
          1357682,
          1936134,
          7249573,
          2914070,
          1283880,
          6664225,
          5633444,
          1077426,
          1640691,
          1049757,
          1066939,
          1455549,
          1798461,
          1083749,
          1142410
         ],
         "yaxis": "y"
        }
       ],
       "layout": {
        "barmode": "relative",
        "legend": {
         "tracegroupgap": 0
        },
        "template": {
         "data": {
          "bar": [
           {
            "error_x": {
             "color": "#2a3f5f"
            },
            "error_y": {
             "color": "#2a3f5f"
            },
            "marker": {
             "line": {
              "color": "#E5ECF6",
              "width": 0.5
             },
             "pattern": {
              "fillmode": "overlay",
              "size": 10,
              "solidity": 0.2
             }
            },
            "type": "bar"
           }
          ],
          "barpolar": [
           {
            "marker": {
             "line": {
              "color": "#E5ECF6",
              "width": 0.5
             },
             "pattern": {
              "fillmode": "overlay",
              "size": 10,
              "solidity": 0.2
             }
            },
            "type": "barpolar"
           }
          ],
          "carpet": [
           {
            "aaxis": {
             "endlinecolor": "#2a3f5f",
             "gridcolor": "white",
             "linecolor": "white",
             "minorgridcolor": "white",
             "startlinecolor": "#2a3f5f"
            },
            "baxis": {
             "endlinecolor": "#2a3f5f",
             "gridcolor": "white",
             "linecolor": "white",
             "minorgridcolor": "white",
             "startlinecolor": "#2a3f5f"
            },
            "type": "carpet"
           }
          ],
          "choropleth": [
           {
            "colorbar": {
             "outlinewidth": 0,
             "ticks": ""
            },
            "type": "choropleth"
           }
          ],
          "contour": [
           {
            "colorbar": {
             "outlinewidth": 0,
             "ticks": ""
            },
            "colorscale": [
             [
              0,
              "#0d0887"
             ],
             [
              0.1111111111111111,
              "#46039f"
             ],
             [
              0.2222222222222222,
              "#7201a8"
             ],
             [
              0.3333333333333333,
              "#9c179e"
             ],
             [
              0.4444444444444444,
              "#bd3786"
             ],
             [
              0.5555555555555556,
              "#d8576b"
             ],
             [
              0.6666666666666666,
              "#ed7953"
             ],
             [
              0.7777777777777778,
              "#fb9f3a"
             ],
             [
              0.8888888888888888,
              "#fdca26"
             ],
             [
              1,
              "#f0f921"
             ]
            ],
            "type": "contour"
           }
          ],
          "contourcarpet": [
           {
            "colorbar": {
             "outlinewidth": 0,
             "ticks": ""
            },
            "type": "contourcarpet"
           }
          ],
          "heatmap": [
           {
            "colorbar": {
             "outlinewidth": 0,
             "ticks": ""
            },
            "colorscale": [
             [
              0,
              "#0d0887"
             ],
             [
              0.1111111111111111,
              "#46039f"
             ],
             [
              0.2222222222222222,
              "#7201a8"
             ],
             [
              0.3333333333333333,
              "#9c179e"
             ],
             [
              0.4444444444444444,
              "#bd3786"
             ],
             [
              0.5555555555555556,
              "#d8576b"
             ],
             [
              0.6666666666666666,
              "#ed7953"
             ],
             [
              0.7777777777777778,
              "#fb9f3a"
             ],
             [
              0.8888888888888888,
              "#fdca26"
             ],
             [
              1,
              "#f0f921"
             ]
            ],
            "type": "heatmap"
           }
          ],
          "heatmapgl": [
           {
            "colorbar": {
             "outlinewidth": 0,
             "ticks": ""
            },
            "colorscale": [
             [
              0,
              "#0d0887"
             ],
             [
              0.1111111111111111,
              "#46039f"
             ],
             [
              0.2222222222222222,
              "#7201a8"
             ],
             [
              0.3333333333333333,
              "#9c179e"
             ],
             [
              0.4444444444444444,
              "#bd3786"
             ],
             [
              0.5555555555555556,
              "#d8576b"
             ],
             [
              0.6666666666666666,
              "#ed7953"
             ],
             [
              0.7777777777777778,
              "#fb9f3a"
             ],
             [
              0.8888888888888888,
              "#fdca26"
             ],
             [
              1,
              "#f0f921"
             ]
            ],
            "type": "heatmapgl"
           }
          ],
          "histogram": [
           {
            "marker": {
             "pattern": {
              "fillmode": "overlay",
              "size": 10,
              "solidity": 0.2
             }
            },
            "type": "histogram"
           }
          ],
          "histogram2d": [
           {
            "colorbar": {
             "outlinewidth": 0,
             "ticks": ""
            },
            "colorscale": [
             [
              0,
              "#0d0887"
             ],
             [
              0.1111111111111111,
              "#46039f"
             ],
             [
              0.2222222222222222,
              "#7201a8"
             ],
             [
              0.3333333333333333,
              "#9c179e"
             ],
             [
              0.4444444444444444,
              "#bd3786"
             ],
             [
              0.5555555555555556,
              "#d8576b"
             ],
             [
              0.6666666666666666,
              "#ed7953"
             ],
             [
              0.7777777777777778,
              "#fb9f3a"
             ],
             [
              0.8888888888888888,
              "#fdca26"
             ],
             [
              1,
              "#f0f921"
             ]
            ],
            "type": "histogram2d"
           }
          ],
          "histogram2dcontour": [
           {
            "colorbar": {
             "outlinewidth": 0,
             "ticks": ""
            },
            "colorscale": [
             [
              0,
              "#0d0887"
             ],
             [
              0.1111111111111111,
              "#46039f"
             ],
             [
              0.2222222222222222,
              "#7201a8"
             ],
             [
              0.3333333333333333,
              "#9c179e"
             ],
             [
              0.4444444444444444,
              "#bd3786"
             ],
             [
              0.5555555555555556,
              "#d8576b"
             ],
             [
              0.6666666666666666,
              "#ed7953"
             ],
             [
              0.7777777777777778,
              "#fb9f3a"
             ],
             [
              0.8888888888888888,
              "#fdca26"
             ],
             [
              1,
              "#f0f921"
             ]
            ],
            "type": "histogram2dcontour"
           }
          ],
          "mesh3d": [
           {
            "colorbar": {
             "outlinewidth": 0,
             "ticks": ""
            },
            "type": "mesh3d"
           }
          ],
          "parcoords": [
           {
            "line": {
             "colorbar": {
              "outlinewidth": 0,
              "ticks": ""
             }
            },
            "type": "parcoords"
           }
          ],
          "pie": [
           {
            "automargin": true,
            "type": "pie"
           }
          ],
          "scatter": [
           {
            "fillpattern": {
             "fillmode": "overlay",
             "size": 10,
             "solidity": 0.2
            },
            "type": "scatter"
           }
          ],
          "scatter3d": [
           {
            "line": {
             "colorbar": {
              "outlinewidth": 0,
              "ticks": ""
             }
            },
            "marker": {
             "colorbar": {
              "outlinewidth": 0,
              "ticks": ""
             }
            },
            "type": "scatter3d"
           }
          ],
          "scattercarpet": [
           {
            "marker": {
             "colorbar": {
              "outlinewidth": 0,
              "ticks": ""
             }
            },
            "type": "scattercarpet"
           }
          ],
          "scattergeo": [
           {
            "marker": {
             "colorbar": {
              "outlinewidth": 0,
              "ticks": ""
             }
            },
            "type": "scattergeo"
           }
          ],
          "scattergl": [
           {
            "marker": {
             "colorbar": {
              "outlinewidth": 0,
              "ticks": ""
             }
            },
            "type": "scattergl"
           }
          ],
          "scattermapbox": [
           {
            "marker": {
             "colorbar": {
              "outlinewidth": 0,
              "ticks": ""
             }
            },
            "type": "scattermapbox"
           }
          ],
          "scatterpolar": [
           {
            "marker": {
             "colorbar": {
              "outlinewidth": 0,
              "ticks": ""
             }
            },
            "type": "scatterpolar"
           }
          ],
          "scatterpolargl": [
           {
            "marker": {
             "colorbar": {
              "outlinewidth": 0,
              "ticks": ""
             }
            },
            "type": "scatterpolargl"
           }
          ],
          "scatterternary": [
           {
            "marker": {
             "colorbar": {
              "outlinewidth": 0,
              "ticks": ""
             }
            },
            "type": "scatterternary"
           }
          ],
          "surface": [
           {
            "colorbar": {
             "outlinewidth": 0,
             "ticks": ""
            },
            "colorscale": [
             [
              0,
              "#0d0887"
             ],
             [
              0.1111111111111111,
              "#46039f"
             ],
             [
              0.2222222222222222,
              "#7201a8"
             ],
             [
              0.3333333333333333,
              "#9c179e"
             ],
             [
              0.4444444444444444,
              "#bd3786"
             ],
             [
              0.5555555555555556,
              "#d8576b"
             ],
             [
              0.6666666666666666,
              "#ed7953"
             ],
             [
              0.7777777777777778,
              "#fb9f3a"
             ],
             [
              0.8888888888888888,
              "#fdca26"
             ],
             [
              1,
              "#f0f921"
             ]
            ],
            "type": "surface"
           }
          ],
          "table": [
           {
            "cells": {
             "fill": {
              "color": "#EBF0F8"
             },
             "line": {
              "color": "white"
             }
            },
            "header": {
             "fill": {
              "color": "#C8D4E3"
             },
             "line": {
              "color": "white"
             }
            },
            "type": "table"
           }
          ]
         },
         "layout": {
          "annotationdefaults": {
           "arrowcolor": "#2a3f5f",
           "arrowhead": 0,
           "arrowwidth": 1
          },
          "autotypenumbers": "strict",
          "coloraxis": {
           "colorbar": {
            "outlinewidth": 0,
            "ticks": ""
           }
          },
          "colorscale": {
           "diverging": [
            [
             0,
             "#8e0152"
            ],
            [
             0.1,
             "#c51b7d"
            ],
            [
             0.2,
             "#de77ae"
            ],
            [
             0.3,
             "#f1b6da"
            ],
            [
             0.4,
             "#fde0ef"
            ],
            [
             0.5,
             "#f7f7f7"
            ],
            [
             0.6,
             "#e6f5d0"
            ],
            [
             0.7,
             "#b8e186"
            ],
            [
             0.8,
             "#7fbc41"
            ],
            [
             0.9,
             "#4d9221"
            ],
            [
             1,
             "#276419"
            ]
           ],
           "sequential": [
            [
             0,
             "#0d0887"
            ],
            [
             0.1111111111111111,
             "#46039f"
            ],
            [
             0.2222222222222222,
             "#7201a8"
            ],
            [
             0.3333333333333333,
             "#9c179e"
            ],
            [
             0.4444444444444444,
             "#bd3786"
            ],
            [
             0.5555555555555556,
             "#d8576b"
            ],
            [
             0.6666666666666666,
             "#ed7953"
            ],
            [
             0.7777777777777778,
             "#fb9f3a"
            ],
            [
             0.8888888888888888,
             "#fdca26"
            ],
            [
             1,
             "#f0f921"
            ]
           ],
           "sequentialminus": [
            [
             0,
             "#0d0887"
            ],
            [
             0.1111111111111111,
             "#46039f"
            ],
            [
             0.2222222222222222,
             "#7201a8"
            ],
            [
             0.3333333333333333,
             "#9c179e"
            ],
            [
             0.4444444444444444,
             "#bd3786"
            ],
            [
             0.5555555555555556,
             "#d8576b"
            ],
            [
             0.6666666666666666,
             "#ed7953"
            ],
            [
             0.7777777777777778,
             "#fb9f3a"
            ],
            [
             0.8888888888888888,
             "#fdca26"
            ],
            [
             1,
             "#f0f921"
            ]
           ]
          },
          "colorway": [
           "#636efa",
           "#EF553B",
           "#00cc96",
           "#ab63fa",
           "#FFA15A",
           "#19d3f3",
           "#FF6692",
           "#B6E880",
           "#FF97FF",
           "#FECB52"
          ],
          "font": {
           "color": "#2a3f5f"
          },
          "geo": {
           "bgcolor": "white",
           "lakecolor": "white",
           "landcolor": "#E5ECF6",
           "showlakes": true,
           "showland": true,
           "subunitcolor": "white"
          },
          "hoverlabel": {
           "align": "left"
          },
          "hovermode": "closest",
          "mapbox": {
           "style": "light"
          },
          "paper_bgcolor": "white",
          "plot_bgcolor": "#E5ECF6",
          "polar": {
           "angularaxis": {
            "gridcolor": "white",
            "linecolor": "white",
            "ticks": ""
           },
           "bgcolor": "#E5ECF6",
           "radialaxis": {
            "gridcolor": "white",
            "linecolor": "white",
            "ticks": ""
           }
          },
          "scene": {
           "xaxis": {
            "backgroundcolor": "#E5ECF6",
            "gridcolor": "white",
            "gridwidth": 2,
            "linecolor": "white",
            "showbackground": true,
            "ticks": "",
            "zerolinecolor": "white"
           },
           "yaxis": {
            "backgroundcolor": "#E5ECF6",
            "gridcolor": "white",
            "gridwidth": 2,
            "linecolor": "white",
            "showbackground": true,
            "ticks": "",
            "zerolinecolor": "white"
           },
           "zaxis": {
            "backgroundcolor": "#E5ECF6",
            "gridcolor": "white",
            "gridwidth": 2,
            "linecolor": "white",
            "showbackground": true,
            "ticks": "",
            "zerolinecolor": "white"
           }
          },
          "shapedefaults": {
           "line": {
            "color": "#2a3f5f"
           }
          },
          "ternary": {
           "aaxis": {
            "gridcolor": "white",
            "linecolor": "white",
            "ticks": ""
           },
           "baxis": {
            "gridcolor": "white",
            "linecolor": "white",
            "ticks": ""
           },
           "bgcolor": "#E5ECF6",
           "caxis": {
            "gridcolor": "white",
            "linecolor": "white",
            "ticks": ""
           }
          },
          "title": {
           "x": 0.05
          },
          "xaxis": {
           "automargin": true,
           "gridcolor": "white",
           "linecolor": "white",
           "ticks": "",
           "title": {
            "standoff": 15
           },
           "zerolinecolor": "white",
           "zerolinewidth": 2
          },
          "yaxis": {
           "automargin": true,
           "gridcolor": "white",
           "linecolor": "white",
           "ticks": "",
           "title": {
            "standoff": 15
           },
           "zerolinecolor": "white",
           "zerolinewidth": 2
          }
         }
        },
        "title": {
         "text": "Countries with more than one million deaths"
        },
        "xaxis": {
         "anchor": "y",
         "domain": [
          0,
          1
         ],
         "title": {
          "text": "Country"
         }
        },
        "yaxis": {
         "anchor": "x",
         "domain": [
          0,
          1
         ],
         "title": {
          "text": "Total Deaths"
         }
        }
       }
      }
     },
     "metadata": {},
     "output_type": "display_data"
    }
   ],
   "source": [
    "# %%\n",
    "figure = px.bar(data[data[\"Total Deaths\"] > 1e6], \n",
    "                y = 'Total Deaths', \n",
    "                x = 'Country',\n",
    "                title = \"Countries with more than one million deaths\")\n",
    "figure.show()"
   ]
  },
  {
   "cell_type": "markdown",
   "metadata": {},
   "source": [
    "Now let's compare the total cases vs total deaths for the countries with the highest number of cases."
   ]
  },
  {
   "cell_type": "code",
   "execution_count": 53,
   "metadata": {},
   "outputs": [
    {
     "data": {
      "application/vnd.plotly.v1+json": {
       "config": {
        "plotlyServerURL": "https://plot.ly"
       },
       "data": [
        {
         "marker": {
          "color": "indianred"
         },
         "name": "Total Cases",
         "type": "bar",
         "x": [
          "United States",
          "Brazil",
          "India",
          "Russia",
          "Peru",
          "Mexico",
          "Spain",
          "South Africa",
          "Colombia",
          "United Kingdom",
          "Iran",
          "Chile",
          "Italy",
          "France",
          "Argentina",
          "Germany",
          "Turkey",
          "Saudi Arabia",
          "Pakistan",
          "Bangladesh"
         ],
         "y": [
          746014098,
          425704517,
          407771615,
          132888951,
          74882695,
          74347548,
          73717676,
          63027659,
          60543682,
          59475032,
          52421884,
          51268034,
          50752853,
          50084335,
          47155234,
          42447678,
          41431948,
          38585191,
          37738077,
          35266178
         ]
        },
        {
         "marker": {
          "color": "lightsalmon"
         },
         "name": "Total Deaths",
         "type": "bar",
         "x": [
          "United States",
          "Brazil",
          "India",
          "Russia",
          "Peru",
          "Mexico",
          "Spain",
          "South Africa",
          "Colombia",
          "United Kingdom",
          "Iran",
          "Chile",
          "Italy",
          "France",
          "Argentina",
          "Germany",
          "Turkey",
          "Saudi Arabia",
          "Pakistan",
          "Bangladesh"
         ],
         "y": [
          26477574,
          14340567,
          7247327,
          2131571,
          3020038,
          7295850,
          5510624,
          1357682,
          1936134,
          7249573,
          2914070,
          1283880,
          6664225,
          5633444,
          1077426,
          1640691,
          1049757,
          442507,
          789557,
          484534
         ]
        }
       ],
       "layout": {
        "barmode": "group",
        "template": {
         "data": {
          "bar": [
           {
            "error_x": {
             "color": "#2a3f5f"
            },
            "error_y": {
             "color": "#2a3f5f"
            },
            "marker": {
             "line": {
              "color": "#E5ECF6",
              "width": 0.5
             },
             "pattern": {
              "fillmode": "overlay",
              "size": 10,
              "solidity": 0.2
             }
            },
            "type": "bar"
           }
          ],
          "barpolar": [
           {
            "marker": {
             "line": {
              "color": "#E5ECF6",
              "width": 0.5
             },
             "pattern": {
              "fillmode": "overlay",
              "size": 10,
              "solidity": 0.2
             }
            },
            "type": "barpolar"
           }
          ],
          "carpet": [
           {
            "aaxis": {
             "endlinecolor": "#2a3f5f",
             "gridcolor": "white",
             "linecolor": "white",
             "minorgridcolor": "white",
             "startlinecolor": "#2a3f5f"
            },
            "baxis": {
             "endlinecolor": "#2a3f5f",
             "gridcolor": "white",
             "linecolor": "white",
             "minorgridcolor": "white",
             "startlinecolor": "#2a3f5f"
            },
            "type": "carpet"
           }
          ],
          "choropleth": [
           {
            "colorbar": {
             "outlinewidth": 0,
             "ticks": ""
            },
            "type": "choropleth"
           }
          ],
          "contour": [
           {
            "colorbar": {
             "outlinewidth": 0,
             "ticks": ""
            },
            "colorscale": [
             [
              0,
              "#0d0887"
             ],
             [
              0.1111111111111111,
              "#46039f"
             ],
             [
              0.2222222222222222,
              "#7201a8"
             ],
             [
              0.3333333333333333,
              "#9c179e"
             ],
             [
              0.4444444444444444,
              "#bd3786"
             ],
             [
              0.5555555555555556,
              "#d8576b"
             ],
             [
              0.6666666666666666,
              "#ed7953"
             ],
             [
              0.7777777777777778,
              "#fb9f3a"
             ],
             [
              0.8888888888888888,
              "#fdca26"
             ],
             [
              1,
              "#f0f921"
             ]
            ],
            "type": "contour"
           }
          ],
          "contourcarpet": [
           {
            "colorbar": {
             "outlinewidth": 0,
             "ticks": ""
            },
            "type": "contourcarpet"
           }
          ],
          "heatmap": [
           {
            "colorbar": {
             "outlinewidth": 0,
             "ticks": ""
            },
            "colorscale": [
             [
              0,
              "#0d0887"
             ],
             [
              0.1111111111111111,
              "#46039f"
             ],
             [
              0.2222222222222222,
              "#7201a8"
             ],
             [
              0.3333333333333333,
              "#9c179e"
             ],
             [
              0.4444444444444444,
              "#bd3786"
             ],
             [
              0.5555555555555556,
              "#d8576b"
             ],
             [
              0.6666666666666666,
              "#ed7953"
             ],
             [
              0.7777777777777778,
              "#fb9f3a"
             ],
             [
              0.8888888888888888,
              "#fdca26"
             ],
             [
              1,
              "#f0f921"
             ]
            ],
            "type": "heatmap"
           }
          ],
          "heatmapgl": [
           {
            "colorbar": {
             "outlinewidth": 0,
             "ticks": ""
            },
            "colorscale": [
             [
              0,
              "#0d0887"
             ],
             [
              0.1111111111111111,
              "#46039f"
             ],
             [
              0.2222222222222222,
              "#7201a8"
             ],
             [
              0.3333333333333333,
              "#9c179e"
             ],
             [
              0.4444444444444444,
              "#bd3786"
             ],
             [
              0.5555555555555556,
              "#d8576b"
             ],
             [
              0.6666666666666666,
              "#ed7953"
             ],
             [
              0.7777777777777778,
              "#fb9f3a"
             ],
             [
              0.8888888888888888,
              "#fdca26"
             ],
             [
              1,
              "#f0f921"
             ]
            ],
            "type": "heatmapgl"
           }
          ],
          "histogram": [
           {
            "marker": {
             "pattern": {
              "fillmode": "overlay",
              "size": 10,
              "solidity": 0.2
             }
            },
            "type": "histogram"
           }
          ],
          "histogram2d": [
           {
            "colorbar": {
             "outlinewidth": 0,
             "ticks": ""
            },
            "colorscale": [
             [
              0,
              "#0d0887"
             ],
             [
              0.1111111111111111,
              "#46039f"
             ],
             [
              0.2222222222222222,
              "#7201a8"
             ],
             [
              0.3333333333333333,
              "#9c179e"
             ],
             [
              0.4444444444444444,
              "#bd3786"
             ],
             [
              0.5555555555555556,
              "#d8576b"
             ],
             [
              0.6666666666666666,
              "#ed7953"
             ],
             [
              0.7777777777777778,
              "#fb9f3a"
             ],
             [
              0.8888888888888888,
              "#fdca26"
             ],
             [
              1,
              "#f0f921"
             ]
            ],
            "type": "histogram2d"
           }
          ],
          "histogram2dcontour": [
           {
            "colorbar": {
             "outlinewidth": 0,
             "ticks": ""
            },
            "colorscale": [
             [
              0,
              "#0d0887"
             ],
             [
              0.1111111111111111,
              "#46039f"
             ],
             [
              0.2222222222222222,
              "#7201a8"
             ],
             [
              0.3333333333333333,
              "#9c179e"
             ],
             [
              0.4444444444444444,
              "#bd3786"
             ],
             [
              0.5555555555555556,
              "#d8576b"
             ],
             [
              0.6666666666666666,
              "#ed7953"
             ],
             [
              0.7777777777777778,
              "#fb9f3a"
             ],
             [
              0.8888888888888888,
              "#fdca26"
             ],
             [
              1,
              "#f0f921"
             ]
            ],
            "type": "histogram2dcontour"
           }
          ],
          "mesh3d": [
           {
            "colorbar": {
             "outlinewidth": 0,
             "ticks": ""
            },
            "type": "mesh3d"
           }
          ],
          "parcoords": [
           {
            "line": {
             "colorbar": {
              "outlinewidth": 0,
              "ticks": ""
             }
            },
            "type": "parcoords"
           }
          ],
          "pie": [
           {
            "automargin": true,
            "type": "pie"
           }
          ],
          "scatter": [
           {
            "fillpattern": {
             "fillmode": "overlay",
             "size": 10,
             "solidity": 0.2
            },
            "type": "scatter"
           }
          ],
          "scatter3d": [
           {
            "line": {
             "colorbar": {
              "outlinewidth": 0,
              "ticks": ""
             }
            },
            "marker": {
             "colorbar": {
              "outlinewidth": 0,
              "ticks": ""
             }
            },
            "type": "scatter3d"
           }
          ],
          "scattercarpet": [
           {
            "marker": {
             "colorbar": {
              "outlinewidth": 0,
              "ticks": ""
             }
            },
            "type": "scattercarpet"
           }
          ],
          "scattergeo": [
           {
            "marker": {
             "colorbar": {
              "outlinewidth": 0,
              "ticks": ""
             }
            },
            "type": "scattergeo"
           }
          ],
          "scattergl": [
           {
            "marker": {
             "colorbar": {
              "outlinewidth": 0,
              "ticks": ""
             }
            },
            "type": "scattergl"
           }
          ],
          "scattermapbox": [
           {
            "marker": {
             "colorbar": {
              "outlinewidth": 0,
              "ticks": ""
             }
            },
            "type": "scattermapbox"
           }
          ],
          "scatterpolar": [
           {
            "marker": {
             "colorbar": {
              "outlinewidth": 0,
              "ticks": ""
             }
            },
            "type": "scatterpolar"
           }
          ],
          "scatterpolargl": [
           {
            "marker": {
             "colorbar": {
              "outlinewidth": 0,
              "ticks": ""
             }
            },
            "type": "scatterpolargl"
           }
          ],
          "scatterternary": [
           {
            "marker": {
             "colorbar": {
              "outlinewidth": 0,
              "ticks": ""
             }
            },
            "type": "scatterternary"
           }
          ],
          "surface": [
           {
            "colorbar": {
             "outlinewidth": 0,
             "ticks": ""
            },
            "colorscale": [
             [
              0,
              "#0d0887"
             ],
             [
              0.1111111111111111,
              "#46039f"
             ],
             [
              0.2222222222222222,
              "#7201a8"
             ],
             [
              0.3333333333333333,
              "#9c179e"
             ],
             [
              0.4444444444444444,
              "#bd3786"
             ],
             [
              0.5555555555555556,
              "#d8576b"
             ],
             [
              0.6666666666666666,
              "#ed7953"
             ],
             [
              0.7777777777777778,
              "#fb9f3a"
             ],
             [
              0.8888888888888888,
              "#fdca26"
             ],
             [
              1,
              "#f0f921"
             ]
            ],
            "type": "surface"
           }
          ],
          "table": [
           {
            "cells": {
             "fill": {
              "color": "#EBF0F8"
             },
             "line": {
              "color": "white"
             }
            },
            "header": {
             "fill": {
              "color": "#C8D4E3"
             },
             "line": {
              "color": "white"
             }
            },
            "type": "table"
           }
          ]
         },
         "layout": {
          "annotationdefaults": {
           "arrowcolor": "#2a3f5f",
           "arrowhead": 0,
           "arrowwidth": 1
          },
          "autotypenumbers": "strict",
          "coloraxis": {
           "colorbar": {
            "outlinewidth": 0,
            "ticks": ""
           }
          },
          "colorscale": {
           "diverging": [
            [
             0,
             "#8e0152"
            ],
            [
             0.1,
             "#c51b7d"
            ],
            [
             0.2,
             "#de77ae"
            ],
            [
             0.3,
             "#f1b6da"
            ],
            [
             0.4,
             "#fde0ef"
            ],
            [
             0.5,
             "#f7f7f7"
            ],
            [
             0.6,
             "#e6f5d0"
            ],
            [
             0.7,
             "#b8e186"
            ],
            [
             0.8,
             "#7fbc41"
            ],
            [
             0.9,
             "#4d9221"
            ],
            [
             1,
             "#276419"
            ]
           ],
           "sequential": [
            [
             0,
             "#0d0887"
            ],
            [
             0.1111111111111111,
             "#46039f"
            ],
            [
             0.2222222222222222,
             "#7201a8"
            ],
            [
             0.3333333333333333,
             "#9c179e"
            ],
            [
             0.4444444444444444,
             "#bd3786"
            ],
            [
             0.5555555555555556,
             "#d8576b"
            ],
            [
             0.6666666666666666,
             "#ed7953"
            ],
            [
             0.7777777777777778,
             "#fb9f3a"
            ],
            [
             0.8888888888888888,
             "#fdca26"
            ],
            [
             1,
             "#f0f921"
            ]
           ],
           "sequentialminus": [
            [
             0,
             "#0d0887"
            ],
            [
             0.1111111111111111,
             "#46039f"
            ],
            [
             0.2222222222222222,
             "#7201a8"
            ],
            [
             0.3333333333333333,
             "#9c179e"
            ],
            [
             0.4444444444444444,
             "#bd3786"
            ],
            [
             0.5555555555555556,
             "#d8576b"
            ],
            [
             0.6666666666666666,
             "#ed7953"
            ],
            [
             0.7777777777777778,
             "#fb9f3a"
            ],
            [
             0.8888888888888888,
             "#fdca26"
            ],
            [
             1,
             "#f0f921"
            ]
           ]
          },
          "colorway": [
           "#636efa",
           "#EF553B",
           "#00cc96",
           "#ab63fa",
           "#FFA15A",
           "#19d3f3",
           "#FF6692",
           "#B6E880",
           "#FF97FF",
           "#FECB52"
          ],
          "font": {
           "color": "#2a3f5f"
          },
          "geo": {
           "bgcolor": "white",
           "lakecolor": "white",
           "landcolor": "#E5ECF6",
           "showlakes": true,
           "showland": true,
           "subunitcolor": "white"
          },
          "hoverlabel": {
           "align": "left"
          },
          "hovermode": "closest",
          "mapbox": {
           "style": "light"
          },
          "paper_bgcolor": "white",
          "plot_bgcolor": "#E5ECF6",
          "polar": {
           "angularaxis": {
            "gridcolor": "white",
            "linecolor": "white",
            "ticks": ""
           },
           "bgcolor": "#E5ECF6",
           "radialaxis": {
            "gridcolor": "white",
            "linecolor": "white",
            "ticks": ""
           }
          },
          "scene": {
           "xaxis": {
            "backgroundcolor": "#E5ECF6",
            "gridcolor": "white",
            "gridwidth": 2,
            "linecolor": "white",
            "showbackground": true,
            "ticks": "",
            "zerolinecolor": "white"
           },
           "yaxis": {
            "backgroundcolor": "#E5ECF6",
            "gridcolor": "white",
            "gridwidth": 2,
            "linecolor": "white",
            "showbackground": true,
            "ticks": "",
            "zerolinecolor": "white"
           },
           "zaxis": {
            "backgroundcolor": "#E5ECF6",
            "gridcolor": "white",
            "gridwidth": 2,
            "linecolor": "white",
            "showbackground": true,
            "ticks": "",
            "zerolinecolor": "white"
           }
          },
          "shapedefaults": {
           "line": {
            "color": "#2a3f5f"
           }
          },
          "ternary": {
           "aaxis": {
            "gridcolor": "white",
            "linecolor": "white",
            "ticks": ""
           },
           "baxis": {
            "gridcolor": "white",
            "linecolor": "white",
            "ticks": ""
           },
           "bgcolor": "#E5ECF6",
           "caxis": {
            "gridcolor": "white",
            "linecolor": "white",
            "ticks": ""
           }
          },
          "title": {
           "x": 0.05
          },
          "xaxis": {
           "automargin": true,
           "gridcolor": "white",
           "linecolor": "white",
           "ticks": "",
           "title": {
            "standoff": 15
           },
           "zerolinecolor": "white",
           "zerolinewidth": 2
          },
          "yaxis": {
           "automargin": true,
           "gridcolor": "white",
           "linecolor": "white",
           "ticks": "",
           "title": {
            "standoff": 15
           },
           "zerolinecolor": "white",
           "zerolinewidth": 2
          }
         }
        },
        "xaxis": {
         "tickangle": -45
        }
       }
      }
     },
     "metadata": {},
     "output_type": "display_data"
    }
   ],
   "source": [
    "# %%\n",
    "top_performers = data.head(20)\n",
    "fig = go.Figure()\n",
    "fig.add_trace(go.Bar(\n",
    "    x = top_performers[\"Country\"],\n",
    "    y = top_performers[\"Total Cases\"],\n",
    "    name='Total Cases',\n",
    "    marker_color='indianred'\n",
    "))\n",
    "fig.add_trace(go.Bar(\n",
    "    x = top_performers[\"Country\"],\n",
    "    y = top_performers[\"Total Deaths\"],\n",
    "    name='Total Deaths',\n",
    "    marker_color='lightsalmon'\n",
    "))\n",
    "fig.update_layout(barmode='group', xaxis_tickangle = -45)\n",
    "fig.show()"
   ]
  },
  {
   "cell_type": "markdown",
   "metadata": {},
   "source": [
    "It might help us to look at these as a percentage."
   ]
  },
  {
   "cell_type": "code",
   "execution_count": 55,
   "metadata": {},
   "outputs": [
    {
     "data": {
      "application/vnd.plotly.v1+json": {
       "config": {
        "plotlyServerURL": "https://plot.ly"
       },
       "data": [
        {
         "alignmentgroup": "True",
         "hovertemplate": "Country=%{x}<br>percentage_of_deaths=%{y}<extra></extra>",
         "legendgroup": "",
         "marker": {
          "color": "#636efa",
          "pattern": {
           "shape": ""
          }
         },
         "name": "",
         "offsetgroup": "",
         "orientation": "v",
         "showlegend": false,
         "textposition": "auto",
         "type": "bar",
         "x": [
          "Italy",
          "United Kingdom",
          "Belgium",
          "France",
          "Mexico",
          "Netherlands",
          "Chad",
          "Sweden",
          "Ecuador",
          "Spain",
          "Canada",
          "Sint Maarten (Dutch part)",
          "Hungary",
          "Liberia",
          "Sudan",
          "Ireland",
          "Niger",
          "Bermuda",
          "Iran",
          "Barbados"
         ],
         "xaxis": "x",
         "y": [
          13.130739665019423,
          12.189271289505148,
          11.837846227485883,
          11.24791613984692,
          9.813168283639966,
          8.769805296519921,
          7.92097189520863,
          7.901380247653485,
          7.521460733913411,
          7.475308906916707,
          6.963558302037845,
          6.550618415025195,
          6.4455833866846755,
          6.309106830122592,
          6.181077157516027,
          5.920094629602134,
          5.838642250647571,
          5.648289236736391,
          5.558880714779347,
          5.284422753820306
         ],
         "yaxis": "y"
        }
       ],
       "layout": {
        "barmode": "relative",
        "legend": {
         "tracegroupgap": 0
        },
        "template": {
         "data": {
          "bar": [
           {
            "error_x": {
             "color": "#2a3f5f"
            },
            "error_y": {
             "color": "#2a3f5f"
            },
            "marker": {
             "line": {
              "color": "#E5ECF6",
              "width": 0.5
             },
             "pattern": {
              "fillmode": "overlay",
              "size": 10,
              "solidity": 0.2
             }
            },
            "type": "bar"
           }
          ],
          "barpolar": [
           {
            "marker": {
             "line": {
              "color": "#E5ECF6",
              "width": 0.5
             },
             "pattern": {
              "fillmode": "overlay",
              "size": 10,
              "solidity": 0.2
             }
            },
            "type": "barpolar"
           }
          ],
          "carpet": [
           {
            "aaxis": {
             "endlinecolor": "#2a3f5f",
             "gridcolor": "white",
             "linecolor": "white",
             "minorgridcolor": "white",
             "startlinecolor": "#2a3f5f"
            },
            "baxis": {
             "endlinecolor": "#2a3f5f",
             "gridcolor": "white",
             "linecolor": "white",
             "minorgridcolor": "white",
             "startlinecolor": "#2a3f5f"
            },
            "type": "carpet"
           }
          ],
          "choropleth": [
           {
            "colorbar": {
             "outlinewidth": 0,
             "ticks": ""
            },
            "type": "choropleth"
           }
          ],
          "contour": [
           {
            "colorbar": {
             "outlinewidth": 0,
             "ticks": ""
            },
            "colorscale": [
             [
              0,
              "#0d0887"
             ],
             [
              0.1111111111111111,
              "#46039f"
             ],
             [
              0.2222222222222222,
              "#7201a8"
             ],
             [
              0.3333333333333333,
              "#9c179e"
             ],
             [
              0.4444444444444444,
              "#bd3786"
             ],
             [
              0.5555555555555556,
              "#d8576b"
             ],
             [
              0.6666666666666666,
              "#ed7953"
             ],
             [
              0.7777777777777778,
              "#fb9f3a"
             ],
             [
              0.8888888888888888,
              "#fdca26"
             ],
             [
              1,
              "#f0f921"
             ]
            ],
            "type": "contour"
           }
          ],
          "contourcarpet": [
           {
            "colorbar": {
             "outlinewidth": 0,
             "ticks": ""
            },
            "type": "contourcarpet"
           }
          ],
          "heatmap": [
           {
            "colorbar": {
             "outlinewidth": 0,
             "ticks": ""
            },
            "colorscale": [
             [
              0,
              "#0d0887"
             ],
             [
              0.1111111111111111,
              "#46039f"
             ],
             [
              0.2222222222222222,
              "#7201a8"
             ],
             [
              0.3333333333333333,
              "#9c179e"
             ],
             [
              0.4444444444444444,
              "#bd3786"
             ],
             [
              0.5555555555555556,
              "#d8576b"
             ],
             [
              0.6666666666666666,
              "#ed7953"
             ],
             [
              0.7777777777777778,
              "#fb9f3a"
             ],
             [
              0.8888888888888888,
              "#fdca26"
             ],
             [
              1,
              "#f0f921"
             ]
            ],
            "type": "heatmap"
           }
          ],
          "heatmapgl": [
           {
            "colorbar": {
             "outlinewidth": 0,
             "ticks": ""
            },
            "colorscale": [
             [
              0,
              "#0d0887"
             ],
             [
              0.1111111111111111,
              "#46039f"
             ],
             [
              0.2222222222222222,
              "#7201a8"
             ],
             [
              0.3333333333333333,
              "#9c179e"
             ],
             [
              0.4444444444444444,
              "#bd3786"
             ],
             [
              0.5555555555555556,
              "#d8576b"
             ],
             [
              0.6666666666666666,
              "#ed7953"
             ],
             [
              0.7777777777777778,
              "#fb9f3a"
             ],
             [
              0.8888888888888888,
              "#fdca26"
             ],
             [
              1,
              "#f0f921"
             ]
            ],
            "type": "heatmapgl"
           }
          ],
          "histogram": [
           {
            "marker": {
             "pattern": {
              "fillmode": "overlay",
              "size": 10,
              "solidity": 0.2
             }
            },
            "type": "histogram"
           }
          ],
          "histogram2d": [
           {
            "colorbar": {
             "outlinewidth": 0,
             "ticks": ""
            },
            "colorscale": [
             [
              0,
              "#0d0887"
             ],
             [
              0.1111111111111111,
              "#46039f"
             ],
             [
              0.2222222222222222,
              "#7201a8"
             ],
             [
              0.3333333333333333,
              "#9c179e"
             ],
             [
              0.4444444444444444,
              "#bd3786"
             ],
             [
              0.5555555555555556,
              "#d8576b"
             ],
             [
              0.6666666666666666,
              "#ed7953"
             ],
             [
              0.7777777777777778,
              "#fb9f3a"
             ],
             [
              0.8888888888888888,
              "#fdca26"
             ],
             [
              1,
              "#f0f921"
             ]
            ],
            "type": "histogram2d"
           }
          ],
          "histogram2dcontour": [
           {
            "colorbar": {
             "outlinewidth": 0,
             "ticks": ""
            },
            "colorscale": [
             [
              0,
              "#0d0887"
             ],
             [
              0.1111111111111111,
              "#46039f"
             ],
             [
              0.2222222222222222,
              "#7201a8"
             ],
             [
              0.3333333333333333,
              "#9c179e"
             ],
             [
              0.4444444444444444,
              "#bd3786"
             ],
             [
              0.5555555555555556,
              "#d8576b"
             ],
             [
              0.6666666666666666,
              "#ed7953"
             ],
             [
              0.7777777777777778,
              "#fb9f3a"
             ],
             [
              0.8888888888888888,
              "#fdca26"
             ],
             [
              1,
              "#f0f921"
             ]
            ],
            "type": "histogram2dcontour"
           }
          ],
          "mesh3d": [
           {
            "colorbar": {
             "outlinewidth": 0,
             "ticks": ""
            },
            "type": "mesh3d"
           }
          ],
          "parcoords": [
           {
            "line": {
             "colorbar": {
              "outlinewidth": 0,
              "ticks": ""
             }
            },
            "type": "parcoords"
           }
          ],
          "pie": [
           {
            "automargin": true,
            "type": "pie"
           }
          ],
          "scatter": [
           {
            "fillpattern": {
             "fillmode": "overlay",
             "size": 10,
             "solidity": 0.2
            },
            "type": "scatter"
           }
          ],
          "scatter3d": [
           {
            "line": {
             "colorbar": {
              "outlinewidth": 0,
              "ticks": ""
             }
            },
            "marker": {
             "colorbar": {
              "outlinewidth": 0,
              "ticks": ""
             }
            },
            "type": "scatter3d"
           }
          ],
          "scattercarpet": [
           {
            "marker": {
             "colorbar": {
              "outlinewidth": 0,
              "ticks": ""
             }
            },
            "type": "scattercarpet"
           }
          ],
          "scattergeo": [
           {
            "marker": {
             "colorbar": {
              "outlinewidth": 0,
              "ticks": ""
             }
            },
            "type": "scattergeo"
           }
          ],
          "scattergl": [
           {
            "marker": {
             "colorbar": {
              "outlinewidth": 0,
              "ticks": ""
             }
            },
            "type": "scattergl"
           }
          ],
          "scattermapbox": [
           {
            "marker": {
             "colorbar": {
              "outlinewidth": 0,
              "ticks": ""
             }
            },
            "type": "scattermapbox"
           }
          ],
          "scatterpolar": [
           {
            "marker": {
             "colorbar": {
              "outlinewidth": 0,
              "ticks": ""
             }
            },
            "type": "scatterpolar"
           }
          ],
          "scatterpolargl": [
           {
            "marker": {
             "colorbar": {
              "outlinewidth": 0,
              "ticks": ""
             }
            },
            "type": "scatterpolargl"
           }
          ],
          "scatterternary": [
           {
            "marker": {
             "colorbar": {
              "outlinewidth": 0,
              "ticks": ""
             }
            },
            "type": "scatterternary"
           }
          ],
          "surface": [
           {
            "colorbar": {
             "outlinewidth": 0,
             "ticks": ""
            },
            "colorscale": [
             [
              0,
              "#0d0887"
             ],
             [
              0.1111111111111111,
              "#46039f"
             ],
             [
              0.2222222222222222,
              "#7201a8"
             ],
             [
              0.3333333333333333,
              "#9c179e"
             ],
             [
              0.4444444444444444,
              "#bd3786"
             ],
             [
              0.5555555555555556,
              "#d8576b"
             ],
             [
              0.6666666666666666,
              "#ed7953"
             ],
             [
              0.7777777777777778,
              "#fb9f3a"
             ],
             [
              0.8888888888888888,
              "#fdca26"
             ],
             [
              1,
              "#f0f921"
             ]
            ],
            "type": "surface"
           }
          ],
          "table": [
           {
            "cells": {
             "fill": {
              "color": "#EBF0F8"
             },
             "line": {
              "color": "white"
             }
            },
            "header": {
             "fill": {
              "color": "#C8D4E3"
             },
             "line": {
              "color": "white"
             }
            },
            "type": "table"
           }
          ]
         },
         "layout": {
          "annotationdefaults": {
           "arrowcolor": "#2a3f5f",
           "arrowhead": 0,
           "arrowwidth": 1
          },
          "autotypenumbers": "strict",
          "coloraxis": {
           "colorbar": {
            "outlinewidth": 0,
            "ticks": ""
           }
          },
          "colorscale": {
           "diverging": [
            [
             0,
             "#8e0152"
            ],
            [
             0.1,
             "#c51b7d"
            ],
            [
             0.2,
             "#de77ae"
            ],
            [
             0.3,
             "#f1b6da"
            ],
            [
             0.4,
             "#fde0ef"
            ],
            [
             0.5,
             "#f7f7f7"
            ],
            [
             0.6,
             "#e6f5d0"
            ],
            [
             0.7,
             "#b8e186"
            ],
            [
             0.8,
             "#7fbc41"
            ],
            [
             0.9,
             "#4d9221"
            ],
            [
             1,
             "#276419"
            ]
           ],
           "sequential": [
            [
             0,
             "#0d0887"
            ],
            [
             0.1111111111111111,
             "#46039f"
            ],
            [
             0.2222222222222222,
             "#7201a8"
            ],
            [
             0.3333333333333333,
             "#9c179e"
            ],
            [
             0.4444444444444444,
             "#bd3786"
            ],
            [
             0.5555555555555556,
             "#d8576b"
            ],
            [
             0.6666666666666666,
             "#ed7953"
            ],
            [
             0.7777777777777778,
             "#fb9f3a"
            ],
            [
             0.8888888888888888,
             "#fdca26"
            ],
            [
             1,
             "#f0f921"
            ]
           ],
           "sequentialminus": [
            [
             0,
             "#0d0887"
            ],
            [
             0.1111111111111111,
             "#46039f"
            ],
            [
             0.2222222222222222,
             "#7201a8"
            ],
            [
             0.3333333333333333,
             "#9c179e"
            ],
            [
             0.4444444444444444,
             "#bd3786"
            ],
            [
             0.5555555555555556,
             "#d8576b"
            ],
            [
             0.6666666666666666,
             "#ed7953"
            ],
            [
             0.7777777777777778,
             "#fb9f3a"
            ],
            [
             0.8888888888888888,
             "#fdca26"
            ],
            [
             1,
             "#f0f921"
            ]
           ]
          },
          "colorway": [
           "#636efa",
           "#EF553B",
           "#00cc96",
           "#ab63fa",
           "#FFA15A",
           "#19d3f3",
           "#FF6692",
           "#B6E880",
           "#FF97FF",
           "#FECB52"
          ],
          "font": {
           "color": "#2a3f5f"
          },
          "geo": {
           "bgcolor": "white",
           "lakecolor": "white",
           "landcolor": "#E5ECF6",
           "showlakes": true,
           "showland": true,
           "subunitcolor": "white"
          },
          "hoverlabel": {
           "align": "left"
          },
          "hovermode": "closest",
          "mapbox": {
           "style": "light"
          },
          "paper_bgcolor": "white",
          "plot_bgcolor": "#E5ECF6",
          "polar": {
           "angularaxis": {
            "gridcolor": "white",
            "linecolor": "white",
            "ticks": ""
           },
           "bgcolor": "#E5ECF6",
           "radialaxis": {
            "gridcolor": "white",
            "linecolor": "white",
            "ticks": ""
           }
          },
          "scene": {
           "xaxis": {
            "backgroundcolor": "#E5ECF6",
            "gridcolor": "white",
            "gridwidth": 2,
            "linecolor": "white",
            "showbackground": true,
            "ticks": "",
            "zerolinecolor": "white"
           },
           "yaxis": {
            "backgroundcolor": "#E5ECF6",
            "gridcolor": "white",
            "gridwidth": 2,
            "linecolor": "white",
            "showbackground": true,
            "ticks": "",
            "zerolinecolor": "white"
           },
           "zaxis": {
            "backgroundcolor": "#E5ECF6",
            "gridcolor": "white",
            "gridwidth": 2,
            "linecolor": "white",
            "showbackground": true,
            "ticks": "",
            "zerolinecolor": "white"
           }
          },
          "shapedefaults": {
           "line": {
            "color": "#2a3f5f"
           }
          },
          "ternary": {
           "aaxis": {
            "gridcolor": "white",
            "linecolor": "white",
            "ticks": ""
           },
           "baxis": {
            "gridcolor": "white",
            "linecolor": "white",
            "ticks": ""
           },
           "bgcolor": "#E5ECF6",
           "caxis": {
            "gridcolor": "white",
            "linecolor": "white",
            "ticks": ""
           }
          },
          "title": {
           "x": 0.05
          },
          "xaxis": {
           "automargin": true,
           "gridcolor": "white",
           "linecolor": "white",
           "ticks": "",
           "title": {
            "standoff": 15
           },
           "zerolinecolor": "white",
           "zerolinewidth": 2
          },
          "yaxis": {
           "automargin": true,
           "gridcolor": "white",
           "linecolor": "white",
           "ticks": "",
           "title": {
            "standoff": 15
           },
           "zerolinecolor": "white",
           "zerolinewidth": 2
          }
         }
        },
        "title": {
         "text": "Highest number of deaths as a percentage of detected covid cases"
        },
        "xaxis": {
         "anchor": "y",
         "domain": [
          0,
          1
         ],
         "title": {
          "text": "Country"
         }
        },
        "yaxis": {
         "anchor": "x",
         "domain": [
          0,
          1
         ],
         "title": {
          "text": "percentage_of_deaths"
         }
        }
       }
      }
     },
     "metadata": {},
     "output_type": "display_data"
    }
   ],
   "source": [
    "data[\"percentage_of_deaths\"] = (data[\"Total Deaths\"] / data[\"Total Cases\"]) * 100\n",
    "figure = px.bar(data.sort_values(by = [\"percentage_of_deaths\"], ascending=False).head(20), \n",
    "                y = 'percentage_of_deaths', \n",
    "                x = 'Country',\n",
    "                title = \"Highest number of deaths as a percentage of detected covid cases\")\n",
    "figure.show()"
   ]
  },
  {
   "cell_type": "markdown",
   "metadata": {},
   "source": [
    "This is unsurprising - there was news all over media of how terribly Italy had done at managing Covid-19, to the point where everything in the country was shut down and there were mass deaths.\\\n",
    "The next three top countries leading at percentage of deaths are also western European countries - some of these countries didn't take covid as seriously and refused to regiment a lockdown.\\\n",
    "Later we will look at the stringency index, an index of how strictly countries abided by lockdown rules, and see if that correlates with these percentages.\\\n",
    "For now, let as look at the percentage of deaths vs detected cases all over the world."
   ]
  },
  {
   "cell_type": "code",
   "execution_count": 58,
   "metadata": {},
   "outputs": [
    {
     "data": {
      "application/vnd.plotly.v1+json": {
       "config": {
        "plotlyServerURL": "https://plot.ly"
       },
       "data": [
        {
         "domain": {
          "x": [
           0,
           1
          ],
          "y": [
           0,
           1
          ]
         },
         "hole": 0.5,
         "hovertemplate": "label=%{label}<br>value=%{value}<extra></extra>",
         "labels": [
          "Total Cases",
          "Total Deaths"
         ],
         "legendgroup": "",
         "name": "",
         "showlegend": true,
         "type": "pie",
         "values": [
          3111543890,
          116321884
         ]
        }
       ],
       "layout": {
        "legend": {
         "tracegroupgap": 0
        },
        "template": {
         "data": {
          "bar": [
           {
            "error_x": {
             "color": "#2a3f5f"
            },
            "error_y": {
             "color": "#2a3f5f"
            },
            "marker": {
             "line": {
              "color": "#E5ECF6",
              "width": 0.5
             },
             "pattern": {
              "fillmode": "overlay",
              "size": 10,
              "solidity": 0.2
             }
            },
            "type": "bar"
           }
          ],
          "barpolar": [
           {
            "marker": {
             "line": {
              "color": "#E5ECF6",
              "width": 0.5
             },
             "pattern": {
              "fillmode": "overlay",
              "size": 10,
              "solidity": 0.2
             }
            },
            "type": "barpolar"
           }
          ],
          "carpet": [
           {
            "aaxis": {
             "endlinecolor": "#2a3f5f",
             "gridcolor": "white",
             "linecolor": "white",
             "minorgridcolor": "white",
             "startlinecolor": "#2a3f5f"
            },
            "baxis": {
             "endlinecolor": "#2a3f5f",
             "gridcolor": "white",
             "linecolor": "white",
             "minorgridcolor": "white",
             "startlinecolor": "#2a3f5f"
            },
            "type": "carpet"
           }
          ],
          "choropleth": [
           {
            "colorbar": {
             "outlinewidth": 0,
             "ticks": ""
            },
            "type": "choropleth"
           }
          ],
          "contour": [
           {
            "colorbar": {
             "outlinewidth": 0,
             "ticks": ""
            },
            "colorscale": [
             [
              0,
              "#0d0887"
             ],
             [
              0.1111111111111111,
              "#46039f"
             ],
             [
              0.2222222222222222,
              "#7201a8"
             ],
             [
              0.3333333333333333,
              "#9c179e"
             ],
             [
              0.4444444444444444,
              "#bd3786"
             ],
             [
              0.5555555555555556,
              "#d8576b"
             ],
             [
              0.6666666666666666,
              "#ed7953"
             ],
             [
              0.7777777777777778,
              "#fb9f3a"
             ],
             [
              0.8888888888888888,
              "#fdca26"
             ],
             [
              1,
              "#f0f921"
             ]
            ],
            "type": "contour"
           }
          ],
          "contourcarpet": [
           {
            "colorbar": {
             "outlinewidth": 0,
             "ticks": ""
            },
            "type": "contourcarpet"
           }
          ],
          "heatmap": [
           {
            "colorbar": {
             "outlinewidth": 0,
             "ticks": ""
            },
            "colorscale": [
             [
              0,
              "#0d0887"
             ],
             [
              0.1111111111111111,
              "#46039f"
             ],
             [
              0.2222222222222222,
              "#7201a8"
             ],
             [
              0.3333333333333333,
              "#9c179e"
             ],
             [
              0.4444444444444444,
              "#bd3786"
             ],
             [
              0.5555555555555556,
              "#d8576b"
             ],
             [
              0.6666666666666666,
              "#ed7953"
             ],
             [
              0.7777777777777778,
              "#fb9f3a"
             ],
             [
              0.8888888888888888,
              "#fdca26"
             ],
             [
              1,
              "#f0f921"
             ]
            ],
            "type": "heatmap"
           }
          ],
          "heatmapgl": [
           {
            "colorbar": {
             "outlinewidth": 0,
             "ticks": ""
            },
            "colorscale": [
             [
              0,
              "#0d0887"
             ],
             [
              0.1111111111111111,
              "#46039f"
             ],
             [
              0.2222222222222222,
              "#7201a8"
             ],
             [
              0.3333333333333333,
              "#9c179e"
             ],
             [
              0.4444444444444444,
              "#bd3786"
             ],
             [
              0.5555555555555556,
              "#d8576b"
             ],
             [
              0.6666666666666666,
              "#ed7953"
             ],
             [
              0.7777777777777778,
              "#fb9f3a"
             ],
             [
              0.8888888888888888,
              "#fdca26"
             ],
             [
              1,
              "#f0f921"
             ]
            ],
            "type": "heatmapgl"
           }
          ],
          "histogram": [
           {
            "marker": {
             "pattern": {
              "fillmode": "overlay",
              "size": 10,
              "solidity": 0.2
             }
            },
            "type": "histogram"
           }
          ],
          "histogram2d": [
           {
            "colorbar": {
             "outlinewidth": 0,
             "ticks": ""
            },
            "colorscale": [
             [
              0,
              "#0d0887"
             ],
             [
              0.1111111111111111,
              "#46039f"
             ],
             [
              0.2222222222222222,
              "#7201a8"
             ],
             [
              0.3333333333333333,
              "#9c179e"
             ],
             [
              0.4444444444444444,
              "#bd3786"
             ],
             [
              0.5555555555555556,
              "#d8576b"
             ],
             [
              0.6666666666666666,
              "#ed7953"
             ],
             [
              0.7777777777777778,
              "#fb9f3a"
             ],
             [
              0.8888888888888888,
              "#fdca26"
             ],
             [
              1,
              "#f0f921"
             ]
            ],
            "type": "histogram2d"
           }
          ],
          "histogram2dcontour": [
           {
            "colorbar": {
             "outlinewidth": 0,
             "ticks": ""
            },
            "colorscale": [
             [
              0,
              "#0d0887"
             ],
             [
              0.1111111111111111,
              "#46039f"
             ],
             [
              0.2222222222222222,
              "#7201a8"
             ],
             [
              0.3333333333333333,
              "#9c179e"
             ],
             [
              0.4444444444444444,
              "#bd3786"
             ],
             [
              0.5555555555555556,
              "#d8576b"
             ],
             [
              0.6666666666666666,
              "#ed7953"
             ],
             [
              0.7777777777777778,
              "#fb9f3a"
             ],
             [
              0.8888888888888888,
              "#fdca26"
             ],
             [
              1,
              "#f0f921"
             ]
            ],
            "type": "histogram2dcontour"
           }
          ],
          "mesh3d": [
           {
            "colorbar": {
             "outlinewidth": 0,
             "ticks": ""
            },
            "type": "mesh3d"
           }
          ],
          "parcoords": [
           {
            "line": {
             "colorbar": {
              "outlinewidth": 0,
              "ticks": ""
             }
            },
            "type": "parcoords"
           }
          ],
          "pie": [
           {
            "automargin": true,
            "type": "pie"
           }
          ],
          "scatter": [
           {
            "fillpattern": {
             "fillmode": "overlay",
             "size": 10,
             "solidity": 0.2
            },
            "type": "scatter"
           }
          ],
          "scatter3d": [
           {
            "line": {
             "colorbar": {
              "outlinewidth": 0,
              "ticks": ""
             }
            },
            "marker": {
             "colorbar": {
              "outlinewidth": 0,
              "ticks": ""
             }
            },
            "type": "scatter3d"
           }
          ],
          "scattercarpet": [
           {
            "marker": {
             "colorbar": {
              "outlinewidth": 0,
              "ticks": ""
             }
            },
            "type": "scattercarpet"
           }
          ],
          "scattergeo": [
           {
            "marker": {
             "colorbar": {
              "outlinewidth": 0,
              "ticks": ""
             }
            },
            "type": "scattergeo"
           }
          ],
          "scattergl": [
           {
            "marker": {
             "colorbar": {
              "outlinewidth": 0,
              "ticks": ""
             }
            },
            "type": "scattergl"
           }
          ],
          "scattermapbox": [
           {
            "marker": {
             "colorbar": {
              "outlinewidth": 0,
              "ticks": ""
             }
            },
            "type": "scattermapbox"
           }
          ],
          "scatterpolar": [
           {
            "marker": {
             "colorbar": {
              "outlinewidth": 0,
              "ticks": ""
             }
            },
            "type": "scatterpolar"
           }
          ],
          "scatterpolargl": [
           {
            "marker": {
             "colorbar": {
              "outlinewidth": 0,
              "ticks": ""
             }
            },
            "type": "scatterpolargl"
           }
          ],
          "scatterternary": [
           {
            "marker": {
             "colorbar": {
              "outlinewidth": 0,
              "ticks": ""
             }
            },
            "type": "scatterternary"
           }
          ],
          "surface": [
           {
            "colorbar": {
             "outlinewidth": 0,
             "ticks": ""
            },
            "colorscale": [
             [
              0,
              "#0d0887"
             ],
             [
              0.1111111111111111,
              "#46039f"
             ],
             [
              0.2222222222222222,
              "#7201a8"
             ],
             [
              0.3333333333333333,
              "#9c179e"
             ],
             [
              0.4444444444444444,
              "#bd3786"
             ],
             [
              0.5555555555555556,
              "#d8576b"
             ],
             [
              0.6666666666666666,
              "#ed7953"
             ],
             [
              0.7777777777777778,
              "#fb9f3a"
             ],
             [
              0.8888888888888888,
              "#fdca26"
             ],
             [
              1,
              "#f0f921"
             ]
            ],
            "type": "surface"
           }
          ],
          "table": [
           {
            "cells": {
             "fill": {
              "color": "#EBF0F8"
             },
             "line": {
              "color": "white"
             }
            },
            "header": {
             "fill": {
              "color": "#C8D4E3"
             },
             "line": {
              "color": "white"
             }
            },
            "type": "table"
           }
          ]
         },
         "layout": {
          "annotationdefaults": {
           "arrowcolor": "#2a3f5f",
           "arrowhead": 0,
           "arrowwidth": 1
          },
          "autotypenumbers": "strict",
          "coloraxis": {
           "colorbar": {
            "outlinewidth": 0,
            "ticks": ""
           }
          },
          "colorscale": {
           "diverging": [
            [
             0,
             "#8e0152"
            ],
            [
             0.1,
             "#c51b7d"
            ],
            [
             0.2,
             "#de77ae"
            ],
            [
             0.3,
             "#f1b6da"
            ],
            [
             0.4,
             "#fde0ef"
            ],
            [
             0.5,
             "#f7f7f7"
            ],
            [
             0.6,
             "#e6f5d0"
            ],
            [
             0.7,
             "#b8e186"
            ],
            [
             0.8,
             "#7fbc41"
            ],
            [
             0.9,
             "#4d9221"
            ],
            [
             1,
             "#276419"
            ]
           ],
           "sequential": [
            [
             0,
             "#0d0887"
            ],
            [
             0.1111111111111111,
             "#46039f"
            ],
            [
             0.2222222222222222,
             "#7201a8"
            ],
            [
             0.3333333333333333,
             "#9c179e"
            ],
            [
             0.4444444444444444,
             "#bd3786"
            ],
            [
             0.5555555555555556,
             "#d8576b"
            ],
            [
             0.6666666666666666,
             "#ed7953"
            ],
            [
             0.7777777777777778,
             "#fb9f3a"
            ],
            [
             0.8888888888888888,
             "#fdca26"
            ],
            [
             1,
             "#f0f921"
            ]
           ],
           "sequentialminus": [
            [
             0,
             "#0d0887"
            ],
            [
             0.1111111111111111,
             "#46039f"
            ],
            [
             0.2222222222222222,
             "#7201a8"
            ],
            [
             0.3333333333333333,
             "#9c179e"
            ],
            [
             0.4444444444444444,
             "#bd3786"
            ],
            [
             0.5555555555555556,
             "#d8576b"
            ],
            [
             0.6666666666666666,
             "#ed7953"
            ],
            [
             0.7777777777777778,
             "#fb9f3a"
            ],
            [
             0.8888888888888888,
             "#fdca26"
            ],
            [
             1,
             "#f0f921"
            ]
           ]
          },
          "colorway": [
           "#636efa",
           "#EF553B",
           "#00cc96",
           "#ab63fa",
           "#FFA15A",
           "#19d3f3",
           "#FF6692",
           "#B6E880",
           "#FF97FF",
           "#FECB52"
          ],
          "font": {
           "color": "#2a3f5f"
          },
          "geo": {
           "bgcolor": "white",
           "lakecolor": "white",
           "landcolor": "#E5ECF6",
           "showlakes": true,
           "showland": true,
           "subunitcolor": "white"
          },
          "hoverlabel": {
           "align": "left"
          },
          "hovermode": "closest",
          "mapbox": {
           "style": "light"
          },
          "paper_bgcolor": "white",
          "plot_bgcolor": "#E5ECF6",
          "polar": {
           "angularaxis": {
            "gridcolor": "white",
            "linecolor": "white",
            "ticks": ""
           },
           "bgcolor": "#E5ECF6",
           "radialaxis": {
            "gridcolor": "white",
            "linecolor": "white",
            "ticks": ""
           }
          },
          "scene": {
           "xaxis": {
            "backgroundcolor": "#E5ECF6",
            "gridcolor": "white",
            "gridwidth": 2,
            "linecolor": "white",
            "showbackground": true,
            "ticks": "",
            "zerolinecolor": "white"
           },
           "yaxis": {
            "backgroundcolor": "#E5ECF6",
            "gridcolor": "white",
            "gridwidth": 2,
            "linecolor": "white",
            "showbackground": true,
            "ticks": "",
            "zerolinecolor": "white"
           },
           "zaxis": {
            "backgroundcolor": "#E5ECF6",
            "gridcolor": "white",
            "gridwidth": 2,
            "linecolor": "white",
            "showbackground": true,
            "ticks": "",
            "zerolinecolor": "white"
           }
          },
          "shapedefaults": {
           "line": {
            "color": "#2a3f5f"
           }
          },
          "ternary": {
           "aaxis": {
            "gridcolor": "white",
            "linecolor": "white",
            "ticks": ""
           },
           "baxis": {
            "gridcolor": "white",
            "linecolor": "white",
            "ticks": ""
           },
           "bgcolor": "#E5ECF6",
           "caxis": {
            "gridcolor": "white",
            "linecolor": "white",
            "ticks": ""
           }
          },
          "title": {
           "x": 0.05
          },
          "xaxis": {
           "automargin": true,
           "gridcolor": "white",
           "linecolor": "white",
           "ticks": "",
           "title": {
            "standoff": 15
           },
           "zerolinecolor": "white",
           "zerolinewidth": 2
          },
          "yaxis": {
           "automargin": true,
           "gridcolor": "white",
           "linecolor": "white",
           "ticks": "",
           "title": {
            "standoff": 15
           },
           "zerolinecolor": "white",
           "zerolinewidth": 2
          }
         }
        },
        "title": {
         "text": "Percentage of Deaths vs Cases"
        }
       }
      }
     },
     "metadata": {},
     "output_type": "display_data"
    }
   ],
   "source": [
    "# %%\n",
    "cases = data[\"Total Cases\"].sum()\n",
    "deceased = data[\"Total Deaths\"].sum()\n",
    "\n",
    "labels = [\"Total Cases\", \"Total Deaths\"]\n",
    "values = [cases, deceased]\n",
    "\n",
    "fig = px.pie(data, values=values, names = labels,\n",
    "             title = \"Percentage of Deaths vs Cases\", hole = 0.5)\n",
    "fig.show()"
   ]
  },
  {
   "cell_type": "markdown",
   "metadata": {},
   "source": [
    "We have 3.6% overall death rate, and as we saw before, there are some countries that overshot this."
   ]
  },
  {
   "cell_type": "code",
   "execution_count": 56,
   "metadata": {},
   "outputs": [
    {
     "name": "stderr",
     "output_type": "stream",
     "text": [
      "/var/folders/9d/wpysbld95rg17k1z5kgx_jfh0000gn/T/ipykernel_57923/1703584054.py:1: UserWarning:\n",
      "\n",
      "Boolean Series key will be reindexed to match DataFrame index.\n",
      "\n"
     ]
    },
    {
     "data": {
      "application/vnd.plotly.v1+json": {
       "config": {
        "plotlyServerURL": "https://plot.ly"
       },
       "data": [
        {
         "alignmentgroup": "True",
         "hovertemplate": "Country=%{x}<br>percentage_of_deaths=%{y}<extra></extra>",
         "legendgroup": "",
         "marker": {
          "color": "#636efa",
          "pattern": {
           "shape": ""
          }
         },
         "name": "",
         "offsetgroup": "",
         "orientation": "v",
         "showlegend": false,
         "textposition": "auto",
         "type": "bar",
         "x": [
          "Italy",
          "United Kingdom",
          "Belgium",
          "France",
          "Mexico",
          "Netherlands",
          "Chad",
          "Sweden",
          "Ecuador",
          "Spain",
          "Canada",
          "Sint Maarten (Dutch part)",
          "Hungary",
          "Liberia",
          "Sudan",
          "Ireland",
          "Niger",
          "Bermuda",
          "Iran",
          "Barbados",
          "Egypt",
          "China",
          "Bolivia",
          "Mali",
          "Antigua and Barbuda",
          "Burkina Faso",
          "Romania",
          "Indonesia",
          "Switzerland",
          "Algeria",
          "Tanzania",
          "Slovenia",
          "Peru",
          "Finland",
          "Angola",
          "Germany",
          "Bulgaria",
          "Sierra Leone",
          "Denmark",
          "Guatemala"
         ],
         "xaxis": "x",
         "y": [
          13.130739665019423,
          12.189271289505148,
          11.837846227485883,
          11.24791613984692,
          9.813168283639966,
          8.769805296519921,
          7.92097189520863,
          7.901380247653485,
          7.521460733913411,
          7.475308906916707,
          6.963558302037845,
          6.550618415025195,
          6.4455833866846755,
          6.309106830122592,
          6.181077157516027,
          5.920094629602134,
          5.838642250647571,
          5.648289236736391,
          5.558880714779347,
          5.284422753820306,
          5.187346376776012,
          4.932152673968981,
          4.878715772995634,
          4.815980053092769,
          4.501149060939853,
          4.427699911860775,
          4.356395975998558,
          4.247124115832487,
          4.2464268391686675,
          4.218002496526869,
          4.078622467932609,
          4.051546862861581,
          4.033025253698468,
          4.002580761941852,
          3.8880939458232593,
          3.8652078919369863,
          3.8537225319776978,
          3.7392509575403508,
          3.738505284334977,
          3.6835728411786577
         ],
         "yaxis": "y"
        }
       ],
       "layout": {
        "barmode": "relative",
        "legend": {
         "tracegroupgap": 0
        },
        "template": {
         "data": {
          "bar": [
           {
            "error_x": {
             "color": "#2a3f5f"
            },
            "error_y": {
             "color": "#2a3f5f"
            },
            "marker": {
             "line": {
              "color": "#E5ECF6",
              "width": 0.5
             },
             "pattern": {
              "fillmode": "overlay",
              "size": 10,
              "solidity": 0.2
             }
            },
            "type": "bar"
           }
          ],
          "barpolar": [
           {
            "marker": {
             "line": {
              "color": "#E5ECF6",
              "width": 0.5
             },
             "pattern": {
              "fillmode": "overlay",
              "size": 10,
              "solidity": 0.2
             }
            },
            "type": "barpolar"
           }
          ],
          "carpet": [
           {
            "aaxis": {
             "endlinecolor": "#2a3f5f",
             "gridcolor": "white",
             "linecolor": "white",
             "minorgridcolor": "white",
             "startlinecolor": "#2a3f5f"
            },
            "baxis": {
             "endlinecolor": "#2a3f5f",
             "gridcolor": "white",
             "linecolor": "white",
             "minorgridcolor": "white",
             "startlinecolor": "#2a3f5f"
            },
            "type": "carpet"
           }
          ],
          "choropleth": [
           {
            "colorbar": {
             "outlinewidth": 0,
             "ticks": ""
            },
            "type": "choropleth"
           }
          ],
          "contour": [
           {
            "colorbar": {
             "outlinewidth": 0,
             "ticks": ""
            },
            "colorscale": [
             [
              0,
              "#0d0887"
             ],
             [
              0.1111111111111111,
              "#46039f"
             ],
             [
              0.2222222222222222,
              "#7201a8"
             ],
             [
              0.3333333333333333,
              "#9c179e"
             ],
             [
              0.4444444444444444,
              "#bd3786"
             ],
             [
              0.5555555555555556,
              "#d8576b"
             ],
             [
              0.6666666666666666,
              "#ed7953"
             ],
             [
              0.7777777777777778,
              "#fb9f3a"
             ],
             [
              0.8888888888888888,
              "#fdca26"
             ],
             [
              1,
              "#f0f921"
             ]
            ],
            "type": "contour"
           }
          ],
          "contourcarpet": [
           {
            "colorbar": {
             "outlinewidth": 0,
             "ticks": ""
            },
            "type": "contourcarpet"
           }
          ],
          "heatmap": [
           {
            "colorbar": {
             "outlinewidth": 0,
             "ticks": ""
            },
            "colorscale": [
             [
              0,
              "#0d0887"
             ],
             [
              0.1111111111111111,
              "#46039f"
             ],
             [
              0.2222222222222222,
              "#7201a8"
             ],
             [
              0.3333333333333333,
              "#9c179e"
             ],
             [
              0.4444444444444444,
              "#bd3786"
             ],
             [
              0.5555555555555556,
              "#d8576b"
             ],
             [
              0.6666666666666666,
              "#ed7953"
             ],
             [
              0.7777777777777778,
              "#fb9f3a"
             ],
             [
              0.8888888888888888,
              "#fdca26"
             ],
             [
              1,
              "#f0f921"
             ]
            ],
            "type": "heatmap"
           }
          ],
          "heatmapgl": [
           {
            "colorbar": {
             "outlinewidth": 0,
             "ticks": ""
            },
            "colorscale": [
             [
              0,
              "#0d0887"
             ],
             [
              0.1111111111111111,
              "#46039f"
             ],
             [
              0.2222222222222222,
              "#7201a8"
             ],
             [
              0.3333333333333333,
              "#9c179e"
             ],
             [
              0.4444444444444444,
              "#bd3786"
             ],
             [
              0.5555555555555556,
              "#d8576b"
             ],
             [
              0.6666666666666666,
              "#ed7953"
             ],
             [
              0.7777777777777778,
              "#fb9f3a"
             ],
             [
              0.8888888888888888,
              "#fdca26"
             ],
             [
              1,
              "#f0f921"
             ]
            ],
            "type": "heatmapgl"
           }
          ],
          "histogram": [
           {
            "marker": {
             "pattern": {
              "fillmode": "overlay",
              "size": 10,
              "solidity": 0.2
             }
            },
            "type": "histogram"
           }
          ],
          "histogram2d": [
           {
            "colorbar": {
             "outlinewidth": 0,
             "ticks": ""
            },
            "colorscale": [
             [
              0,
              "#0d0887"
             ],
             [
              0.1111111111111111,
              "#46039f"
             ],
             [
              0.2222222222222222,
              "#7201a8"
             ],
             [
              0.3333333333333333,
              "#9c179e"
             ],
             [
              0.4444444444444444,
              "#bd3786"
             ],
             [
              0.5555555555555556,
              "#d8576b"
             ],
             [
              0.6666666666666666,
              "#ed7953"
             ],
             [
              0.7777777777777778,
              "#fb9f3a"
             ],
             [
              0.8888888888888888,
              "#fdca26"
             ],
             [
              1,
              "#f0f921"
             ]
            ],
            "type": "histogram2d"
           }
          ],
          "histogram2dcontour": [
           {
            "colorbar": {
             "outlinewidth": 0,
             "ticks": ""
            },
            "colorscale": [
             [
              0,
              "#0d0887"
             ],
             [
              0.1111111111111111,
              "#46039f"
             ],
             [
              0.2222222222222222,
              "#7201a8"
             ],
             [
              0.3333333333333333,
              "#9c179e"
             ],
             [
              0.4444444444444444,
              "#bd3786"
             ],
             [
              0.5555555555555556,
              "#d8576b"
             ],
             [
              0.6666666666666666,
              "#ed7953"
             ],
             [
              0.7777777777777778,
              "#fb9f3a"
             ],
             [
              0.8888888888888888,
              "#fdca26"
             ],
             [
              1,
              "#f0f921"
             ]
            ],
            "type": "histogram2dcontour"
           }
          ],
          "mesh3d": [
           {
            "colorbar": {
             "outlinewidth": 0,
             "ticks": ""
            },
            "type": "mesh3d"
           }
          ],
          "parcoords": [
           {
            "line": {
             "colorbar": {
              "outlinewidth": 0,
              "ticks": ""
             }
            },
            "type": "parcoords"
           }
          ],
          "pie": [
           {
            "automargin": true,
            "type": "pie"
           }
          ],
          "scatter": [
           {
            "fillpattern": {
             "fillmode": "overlay",
             "size": 10,
             "solidity": 0.2
            },
            "type": "scatter"
           }
          ],
          "scatter3d": [
           {
            "line": {
             "colorbar": {
              "outlinewidth": 0,
              "ticks": ""
             }
            },
            "marker": {
             "colorbar": {
              "outlinewidth": 0,
              "ticks": ""
             }
            },
            "type": "scatter3d"
           }
          ],
          "scattercarpet": [
           {
            "marker": {
             "colorbar": {
              "outlinewidth": 0,
              "ticks": ""
             }
            },
            "type": "scattercarpet"
           }
          ],
          "scattergeo": [
           {
            "marker": {
             "colorbar": {
              "outlinewidth": 0,
              "ticks": ""
             }
            },
            "type": "scattergeo"
           }
          ],
          "scattergl": [
           {
            "marker": {
             "colorbar": {
              "outlinewidth": 0,
              "ticks": ""
             }
            },
            "type": "scattergl"
           }
          ],
          "scattermapbox": [
           {
            "marker": {
             "colorbar": {
              "outlinewidth": 0,
              "ticks": ""
             }
            },
            "type": "scattermapbox"
           }
          ],
          "scatterpolar": [
           {
            "marker": {
             "colorbar": {
              "outlinewidth": 0,
              "ticks": ""
             }
            },
            "type": "scatterpolar"
           }
          ],
          "scatterpolargl": [
           {
            "marker": {
             "colorbar": {
              "outlinewidth": 0,
              "ticks": ""
             }
            },
            "type": "scatterpolargl"
           }
          ],
          "scatterternary": [
           {
            "marker": {
             "colorbar": {
              "outlinewidth": 0,
              "ticks": ""
             }
            },
            "type": "scatterternary"
           }
          ],
          "surface": [
           {
            "colorbar": {
             "outlinewidth": 0,
             "ticks": ""
            },
            "colorscale": [
             [
              0,
              "#0d0887"
             ],
             [
              0.1111111111111111,
              "#46039f"
             ],
             [
              0.2222222222222222,
              "#7201a8"
             ],
             [
              0.3333333333333333,
              "#9c179e"
             ],
             [
              0.4444444444444444,
              "#bd3786"
             ],
             [
              0.5555555555555556,
              "#d8576b"
             ],
             [
              0.6666666666666666,
              "#ed7953"
             ],
             [
              0.7777777777777778,
              "#fb9f3a"
             ],
             [
              0.8888888888888888,
              "#fdca26"
             ],
             [
              1,
              "#f0f921"
             ]
            ],
            "type": "surface"
           }
          ],
          "table": [
           {
            "cells": {
             "fill": {
              "color": "#EBF0F8"
             },
             "line": {
              "color": "white"
             }
            },
            "header": {
             "fill": {
              "color": "#C8D4E3"
             },
             "line": {
              "color": "white"
             }
            },
            "type": "table"
           }
          ]
         },
         "layout": {
          "annotationdefaults": {
           "arrowcolor": "#2a3f5f",
           "arrowhead": 0,
           "arrowwidth": 1
          },
          "autotypenumbers": "strict",
          "coloraxis": {
           "colorbar": {
            "outlinewidth": 0,
            "ticks": ""
           }
          },
          "colorscale": {
           "diverging": [
            [
             0,
             "#8e0152"
            ],
            [
             0.1,
             "#c51b7d"
            ],
            [
             0.2,
             "#de77ae"
            ],
            [
             0.3,
             "#f1b6da"
            ],
            [
             0.4,
             "#fde0ef"
            ],
            [
             0.5,
             "#f7f7f7"
            ],
            [
             0.6,
             "#e6f5d0"
            ],
            [
             0.7,
             "#b8e186"
            ],
            [
             0.8,
             "#7fbc41"
            ],
            [
             0.9,
             "#4d9221"
            ],
            [
             1,
             "#276419"
            ]
           ],
           "sequential": [
            [
             0,
             "#0d0887"
            ],
            [
             0.1111111111111111,
             "#46039f"
            ],
            [
             0.2222222222222222,
             "#7201a8"
            ],
            [
             0.3333333333333333,
             "#9c179e"
            ],
            [
             0.4444444444444444,
             "#bd3786"
            ],
            [
             0.5555555555555556,
             "#d8576b"
            ],
            [
             0.6666666666666666,
             "#ed7953"
            ],
            [
             0.7777777777777778,
             "#fb9f3a"
            ],
            [
             0.8888888888888888,
             "#fdca26"
            ],
            [
             1,
             "#f0f921"
            ]
           ],
           "sequentialminus": [
            [
             0,
             "#0d0887"
            ],
            [
             0.1111111111111111,
             "#46039f"
            ],
            [
             0.2222222222222222,
             "#7201a8"
            ],
            [
             0.3333333333333333,
             "#9c179e"
            ],
            [
             0.4444444444444444,
             "#bd3786"
            ],
            [
             0.5555555555555556,
             "#d8576b"
            ],
            [
             0.6666666666666666,
             "#ed7953"
            ],
            [
             0.7777777777777778,
             "#fb9f3a"
            ],
            [
             0.8888888888888888,
             "#fdca26"
            ],
            [
             1,
             "#f0f921"
            ]
           ]
          },
          "colorway": [
           "#636efa",
           "#EF553B",
           "#00cc96",
           "#ab63fa",
           "#FFA15A",
           "#19d3f3",
           "#FF6692",
           "#B6E880",
           "#FF97FF",
           "#FECB52"
          ],
          "font": {
           "color": "#2a3f5f"
          },
          "geo": {
           "bgcolor": "white",
           "lakecolor": "white",
           "landcolor": "#E5ECF6",
           "showlakes": true,
           "showland": true,
           "subunitcolor": "white"
          },
          "hoverlabel": {
           "align": "left"
          },
          "hovermode": "closest",
          "mapbox": {
           "style": "light"
          },
          "paper_bgcolor": "white",
          "plot_bgcolor": "#E5ECF6",
          "polar": {
           "angularaxis": {
            "gridcolor": "white",
            "linecolor": "white",
            "ticks": ""
           },
           "bgcolor": "#E5ECF6",
           "radialaxis": {
            "gridcolor": "white",
            "linecolor": "white",
            "ticks": ""
           }
          },
          "scene": {
           "xaxis": {
            "backgroundcolor": "#E5ECF6",
            "gridcolor": "white",
            "gridwidth": 2,
            "linecolor": "white",
            "showbackground": true,
            "ticks": "",
            "zerolinecolor": "white"
           },
           "yaxis": {
            "backgroundcolor": "#E5ECF6",
            "gridcolor": "white",
            "gridwidth": 2,
            "linecolor": "white",
            "showbackground": true,
            "ticks": "",
            "zerolinecolor": "white"
           },
           "zaxis": {
            "backgroundcolor": "#E5ECF6",
            "gridcolor": "white",
            "gridwidth": 2,
            "linecolor": "white",
            "showbackground": true,
            "ticks": "",
            "zerolinecolor": "white"
           }
          },
          "shapedefaults": {
           "line": {
            "color": "#2a3f5f"
           }
          },
          "ternary": {
           "aaxis": {
            "gridcolor": "white",
            "linecolor": "white",
            "ticks": ""
           },
           "baxis": {
            "gridcolor": "white",
            "linecolor": "white",
            "ticks": ""
           },
           "bgcolor": "#E5ECF6",
           "caxis": {
            "gridcolor": "white",
            "linecolor": "white",
            "ticks": ""
           }
          },
          "title": {
           "x": 0.05
          },
          "xaxis": {
           "automargin": true,
           "gridcolor": "white",
           "linecolor": "white",
           "ticks": "",
           "title": {
            "standoff": 15
           },
           "zerolinecolor": "white",
           "zerolinewidth": 2
          },
          "yaxis": {
           "automargin": true,
           "gridcolor": "white",
           "linecolor": "white",
           "ticks": "",
           "title": {
            "standoff": 15
           },
           "zerolinecolor": "white",
           "zerolinewidth": 2
          }
         }
        },
        "title": {
         "text": "Countries with higher than average percentage of deaths"
        },
        "xaxis": {
         "anchor": "y",
         "domain": [
          0,
          1
         ],
         "title": {
          "text": "Country"
         }
        },
        "yaxis": {
         "anchor": "x",
         "domain": [
          0,
          1
         ],
         "title": {
          "text": "percentage_of_deaths"
         }
        }
       }
      }
     },
     "metadata": {},
     "output_type": "display_data"
    }
   ],
   "source": [
    "figure = px.bar(data.sort_values(by = [\"percentage_of_deaths\"], ascending=False)[data[\"percentage_of_deaths\"] > 3.6], \n",
    "                y = 'percentage_of_deaths', \n",
    "                x = 'Country',\n",
    "                title = \"Countries with higher than average percentage of deaths\")\n",
    "figure.show()"
   ]
  },
  {
   "cell_type": "markdown",
   "metadata": {},
   "source": [
    "Now, let's look at the stringency index: it is a composite measure of response indicators, including school closures, workplace closures, and travel bans. It shows how strictly countries are following these measures to control the spread of covid-19."
   ]
  },
  {
   "cell_type": "code",
   "execution_count": 61,
   "metadata": {},
   "outputs": [
    {
     "data": {
      "application/vnd.plotly.v1+json": {
       "config": {
        "plotlyServerURL": "https://plot.ly"
       },
       "data": [
        {
         "alignmentgroup": "True",
         "customdata": [
          [
           331002647,
           26477574
          ],
          [
           212559409,
           14340567
          ],
          [
           1380004385,
           7247327
          ],
          [
           145934460,
           2131571
          ],
          [
           26355046.972789116,
           3020038
          ],
          [
           128932753,
           7295850
          ],
          [
           46595753.12585034,
           5510624
          ],
          [
           51642940.952380955,
           1357682
          ],
          [
           39633266.789115645,
           1936134
          ],
          [
           67886004,
           7249573
          ],
          [
           83992953,
           2914070
          ],
          [
           14889836.261904761,
           1283880
          ],
          [
           60461828,
           6664225
          ],
          [
           65273512,
           5633444
          ],
          [
           38739237.428571425,
           1077426
          ],
          [
           83783945,
           1640691
          ],
          [
           63110866.46258503,
           1049757
          ],
          [
           27472167.156462584,
           442507
          ],
          [
           220892331,
           789557
          ],
          [
           129398800.92857143,
           484534
          ]
         ],
         "hovertemplate": "Country=%{x}<br>Total Cases=%{y}<br>Population=%{customdata[0]}<br>Total Deaths=%{customdata[1]}<br>Stringency Index=%{marker.color}<extra></extra>",
         "legendgroup": "",
         "marker": {
          "color": [
           3.3509486690850343,
           3.136027957462585,
           3.6105521148129256,
           3.380088191482993,
           3.4301264381156464,
           3.0192894045204084,
           3.393922273142857,
           3.3643329908979593,
           3.3579230454251703,
           3.3538831399625852,
           3.207064113278912,
           2.989193634731293,
           3.629838088122449,
           3.3857936759115645,
           3.4754380163809526,
           3.28451614412585,
           3.0414184019965984,
           3.2633605816360545,
           3.38580207355102,
           3.186409532867346
          ],
          "coloraxis": "coloraxis",
          "pattern": {
           "shape": ""
          }
         },
         "name": "",
         "offsetgroup": "",
         "orientation": "v",
         "showlegend": false,
         "textposition": "auto",
         "type": "bar",
         "x": [
          "United States",
          "Brazil",
          "India",
          "Russia",
          "Peru",
          "Mexico",
          "Spain",
          "South Africa",
          "Colombia",
          "United Kingdom",
          "Iran",
          "Chile",
          "Italy",
          "France",
          "Argentina",
          "Germany",
          "Turkey",
          "Saudi Arabia",
          "Pakistan",
          "Bangladesh"
         ],
         "xaxis": "x",
         "y": [
          746014098,
          425704517,
          407771615,
          132888951,
          74882695,
          74347548,
          73717676,
          63027659,
          60543682,
          59475032,
          52421884,
          51268034,
          50752853,
          50084335,
          47155234,
          42447678,
          41431948,
          38585191,
          37738077,
          35266178
         ],
         "yaxis": "y"
        }
       ],
       "layout": {
        "barmode": "relative",
        "coloraxis": {
         "colorbar": {
          "title": {
           "text": "Stringency Index"
          }
         },
         "colorscale": [
          [
           0,
           "#0d0887"
          ],
          [
           0.1111111111111111,
           "#46039f"
          ],
          [
           0.2222222222222222,
           "#7201a8"
          ],
          [
           0.3333333333333333,
           "#9c179e"
          ],
          [
           0.4444444444444444,
           "#bd3786"
          ],
          [
           0.5555555555555556,
           "#d8576b"
          ],
          [
           0.6666666666666666,
           "#ed7953"
          ],
          [
           0.7777777777777778,
           "#fb9f3a"
          ],
          [
           0.8888888888888888,
           "#fdca26"
          ],
          [
           1,
           "#f0f921"
          ]
         ]
        },
        "legend": {
         "tracegroupgap": 0
        },
        "template": {
         "data": {
          "bar": [
           {
            "error_x": {
             "color": "#2a3f5f"
            },
            "error_y": {
             "color": "#2a3f5f"
            },
            "marker": {
             "line": {
              "color": "#E5ECF6",
              "width": 0.5
             },
             "pattern": {
              "fillmode": "overlay",
              "size": 10,
              "solidity": 0.2
             }
            },
            "type": "bar"
           }
          ],
          "barpolar": [
           {
            "marker": {
             "line": {
              "color": "#E5ECF6",
              "width": 0.5
             },
             "pattern": {
              "fillmode": "overlay",
              "size": 10,
              "solidity": 0.2
             }
            },
            "type": "barpolar"
           }
          ],
          "carpet": [
           {
            "aaxis": {
             "endlinecolor": "#2a3f5f",
             "gridcolor": "white",
             "linecolor": "white",
             "minorgridcolor": "white",
             "startlinecolor": "#2a3f5f"
            },
            "baxis": {
             "endlinecolor": "#2a3f5f",
             "gridcolor": "white",
             "linecolor": "white",
             "minorgridcolor": "white",
             "startlinecolor": "#2a3f5f"
            },
            "type": "carpet"
           }
          ],
          "choropleth": [
           {
            "colorbar": {
             "outlinewidth": 0,
             "ticks": ""
            },
            "type": "choropleth"
           }
          ],
          "contour": [
           {
            "colorbar": {
             "outlinewidth": 0,
             "ticks": ""
            },
            "colorscale": [
             [
              0,
              "#0d0887"
             ],
             [
              0.1111111111111111,
              "#46039f"
             ],
             [
              0.2222222222222222,
              "#7201a8"
             ],
             [
              0.3333333333333333,
              "#9c179e"
             ],
             [
              0.4444444444444444,
              "#bd3786"
             ],
             [
              0.5555555555555556,
              "#d8576b"
             ],
             [
              0.6666666666666666,
              "#ed7953"
             ],
             [
              0.7777777777777778,
              "#fb9f3a"
             ],
             [
              0.8888888888888888,
              "#fdca26"
             ],
             [
              1,
              "#f0f921"
             ]
            ],
            "type": "contour"
           }
          ],
          "contourcarpet": [
           {
            "colorbar": {
             "outlinewidth": 0,
             "ticks": ""
            },
            "type": "contourcarpet"
           }
          ],
          "heatmap": [
           {
            "colorbar": {
             "outlinewidth": 0,
             "ticks": ""
            },
            "colorscale": [
             [
              0,
              "#0d0887"
             ],
             [
              0.1111111111111111,
              "#46039f"
             ],
             [
              0.2222222222222222,
              "#7201a8"
             ],
             [
              0.3333333333333333,
              "#9c179e"
             ],
             [
              0.4444444444444444,
              "#bd3786"
             ],
             [
              0.5555555555555556,
              "#d8576b"
             ],
             [
              0.6666666666666666,
              "#ed7953"
             ],
             [
              0.7777777777777778,
              "#fb9f3a"
             ],
             [
              0.8888888888888888,
              "#fdca26"
             ],
             [
              1,
              "#f0f921"
             ]
            ],
            "type": "heatmap"
           }
          ],
          "heatmapgl": [
           {
            "colorbar": {
             "outlinewidth": 0,
             "ticks": ""
            },
            "colorscale": [
             [
              0,
              "#0d0887"
             ],
             [
              0.1111111111111111,
              "#46039f"
             ],
             [
              0.2222222222222222,
              "#7201a8"
             ],
             [
              0.3333333333333333,
              "#9c179e"
             ],
             [
              0.4444444444444444,
              "#bd3786"
             ],
             [
              0.5555555555555556,
              "#d8576b"
             ],
             [
              0.6666666666666666,
              "#ed7953"
             ],
             [
              0.7777777777777778,
              "#fb9f3a"
             ],
             [
              0.8888888888888888,
              "#fdca26"
             ],
             [
              1,
              "#f0f921"
             ]
            ],
            "type": "heatmapgl"
           }
          ],
          "histogram": [
           {
            "marker": {
             "pattern": {
              "fillmode": "overlay",
              "size": 10,
              "solidity": 0.2
             }
            },
            "type": "histogram"
           }
          ],
          "histogram2d": [
           {
            "colorbar": {
             "outlinewidth": 0,
             "ticks": ""
            },
            "colorscale": [
             [
              0,
              "#0d0887"
             ],
             [
              0.1111111111111111,
              "#46039f"
             ],
             [
              0.2222222222222222,
              "#7201a8"
             ],
             [
              0.3333333333333333,
              "#9c179e"
             ],
             [
              0.4444444444444444,
              "#bd3786"
             ],
             [
              0.5555555555555556,
              "#d8576b"
             ],
             [
              0.6666666666666666,
              "#ed7953"
             ],
             [
              0.7777777777777778,
              "#fb9f3a"
             ],
             [
              0.8888888888888888,
              "#fdca26"
             ],
             [
              1,
              "#f0f921"
             ]
            ],
            "type": "histogram2d"
           }
          ],
          "histogram2dcontour": [
           {
            "colorbar": {
             "outlinewidth": 0,
             "ticks": ""
            },
            "colorscale": [
             [
              0,
              "#0d0887"
             ],
             [
              0.1111111111111111,
              "#46039f"
             ],
             [
              0.2222222222222222,
              "#7201a8"
             ],
             [
              0.3333333333333333,
              "#9c179e"
             ],
             [
              0.4444444444444444,
              "#bd3786"
             ],
             [
              0.5555555555555556,
              "#d8576b"
             ],
             [
              0.6666666666666666,
              "#ed7953"
             ],
             [
              0.7777777777777778,
              "#fb9f3a"
             ],
             [
              0.8888888888888888,
              "#fdca26"
             ],
             [
              1,
              "#f0f921"
             ]
            ],
            "type": "histogram2dcontour"
           }
          ],
          "mesh3d": [
           {
            "colorbar": {
             "outlinewidth": 0,
             "ticks": ""
            },
            "type": "mesh3d"
           }
          ],
          "parcoords": [
           {
            "line": {
             "colorbar": {
              "outlinewidth": 0,
              "ticks": ""
             }
            },
            "type": "parcoords"
           }
          ],
          "pie": [
           {
            "automargin": true,
            "type": "pie"
           }
          ],
          "scatter": [
           {
            "fillpattern": {
             "fillmode": "overlay",
             "size": 10,
             "solidity": 0.2
            },
            "type": "scatter"
           }
          ],
          "scatter3d": [
           {
            "line": {
             "colorbar": {
              "outlinewidth": 0,
              "ticks": ""
             }
            },
            "marker": {
             "colorbar": {
              "outlinewidth": 0,
              "ticks": ""
             }
            },
            "type": "scatter3d"
           }
          ],
          "scattercarpet": [
           {
            "marker": {
             "colorbar": {
              "outlinewidth": 0,
              "ticks": ""
             }
            },
            "type": "scattercarpet"
           }
          ],
          "scattergeo": [
           {
            "marker": {
             "colorbar": {
              "outlinewidth": 0,
              "ticks": ""
             }
            },
            "type": "scattergeo"
           }
          ],
          "scattergl": [
           {
            "marker": {
             "colorbar": {
              "outlinewidth": 0,
              "ticks": ""
             }
            },
            "type": "scattergl"
           }
          ],
          "scattermapbox": [
           {
            "marker": {
             "colorbar": {
              "outlinewidth": 0,
              "ticks": ""
             }
            },
            "type": "scattermapbox"
           }
          ],
          "scatterpolar": [
           {
            "marker": {
             "colorbar": {
              "outlinewidth": 0,
              "ticks": ""
             }
            },
            "type": "scatterpolar"
           }
          ],
          "scatterpolargl": [
           {
            "marker": {
             "colorbar": {
              "outlinewidth": 0,
              "ticks": ""
             }
            },
            "type": "scatterpolargl"
           }
          ],
          "scatterternary": [
           {
            "marker": {
             "colorbar": {
              "outlinewidth": 0,
              "ticks": ""
             }
            },
            "type": "scatterternary"
           }
          ],
          "surface": [
           {
            "colorbar": {
             "outlinewidth": 0,
             "ticks": ""
            },
            "colorscale": [
             [
              0,
              "#0d0887"
             ],
             [
              0.1111111111111111,
              "#46039f"
             ],
             [
              0.2222222222222222,
              "#7201a8"
             ],
             [
              0.3333333333333333,
              "#9c179e"
             ],
             [
              0.4444444444444444,
              "#bd3786"
             ],
             [
              0.5555555555555556,
              "#d8576b"
             ],
             [
              0.6666666666666666,
              "#ed7953"
             ],
             [
              0.7777777777777778,
              "#fb9f3a"
             ],
             [
              0.8888888888888888,
              "#fdca26"
             ],
             [
              1,
              "#f0f921"
             ]
            ],
            "type": "surface"
           }
          ],
          "table": [
           {
            "cells": {
             "fill": {
              "color": "#EBF0F8"
             },
             "line": {
              "color": "white"
             }
            },
            "header": {
             "fill": {
              "color": "#C8D4E3"
             },
             "line": {
              "color": "white"
             }
            },
            "type": "table"
           }
          ]
         },
         "layout": {
          "annotationdefaults": {
           "arrowcolor": "#2a3f5f",
           "arrowhead": 0,
           "arrowwidth": 1
          },
          "autotypenumbers": "strict",
          "coloraxis": {
           "colorbar": {
            "outlinewidth": 0,
            "ticks": ""
           }
          },
          "colorscale": {
           "diverging": [
            [
             0,
             "#8e0152"
            ],
            [
             0.1,
             "#c51b7d"
            ],
            [
             0.2,
             "#de77ae"
            ],
            [
             0.3,
             "#f1b6da"
            ],
            [
             0.4,
             "#fde0ef"
            ],
            [
             0.5,
             "#f7f7f7"
            ],
            [
             0.6,
             "#e6f5d0"
            ],
            [
             0.7,
             "#b8e186"
            ],
            [
             0.8,
             "#7fbc41"
            ],
            [
             0.9,
             "#4d9221"
            ],
            [
             1,
             "#276419"
            ]
           ],
           "sequential": [
            [
             0,
             "#0d0887"
            ],
            [
             0.1111111111111111,
             "#46039f"
            ],
            [
             0.2222222222222222,
             "#7201a8"
            ],
            [
             0.3333333333333333,
             "#9c179e"
            ],
            [
             0.4444444444444444,
             "#bd3786"
            ],
            [
             0.5555555555555556,
             "#d8576b"
            ],
            [
             0.6666666666666666,
             "#ed7953"
            ],
            [
             0.7777777777777778,
             "#fb9f3a"
            ],
            [
             0.8888888888888888,
             "#fdca26"
            ],
            [
             1,
             "#f0f921"
            ]
           ],
           "sequentialminus": [
            [
             0,
             "#0d0887"
            ],
            [
             0.1111111111111111,
             "#46039f"
            ],
            [
             0.2222222222222222,
             "#7201a8"
            ],
            [
             0.3333333333333333,
             "#9c179e"
            ],
            [
             0.4444444444444444,
             "#bd3786"
            ],
            [
             0.5555555555555556,
             "#d8576b"
            ],
            [
             0.6666666666666666,
             "#ed7953"
            ],
            [
             0.7777777777777778,
             "#fb9f3a"
            ],
            [
             0.8888888888888888,
             "#fdca26"
            ],
            [
             1,
             "#f0f921"
            ]
           ]
          },
          "colorway": [
           "#636efa",
           "#EF553B",
           "#00cc96",
           "#ab63fa",
           "#FFA15A",
           "#19d3f3",
           "#FF6692",
           "#B6E880",
           "#FF97FF",
           "#FECB52"
          ],
          "font": {
           "color": "#2a3f5f"
          },
          "geo": {
           "bgcolor": "white",
           "lakecolor": "white",
           "landcolor": "#E5ECF6",
           "showlakes": true,
           "showland": true,
           "subunitcolor": "white"
          },
          "hoverlabel": {
           "align": "left"
          },
          "hovermode": "closest",
          "mapbox": {
           "style": "light"
          },
          "paper_bgcolor": "white",
          "plot_bgcolor": "#E5ECF6",
          "polar": {
           "angularaxis": {
            "gridcolor": "white",
            "linecolor": "white",
            "ticks": ""
           },
           "bgcolor": "#E5ECF6",
           "radialaxis": {
            "gridcolor": "white",
            "linecolor": "white",
            "ticks": ""
           }
          },
          "scene": {
           "xaxis": {
            "backgroundcolor": "#E5ECF6",
            "gridcolor": "white",
            "gridwidth": 2,
            "linecolor": "white",
            "showbackground": true,
            "ticks": "",
            "zerolinecolor": "white"
           },
           "yaxis": {
            "backgroundcolor": "#E5ECF6",
            "gridcolor": "white",
            "gridwidth": 2,
            "linecolor": "white",
            "showbackground": true,
            "ticks": "",
            "zerolinecolor": "white"
           },
           "zaxis": {
            "backgroundcolor": "#E5ECF6",
            "gridcolor": "white",
            "gridwidth": 2,
            "linecolor": "white",
            "showbackground": true,
            "ticks": "",
            "zerolinecolor": "white"
           }
          },
          "shapedefaults": {
           "line": {
            "color": "#2a3f5f"
           }
          },
          "ternary": {
           "aaxis": {
            "gridcolor": "white",
            "linecolor": "white",
            "ticks": ""
           },
           "baxis": {
            "gridcolor": "white",
            "linecolor": "white",
            "ticks": ""
           },
           "bgcolor": "#E5ECF6",
           "caxis": {
            "gridcolor": "white",
            "linecolor": "white",
            "ticks": ""
           }
          },
          "title": {
           "x": 0.05
          },
          "xaxis": {
           "automargin": true,
           "gridcolor": "white",
           "linecolor": "white",
           "ticks": "",
           "title": {
            "standoff": 15
           },
           "zerolinecolor": "white",
           "zerolinewidth": 2
          },
          "yaxis": {
           "automargin": true,
           "gridcolor": "white",
           "linecolor": "white",
           "ticks": "",
           "title": {
            "standoff": 15
           },
           "zerolinecolor": "white",
           "zerolinewidth": 2
          }
         }
        },
        "title": {
         "text": "Stringency Index by Country during Covid-19"
        },
        "xaxis": {
         "anchor": "y",
         "domain": [
          0,
          1
         ],
         "title": {
          "text": "Country"
         }
        },
        "yaxis": {
         "anchor": "x",
         "domain": [
          0,
          1
         ],
         "title": {
          "text": "Total Cases"
         }
        }
       }
      }
     },
     "metadata": {},
     "output_type": "display_data"
    }
   ],
   "source": [
    "# %%\n",
    "fig = px.bar(data.head(20), x ='Country', y = 'Total Cases', \n",
    "             hover_data=['Population', 'Total Deaths'],\n",
    "             color = 'Stringency Index',\n",
    "             title = \"Stringency Index by Country during Covid-19\")\n",
    "fig.show()"
   ]
  },
  {
   "cell_type": "markdown",
   "metadata": {},
   "source": [
    "We can clearly see that some countries acted more strictly compared to others when it came to responding to covid. India and Italy both had a really high number of deaths at different points, and it makes sense that they \\\n",
    "would then have very stringently followed lockdown rules, whereas with some other countries like the US and Brazil, we see a comparatively lower stringency index. These countries chose to flout lockdown etiquette \\\n",
    "in favor of letting the economy reopen more quickly. We will later see if this is reflected in their economies rebouncing quickly."
   ]
  },
  {
   "cell_type": "code",
   "execution_count": 16,
   "metadata": {},
   "outputs": [
    {
     "data": {
      "application/vnd.plotly.v1+json": {
       "config": {
        "plotlyServerURL": "https://plot.ly"
       },
       "data": [
        {
         "alignmentgroup": "True",
         "customdata": [
          [
           15.58201085,
           26477574
          ],
          [
           13.55623711,
           14340567
          ],
          [
           17.25184806,
           7247327
          ],
          [
           17.25770384,
           2131571
          ],
          [
           18.67480153,
           3020038
          ],
          [
           14.47446683,
           7295850
          ],
          [
           18.51217534,
           5510624
          ],
          [
           15.78017657,
           1357682
          ],
          [
           13.22850199,
           1936134
          ],
          [
           15.89207108,
           7249573
          ],
          [
           16.15953083,
           2914070
          ],
          [
           17.09438451,
           1283880
          ],
          [
           16.70118056,
           6664225
          ],
          [
           16.68585306,
           5633444
          ],
          [
           17.3079574,
           1077426
          ],
          [
           15.08145118,
           1640691
          ],
          [
           12.2975619,
           1049757
          ],
          [
           15.38874766,
           442507
          ],
          [
           13.20032762,
           789557
          ],
          [
           16.13191719,
           484534
          ],
          [
           10.94679853,
           744253
          ],
          [
           15.21025983,
           448665
          ],
          [
           17.44628825,
           1066939
          ],
          [
           10.42498602,
           916111
          ],
          [
           12.98879313,
           1455549
          ],
          [
           8.516993171,
           23820
          ],
          [
           12.03636915,
           126278
          ],
          [
           15.73310882,
           343334
          ],
          [
           18.91957173,
           1798461
          ],
          [
           12.00823128,
           1083749
          ],
          [
           13.57542301,
           161480
          ],
          [
           10.54894022,
           1142410
          ],
          [
           13.68300607,
           644416
          ],
          [
           14.87366884,
           941063
          ],
          [
           12.89325457,
           578559
          ],
          [
           17.42400819,
           464952
          ],
          [
           16.24266591,
           209024
          ],
          [
           15.8300119,
           69104
          ],
          [
           14.34706955,
           88409
          ],
          [
           12.99802163,
           222435
          ],
          [
           11.49618614,
           58035
          ],
          [
           17.29261899,
           73391
          ],
          [
           15.00283311,
           302612
          ],
          [
           10.57755385,
           304001
          ],
          [
           15.5058355,
           4691
          ],
          [
           14.45007584,
           142270
          ],
          [
           16.39062287,
           194918
          ],
          [
           8.15564927,
           281588
          ],
          [
           16.77238152,
           320693
          ],
          [
           16.01344599,
           22413
          ],
          [
           14.61559461,
           200844
          ],
          [
           17.13661869,
           125473
          ],
          [
           9.615938805,
           102039
          ],
          [
           15.74286198,
           27737
          ],
          [
           11.63087738,
           310201
          ],
          [
           14.9017918,
           134945
          ],
          [
           14.09808385,
           29143
          ],
          [
           14.87253667,
           206429
          ],
          [
           13.80344,
           77686
          ],
          [
           15.26725623,
           129946
          ],
          [
           16.61436742,
           50352
          ],
          [
           15.51289396,
           31903
          ],
          [
           16.08354044,
           114922
          ],
          [
           11.5783948,
           59495
          ],
          [
           17.00213737,
           87503
          ],
          [
           13.35039417,
           54940
          ],
          [
           17.3111646,
           63333
          ],
          [
           16.24934608,
           59485
          ],
          [
           16.82370654,
           21522
          ],
          [
           15.44359631,
           113280
          ],
          [
           17.62651421,
           65029
          ],
          [
           16.18659339,
           71957
          ],
          [
           10.31682162,
           56606
          ],
          [
           14.05591783,
           42850
          ],
          [
           16.31063137,
           70578
          ],
          [
           16.76604717,
           14220
          ],
          [
           16.76676599,
           47158
          ],
          [
           10.1743159,
           72850
          ],
          [
           17.50993717,
           29730
          ],
          [
           14.90109198,
           24012
          ],
          [
           15.199095,
           110142
          ],
          [
           16.13757538,
           102825
          ],
          [
           15.70629361,
           30320
          ],
          [
           16.19948244,
           58377
          ],
          [
           15.97371025,
           17744
          ],
          [
           18.56012597,
           44805
          ],
          [
           16.10851066,
           47571
          ],
          [
           21.08743924,
           28757
          ],
          [
           15.52354271,
           32040
          ],
          [
           13.7061911,
           7283
          ],
          [
           11.35078294,
           21907
          ],
          [
           13.43991197,
           26475
          ],
          [
           18.79866817,
           9730
          ],
          [
           17.4772331,
           31056
          ],
          [
           18.44375647,
           6877
          ],
          [
           12.54576825,
           23891
          ],
          [
           10.43229061,
           19025
          ],
          [
           18.65556675,
           3054
          ],
          [
           16.74812767,
           19810
          ],
          [
           19.21318595,
           6055
          ],
          [
           17.08805131,
           8006
          ],
          [
           14.49252734,
           5653
          ],
          [
           15.43641784,
           6634
          ],
          [
           15.80003079,
           11356
          ],
          [
           10.88166329,
           11162
          ],
          [
           14.57736817,
           13973
          ],
          [
           16.5814031,
           15984
          ],
          [
           16.29127395,
           7108
          ],
          [
           18.31043503,
           8947
          ],
          [
           15.44502871,
           22165
          ],
          [
           17.91752278,
           15480
          ],
          [
           13.34706731,
           16410
          ],
          [
           15.73616766,
           3396
          ],
          [
           16.00683186,
           15001
          ],
          [
           15.41242964,
           14345
          ],
          [
           15.39030816,
           9298
          ],
          [
           15.75402845,
           4749
          ],
          [
           16.63354636,
           3748
          ],
          [
           17.44905184,
           2108
          ],
          [
           15.57202326,
           11802
          ],
          [
           14.15411267,
           4013
          ],
          [
           18.24375196,
           1968
          ],
          [
           11.52359831,
           18813
          ],
          [
           17.81205473,
           1744
          ],
          [
           11.11322372,
           5653
          ],
          [
           14.86662585,
           6961
          ],
          [
           15.52763465,
           4199
          ],
          [
           17.59630906,
           11820
          ],
          [
           10.96053104,
           10036
          ],
          [
           21.04535251,
           5376
          ],
          [
           14.81698436,
           4145
          ],
          [
           16.13820607,
           2409
          ],
          [
           16.06145345,
           4374
          ],
          [
           10.66620744,
           6083
          ],
          [
           17.05418434,
           5998
          ],
          [
           13.67578287,
           3735
          ],
          [
           15.00360243,
           10248
          ],
          [
           15.68518756,
           7201
          ],
          [
           11.61680789,
           4519
          ],
          [
           11.49198779,
           1624
          ],
          [
           11.03928322,
           895
          ],
          [
           14.54950213,
           11676
          ],
          [
           12.1206727,
           4197
          ],
          [
           17.99409688,
           5783
          ],
          [
           18.24624346,
           10087
          ],
          [
           16.63205462,
           12212
          ],
          [
           14.54736486,
           2318
          ],
          [
           12.56196578,
           2198
          ],
          [
           19.42689854,
           2680
          ],
          [
           12.56852934,
           1613
          ],
          [
           16.37677691,
           3733
          ],
          [
           17.80025043,
           1988
          ],
          [
           11.09315857,
           920
          ],
          [
           14.67061714,
           188
          ],
          [
           15.44604869,
           3146
          ],
          [
           17.36552634,
           476
          ],
          [
           15.69102752,
           0
          ],
          [
           19.17473208,
           0
          ],
          [
           15.35230466,
           417
          ],
          [
           16.85541655,
           213
          ],
          [
           16.27279152,
           475
          ],
          [
           16.26562008,
           1631
          ],
          [
           12.88219574,
           1321
          ],
          [
           17.74503716,
           207
          ],
          [
           19.1440641,
           0
          ],
          [
           11.25499635,
           568
          ],
          [
           16.6566263,
           0
          ],
          [
           11.18429639,
           132
          ],
          [
           10.79681667,
           0
          ],
          [
           17.18751281,
           0
          ],
          [
           12.74037063,
           0
          ],
          [
           15.22778158,
           0
          ],
          [
           14.7480352,
           0
          ],
          [
           15.27755412,
           0
          ],
          [
           14.69789863,
           0
          ]
         ],
         "hovertemplate": "Country=%{x}<br>Total Cases=%{y}<br>Population=%{customdata[0]}<br>Total Deaths=%{customdata[1]}<br>GDP Per Capita Before Covid=%{marker.color}<extra></extra>",
         "legendgroup": "",
         "marker": {
          "color": [
           62470.93,
           14685.128,
           6617.13,
           27254.574,
           12735.168,
           20553.955,
           40782.234,
           13850.8955,
           14616.135,
           46909.08,
           14084.354,
           24809.861,
           42739.05,
           45922.793,
           22071.748,
           53884.375,
           28476.684,
           47024.543,
           5157.5464,
           5467.2075,
           10299.316,
           8731.861,
           15977.764,
           11857.789,
           49169.12,
           90762.4,
           41151.008,
           12804.955,
           51977.17,
           11390.217,
           26351.805,
           56784.04,
           11780.962,
           52850.57,
           8528.749,
           30001.105,
           18171.06,
           47314.797,
           19288.041,
           32788.332,
           71782.16,
           33814.113,
           34945.66,
           33159.75,
           98455.33,
           8217.599,
           41654.33,
           8673.002,
           69923.93,
           49768.977,
           5613.6606,
           5076.368,
           14317.553,
           3922.0813,
           86984.984,
           55769.684,
           5345.9414,
           11627.28,
           2181.659,
           12776.922,
           20818.062,
           7403.7427,
           5258.3667,
           14442.041,
           18306.904,
           34792.65,
           42758.59,
           4601.2114,
           6245.4487,
           56813.965,
           49420.94,
           9015.664,
           3756.5095,
           13609.723,
           14851.738,
           5132.342,
           64983.355,
           23254.787,
           22535.445,
           27674.398,
           32645.664,
           4133.1304,
           3430.484,
           48583.434,
           1585.4717,
           29720.17,
           11318.459,
           29412.422,
           1059.8921,
           2545.1401,
           115209.6,
           3372.359,
           3575.282,
           13653.249,
           14478.002,
           3112.296,
           11113.796,
           20988.092,
           5392.9326,
           32056.78,
           4768.113,
           9534.661,
           10009.578,
           21534.09,
           17997.133,
           5214.3735,
           2203.3967,
           861.7668,
           16240.37,
           39061.25,
           1517.7031,
           5398.1074,
           1290.1674,
           1546.9055,
           37198.875,
           4093.9907,
           7743.479,
           2250.015,
           13639.021,
           36153.434,
           14989.258,
           56615.305,
           2219.0466,
           2190.562,
           10244.366,
           18448.979,
           1890.5331,
           6602.269,
           1655.8433,
           30438.453,
           43272.566,
           46438.664,
           3156.4387,
           23552.842,
           34324.996,
           41741.805,
           2106.0361,
           2083.309,
           25698.006,
           38511.336,
           15117.685,
           1217.4355,
           2063.7588,
           12820.503,
           1455.6377,
           1561.9967,
           10252.004,
           3482.0247,
           2435.2864,
           8925.19,
           2578.8403,
           23676.414,
           3290.6506,
           729.65845,
           43394.668,
           25933.512,
           12458.019,
           4464.2944,
           3947.9338,
           72432.5,
           61424.363,
           81681.73,
           16077.515,
           23903.621,
           29189.785,
           23638.686,
           14183.188,
           13241.546,
           15394.03,
           15460.798,
           7840.0713,
           12395.421,
           31178.648,
           2616.9084,
           59592.035
          ],
          "coloraxis": "coloraxis",
          "pattern": {
           "shape": ""
          }
         },
         "name": "",
         "offsetgroup": "",
         "orientation": "v",
         "showlegend": false,
         "textposition": "auto",
         "type": "bar",
         "x": [
          "United States",
          "Brazil",
          "India",
          "Russia",
          "Peru",
          "Mexico",
          "Spain",
          "South Africa",
          "Colombia",
          "United Kingdom",
          "Iran",
          "Chile",
          "Italy",
          "France",
          "Argentina",
          "Germany",
          "Turkey",
          "Saudi Arabia",
          "Pakistan",
          "Bangladesh",
          "Iraq",
          "Philippines",
          "China",
          "Indonesia",
          "Canada",
          "Qatar",
          "Israel",
          "Ukraine",
          "Belgium",
          "Ecuador",
          "Kazakhstan",
          "Netherlands",
          "Egypt",
          "Sweden",
          "Bolivia",
          "Romania",
          "Dominican Republic",
          "Kuwait",
          "Belarus",
          "Panama",
          "United Arab Emirates",
          "Oman",
          "Portugal",
          "Poland",
          "Singapore",
          "Morocco",
          "Japan",
          "Guatemala",
          "Switzerland",
          "Bahrain",
          "Honduras",
          "Nigeria",
          "Armenia",
          "Nepal",
          "Ireland",
          "Austria",
          "Ghana",
          "Algeria",
          "Ethiopia",
          "Moldova",
          "Costa Rica",
          "Uzbekistan",
          "Kyrgyzstan",
          "Azerbaijan",
          "Serbia",
          "Puerto Rico",
          "South Korea",
          "Kenya",
          "Palestine",
          "Denmark",
          "Australia",
          "El Salvador",
          "Cameroon",
          "Paraguay",
          "Bosnia and Herzegovina",
          "Cote d'Ivoire",
          "Norway",
          "Bulgaria",
          "Libya",
          "Malaysia",
          "Hungary",
          "Sudan",
          "Senegal",
          "Finland",
          "Madagascar",
          "Greece",
          "Kosovo",
          "Croatia",
          "Democratic Republic of Congo",
          "Guinea",
          "Luxembourg",
          "Zambia",
          "Tajikistan",
          "Albania",
          "Gabon",
          "Haiti",
          "Tunisia",
          "Maldives",
          "Mauritania",
          "Slovakia",
          "Djibouti",
          "Jordan",
          "Namibia",
          "Montenegro",
          "Thailand",
          "Myanmar",
          "Zimbabwe",
          "Central African Republic",
          "Equatorial Guinea",
          "Slovenia",
          "Malawi",
          "Nicaragua",
          "Mozambique",
          "Somalia",
          "Lithuania",
          "Congo",
          "Cape Verde",
          "Uganda",
          "Sri Lanka",
          "Estonia",
          "Georgia",
          "Iceland",
          "Mali",
          "Rwanda",
          "Jamaica",
          "Suriname",
          "Guinea-Bissau",
          "Angola",
          "Sierra Leone",
          "Latvia",
          "New Zealand",
          "Malta",
          "Benin",
          "Uruguay",
          "Bahamas",
          "Cyprus",
          "Burkina Faso",
          "Gambia",
          "Trinidad and Tobago",
          "Aruba",
          "Botswana",
          "Niger",
          "Togo",
          "Guyana",
          "Liberia",
          "Chad",
          "Vietnam",
          "Sao Tome and Principe",
          "Lesotho",
          "Belize",
          "Tanzania",
          "Mauritius",
          "Comoros",
          "Burundi",
          "Sint Maarten (Dutch part)",
          "Turks and Caicos Islands",
          "Mongolia",
          "Cambodia",
          "Papua New Guinea",
          "Cayman Islands",
          "Brunei",
          "Bermuda",
          "Barbados",
          "Curacao",
          "Seychelles",
          "Antigua and Barbuda",
          "Saint Vincent and the Grenadines",
          "Fiji",
          "Grenada",
          "Saint Lucia",
          "Laos",
          "Dominica",
          "Saint Kitts and Nevis",
          "Solomon Islands",
          "Hong Kong"
         ],
         "xaxis": "x",
         "y": [
          746014098,
          425704517,
          407771615,
          132888951,
          74882695,
          74347548,
          73717676,
          63027659,
          60543682,
          59475032,
          52421884,
          51268034,
          50752853,
          50084335,
          47155234,
          42447678,
          41431948,
          38585191,
          37738077,
          35266178,
          25280332,
          22409936,
          21632319,
          21570149,
          20902374,
          16351440,
          16202474,
          15805665,
          15192468,
          14408757,
          13194863,
          13026629,
          12422845,
          11910109,
          11858838,
          10672859,
          10649646,
          10622205,
          10595186,
          10371724,
          10247326,
          10060093,
          9266263,
          9239657,
          8191161,
          7839270,
          7659484,
          7644426,
          7552067,
          6549995,
          6545499,
          6107371,
          5474629,
          5243653,
          5239798,
          4909197,
          4900649,
          4893999,
          4876417,
          4632482,
          4631835,
          4421215,
          4287847,
          4236782,
          3984174,
          3586463,
          3333075,
          3277734,
          3249458,
          3030088,
          3012377,
          2573206,
          2476502,
          2265640,
          2200057,
          2132883,
          1985889,
          1890380,
          1817274,
          1774181,
          1708798,
          1663545,
          1586747,
          1458484,
          1443321,
          1421470,
          1345940,
          1314031,
          1271391,
          1195836,
          1146724,
          1129913,
          1117391,
          1071951,
          1031803,
          1023155,
          1000626,
          844040,
          799222,
          798665,
          781771,
          716514,
          681299,
          675912,
          655703,
          644209,
          593699,
          593048,
          557355,
          547075,
          536447,
          524410,
          510578,
          491145,
          488057,
          473368,
          463888,
          448728,
          446643,
          445402,
          431689,
          421210,
          390637,
          388775,
          370890,
          358632,
          306564,
          304005,
          268396,
          255964,
          253203,
          251261,
          245893,
          239884,
          237908,
          236673,
          231452,
          229521,
          225550,
          215110,
          205758,
          199978,
          169903,
          166917,
          159880,
          154173,
          122618,
          121909,
          107948,
          106383,
          91526,
          69524,
          52437,
          49745,
          48026,
          44432,
          42465,
          39539,
          35966,
          33173,
          30140,
          28876,
          24998,
          19777,
          14701,
          12619,
          7824,
          4742,
          4470,
          4450,
          4039,
          3977,
          3246,
          11,
          0
         ],
         "yaxis": "y"
        }
       ],
       "layout": {
        "barmode": "relative",
        "coloraxis": {
         "colorbar": {
          "title": {
           "text": "GDP Per Capita Before Covid"
          }
         },
         "colorscale": [
          [
           0,
           "#0d0887"
          ],
          [
           0.1111111111111111,
           "#46039f"
          ],
          [
           0.2222222222222222,
           "#7201a8"
          ],
          [
           0.3333333333333333,
           "#9c179e"
          ],
          [
           0.4444444444444444,
           "#bd3786"
          ],
          [
           0.5555555555555556,
           "#d8576b"
          ],
          [
           0.6666666666666666,
           "#ed7953"
          ],
          [
           0.7777777777777778,
           "#fb9f3a"
          ],
          [
           0.8888888888888888,
           "#fdca26"
          ],
          [
           1,
           "#f0f921"
          ]
         ]
        },
        "height": 400,
        "legend": {
         "tracegroupgap": 0
        },
        "template": {
         "data": {
          "bar": [
           {
            "error_x": {
             "color": "#2a3f5f"
            },
            "error_y": {
             "color": "#2a3f5f"
            },
            "marker": {
             "line": {
              "color": "#E5ECF6",
              "width": 0.5
             },
             "pattern": {
              "fillmode": "overlay",
              "size": 10,
              "solidity": 0.2
             }
            },
            "type": "bar"
           }
          ],
          "barpolar": [
           {
            "marker": {
             "line": {
              "color": "#E5ECF6",
              "width": 0.5
             },
             "pattern": {
              "fillmode": "overlay",
              "size": 10,
              "solidity": 0.2
             }
            },
            "type": "barpolar"
           }
          ],
          "carpet": [
           {
            "aaxis": {
             "endlinecolor": "#2a3f5f",
             "gridcolor": "white",
             "linecolor": "white",
             "minorgridcolor": "white",
             "startlinecolor": "#2a3f5f"
            },
            "baxis": {
             "endlinecolor": "#2a3f5f",
             "gridcolor": "white",
             "linecolor": "white",
             "minorgridcolor": "white",
             "startlinecolor": "#2a3f5f"
            },
            "type": "carpet"
           }
          ],
          "choropleth": [
           {
            "colorbar": {
             "outlinewidth": 0,
             "ticks": ""
            },
            "type": "choropleth"
           }
          ],
          "contour": [
           {
            "colorbar": {
             "outlinewidth": 0,
             "ticks": ""
            },
            "colorscale": [
             [
              0,
              "#0d0887"
             ],
             [
              0.1111111111111111,
              "#46039f"
             ],
             [
              0.2222222222222222,
              "#7201a8"
             ],
             [
              0.3333333333333333,
              "#9c179e"
             ],
             [
              0.4444444444444444,
              "#bd3786"
             ],
             [
              0.5555555555555556,
              "#d8576b"
             ],
             [
              0.6666666666666666,
              "#ed7953"
             ],
             [
              0.7777777777777778,
              "#fb9f3a"
             ],
             [
              0.8888888888888888,
              "#fdca26"
             ],
             [
              1,
              "#f0f921"
             ]
            ],
            "type": "contour"
           }
          ],
          "contourcarpet": [
           {
            "colorbar": {
             "outlinewidth": 0,
             "ticks": ""
            },
            "type": "contourcarpet"
           }
          ],
          "heatmap": [
           {
            "colorbar": {
             "outlinewidth": 0,
             "ticks": ""
            },
            "colorscale": [
             [
              0,
              "#0d0887"
             ],
             [
              0.1111111111111111,
              "#46039f"
             ],
             [
              0.2222222222222222,
              "#7201a8"
             ],
             [
              0.3333333333333333,
              "#9c179e"
             ],
             [
              0.4444444444444444,
              "#bd3786"
             ],
             [
              0.5555555555555556,
              "#d8576b"
             ],
             [
              0.6666666666666666,
              "#ed7953"
             ],
             [
              0.7777777777777778,
              "#fb9f3a"
             ],
             [
              0.8888888888888888,
              "#fdca26"
             ],
             [
              1,
              "#f0f921"
             ]
            ],
            "type": "heatmap"
           }
          ],
          "heatmapgl": [
           {
            "colorbar": {
             "outlinewidth": 0,
             "ticks": ""
            },
            "colorscale": [
             [
              0,
              "#0d0887"
             ],
             [
              0.1111111111111111,
              "#46039f"
             ],
             [
              0.2222222222222222,
              "#7201a8"
             ],
             [
              0.3333333333333333,
              "#9c179e"
             ],
             [
              0.4444444444444444,
              "#bd3786"
             ],
             [
              0.5555555555555556,
              "#d8576b"
             ],
             [
              0.6666666666666666,
              "#ed7953"
             ],
             [
              0.7777777777777778,
              "#fb9f3a"
             ],
             [
              0.8888888888888888,
              "#fdca26"
             ],
             [
              1,
              "#f0f921"
             ]
            ],
            "type": "heatmapgl"
           }
          ],
          "histogram": [
           {
            "marker": {
             "pattern": {
              "fillmode": "overlay",
              "size": 10,
              "solidity": 0.2
             }
            },
            "type": "histogram"
           }
          ],
          "histogram2d": [
           {
            "colorbar": {
             "outlinewidth": 0,
             "ticks": ""
            },
            "colorscale": [
             [
              0,
              "#0d0887"
             ],
             [
              0.1111111111111111,
              "#46039f"
             ],
             [
              0.2222222222222222,
              "#7201a8"
             ],
             [
              0.3333333333333333,
              "#9c179e"
             ],
             [
              0.4444444444444444,
              "#bd3786"
             ],
             [
              0.5555555555555556,
              "#d8576b"
             ],
             [
              0.6666666666666666,
              "#ed7953"
             ],
             [
              0.7777777777777778,
              "#fb9f3a"
             ],
             [
              0.8888888888888888,
              "#fdca26"
             ],
             [
              1,
              "#f0f921"
             ]
            ],
            "type": "histogram2d"
           }
          ],
          "histogram2dcontour": [
           {
            "colorbar": {
             "outlinewidth": 0,
             "ticks": ""
            },
            "colorscale": [
             [
              0,
              "#0d0887"
             ],
             [
              0.1111111111111111,
              "#46039f"
             ],
             [
              0.2222222222222222,
              "#7201a8"
             ],
             [
              0.3333333333333333,
              "#9c179e"
             ],
             [
              0.4444444444444444,
              "#bd3786"
             ],
             [
              0.5555555555555556,
              "#d8576b"
             ],
             [
              0.6666666666666666,
              "#ed7953"
             ],
             [
              0.7777777777777778,
              "#fb9f3a"
             ],
             [
              0.8888888888888888,
              "#fdca26"
             ],
             [
              1,
              "#f0f921"
             ]
            ],
            "type": "histogram2dcontour"
           }
          ],
          "mesh3d": [
           {
            "colorbar": {
             "outlinewidth": 0,
             "ticks": ""
            },
            "type": "mesh3d"
           }
          ],
          "parcoords": [
           {
            "line": {
             "colorbar": {
              "outlinewidth": 0,
              "ticks": ""
             }
            },
            "type": "parcoords"
           }
          ],
          "pie": [
           {
            "automargin": true,
            "type": "pie"
           }
          ],
          "scatter": [
           {
            "fillpattern": {
             "fillmode": "overlay",
             "size": 10,
             "solidity": 0.2
            },
            "type": "scatter"
           }
          ],
          "scatter3d": [
           {
            "line": {
             "colorbar": {
              "outlinewidth": 0,
              "ticks": ""
             }
            },
            "marker": {
             "colorbar": {
              "outlinewidth": 0,
              "ticks": ""
             }
            },
            "type": "scatter3d"
           }
          ],
          "scattercarpet": [
           {
            "marker": {
             "colorbar": {
              "outlinewidth": 0,
              "ticks": ""
             }
            },
            "type": "scattercarpet"
           }
          ],
          "scattergeo": [
           {
            "marker": {
             "colorbar": {
              "outlinewidth": 0,
              "ticks": ""
             }
            },
            "type": "scattergeo"
           }
          ],
          "scattergl": [
           {
            "marker": {
             "colorbar": {
              "outlinewidth": 0,
              "ticks": ""
             }
            },
            "type": "scattergl"
           }
          ],
          "scattermapbox": [
           {
            "marker": {
             "colorbar": {
              "outlinewidth": 0,
              "ticks": ""
             }
            },
            "type": "scattermapbox"
           }
          ],
          "scatterpolar": [
           {
            "marker": {
             "colorbar": {
              "outlinewidth": 0,
              "ticks": ""
             }
            },
            "type": "scatterpolar"
           }
          ],
          "scatterpolargl": [
           {
            "marker": {
             "colorbar": {
              "outlinewidth": 0,
              "ticks": ""
             }
            },
            "type": "scatterpolargl"
           }
          ],
          "scatterternary": [
           {
            "marker": {
             "colorbar": {
              "outlinewidth": 0,
              "ticks": ""
             }
            },
            "type": "scatterternary"
           }
          ],
          "surface": [
           {
            "colorbar": {
             "outlinewidth": 0,
             "ticks": ""
            },
            "colorscale": [
             [
              0,
              "#0d0887"
             ],
             [
              0.1111111111111111,
              "#46039f"
             ],
             [
              0.2222222222222222,
              "#7201a8"
             ],
             [
              0.3333333333333333,
              "#9c179e"
             ],
             [
              0.4444444444444444,
              "#bd3786"
             ],
             [
              0.5555555555555556,
              "#d8576b"
             ],
             [
              0.6666666666666666,
              "#ed7953"
             ],
             [
              0.7777777777777778,
              "#fb9f3a"
             ],
             [
              0.8888888888888888,
              "#fdca26"
             ],
             [
              1,
              "#f0f921"
             ]
            ],
            "type": "surface"
           }
          ],
          "table": [
           {
            "cells": {
             "fill": {
              "color": "#EBF0F8"
             },
             "line": {
              "color": "white"
             }
            },
            "header": {
             "fill": {
              "color": "#C8D4E3"
             },
             "line": {
              "color": "white"
             }
            },
            "type": "table"
           }
          ]
         },
         "layout": {
          "annotationdefaults": {
           "arrowcolor": "#2a3f5f",
           "arrowhead": 0,
           "arrowwidth": 1
          },
          "autotypenumbers": "strict",
          "coloraxis": {
           "colorbar": {
            "outlinewidth": 0,
            "ticks": ""
           }
          },
          "colorscale": {
           "diverging": [
            [
             0,
             "#8e0152"
            ],
            [
             0.1,
             "#c51b7d"
            ],
            [
             0.2,
             "#de77ae"
            ],
            [
             0.3,
             "#f1b6da"
            ],
            [
             0.4,
             "#fde0ef"
            ],
            [
             0.5,
             "#f7f7f7"
            ],
            [
             0.6,
             "#e6f5d0"
            ],
            [
             0.7,
             "#b8e186"
            ],
            [
             0.8,
             "#7fbc41"
            ],
            [
             0.9,
             "#4d9221"
            ],
            [
             1,
             "#276419"
            ]
           ],
           "sequential": [
            [
             0,
             "#0d0887"
            ],
            [
             0.1111111111111111,
             "#46039f"
            ],
            [
             0.2222222222222222,
             "#7201a8"
            ],
            [
             0.3333333333333333,
             "#9c179e"
            ],
            [
             0.4444444444444444,
             "#bd3786"
            ],
            [
             0.5555555555555556,
             "#d8576b"
            ],
            [
             0.6666666666666666,
             "#ed7953"
            ],
            [
             0.7777777777777778,
             "#fb9f3a"
            ],
            [
             0.8888888888888888,
             "#fdca26"
            ],
            [
             1,
             "#f0f921"
            ]
           ],
           "sequentialminus": [
            [
             0,
             "#0d0887"
            ],
            [
             0.1111111111111111,
             "#46039f"
            ],
            [
             0.2222222222222222,
             "#7201a8"
            ],
            [
             0.3333333333333333,
             "#9c179e"
            ],
            [
             0.4444444444444444,
             "#bd3786"
            ],
            [
             0.5555555555555556,
             "#d8576b"
            ],
            [
             0.6666666666666666,
             "#ed7953"
            ],
            [
             0.7777777777777778,
             "#fb9f3a"
            ],
            [
             0.8888888888888888,
             "#fdca26"
            ],
            [
             1,
             "#f0f921"
            ]
           ]
          },
          "colorway": [
           "#636efa",
           "#EF553B",
           "#00cc96",
           "#ab63fa",
           "#FFA15A",
           "#19d3f3",
           "#FF6692",
           "#B6E880",
           "#FF97FF",
           "#FECB52"
          ],
          "font": {
           "color": "#2a3f5f"
          },
          "geo": {
           "bgcolor": "white",
           "lakecolor": "white",
           "landcolor": "#E5ECF6",
           "showlakes": true,
           "showland": true,
           "subunitcolor": "white"
          },
          "hoverlabel": {
           "align": "left"
          },
          "hovermode": "closest",
          "mapbox": {
           "style": "light"
          },
          "paper_bgcolor": "white",
          "plot_bgcolor": "#E5ECF6",
          "polar": {
           "angularaxis": {
            "gridcolor": "white",
            "linecolor": "white",
            "ticks": ""
           },
           "bgcolor": "#E5ECF6",
           "radialaxis": {
            "gridcolor": "white",
            "linecolor": "white",
            "ticks": ""
           }
          },
          "scene": {
           "xaxis": {
            "backgroundcolor": "#E5ECF6",
            "gridcolor": "white",
            "gridwidth": 2,
            "linecolor": "white",
            "showbackground": true,
            "ticks": "",
            "zerolinecolor": "white"
           },
           "yaxis": {
            "backgroundcolor": "#E5ECF6",
            "gridcolor": "white",
            "gridwidth": 2,
            "linecolor": "white",
            "showbackground": true,
            "ticks": "",
            "zerolinecolor": "white"
           },
           "zaxis": {
            "backgroundcolor": "#E5ECF6",
            "gridcolor": "white",
            "gridwidth": 2,
            "linecolor": "white",
            "showbackground": true,
            "ticks": "",
            "zerolinecolor": "white"
           }
          },
          "shapedefaults": {
           "line": {
            "color": "#2a3f5f"
           }
          },
          "ternary": {
           "aaxis": {
            "gridcolor": "white",
            "linecolor": "white",
            "ticks": ""
           },
           "baxis": {
            "gridcolor": "white",
            "linecolor": "white",
            "ticks": ""
           },
           "bgcolor": "#E5ECF6",
           "caxis": {
            "gridcolor": "white",
            "linecolor": "white",
            "ticks": ""
           }
          },
          "title": {
           "x": 0.05
          },
          "xaxis": {
           "automargin": true,
           "gridcolor": "white",
           "linecolor": "white",
           "ticks": "",
           "title": {
            "standoff": 15
           },
           "zerolinecolor": "white",
           "zerolinewidth": 2
          },
          "yaxis": {
           "automargin": true,
           "gridcolor": "white",
           "linecolor": "white",
           "ticks": "",
           "title": {
            "standoff": 15
           },
           "zerolinecolor": "white",
           "zerolinewidth": 2
          }
         }
        },
        "title": {
         "text": "GDP Per Capita before Covid-19"
        },
        "xaxis": {
         "anchor": "y",
         "domain": [
          0,
          1
         ],
         "title": {
          "text": "Country"
         }
        },
        "yaxis": {
         "anchor": "x",
         "domain": [
          0,
          1
         ],
         "title": {
          "text": "Total Cases"
         }
        }
       }
      }
     },
     "metadata": {},
     "output_type": "display_data"
    }
   ],
   "source": [
    "# %%\n",
    "# Analyzing Covid-19 Impacts on Economy\n",
    "fig = px.bar(data, x = 'Country', y = 'Total Cases', \n",
    "             hover_data=['Population', 'Total Deaths'],\n",
    "             color = \"GDP Per Capita Before Covid\", height= 400,\n",
    "             title = \"GDP Per Capita before Covid-19\")\n",
    "fig.show()"
   ]
  },
  {
   "cell_type": "code",
   "execution_count": 17,
   "metadata": {},
   "outputs": [
    {
     "data": {
      "application/vnd.plotly.v1+json": {
       "config": {
        "plotlyServerURL": "https://plot.ly"
       },
       "data": [
        {
         "alignmentgroup": "True",
         "customdata": [
          [
           15.58201085,
           26477574
          ],
          [
           13.55623711,
           14340567
          ],
          [
           17.25184806,
           7247327
          ],
          [
           17.25770384,
           2131571
          ],
          [
           18.67480153,
           3020038
          ],
          [
           14.47446683,
           7295850
          ],
          [
           18.51217534,
           5510624
          ],
          [
           15.78017657,
           1357682
          ],
          [
           13.22850199,
           1936134
          ],
          [
           15.89207108,
           7249573
          ],
          [
           16.15953083,
           2914070
          ],
          [
           17.09438451,
           1283880
          ],
          [
           16.70118056,
           6664225
          ],
          [
           16.68585306,
           5633444
          ],
          [
           17.3079574,
           1077426
          ],
          [
           15.08145118,
           1640691
          ],
          [
           12.2975619,
           1049757
          ],
          [
           15.38874766,
           442507
          ],
          [
           13.20032762,
           789557
          ],
          [
           16.13191719,
           484534
          ],
          [
           10.94679853,
           744253
          ],
          [
           15.21025983,
           448665
          ],
          [
           17.44628825,
           1066939
          ],
          [
           10.42498602,
           916111
          ],
          [
           12.98879313,
           1455549
          ],
          [
           8.516993171,
           23820
          ],
          [
           12.03636915,
           126278
          ],
          [
           15.73310882,
           343334
          ],
          [
           18.91957173,
           1798461
          ],
          [
           12.00823128,
           1083749
          ],
          [
           13.57542301,
           161480
          ],
          [
           10.54894022,
           1142410
          ],
          [
           13.68300607,
           644416
          ],
          [
           14.87366884,
           941063
          ],
          [
           12.89325457,
           578559
          ],
          [
           17.42400819,
           464952
          ],
          [
           16.24266591,
           209024
          ],
          [
           15.8300119,
           69104
          ],
          [
           14.34706955,
           88409
          ],
          [
           12.99802163,
           222435
          ],
          [
           11.49618614,
           58035
          ],
          [
           17.29261899,
           73391
          ],
          [
           15.00283311,
           302612
          ],
          [
           10.57755385,
           304001
          ],
          [
           15.5058355,
           4691
          ],
          [
           14.45007584,
           142270
          ],
          [
           16.39062287,
           194918
          ],
          [
           8.15564927,
           281588
          ],
          [
           16.77238152,
           320693
          ],
          [
           16.01344599,
           22413
          ],
          [
           14.61559461,
           200844
          ],
          [
           17.13661869,
           125473
          ],
          [
           9.615938805,
           102039
          ],
          [
           15.74286198,
           27737
          ],
          [
           11.63087738,
           310201
          ],
          [
           14.9017918,
           134945
          ],
          [
           14.09808385,
           29143
          ],
          [
           14.87253667,
           206429
          ],
          [
           13.80344,
           77686
          ],
          [
           15.26725623,
           129946
          ],
          [
           16.61436742,
           50352
          ],
          [
           15.51289396,
           31903
          ],
          [
           16.08354044,
           114922
          ],
          [
           11.5783948,
           59495
          ],
          [
           17.00213737,
           87503
          ],
          [
           13.35039417,
           54940
          ],
          [
           17.3111646,
           63333
          ],
          [
           16.24934608,
           59485
          ],
          [
           16.82370654,
           21522
          ],
          [
           15.44359631,
           113280
          ],
          [
           17.62651421,
           65029
          ],
          [
           16.18659339,
           71957
          ],
          [
           10.31682162,
           56606
          ],
          [
           14.05591783,
           42850
          ],
          [
           16.31063137,
           70578
          ],
          [
           16.76604717,
           14220
          ],
          [
           16.76676599,
           47158
          ],
          [
           10.1743159,
           72850
          ],
          [
           17.50993717,
           29730
          ],
          [
           14.90109198,
           24012
          ],
          [
           15.199095,
           110142
          ],
          [
           16.13757538,
           102825
          ],
          [
           15.70629361,
           30320
          ],
          [
           16.19948244,
           58377
          ],
          [
           15.97371025,
           17744
          ],
          [
           18.56012597,
           44805
          ],
          [
           16.10851066,
           47571
          ],
          [
           21.08743924,
           28757
          ],
          [
           15.52354271,
           32040
          ],
          [
           13.7061911,
           7283
          ],
          [
           11.35078294,
           21907
          ],
          [
           13.43991197,
           26475
          ],
          [
           18.79866817,
           9730
          ],
          [
           17.4772331,
           31056
          ],
          [
           18.44375647,
           6877
          ],
          [
           12.54576825,
           23891
          ],
          [
           10.43229061,
           19025
          ],
          [
           18.65556675,
           3054
          ],
          [
           16.74812767,
           19810
          ],
          [
           19.21318595,
           6055
          ],
          [
           17.08805131,
           8006
          ],
          [
           14.49252734,
           5653
          ],
          [
           15.43641784,
           6634
          ],
          [
           15.80003079,
           11356
          ],
          [
           10.88166329,
           11162
          ],
          [
           14.57736817,
           13973
          ],
          [
           16.5814031,
           15984
          ],
          [
           16.29127395,
           7108
          ],
          [
           18.31043503,
           8947
          ],
          [
           15.44502871,
           22165
          ],
          [
           17.91752278,
           15480
          ],
          [
           13.34706731,
           16410
          ],
          [
           15.73616766,
           3396
          ],
          [
           16.00683186,
           15001
          ],
          [
           15.41242964,
           14345
          ],
          [
           15.39030816,
           9298
          ],
          [
           15.75402845,
           4749
          ],
          [
           16.63354636,
           3748
          ],
          [
           17.44905184,
           2108
          ],
          [
           15.57202326,
           11802
          ],
          [
           14.15411267,
           4013
          ],
          [
           18.24375196,
           1968
          ],
          [
           11.52359831,
           18813
          ],
          [
           17.81205473,
           1744
          ],
          [
           11.11322372,
           5653
          ],
          [
           14.86662585,
           6961
          ],
          [
           15.52763465,
           4199
          ],
          [
           17.59630906,
           11820
          ],
          [
           10.96053104,
           10036
          ],
          [
           21.04535251,
           5376
          ],
          [
           14.81698436,
           4145
          ],
          [
           16.13820607,
           2409
          ],
          [
           16.06145345,
           4374
          ],
          [
           10.66620744,
           6083
          ],
          [
           17.05418434,
           5998
          ],
          [
           13.67578287,
           3735
          ],
          [
           15.00360243,
           10248
          ],
          [
           15.68518756,
           7201
          ],
          [
           11.61680789,
           4519
          ],
          [
           11.49198779,
           1624
          ],
          [
           11.03928322,
           895
          ],
          [
           14.54950213,
           11676
          ],
          [
           12.1206727,
           4197
          ],
          [
           17.99409688,
           5783
          ],
          [
           18.24624346,
           10087
          ],
          [
           16.63205462,
           12212
          ],
          [
           14.54736486,
           2318
          ],
          [
           12.56196578,
           2198
          ],
          [
           19.42689854,
           2680
          ],
          [
           12.56852934,
           1613
          ],
          [
           16.37677691,
           3733
          ],
          [
           17.80025043,
           1988
          ],
          [
           11.09315857,
           920
          ],
          [
           14.67061714,
           188
          ],
          [
           15.44604869,
           3146
          ],
          [
           17.36552634,
           476
          ],
          [
           15.69102752,
           0
          ],
          [
           19.17473208,
           0
          ],
          [
           15.35230466,
           417
          ],
          [
           16.85541655,
           213
          ],
          [
           16.27279152,
           475
          ],
          [
           16.26562008,
           1631
          ],
          [
           12.88219574,
           1321
          ],
          [
           17.74503716,
           207
          ],
          [
           19.1440641,
           0
          ],
          [
           11.25499635,
           568
          ],
          [
           16.6566263,
           0
          ],
          [
           11.18429639,
           132
          ],
          [
           10.79681667,
           0
          ],
          [
           17.18751281,
           0
          ],
          [
           12.74037063,
           0
          ],
          [
           15.22778158,
           0
          ],
          [
           14.7480352,
           0
          ],
          [
           15.27755412,
           0
          ],
          [
           14.69789863,
           0
          ]
         ],
         "hovertemplate": "Country=%{x}<br>Total Cases=%{y}<br>Population=%{customdata[0]}<br>Total Deaths=%{customdata[1]}<br>GDP Per Capita During Covid=%{marker.color}<extra></extra>",
         "legendgroup": "",
         "marker": {
          "color": [
           63635.824,
           14735.582,
           6677.185,
           28057.031,
           12533.842,
           19617.76,
           38319.29,
           13337.79,
           14661.213,
           45567.57,
           15004.6875,
           25412.752,
           42562.555,
           44941.438,
           21599.797,
           53395.65,
           31722.16,
           46768.434,
           5233.4595,
           5911.013,
           8786.582,
           8095.5796,
           17657.656,
           11859.437,
           48356.332,
           92895.34,
           42379.156,
           12949.326,
           52174.906,
           10668.758,
           26110.53,
           57334.703,
           12180.451,
           54160.367,
           8052.6,
           30946.277,
           18626.078,
           45579.688,
           19872.693,
           30416.793,
           70028.02,
           34294.766,
           33636.44,
           34944.04,
           107741.12,
           8065.986,
           41258.71,
           8927.302,
           71044.87,
           49754.047,
           5572.177,
           4922.6323,
           14206.545,
           3853.6802,
           104671.875,
           53817.305,
           5420.792,
           11029.139,
           2319.1611,
           13703.939,
           21220.162,
           7800.5015,
           4910.0864,
           14433.904,
           19860.31,
           32766.666,
           44299.91,
           4745.637,
           5641.0444,
           58802.96,
           49609.23,
           9190.174,
           3689.359,
           13676.391,
           15893.156,
           5316.464,
           65915.53,
           24386.18,
           20273.88,
           26407.316,
           33583.785,
           3701.069,
           3511.6375,
           48614.82,
           1482.3761,
           29630.93,
           11884.182,
           32060.504,
           1073.6433,
           2640.3442,
           118510,
           3287.4204,
           3910.4626,
           14596.016,
           13822.509,
           2881.1765,
           10395.913,
           18757.78,
           5142.2812,
           32512.695,
           4905.192,
           9380.045,
           9208.583,
           20710.535,
           17087.21,
           4113.8936,
           2115.1445,
           838.19293,
           14730.601,
           40104.36,
           1491.1337,
           5692.035,
           1231.8641,
           1458.2279,
           39432.402,
           3700.27,
           6356.745,
           2246.414,
           13250.63,
           38717.695,
           15486.659,
           53135.953,
           2120.6233,
           2237.514,
           9605.191,
           14811.24,
           1831.3832,
           5911.8354,
           1614.8599,
           31833.842,
           44041.902,
           46598.96,
           3321.552,
           23257.256,
           30463.084,
           43417.27,
           2176.0933,
           2076.5664,
           23036.256,
           37333.516,
           14906.897,
           1186.53,
           2130.859,
           21925.223,
           1423.2296,
           1425.4945,
           10628.22,
           3502.4353,
           2239.3052,
           8826.859,
           2584.3977,
           20915.217,
           3228.5269,
           714.0667,
           38360.527,
           19763.545,
           11668.431,
           4354.5654,
           3637.9133,
           69400.67,
           60127.023,
           78570.49,
           13869.242,
           21090.889,
           27928.373,
           20501.162,
           13839.464,
           10379.567,
           13688.298,
           13045.966,
           7846.975,
           10899.414,
           26460.477,
           2397.3228,
           60037.445
          ],
          "coloraxis": "coloraxis",
          "pattern": {
           "shape": ""
          }
         },
         "name": "",
         "offsetgroup": "",
         "orientation": "v",
         "showlegend": false,
         "textposition": "auto",
         "type": "bar",
         "x": [
          "United States",
          "Brazil",
          "India",
          "Russia",
          "Peru",
          "Mexico",
          "Spain",
          "South Africa",
          "Colombia",
          "United Kingdom",
          "Iran",
          "Chile",
          "Italy",
          "France",
          "Argentina",
          "Germany",
          "Turkey",
          "Saudi Arabia",
          "Pakistan",
          "Bangladesh",
          "Iraq",
          "Philippines",
          "China",
          "Indonesia",
          "Canada",
          "Qatar",
          "Israel",
          "Ukraine",
          "Belgium",
          "Ecuador",
          "Kazakhstan",
          "Netherlands",
          "Egypt",
          "Sweden",
          "Bolivia",
          "Romania",
          "Dominican Republic",
          "Kuwait",
          "Belarus",
          "Panama",
          "United Arab Emirates",
          "Oman",
          "Portugal",
          "Poland",
          "Singapore",
          "Morocco",
          "Japan",
          "Guatemala",
          "Switzerland",
          "Bahrain",
          "Honduras",
          "Nigeria",
          "Armenia",
          "Nepal",
          "Ireland",
          "Austria",
          "Ghana",
          "Algeria",
          "Ethiopia",
          "Moldova",
          "Costa Rica",
          "Uzbekistan",
          "Kyrgyzstan",
          "Azerbaijan",
          "Serbia",
          "Puerto Rico",
          "South Korea",
          "Kenya",
          "Palestine",
          "Denmark",
          "Australia",
          "El Salvador",
          "Cameroon",
          "Paraguay",
          "Bosnia and Herzegovina",
          "Cote d'Ivoire",
          "Norway",
          "Bulgaria",
          "Libya",
          "Malaysia",
          "Hungary",
          "Sudan",
          "Senegal",
          "Finland",
          "Madagascar",
          "Greece",
          "Kosovo",
          "Croatia",
          "Democratic Republic of Congo",
          "Guinea",
          "Luxembourg",
          "Zambia",
          "Tajikistan",
          "Albania",
          "Gabon",
          "Haiti",
          "Tunisia",
          "Maldives",
          "Mauritania",
          "Slovakia",
          "Djibouti",
          "Jordan",
          "Namibia",
          "Montenegro",
          "Thailand",
          "Myanmar",
          "Zimbabwe",
          "Central African Republic",
          "Equatorial Guinea",
          "Slovenia",
          "Malawi",
          "Nicaragua",
          "Mozambique",
          "Somalia",
          "Lithuania",
          "Congo",
          "Cape Verde",
          "Uganda",
          "Sri Lanka",
          "Estonia",
          "Georgia",
          "Iceland",
          "Mali",
          "Rwanda",
          "Jamaica",
          "Suriname",
          "Guinea-Bissau",
          "Angola",
          "Sierra Leone",
          "Latvia",
          "New Zealand",
          "Malta",
          "Benin",
          "Uruguay",
          "Bahamas",
          "Cyprus",
          "Burkina Faso",
          "Gambia",
          "Trinidad and Tobago",
          "Aruba",
          "Botswana",
          "Niger",
          "Togo",
          "Guyana",
          "Liberia",
          "Chad",
          "Vietnam",
          "Sao Tome and Principe",
          "Lesotho",
          "Belize",
          "Tanzania",
          "Mauritius",
          "Comoros",
          "Burundi",
          "Sint Maarten (Dutch part)",
          "Turks and Caicos Islands",
          "Mongolia",
          "Cambodia",
          "Papua New Guinea",
          "Cayman Islands",
          "Brunei",
          "Bermuda",
          "Barbados",
          "Curacao",
          "Seychelles",
          "Antigua and Barbuda",
          "Saint Vincent and the Grenadines",
          "Fiji",
          "Grenada",
          "Saint Lucia",
          "Laos",
          "Dominica",
          "Saint Kitts and Nevis",
          "Solomon Islands",
          "Hong Kong"
         ],
         "xaxis": "x",
         "y": [
          746014098,
          425704517,
          407771615,
          132888951,
          74882695,
          74347548,
          73717676,
          63027659,
          60543682,
          59475032,
          52421884,
          51268034,
          50752853,
          50084335,
          47155234,
          42447678,
          41431948,
          38585191,
          37738077,
          35266178,
          25280332,
          22409936,
          21632319,
          21570149,
          20902374,
          16351440,
          16202474,
          15805665,
          15192468,
          14408757,
          13194863,
          13026629,
          12422845,
          11910109,
          11858838,
          10672859,
          10649646,
          10622205,
          10595186,
          10371724,
          10247326,
          10060093,
          9266263,
          9239657,
          8191161,
          7839270,
          7659484,
          7644426,
          7552067,
          6549995,
          6545499,
          6107371,
          5474629,
          5243653,
          5239798,
          4909197,
          4900649,
          4893999,
          4876417,
          4632482,
          4631835,
          4421215,
          4287847,
          4236782,
          3984174,
          3586463,
          3333075,
          3277734,
          3249458,
          3030088,
          3012377,
          2573206,
          2476502,
          2265640,
          2200057,
          2132883,
          1985889,
          1890380,
          1817274,
          1774181,
          1708798,
          1663545,
          1586747,
          1458484,
          1443321,
          1421470,
          1345940,
          1314031,
          1271391,
          1195836,
          1146724,
          1129913,
          1117391,
          1071951,
          1031803,
          1023155,
          1000626,
          844040,
          799222,
          798665,
          781771,
          716514,
          681299,
          675912,
          655703,
          644209,
          593699,
          593048,
          557355,
          547075,
          536447,
          524410,
          510578,
          491145,
          488057,
          473368,
          463888,
          448728,
          446643,
          445402,
          431689,
          421210,
          390637,
          388775,
          370890,
          358632,
          306564,
          304005,
          268396,
          255964,
          253203,
          251261,
          245893,
          239884,
          237908,
          236673,
          231452,
          229521,
          225550,
          215110,
          205758,
          199978,
          169903,
          166917,
          159880,
          154173,
          122618,
          121909,
          107948,
          106383,
          91526,
          69524,
          52437,
          49745,
          48026,
          44432,
          42465,
          39539,
          35966,
          33173,
          30140,
          28876,
          24998,
          19777,
          14701,
          12619,
          7824,
          4742,
          4470,
          4450,
          4039,
          3977,
          3246,
          11,
          0
         ],
         "yaxis": "y"
        }
       ],
       "layout": {
        "barmode": "relative",
        "coloraxis": {
         "colorbar": {
          "title": {
           "text": "GDP Per Capita During Covid"
          }
         },
         "colorscale": [
          [
           0,
           "#0d0887"
          ],
          [
           0.1111111111111111,
           "#46039f"
          ],
          [
           0.2222222222222222,
           "#7201a8"
          ],
          [
           0.3333333333333333,
           "#9c179e"
          ],
          [
           0.4444444444444444,
           "#bd3786"
          ],
          [
           0.5555555555555556,
           "#d8576b"
          ],
          [
           0.6666666666666666,
           "#ed7953"
          ],
          [
           0.7777777777777778,
           "#fb9f3a"
          ],
          [
           0.8888888888888888,
           "#fdca26"
          ],
          [
           1,
           "#f0f921"
          ]
         ]
        },
        "height": 400,
        "legend": {
         "tracegroupgap": 0
        },
        "template": {
         "data": {
          "bar": [
           {
            "error_x": {
             "color": "#2a3f5f"
            },
            "error_y": {
             "color": "#2a3f5f"
            },
            "marker": {
             "line": {
              "color": "#E5ECF6",
              "width": 0.5
             },
             "pattern": {
              "fillmode": "overlay",
              "size": 10,
              "solidity": 0.2
             }
            },
            "type": "bar"
           }
          ],
          "barpolar": [
           {
            "marker": {
             "line": {
              "color": "#E5ECF6",
              "width": 0.5
             },
             "pattern": {
              "fillmode": "overlay",
              "size": 10,
              "solidity": 0.2
             }
            },
            "type": "barpolar"
           }
          ],
          "carpet": [
           {
            "aaxis": {
             "endlinecolor": "#2a3f5f",
             "gridcolor": "white",
             "linecolor": "white",
             "minorgridcolor": "white",
             "startlinecolor": "#2a3f5f"
            },
            "baxis": {
             "endlinecolor": "#2a3f5f",
             "gridcolor": "white",
             "linecolor": "white",
             "minorgridcolor": "white",
             "startlinecolor": "#2a3f5f"
            },
            "type": "carpet"
           }
          ],
          "choropleth": [
           {
            "colorbar": {
             "outlinewidth": 0,
             "ticks": ""
            },
            "type": "choropleth"
           }
          ],
          "contour": [
           {
            "colorbar": {
             "outlinewidth": 0,
             "ticks": ""
            },
            "colorscale": [
             [
              0,
              "#0d0887"
             ],
             [
              0.1111111111111111,
              "#46039f"
             ],
             [
              0.2222222222222222,
              "#7201a8"
             ],
             [
              0.3333333333333333,
              "#9c179e"
             ],
             [
              0.4444444444444444,
              "#bd3786"
             ],
             [
              0.5555555555555556,
              "#d8576b"
             ],
             [
              0.6666666666666666,
              "#ed7953"
             ],
             [
              0.7777777777777778,
              "#fb9f3a"
             ],
             [
              0.8888888888888888,
              "#fdca26"
             ],
             [
              1,
              "#f0f921"
             ]
            ],
            "type": "contour"
           }
          ],
          "contourcarpet": [
           {
            "colorbar": {
             "outlinewidth": 0,
             "ticks": ""
            },
            "type": "contourcarpet"
           }
          ],
          "heatmap": [
           {
            "colorbar": {
             "outlinewidth": 0,
             "ticks": ""
            },
            "colorscale": [
             [
              0,
              "#0d0887"
             ],
             [
              0.1111111111111111,
              "#46039f"
             ],
             [
              0.2222222222222222,
              "#7201a8"
             ],
             [
              0.3333333333333333,
              "#9c179e"
             ],
             [
              0.4444444444444444,
              "#bd3786"
             ],
             [
              0.5555555555555556,
              "#d8576b"
             ],
             [
              0.6666666666666666,
              "#ed7953"
             ],
             [
              0.7777777777777778,
              "#fb9f3a"
             ],
             [
              0.8888888888888888,
              "#fdca26"
             ],
             [
              1,
              "#f0f921"
             ]
            ],
            "type": "heatmap"
           }
          ],
          "heatmapgl": [
           {
            "colorbar": {
             "outlinewidth": 0,
             "ticks": ""
            },
            "colorscale": [
             [
              0,
              "#0d0887"
             ],
             [
              0.1111111111111111,
              "#46039f"
             ],
             [
              0.2222222222222222,
              "#7201a8"
             ],
             [
              0.3333333333333333,
              "#9c179e"
             ],
             [
              0.4444444444444444,
              "#bd3786"
             ],
             [
              0.5555555555555556,
              "#d8576b"
             ],
             [
              0.6666666666666666,
              "#ed7953"
             ],
             [
              0.7777777777777778,
              "#fb9f3a"
             ],
             [
              0.8888888888888888,
              "#fdca26"
             ],
             [
              1,
              "#f0f921"
             ]
            ],
            "type": "heatmapgl"
           }
          ],
          "histogram": [
           {
            "marker": {
             "pattern": {
              "fillmode": "overlay",
              "size": 10,
              "solidity": 0.2
             }
            },
            "type": "histogram"
           }
          ],
          "histogram2d": [
           {
            "colorbar": {
             "outlinewidth": 0,
             "ticks": ""
            },
            "colorscale": [
             [
              0,
              "#0d0887"
             ],
             [
              0.1111111111111111,
              "#46039f"
             ],
             [
              0.2222222222222222,
              "#7201a8"
             ],
             [
              0.3333333333333333,
              "#9c179e"
             ],
             [
              0.4444444444444444,
              "#bd3786"
             ],
             [
              0.5555555555555556,
              "#d8576b"
             ],
             [
              0.6666666666666666,
              "#ed7953"
             ],
             [
              0.7777777777777778,
              "#fb9f3a"
             ],
             [
              0.8888888888888888,
              "#fdca26"
             ],
             [
              1,
              "#f0f921"
             ]
            ],
            "type": "histogram2d"
           }
          ],
          "histogram2dcontour": [
           {
            "colorbar": {
             "outlinewidth": 0,
             "ticks": ""
            },
            "colorscale": [
             [
              0,
              "#0d0887"
             ],
             [
              0.1111111111111111,
              "#46039f"
             ],
             [
              0.2222222222222222,
              "#7201a8"
             ],
             [
              0.3333333333333333,
              "#9c179e"
             ],
             [
              0.4444444444444444,
              "#bd3786"
             ],
             [
              0.5555555555555556,
              "#d8576b"
             ],
             [
              0.6666666666666666,
              "#ed7953"
             ],
             [
              0.7777777777777778,
              "#fb9f3a"
             ],
             [
              0.8888888888888888,
              "#fdca26"
             ],
             [
              1,
              "#f0f921"
             ]
            ],
            "type": "histogram2dcontour"
           }
          ],
          "mesh3d": [
           {
            "colorbar": {
             "outlinewidth": 0,
             "ticks": ""
            },
            "type": "mesh3d"
           }
          ],
          "parcoords": [
           {
            "line": {
             "colorbar": {
              "outlinewidth": 0,
              "ticks": ""
             }
            },
            "type": "parcoords"
           }
          ],
          "pie": [
           {
            "automargin": true,
            "type": "pie"
           }
          ],
          "scatter": [
           {
            "fillpattern": {
             "fillmode": "overlay",
             "size": 10,
             "solidity": 0.2
            },
            "type": "scatter"
           }
          ],
          "scatter3d": [
           {
            "line": {
             "colorbar": {
              "outlinewidth": 0,
              "ticks": ""
             }
            },
            "marker": {
             "colorbar": {
              "outlinewidth": 0,
              "ticks": ""
             }
            },
            "type": "scatter3d"
           }
          ],
          "scattercarpet": [
           {
            "marker": {
             "colorbar": {
              "outlinewidth": 0,
              "ticks": ""
             }
            },
            "type": "scattercarpet"
           }
          ],
          "scattergeo": [
           {
            "marker": {
             "colorbar": {
              "outlinewidth": 0,
              "ticks": ""
             }
            },
            "type": "scattergeo"
           }
          ],
          "scattergl": [
           {
            "marker": {
             "colorbar": {
              "outlinewidth": 0,
              "ticks": ""
             }
            },
            "type": "scattergl"
           }
          ],
          "scattermapbox": [
           {
            "marker": {
             "colorbar": {
              "outlinewidth": 0,
              "ticks": ""
             }
            },
            "type": "scattermapbox"
           }
          ],
          "scatterpolar": [
           {
            "marker": {
             "colorbar": {
              "outlinewidth": 0,
              "ticks": ""
             }
            },
            "type": "scatterpolar"
           }
          ],
          "scatterpolargl": [
           {
            "marker": {
             "colorbar": {
              "outlinewidth": 0,
              "ticks": ""
             }
            },
            "type": "scatterpolargl"
           }
          ],
          "scatterternary": [
           {
            "marker": {
             "colorbar": {
              "outlinewidth": 0,
              "ticks": ""
             }
            },
            "type": "scatterternary"
           }
          ],
          "surface": [
           {
            "colorbar": {
             "outlinewidth": 0,
             "ticks": ""
            },
            "colorscale": [
             [
              0,
              "#0d0887"
             ],
             [
              0.1111111111111111,
              "#46039f"
             ],
             [
              0.2222222222222222,
              "#7201a8"
             ],
             [
              0.3333333333333333,
              "#9c179e"
             ],
             [
              0.4444444444444444,
              "#bd3786"
             ],
             [
              0.5555555555555556,
              "#d8576b"
             ],
             [
              0.6666666666666666,
              "#ed7953"
             ],
             [
              0.7777777777777778,
              "#fb9f3a"
             ],
             [
              0.8888888888888888,
              "#fdca26"
             ],
             [
              1,
              "#f0f921"
             ]
            ],
            "type": "surface"
           }
          ],
          "table": [
           {
            "cells": {
             "fill": {
              "color": "#EBF0F8"
             },
             "line": {
              "color": "white"
             }
            },
            "header": {
             "fill": {
              "color": "#C8D4E3"
             },
             "line": {
              "color": "white"
             }
            },
            "type": "table"
           }
          ]
         },
         "layout": {
          "annotationdefaults": {
           "arrowcolor": "#2a3f5f",
           "arrowhead": 0,
           "arrowwidth": 1
          },
          "autotypenumbers": "strict",
          "coloraxis": {
           "colorbar": {
            "outlinewidth": 0,
            "ticks": ""
           }
          },
          "colorscale": {
           "diverging": [
            [
             0,
             "#8e0152"
            ],
            [
             0.1,
             "#c51b7d"
            ],
            [
             0.2,
             "#de77ae"
            ],
            [
             0.3,
             "#f1b6da"
            ],
            [
             0.4,
             "#fde0ef"
            ],
            [
             0.5,
             "#f7f7f7"
            ],
            [
             0.6,
             "#e6f5d0"
            ],
            [
             0.7,
             "#b8e186"
            ],
            [
             0.8,
             "#7fbc41"
            ],
            [
             0.9,
             "#4d9221"
            ],
            [
             1,
             "#276419"
            ]
           ],
           "sequential": [
            [
             0,
             "#0d0887"
            ],
            [
             0.1111111111111111,
             "#46039f"
            ],
            [
             0.2222222222222222,
             "#7201a8"
            ],
            [
             0.3333333333333333,
             "#9c179e"
            ],
            [
             0.4444444444444444,
             "#bd3786"
            ],
            [
             0.5555555555555556,
             "#d8576b"
            ],
            [
             0.6666666666666666,
             "#ed7953"
            ],
            [
             0.7777777777777778,
             "#fb9f3a"
            ],
            [
             0.8888888888888888,
             "#fdca26"
            ],
            [
             1,
             "#f0f921"
            ]
           ],
           "sequentialminus": [
            [
             0,
             "#0d0887"
            ],
            [
             0.1111111111111111,
             "#46039f"
            ],
            [
             0.2222222222222222,
             "#7201a8"
            ],
            [
             0.3333333333333333,
             "#9c179e"
            ],
            [
             0.4444444444444444,
             "#bd3786"
            ],
            [
             0.5555555555555556,
             "#d8576b"
            ],
            [
             0.6666666666666666,
             "#ed7953"
            ],
            [
             0.7777777777777778,
             "#fb9f3a"
            ],
            [
             0.8888888888888888,
             "#fdca26"
            ],
            [
             1,
             "#f0f921"
            ]
           ]
          },
          "colorway": [
           "#636efa",
           "#EF553B",
           "#00cc96",
           "#ab63fa",
           "#FFA15A",
           "#19d3f3",
           "#FF6692",
           "#B6E880",
           "#FF97FF",
           "#FECB52"
          ],
          "font": {
           "color": "#2a3f5f"
          },
          "geo": {
           "bgcolor": "white",
           "lakecolor": "white",
           "landcolor": "#E5ECF6",
           "showlakes": true,
           "showland": true,
           "subunitcolor": "white"
          },
          "hoverlabel": {
           "align": "left"
          },
          "hovermode": "closest",
          "mapbox": {
           "style": "light"
          },
          "paper_bgcolor": "white",
          "plot_bgcolor": "#E5ECF6",
          "polar": {
           "angularaxis": {
            "gridcolor": "white",
            "linecolor": "white",
            "ticks": ""
           },
           "bgcolor": "#E5ECF6",
           "radialaxis": {
            "gridcolor": "white",
            "linecolor": "white",
            "ticks": ""
           }
          },
          "scene": {
           "xaxis": {
            "backgroundcolor": "#E5ECF6",
            "gridcolor": "white",
            "gridwidth": 2,
            "linecolor": "white",
            "showbackground": true,
            "ticks": "",
            "zerolinecolor": "white"
           },
           "yaxis": {
            "backgroundcolor": "#E5ECF6",
            "gridcolor": "white",
            "gridwidth": 2,
            "linecolor": "white",
            "showbackground": true,
            "ticks": "",
            "zerolinecolor": "white"
           },
           "zaxis": {
            "backgroundcolor": "#E5ECF6",
            "gridcolor": "white",
            "gridwidth": 2,
            "linecolor": "white",
            "showbackground": true,
            "ticks": "",
            "zerolinecolor": "white"
           }
          },
          "shapedefaults": {
           "line": {
            "color": "#2a3f5f"
           }
          },
          "ternary": {
           "aaxis": {
            "gridcolor": "white",
            "linecolor": "white",
            "ticks": ""
           },
           "baxis": {
            "gridcolor": "white",
            "linecolor": "white",
            "ticks": ""
           },
           "bgcolor": "#E5ECF6",
           "caxis": {
            "gridcolor": "white",
            "linecolor": "white",
            "ticks": ""
           }
          },
          "title": {
           "x": 0.05
          },
          "xaxis": {
           "automargin": true,
           "gridcolor": "white",
           "linecolor": "white",
           "ticks": "",
           "title": {
            "standoff": 15
           },
           "zerolinecolor": "white",
           "zerolinewidth": 2
          },
          "yaxis": {
           "automargin": true,
           "gridcolor": "white",
           "linecolor": "white",
           "ticks": "",
           "title": {
            "standoff": 15
           },
           "zerolinecolor": "white",
           "zerolinewidth": 2
          }
         }
        },
        "title": {
         "text": "GDP Per Capita during Covid-19"
        },
        "xaxis": {
         "anchor": "y",
         "domain": [
          0,
          1
         ],
         "title": {
          "text": "Country"
         }
        },
        "yaxis": {
         "anchor": "x",
         "domain": [
          0,
          1
         ],
         "title": {
          "text": "Total Cases"
         }
        }
       }
      }
     },
     "metadata": {},
     "output_type": "display_data"
    }
   ],
   "source": [
    "# %%\n",
    "fig = px.bar(data, x = 'Country', y = 'Total Cases', \n",
    "             hover_data=['Population', 'Total Deaths'],\n",
    "             color = \"GDP Per Capita During Covid\", height= 400,\n",
    "             title = \"GDP Per Capita during Covid-19\")\n",
    "fig.show()"
   ]
  },
  {
   "cell_type": "code",
   "execution_count": 18,
   "metadata": {},
   "outputs": [
    {
     "data": {
      "application/vnd.plotly.v1+json": {
       "config": {
        "plotlyServerURL": "https://plot.ly"
       },
       "data": [
        {
         "alignmentgroup": "True",
         "customdata": [
          [
           15.58201085,
           26477574
          ],
          [
           13.55623711,
           14340567
          ],
          [
           17.25184806,
           7247327
          ],
          [
           17.25770384,
           2131571
          ],
          [
           18.67480153,
           3020038
          ],
          [
           14.47446683,
           7295850
          ],
          [
           18.51217534,
           5510624
          ],
          [
           15.78017657,
           1357682
          ],
          [
           13.22850199,
           1936134
          ],
          [
           15.89207108,
           7249573
          ],
          [
           16.15953083,
           2914070
          ],
          [
           17.09438451,
           1283880
          ],
          [
           16.70118056,
           6664225
          ],
          [
           16.68585306,
           5633444
          ],
          [
           17.3079574,
           1077426
          ],
          [
           15.08145118,
           1640691
          ],
          [
           12.2975619,
           1049757
          ],
          [
           15.38874766,
           442507
          ],
          [
           13.20032762,
           789557
          ],
          [
           16.13191719,
           484534
          ],
          [
           10.94679853,
           744253
          ],
          [
           15.21025983,
           448665
          ],
          [
           17.44628825,
           1066939
          ],
          [
           10.42498602,
           916111
          ],
          [
           12.98879313,
           1455549
          ],
          [
           8.516993171,
           23820
          ],
          [
           12.03636915,
           126278
          ],
          [
           15.73310882,
           343334
          ],
          [
           18.91957173,
           1798461
          ],
          [
           12.00823128,
           1083749
          ],
          [
           13.57542301,
           161480
          ],
          [
           10.54894022,
           1142410
          ],
          [
           13.68300607,
           644416
          ],
          [
           14.87366884,
           941063
          ],
          [
           12.89325457,
           578559
          ],
          [
           17.42400819,
           464952
          ],
          [
           16.24266591,
           209024
          ],
          [
           15.8300119,
           69104
          ],
          [
           14.34706955,
           88409
          ],
          [
           12.99802163,
           222435
          ],
          [
           11.49618614,
           58035
          ],
          [
           17.29261899,
           73391
          ],
          [
           15.00283311,
           302612
          ],
          [
           10.57755385,
           304001
          ],
          [
           15.5058355,
           4691
          ],
          [
           14.45007584,
           142270
          ],
          [
           16.39062287,
           194918
          ],
          [
           8.15564927,
           281588
          ],
          [
           16.77238152,
           320693
          ],
          [
           16.01344599,
           22413
          ],
          [
           14.61559461,
           200844
          ],
          [
           17.13661869,
           125473
          ],
          [
           9.615938805,
           102039
          ],
          [
           15.74286198,
           27737
          ],
          [
           11.63087738,
           310201
          ],
          [
           14.9017918,
           134945
          ],
          [
           14.09808385,
           29143
          ],
          [
           14.87253667,
           206429
          ],
          [
           13.80344,
           77686
          ],
          [
           15.26725623,
           129946
          ],
          [
           16.61436742,
           50352
          ],
          [
           15.51289396,
           31903
          ],
          [
           16.08354044,
           114922
          ],
          [
           11.5783948,
           59495
          ],
          [
           17.00213737,
           87503
          ],
          [
           13.35039417,
           54940
          ],
          [
           17.3111646,
           63333
          ],
          [
           16.24934608,
           59485
          ],
          [
           16.82370654,
           21522
          ],
          [
           15.44359631,
           113280
          ],
          [
           17.62651421,
           65029
          ],
          [
           16.18659339,
           71957
          ],
          [
           10.31682162,
           56606
          ],
          [
           14.05591783,
           42850
          ],
          [
           16.31063137,
           70578
          ],
          [
           16.76604717,
           14220
          ],
          [
           16.76676599,
           47158
          ],
          [
           10.1743159,
           72850
          ],
          [
           17.50993717,
           29730
          ],
          [
           14.90109198,
           24012
          ],
          [
           15.199095,
           110142
          ],
          [
           16.13757538,
           102825
          ],
          [
           15.70629361,
           30320
          ],
          [
           16.19948244,
           58377
          ],
          [
           15.97371025,
           17744
          ],
          [
           18.56012597,
           44805
          ],
          [
           16.10851066,
           47571
          ],
          [
           21.08743924,
           28757
          ],
          [
           15.52354271,
           32040
          ],
          [
           13.7061911,
           7283
          ],
          [
           11.35078294,
           21907
          ],
          [
           13.43991197,
           26475
          ],
          [
           18.79866817,
           9730
          ],
          [
           17.4772331,
           31056
          ],
          [
           18.44375647,
           6877
          ],
          [
           12.54576825,
           23891
          ],
          [
           10.43229061,
           19025
          ],
          [
           18.65556675,
           3054
          ],
          [
           16.74812767,
           19810
          ],
          [
           19.21318595,
           6055
          ],
          [
           17.08805131,
           8006
          ],
          [
           14.49252734,
           5653
          ],
          [
           15.43641784,
           6634
          ],
          [
           15.80003079,
           11356
          ],
          [
           10.88166329,
           11162
          ],
          [
           14.57736817,
           13973
          ],
          [
           16.5814031,
           15984
          ],
          [
           16.29127395,
           7108
          ],
          [
           18.31043503,
           8947
          ],
          [
           15.44502871,
           22165
          ],
          [
           17.91752278,
           15480
          ],
          [
           13.34706731,
           16410
          ],
          [
           15.73616766,
           3396
          ],
          [
           16.00683186,
           15001
          ],
          [
           15.41242964,
           14345
          ],
          [
           15.39030816,
           9298
          ],
          [
           15.75402845,
           4749
          ],
          [
           16.63354636,
           3748
          ],
          [
           17.44905184,
           2108
          ],
          [
           15.57202326,
           11802
          ],
          [
           14.15411267,
           4013
          ],
          [
           18.24375196,
           1968
          ],
          [
           11.52359831,
           18813
          ],
          [
           17.81205473,
           1744
          ],
          [
           11.11322372,
           5653
          ],
          [
           14.86662585,
           6961
          ],
          [
           15.52763465,
           4199
          ],
          [
           17.59630906,
           11820
          ],
          [
           10.96053104,
           10036
          ],
          [
           21.04535251,
           5376
          ],
          [
           14.81698436,
           4145
          ],
          [
           16.13820607,
           2409
          ],
          [
           16.06145345,
           4374
          ],
          [
           10.66620744,
           6083
          ],
          [
           17.05418434,
           5998
          ],
          [
           13.67578287,
           3735
          ],
          [
           15.00360243,
           10248
          ],
          [
           15.68518756,
           7201
          ],
          [
           11.61680789,
           4519
          ],
          [
           11.49198779,
           1624
          ],
          [
           11.03928322,
           895
          ],
          [
           14.54950213,
           11676
          ],
          [
           12.1206727,
           4197
          ],
          [
           17.99409688,
           5783
          ],
          [
           18.24624346,
           10087
          ],
          [
           16.63205462,
           12212
          ],
          [
           14.54736486,
           2318
          ],
          [
           12.56196578,
           2198
          ],
          [
           19.42689854,
           2680
          ],
          [
           12.56852934,
           1613
          ],
          [
           16.37677691,
           3733
          ],
          [
           17.80025043,
           1988
          ],
          [
           11.09315857,
           920
          ],
          [
           14.67061714,
           188
          ],
          [
           15.44604869,
           3146
          ],
          [
           17.36552634,
           476
          ],
          [
           15.69102752,
           0
          ],
          [
           19.17473208,
           0
          ],
          [
           15.35230466,
           417
          ],
          [
           16.85541655,
           213
          ],
          [
           16.27279152,
           475
          ],
          [
           16.26562008,
           1631
          ],
          [
           12.88219574,
           1321
          ],
          [
           17.74503716,
           207
          ],
          [
           19.1440641,
           0
          ],
          [
           11.25499635,
           568
          ],
          [
           16.6566263,
           0
          ],
          [
           11.18429639,
           132
          ],
          [
           10.79681667,
           0
          ],
          [
           17.18751281,
           0
          ],
          [
           12.74037063,
           0
          ],
          [
           15.22778158,
           0
          ],
          [
           14.7480352,
           0
          ],
          [
           15.27755412,
           0
          ],
          [
           14.69789863,
           0
          ]
         ],
         "hovertemplate": "Country=%{x}<br>Total Cases=%{y}<br>Population=%{customdata[0]}<br>Total Deaths=%{customdata[1]}<br>GDP Per Capita After Covid=%{marker.color}<extra></extra>",
         "legendgroup": "",
         "marker": {
          "color": [
           64623.125,
           15093.465,
           7112.0396,
           27450.45,
           12743.942,
           20254.781,
           40223.01,
           13478.754,
           15616.752,
           47587.168,
           15461.079,
           25886.121,
           44292.19,
           45904.41,
           22461.441,
           53969.625,
           33149.5,
           50188.297,
           5376.967,
           6263.0044,
           9199.0205,
           8581.9375,
           18187.842,
           12409.759,
           49296.38,
           96557.81,
           44393.3,
           10731.44,
           53287.152,
           10859.218,
           26093.295,
           59249.168,
           12780.76,
           55359.344,
           8244.235,
           32495.908,
           19338.016,
           49400.355,
           19092.111,
           33266.477,
           74917.67,
           35336.895,
           35767.723,
           37706.605,
           108036.11,
           8083.365,
           41837.91,
           9162.053,
           72278.21,
           51854.715,
           5709.124,
           4963.16,
           16057.007,
           4001.7,
           112445.42,
           55867.184,
           5480.33,
           11198.233,
           2381.1658,
           13308.417,
           22070.922,
           8073.2104,
           5070.1504,
           15094.284,
           20885.889,
           34297.934,
           45560.125,
           4881.5317,
           5722.409,
           59935.12,
           51090.26,
           9396.014,
           3723.5322,
           13531.396,
           16737.227,
           5537.3696,
           67296.16,
           26961.291,
           19796.588,
           28383.62,
           35356.777,
           3570.6074,
           3564.6282,
           49275.152,
           1502.4822,
           31704.426,
           12675.068,
           34302.348,
           1132.6542,
           2699.129,
           117746.99,
           3365.8738,
           4137.278,
           15492.067,
           13939.787,
           2799.1125,
           10569.051,
           21271.318,
           5330.2144,
           33176.184,
           4989.4087,
           9490.667,
           9762.777,
           22108.73,
           17507.621,
           4249.876,
           2207.957,
           823.9822,
           14918.297,
           41015.227,
           1466.8794,
           5822.3535,
           1250.7725,
           1448.5568,
           39955.246,
           3670.1997,
           7379.2476,
           2280.0737,
           12200.138,
           37711.82,
           17078.342,
           55567.438,
           2132.6233,
           2364.802,
           10107.865,
           15047.614,
           1855.1119,
           5906.1157,
           1634.7638,
           32992.383,
           45185.312,
           48641.85,
           3435.1716,
           24426.66,
           34663.496,
           44996.316,
           2158.8584,
           2113.6147,
           23295.547,
           41273.613,
           15518.651,
           1274.6417,
           2202.7268,
           35634.688,
           1460.9233,
           1412.6708,
           11396.531,
           3438.8599,
           2240.3394,
           9473.706,
           2623.8616,
           22841.35,
           3245.7688,
           708.1783,
           41942.918,
           20718.389,
           12073.245,
           4533.8643,
           3752.945,
           71353.89,
           58669.902,
           81165.65,
           15417.297,
           23114.951,
           25205.736,
           22321.87,
           14572.607,
           12388.108,
           14462.937,
           15100.286,
           7947.6587,
           11463.598,
           28770.139,
           2247.785,
           58478.883
          ],
          "coloraxis": "coloraxis",
          "pattern": {
           "shape": ""
          }
         },
         "name": "",
         "offsetgroup": "",
         "orientation": "v",
         "showlegend": false,
         "textposition": "auto",
         "type": "bar",
         "x": [
          "United States",
          "Brazil",
          "India",
          "Russia",
          "Peru",
          "Mexico",
          "Spain",
          "South Africa",
          "Colombia",
          "United Kingdom",
          "Iran",
          "Chile",
          "Italy",
          "France",
          "Argentina",
          "Germany",
          "Turkey",
          "Saudi Arabia",
          "Pakistan",
          "Bangladesh",
          "Iraq",
          "Philippines",
          "China",
          "Indonesia",
          "Canada",
          "Qatar",
          "Israel",
          "Ukraine",
          "Belgium",
          "Ecuador",
          "Kazakhstan",
          "Netherlands",
          "Egypt",
          "Sweden",
          "Bolivia",
          "Romania",
          "Dominican Republic",
          "Kuwait",
          "Belarus",
          "Panama",
          "United Arab Emirates",
          "Oman",
          "Portugal",
          "Poland",
          "Singapore",
          "Morocco",
          "Japan",
          "Guatemala",
          "Switzerland",
          "Bahrain",
          "Honduras",
          "Nigeria",
          "Armenia",
          "Nepal",
          "Ireland",
          "Austria",
          "Ghana",
          "Algeria",
          "Ethiopia",
          "Moldova",
          "Costa Rica",
          "Uzbekistan",
          "Kyrgyzstan",
          "Azerbaijan",
          "Serbia",
          "Puerto Rico",
          "South Korea",
          "Kenya",
          "Palestine",
          "Denmark",
          "Australia",
          "El Salvador",
          "Cameroon",
          "Paraguay",
          "Bosnia and Herzegovina",
          "Cote d'Ivoire",
          "Norway",
          "Bulgaria",
          "Libya",
          "Malaysia",
          "Hungary",
          "Sudan",
          "Senegal",
          "Finland",
          "Madagascar",
          "Greece",
          "Kosovo",
          "Croatia",
          "Democratic Republic of Congo",
          "Guinea",
          "Luxembourg",
          "Zambia",
          "Tajikistan",
          "Albania",
          "Gabon",
          "Haiti",
          "Tunisia",
          "Maldives",
          "Mauritania",
          "Slovakia",
          "Djibouti",
          "Jordan",
          "Namibia",
          "Montenegro",
          "Thailand",
          "Myanmar",
          "Zimbabwe",
          "Central African Republic",
          "Equatorial Guinea",
          "Slovenia",
          "Malawi",
          "Nicaragua",
          "Mozambique",
          "Somalia",
          "Lithuania",
          "Congo",
          "Cape Verde",
          "Uganda",
          "Sri Lanka",
          "Estonia",
          "Georgia",
          "Iceland",
          "Mali",
          "Rwanda",
          "Jamaica",
          "Suriname",
          "Guinea-Bissau",
          "Angola",
          "Sierra Leone",
          "Latvia",
          "New Zealand",
          "Malta",
          "Benin",
          "Uruguay",
          "Bahamas",
          "Cyprus",
          "Burkina Faso",
          "Gambia",
          "Trinidad and Tobago",
          "Aruba",
          "Botswana",
          "Niger",
          "Togo",
          "Guyana",
          "Liberia",
          "Chad",
          "Vietnam",
          "Sao Tome and Principe",
          "Lesotho",
          "Belize",
          "Tanzania",
          "Mauritius",
          "Comoros",
          "Burundi",
          "Sint Maarten (Dutch part)",
          "Turks and Caicos Islands",
          "Mongolia",
          "Cambodia",
          "Papua New Guinea",
          "Cayman Islands",
          "Brunei",
          "Bermuda",
          "Barbados",
          "Curacao",
          "Seychelles",
          "Antigua and Barbuda",
          "Saint Vincent and the Grenadines",
          "Fiji",
          "Grenada",
          "Saint Lucia",
          "Laos",
          "Dominica",
          "Saint Kitts and Nevis",
          "Solomon Islands",
          "Hong Kong"
         ],
         "xaxis": "x",
         "y": [
          746014098,
          425704517,
          407771615,
          132888951,
          74882695,
          74347548,
          73717676,
          63027659,
          60543682,
          59475032,
          52421884,
          51268034,
          50752853,
          50084335,
          47155234,
          42447678,
          41431948,
          38585191,
          37738077,
          35266178,
          25280332,
          22409936,
          21632319,
          21570149,
          20902374,
          16351440,
          16202474,
          15805665,
          15192468,
          14408757,
          13194863,
          13026629,
          12422845,
          11910109,
          11858838,
          10672859,
          10649646,
          10622205,
          10595186,
          10371724,
          10247326,
          10060093,
          9266263,
          9239657,
          8191161,
          7839270,
          7659484,
          7644426,
          7552067,
          6549995,
          6545499,
          6107371,
          5474629,
          5243653,
          5239798,
          4909197,
          4900649,
          4893999,
          4876417,
          4632482,
          4631835,
          4421215,
          4287847,
          4236782,
          3984174,
          3586463,
          3333075,
          3277734,
          3249458,
          3030088,
          3012377,
          2573206,
          2476502,
          2265640,
          2200057,
          2132883,
          1985889,
          1890380,
          1817274,
          1774181,
          1708798,
          1663545,
          1586747,
          1458484,
          1443321,
          1421470,
          1345940,
          1314031,
          1271391,
          1195836,
          1146724,
          1129913,
          1117391,
          1071951,
          1031803,
          1023155,
          1000626,
          844040,
          799222,
          798665,
          781771,
          716514,
          681299,
          675912,
          655703,
          644209,
          593699,
          593048,
          557355,
          547075,
          536447,
          524410,
          510578,
          491145,
          488057,
          473368,
          463888,
          448728,
          446643,
          445402,
          431689,
          421210,
          390637,
          388775,
          370890,
          358632,
          306564,
          304005,
          268396,
          255964,
          253203,
          251261,
          245893,
          239884,
          237908,
          236673,
          231452,
          229521,
          225550,
          215110,
          205758,
          199978,
          169903,
          166917,
          159880,
          154173,
          122618,
          121909,
          107948,
          106383,
          91526,
          69524,
          52437,
          49745,
          48026,
          44432,
          42465,
          39539,
          35966,
          33173,
          30140,
          28876,
          24998,
          19777,
          14701,
          12619,
          7824,
          4742,
          4470,
          4450,
          4039,
          3977,
          3246,
          11,
          0
         ],
         "yaxis": "y"
        }
       ],
       "layout": {
        "barmode": "relative",
        "coloraxis": {
         "colorbar": {
          "title": {
           "text": "GDP Per Capita After Covid"
          }
         },
         "colorscale": [
          [
           0,
           "#0d0887"
          ],
          [
           0.1111111111111111,
           "#46039f"
          ],
          [
           0.2222222222222222,
           "#7201a8"
          ],
          [
           0.3333333333333333,
           "#9c179e"
          ],
          [
           0.4444444444444444,
           "#bd3786"
          ],
          [
           0.5555555555555556,
           "#d8576b"
          ],
          [
           0.6666666666666666,
           "#ed7953"
          ],
          [
           0.7777777777777778,
           "#fb9f3a"
          ],
          [
           0.8888888888888888,
           "#fdca26"
          ],
          [
           1,
           "#f0f921"
          ]
         ]
        },
        "height": 400,
        "legend": {
         "tracegroupgap": 0
        },
        "template": {
         "data": {
          "bar": [
           {
            "error_x": {
             "color": "#2a3f5f"
            },
            "error_y": {
             "color": "#2a3f5f"
            },
            "marker": {
             "line": {
              "color": "#E5ECF6",
              "width": 0.5
             },
             "pattern": {
              "fillmode": "overlay",
              "size": 10,
              "solidity": 0.2
             }
            },
            "type": "bar"
           }
          ],
          "barpolar": [
           {
            "marker": {
             "line": {
              "color": "#E5ECF6",
              "width": 0.5
             },
             "pattern": {
              "fillmode": "overlay",
              "size": 10,
              "solidity": 0.2
             }
            },
            "type": "barpolar"
           }
          ],
          "carpet": [
           {
            "aaxis": {
             "endlinecolor": "#2a3f5f",
             "gridcolor": "white",
             "linecolor": "white",
             "minorgridcolor": "white",
             "startlinecolor": "#2a3f5f"
            },
            "baxis": {
             "endlinecolor": "#2a3f5f",
             "gridcolor": "white",
             "linecolor": "white",
             "minorgridcolor": "white",
             "startlinecolor": "#2a3f5f"
            },
            "type": "carpet"
           }
          ],
          "choropleth": [
           {
            "colorbar": {
             "outlinewidth": 0,
             "ticks": ""
            },
            "type": "choropleth"
           }
          ],
          "contour": [
           {
            "colorbar": {
             "outlinewidth": 0,
             "ticks": ""
            },
            "colorscale": [
             [
              0,
              "#0d0887"
             ],
             [
              0.1111111111111111,
              "#46039f"
             ],
             [
              0.2222222222222222,
              "#7201a8"
             ],
             [
              0.3333333333333333,
              "#9c179e"
             ],
             [
              0.4444444444444444,
              "#bd3786"
             ],
             [
              0.5555555555555556,
              "#d8576b"
             ],
             [
              0.6666666666666666,
              "#ed7953"
             ],
             [
              0.7777777777777778,
              "#fb9f3a"
             ],
             [
              0.8888888888888888,
              "#fdca26"
             ],
             [
              1,
              "#f0f921"
             ]
            ],
            "type": "contour"
           }
          ],
          "contourcarpet": [
           {
            "colorbar": {
             "outlinewidth": 0,
             "ticks": ""
            },
            "type": "contourcarpet"
           }
          ],
          "heatmap": [
           {
            "colorbar": {
             "outlinewidth": 0,
             "ticks": ""
            },
            "colorscale": [
             [
              0,
              "#0d0887"
             ],
             [
              0.1111111111111111,
              "#46039f"
             ],
             [
              0.2222222222222222,
              "#7201a8"
             ],
             [
              0.3333333333333333,
              "#9c179e"
             ],
             [
              0.4444444444444444,
              "#bd3786"
             ],
             [
              0.5555555555555556,
              "#d8576b"
             ],
             [
              0.6666666666666666,
              "#ed7953"
             ],
             [
              0.7777777777777778,
              "#fb9f3a"
             ],
             [
              0.8888888888888888,
              "#fdca26"
             ],
             [
              1,
              "#f0f921"
             ]
            ],
            "type": "heatmap"
           }
          ],
          "heatmapgl": [
           {
            "colorbar": {
             "outlinewidth": 0,
             "ticks": ""
            },
            "colorscale": [
             [
              0,
              "#0d0887"
             ],
             [
              0.1111111111111111,
              "#46039f"
             ],
             [
              0.2222222222222222,
              "#7201a8"
             ],
             [
              0.3333333333333333,
              "#9c179e"
             ],
             [
              0.4444444444444444,
              "#bd3786"
             ],
             [
              0.5555555555555556,
              "#d8576b"
             ],
             [
              0.6666666666666666,
              "#ed7953"
             ],
             [
              0.7777777777777778,
              "#fb9f3a"
             ],
             [
              0.8888888888888888,
              "#fdca26"
             ],
             [
              1,
              "#f0f921"
             ]
            ],
            "type": "heatmapgl"
           }
          ],
          "histogram": [
           {
            "marker": {
             "pattern": {
              "fillmode": "overlay",
              "size": 10,
              "solidity": 0.2
             }
            },
            "type": "histogram"
           }
          ],
          "histogram2d": [
           {
            "colorbar": {
             "outlinewidth": 0,
             "ticks": ""
            },
            "colorscale": [
             [
              0,
              "#0d0887"
             ],
             [
              0.1111111111111111,
              "#46039f"
             ],
             [
              0.2222222222222222,
              "#7201a8"
             ],
             [
              0.3333333333333333,
              "#9c179e"
             ],
             [
              0.4444444444444444,
              "#bd3786"
             ],
             [
              0.5555555555555556,
              "#d8576b"
             ],
             [
              0.6666666666666666,
              "#ed7953"
             ],
             [
              0.7777777777777778,
              "#fb9f3a"
             ],
             [
              0.8888888888888888,
              "#fdca26"
             ],
             [
              1,
              "#f0f921"
             ]
            ],
            "type": "histogram2d"
           }
          ],
          "histogram2dcontour": [
           {
            "colorbar": {
             "outlinewidth": 0,
             "ticks": ""
            },
            "colorscale": [
             [
              0,
              "#0d0887"
             ],
             [
              0.1111111111111111,
              "#46039f"
             ],
             [
              0.2222222222222222,
              "#7201a8"
             ],
             [
              0.3333333333333333,
              "#9c179e"
             ],
             [
              0.4444444444444444,
              "#bd3786"
             ],
             [
              0.5555555555555556,
              "#d8576b"
             ],
             [
              0.6666666666666666,
              "#ed7953"
             ],
             [
              0.7777777777777778,
              "#fb9f3a"
             ],
             [
              0.8888888888888888,
              "#fdca26"
             ],
             [
              1,
              "#f0f921"
             ]
            ],
            "type": "histogram2dcontour"
           }
          ],
          "mesh3d": [
           {
            "colorbar": {
             "outlinewidth": 0,
             "ticks": ""
            },
            "type": "mesh3d"
           }
          ],
          "parcoords": [
           {
            "line": {
             "colorbar": {
              "outlinewidth": 0,
              "ticks": ""
             }
            },
            "type": "parcoords"
           }
          ],
          "pie": [
           {
            "automargin": true,
            "type": "pie"
           }
          ],
          "scatter": [
           {
            "fillpattern": {
             "fillmode": "overlay",
             "size": 10,
             "solidity": 0.2
            },
            "type": "scatter"
           }
          ],
          "scatter3d": [
           {
            "line": {
             "colorbar": {
              "outlinewidth": 0,
              "ticks": ""
             }
            },
            "marker": {
             "colorbar": {
              "outlinewidth": 0,
              "ticks": ""
             }
            },
            "type": "scatter3d"
           }
          ],
          "scattercarpet": [
           {
            "marker": {
             "colorbar": {
              "outlinewidth": 0,
              "ticks": ""
             }
            },
            "type": "scattercarpet"
           }
          ],
          "scattergeo": [
           {
            "marker": {
             "colorbar": {
              "outlinewidth": 0,
              "ticks": ""
             }
            },
            "type": "scattergeo"
           }
          ],
          "scattergl": [
           {
            "marker": {
             "colorbar": {
              "outlinewidth": 0,
              "ticks": ""
             }
            },
            "type": "scattergl"
           }
          ],
          "scattermapbox": [
           {
            "marker": {
             "colorbar": {
              "outlinewidth": 0,
              "ticks": ""
             }
            },
            "type": "scattermapbox"
           }
          ],
          "scatterpolar": [
           {
            "marker": {
             "colorbar": {
              "outlinewidth": 0,
              "ticks": ""
             }
            },
            "type": "scatterpolar"
           }
          ],
          "scatterpolargl": [
           {
            "marker": {
             "colorbar": {
              "outlinewidth": 0,
              "ticks": ""
             }
            },
            "type": "scatterpolargl"
           }
          ],
          "scatterternary": [
           {
            "marker": {
             "colorbar": {
              "outlinewidth": 0,
              "ticks": ""
             }
            },
            "type": "scatterternary"
           }
          ],
          "surface": [
           {
            "colorbar": {
             "outlinewidth": 0,
             "ticks": ""
            },
            "colorscale": [
             [
              0,
              "#0d0887"
             ],
             [
              0.1111111111111111,
              "#46039f"
             ],
             [
              0.2222222222222222,
              "#7201a8"
             ],
             [
              0.3333333333333333,
              "#9c179e"
             ],
             [
              0.4444444444444444,
              "#bd3786"
             ],
             [
              0.5555555555555556,
              "#d8576b"
             ],
             [
              0.6666666666666666,
              "#ed7953"
             ],
             [
              0.7777777777777778,
              "#fb9f3a"
             ],
             [
              0.8888888888888888,
              "#fdca26"
             ],
             [
              1,
              "#f0f921"
             ]
            ],
            "type": "surface"
           }
          ],
          "table": [
           {
            "cells": {
             "fill": {
              "color": "#EBF0F8"
             },
             "line": {
              "color": "white"
             }
            },
            "header": {
             "fill": {
              "color": "#C8D4E3"
             },
             "line": {
              "color": "white"
             }
            },
            "type": "table"
           }
          ]
         },
         "layout": {
          "annotationdefaults": {
           "arrowcolor": "#2a3f5f",
           "arrowhead": 0,
           "arrowwidth": 1
          },
          "autotypenumbers": "strict",
          "coloraxis": {
           "colorbar": {
            "outlinewidth": 0,
            "ticks": ""
           }
          },
          "colorscale": {
           "diverging": [
            [
             0,
             "#8e0152"
            ],
            [
             0.1,
             "#c51b7d"
            ],
            [
             0.2,
             "#de77ae"
            ],
            [
             0.3,
             "#f1b6da"
            ],
            [
             0.4,
             "#fde0ef"
            ],
            [
             0.5,
             "#f7f7f7"
            ],
            [
             0.6,
             "#e6f5d0"
            ],
            [
             0.7,
             "#b8e186"
            ],
            [
             0.8,
             "#7fbc41"
            ],
            [
             0.9,
             "#4d9221"
            ],
            [
             1,
             "#276419"
            ]
           ],
           "sequential": [
            [
             0,
             "#0d0887"
            ],
            [
             0.1111111111111111,
             "#46039f"
            ],
            [
             0.2222222222222222,
             "#7201a8"
            ],
            [
             0.3333333333333333,
             "#9c179e"
            ],
            [
             0.4444444444444444,
             "#bd3786"
            ],
            [
             0.5555555555555556,
             "#d8576b"
            ],
            [
             0.6666666666666666,
             "#ed7953"
            ],
            [
             0.7777777777777778,
             "#fb9f3a"
            ],
            [
             0.8888888888888888,
             "#fdca26"
            ],
            [
             1,
             "#f0f921"
            ]
           ],
           "sequentialminus": [
            [
             0,
             "#0d0887"
            ],
            [
             0.1111111111111111,
             "#46039f"
            ],
            [
             0.2222222222222222,
             "#7201a8"
            ],
            [
             0.3333333333333333,
             "#9c179e"
            ],
            [
             0.4444444444444444,
             "#bd3786"
            ],
            [
             0.5555555555555556,
             "#d8576b"
            ],
            [
             0.6666666666666666,
             "#ed7953"
            ],
            [
             0.7777777777777778,
             "#fb9f3a"
            ],
            [
             0.8888888888888888,
             "#fdca26"
            ],
            [
             1,
             "#f0f921"
            ]
           ]
          },
          "colorway": [
           "#636efa",
           "#EF553B",
           "#00cc96",
           "#ab63fa",
           "#FFA15A",
           "#19d3f3",
           "#FF6692",
           "#B6E880",
           "#FF97FF",
           "#FECB52"
          ],
          "font": {
           "color": "#2a3f5f"
          },
          "geo": {
           "bgcolor": "white",
           "lakecolor": "white",
           "landcolor": "#E5ECF6",
           "showlakes": true,
           "showland": true,
           "subunitcolor": "white"
          },
          "hoverlabel": {
           "align": "left"
          },
          "hovermode": "closest",
          "mapbox": {
           "style": "light"
          },
          "paper_bgcolor": "white",
          "plot_bgcolor": "#E5ECF6",
          "polar": {
           "angularaxis": {
            "gridcolor": "white",
            "linecolor": "white",
            "ticks": ""
           },
           "bgcolor": "#E5ECF6",
           "radialaxis": {
            "gridcolor": "white",
            "linecolor": "white",
            "ticks": ""
           }
          },
          "scene": {
           "xaxis": {
            "backgroundcolor": "#E5ECF6",
            "gridcolor": "white",
            "gridwidth": 2,
            "linecolor": "white",
            "showbackground": true,
            "ticks": "",
            "zerolinecolor": "white"
           },
           "yaxis": {
            "backgroundcolor": "#E5ECF6",
            "gridcolor": "white",
            "gridwidth": 2,
            "linecolor": "white",
            "showbackground": true,
            "ticks": "",
            "zerolinecolor": "white"
           },
           "zaxis": {
            "backgroundcolor": "#E5ECF6",
            "gridcolor": "white",
            "gridwidth": 2,
            "linecolor": "white",
            "showbackground": true,
            "ticks": "",
            "zerolinecolor": "white"
           }
          },
          "shapedefaults": {
           "line": {
            "color": "#2a3f5f"
           }
          },
          "ternary": {
           "aaxis": {
            "gridcolor": "white",
            "linecolor": "white",
            "ticks": ""
           },
           "baxis": {
            "gridcolor": "white",
            "linecolor": "white",
            "ticks": ""
           },
           "bgcolor": "#E5ECF6",
           "caxis": {
            "gridcolor": "white",
            "linecolor": "white",
            "ticks": ""
           }
          },
          "title": {
           "x": 0.05
          },
          "xaxis": {
           "automargin": true,
           "gridcolor": "white",
           "linecolor": "white",
           "ticks": "",
           "title": {
            "standoff": 15
           },
           "zerolinecolor": "white",
           "zerolinewidth": 2
          },
          "yaxis": {
           "automargin": true,
           "gridcolor": "white",
           "linecolor": "white",
           "ticks": "",
           "title": {
            "standoff": 15
           },
           "zerolinecolor": "white",
           "zerolinewidth": 2
          }
         }
        },
        "title": {
         "text": "GDP Per Capita after Covid-19"
        },
        "xaxis": {
         "anchor": "y",
         "domain": [
          0,
          1
         ],
         "title": {
          "text": "Country"
         }
        },
        "yaxis": {
         "anchor": "x",
         "domain": [
          0,
          1
         ],
         "title": {
          "text": "Total Cases"
         }
        }
       }
      }
     },
     "metadata": {},
     "output_type": "display_data"
    }
   ],
   "source": [
    "# %%\n",
    "fig = px.bar(data, x = 'Country', y = 'Total Cases', \n",
    "             hover_data=['Population', 'Total Deaths'],\n",
    "             color = \"GDP Per Capita After Covid\", height= 400,\n",
    "             title = \"GDP Per Capita after Covid-19\")\n",
    "fig.show()"
   ]
  },
  {
   "cell_type": "code",
   "execution_count": 19,
   "metadata": {},
   "outputs": [
    {
     "data": {
      "application/vnd.plotly.v1+json": {
       "config": {
        "plotlyServerURL": "https://plot.ly"
       },
       "data": [
        {
         "marker": {
          "color": "indianred"
         },
         "name": "GDP Per Capita before Covid-19",
         "type": "bar",
         "x": [
          "United States",
          "Brazil",
          "India",
          "Russia",
          "Peru",
          "Mexico",
          "Spain",
          "South Africa",
          "Colombia",
          "United Kingdom",
          "Iran",
          "Chile",
          "Italy",
          "France",
          "Argentina",
          "Germany",
          "Turkey",
          "Saudi Arabia",
          "Pakistan",
          "Bangladesh",
          "Iraq",
          "Philippines",
          "China",
          "Indonesia",
          "Canada",
          "Qatar",
          "Israel",
          "Ukraine",
          "Belgium",
          "Ecuador",
          "Kazakhstan",
          "Netherlands",
          "Egypt",
          "Sweden",
          "Bolivia",
          "Romania",
          "Dominican Republic",
          "Kuwait",
          "Belarus",
          "Panama",
          "United Arab Emirates",
          "Oman",
          "Portugal",
          "Poland",
          "Singapore",
          "Morocco",
          "Japan",
          "Guatemala",
          "Switzerland",
          "Bahrain",
          "Honduras",
          "Nigeria",
          "Armenia",
          "Nepal",
          "Ireland",
          "Austria",
          "Ghana",
          "Algeria",
          "Ethiopia",
          "Moldova",
          "Costa Rica",
          "Uzbekistan",
          "Kyrgyzstan",
          "Azerbaijan",
          "Serbia",
          "Puerto Rico",
          "South Korea",
          "Kenya",
          "Palestine",
          "Denmark",
          "Australia",
          "El Salvador",
          "Cameroon",
          "Paraguay",
          "Bosnia and Herzegovina",
          "Cote d'Ivoire",
          "Norway",
          "Bulgaria",
          "Libya",
          "Malaysia",
          "Hungary",
          "Sudan",
          "Senegal",
          "Finland",
          "Madagascar",
          "Greece",
          "Kosovo",
          "Croatia",
          "Democratic Republic of Congo",
          "Guinea",
          "Luxembourg",
          "Zambia",
          "Tajikistan",
          "Albania",
          "Gabon",
          "Haiti",
          "Tunisia",
          "Maldives",
          "Mauritania",
          "Slovakia",
          "Djibouti",
          "Jordan",
          "Namibia",
          "Montenegro",
          "Thailand",
          "Myanmar",
          "Zimbabwe",
          "Central African Republic",
          "Equatorial Guinea",
          "Slovenia",
          "Malawi",
          "Nicaragua",
          "Mozambique",
          "Somalia",
          "Lithuania",
          "Congo",
          "Cape Verde",
          "Uganda",
          "Sri Lanka",
          "Estonia",
          "Georgia",
          "Iceland",
          "Mali",
          "Rwanda",
          "Jamaica",
          "Suriname",
          "Guinea-Bissau",
          "Angola",
          "Sierra Leone",
          "Latvia",
          "New Zealand",
          "Malta",
          "Benin",
          "Uruguay",
          "Bahamas",
          "Cyprus",
          "Burkina Faso",
          "Gambia",
          "Trinidad and Tobago",
          "Aruba",
          "Botswana",
          "Niger",
          "Togo",
          "Guyana",
          "Liberia",
          "Chad",
          "Vietnam",
          "Sao Tome and Principe",
          "Lesotho",
          "Belize",
          "Tanzania",
          "Mauritius",
          "Comoros",
          "Burundi",
          "Sint Maarten (Dutch part)",
          "Turks and Caicos Islands",
          "Mongolia",
          "Cambodia",
          "Papua New Guinea",
          "Cayman Islands",
          "Brunei",
          "Bermuda",
          "Barbados",
          "Curacao",
          "Seychelles",
          "Antigua and Barbuda",
          "Saint Vincent and the Grenadines",
          "Fiji",
          "Grenada",
          "Saint Lucia",
          "Laos",
          "Dominica",
          "Saint Kitts and Nevis",
          "Solomon Islands",
          "Hong Kong"
         ],
         "y": [
          62470.93,
          14685.128,
          6617.13,
          27254.574,
          12735.168,
          20553.955,
          40782.234,
          13850.8955,
          14616.135,
          46909.08,
          14084.354,
          24809.861,
          42739.05,
          45922.793,
          22071.748,
          53884.375,
          28476.684,
          47024.543,
          5157.5464,
          5467.2075,
          10299.316,
          8731.861,
          15977.764,
          11857.789,
          49169.12,
          90762.4,
          41151.008,
          12804.955,
          51977.17,
          11390.217,
          26351.805,
          56784.04,
          11780.962,
          52850.57,
          8528.749,
          30001.105,
          18171.06,
          47314.797,
          19288.041,
          32788.332,
          71782.16,
          33814.113,
          34945.66,
          33159.75,
          98455.33,
          8217.599,
          41654.33,
          8673.002,
          69923.93,
          49768.977,
          5613.6606,
          5076.368,
          14317.553,
          3922.0813,
          86984.984,
          55769.684,
          5345.9414,
          11627.28,
          2181.659,
          12776.922,
          20818.062,
          7403.7427,
          5258.3667,
          14442.041,
          18306.904,
          34792.65,
          42758.59,
          4601.2114,
          6245.4487,
          56813.965,
          49420.94,
          9015.664,
          3756.5095,
          13609.723,
          14851.738,
          5132.342,
          64983.355,
          23254.787,
          22535.445,
          27674.398,
          32645.664,
          4133.1304,
          3430.484,
          48583.434,
          1585.4717,
          29720.17,
          11318.459,
          29412.422,
          1059.8921,
          2545.1401,
          115209.6,
          3372.359,
          3575.282,
          13653.249,
          14478.002,
          3112.296,
          11113.796,
          20988.092,
          5392.9326,
          32056.78,
          4768.113,
          9534.661,
          10009.578,
          21534.09,
          17997.133,
          5214.3735,
          2203.3967,
          861.7668,
          16240.37,
          39061.25,
          1517.7031,
          5398.1074,
          1290.1674,
          1546.9055,
          37198.875,
          4093.9907,
          7743.479,
          2250.015,
          13639.021,
          36153.434,
          14989.258,
          56615.305,
          2219.0466,
          2190.562,
          10244.366,
          18448.979,
          1890.5331,
          6602.269,
          1655.8433,
          30438.453,
          43272.566,
          46438.664,
          3156.4387,
          23552.842,
          34324.996,
          41741.805,
          2106.0361,
          2083.309,
          25698.006,
          38511.336,
          15117.685,
          1217.4355,
          2063.7588,
          12820.503,
          1455.6377,
          1561.9967,
          10252.004,
          3482.0247,
          2435.2864,
          8925.19,
          2578.8403,
          23676.414,
          3290.6506,
          729.65845,
          43394.668,
          25933.512,
          12458.019,
          4464.2944,
          3947.9338,
          72432.5,
          61424.363,
          81681.73,
          16077.515,
          23903.621,
          29189.785,
          23638.686,
          14183.188,
          13241.546,
          15394.03,
          15460.798,
          7840.0713,
          12395.421,
          31178.648,
          2616.9084,
          59592.035
         ]
        },
        {
         "marker": {
          "color": "lightsalmon"
         },
         "name": "GDP Per Capita during Covid-19",
         "type": "bar",
         "x": [
          "United States",
          "Brazil",
          "India",
          "Russia",
          "Peru",
          "Mexico",
          "Spain",
          "South Africa",
          "Colombia",
          "United Kingdom",
          "Iran",
          "Chile",
          "Italy",
          "France",
          "Argentina",
          "Germany",
          "Turkey",
          "Saudi Arabia",
          "Pakistan",
          "Bangladesh",
          "Iraq",
          "Philippines",
          "China",
          "Indonesia",
          "Canada",
          "Qatar",
          "Israel",
          "Ukraine",
          "Belgium",
          "Ecuador",
          "Kazakhstan",
          "Netherlands",
          "Egypt",
          "Sweden",
          "Bolivia",
          "Romania",
          "Dominican Republic",
          "Kuwait",
          "Belarus",
          "Panama",
          "United Arab Emirates",
          "Oman",
          "Portugal",
          "Poland",
          "Singapore",
          "Morocco",
          "Japan",
          "Guatemala",
          "Switzerland",
          "Bahrain",
          "Honduras",
          "Nigeria",
          "Armenia",
          "Nepal",
          "Ireland",
          "Austria",
          "Ghana",
          "Algeria",
          "Ethiopia",
          "Moldova",
          "Costa Rica",
          "Uzbekistan",
          "Kyrgyzstan",
          "Azerbaijan",
          "Serbia",
          "Puerto Rico",
          "South Korea",
          "Kenya",
          "Palestine",
          "Denmark",
          "Australia",
          "El Salvador",
          "Cameroon",
          "Paraguay",
          "Bosnia and Herzegovina",
          "Cote d'Ivoire",
          "Norway",
          "Bulgaria",
          "Libya",
          "Malaysia",
          "Hungary",
          "Sudan",
          "Senegal",
          "Finland",
          "Madagascar",
          "Greece",
          "Kosovo",
          "Croatia",
          "Democratic Republic of Congo",
          "Guinea",
          "Luxembourg",
          "Zambia",
          "Tajikistan",
          "Albania",
          "Gabon",
          "Haiti",
          "Tunisia",
          "Maldives",
          "Mauritania",
          "Slovakia",
          "Djibouti",
          "Jordan",
          "Namibia",
          "Montenegro",
          "Thailand",
          "Myanmar",
          "Zimbabwe",
          "Central African Republic",
          "Equatorial Guinea",
          "Slovenia",
          "Malawi",
          "Nicaragua",
          "Mozambique",
          "Somalia",
          "Lithuania",
          "Congo",
          "Cape Verde",
          "Uganda",
          "Sri Lanka",
          "Estonia",
          "Georgia",
          "Iceland",
          "Mali",
          "Rwanda",
          "Jamaica",
          "Suriname",
          "Guinea-Bissau",
          "Angola",
          "Sierra Leone",
          "Latvia",
          "New Zealand",
          "Malta",
          "Benin",
          "Uruguay",
          "Bahamas",
          "Cyprus",
          "Burkina Faso",
          "Gambia",
          "Trinidad and Tobago",
          "Aruba",
          "Botswana",
          "Niger",
          "Togo",
          "Guyana",
          "Liberia",
          "Chad",
          "Vietnam",
          "Sao Tome and Principe",
          "Lesotho",
          "Belize",
          "Tanzania",
          "Mauritius",
          "Comoros",
          "Burundi",
          "Sint Maarten (Dutch part)",
          "Turks and Caicos Islands",
          "Mongolia",
          "Cambodia",
          "Papua New Guinea",
          "Cayman Islands",
          "Brunei",
          "Bermuda",
          "Barbados",
          "Curacao",
          "Seychelles",
          "Antigua and Barbuda",
          "Saint Vincent and the Grenadines",
          "Fiji",
          "Grenada",
          "Saint Lucia",
          "Laos",
          "Dominica",
          "Saint Kitts and Nevis",
          "Solomon Islands",
          "Hong Kong"
         ],
         "y": [
          63635.824,
          14735.582,
          6677.185,
          28057.031,
          12533.842,
          19617.76,
          38319.29,
          13337.79,
          14661.213,
          45567.57,
          15004.6875,
          25412.752,
          42562.555,
          44941.438,
          21599.797,
          53395.65,
          31722.16,
          46768.434,
          5233.4595,
          5911.013,
          8786.582,
          8095.5796,
          17657.656,
          11859.437,
          48356.332,
          92895.34,
          42379.156,
          12949.326,
          52174.906,
          10668.758,
          26110.53,
          57334.703,
          12180.451,
          54160.367,
          8052.6,
          30946.277,
          18626.078,
          45579.688,
          19872.693,
          30416.793,
          70028.02,
          34294.766,
          33636.44,
          34944.04,
          107741.12,
          8065.986,
          41258.71,
          8927.302,
          71044.87,
          49754.047,
          5572.177,
          4922.6323,
          14206.545,
          3853.6802,
          104671.875,
          53817.305,
          5420.792,
          11029.139,
          2319.1611,
          13703.939,
          21220.162,
          7800.5015,
          4910.0864,
          14433.904,
          19860.31,
          32766.666,
          44299.91,
          4745.637,
          5641.0444,
          58802.96,
          49609.23,
          9190.174,
          3689.359,
          13676.391,
          15893.156,
          5316.464,
          65915.53,
          24386.18,
          20273.88,
          26407.316,
          33583.785,
          3701.069,
          3511.6375,
          48614.82,
          1482.3761,
          29630.93,
          11884.182,
          32060.504,
          1073.6433,
          2640.3442,
          118510,
          3287.4204,
          3910.4626,
          14596.016,
          13822.509,
          2881.1765,
          10395.913,
          18757.78,
          5142.2812,
          32512.695,
          4905.192,
          9380.045,
          9208.583,
          20710.535,
          17087.21,
          4113.8936,
          2115.1445,
          838.19293,
          14730.601,
          40104.36,
          1491.1337,
          5692.035,
          1231.8641,
          1458.2279,
          39432.402,
          3700.27,
          6356.745,
          2246.414,
          13250.63,
          38717.695,
          15486.659,
          53135.953,
          2120.6233,
          2237.514,
          9605.191,
          14811.24,
          1831.3832,
          5911.8354,
          1614.8599,
          31833.842,
          44041.902,
          46598.96,
          3321.552,
          23257.256,
          30463.084,
          43417.27,
          2176.0933,
          2076.5664,
          23036.256,
          37333.516,
          14906.897,
          1186.53,
          2130.859,
          21925.223,
          1423.2296,
          1425.4945,
          10628.22,
          3502.4353,
          2239.3052,
          8826.859,
          2584.3977,
          20915.217,
          3228.5269,
          714.0667,
          38360.527,
          19763.545,
          11668.431,
          4354.5654,
          3637.9133,
          69400.67,
          60127.023,
          78570.49,
          13869.242,
          21090.889,
          27928.373,
          20501.162,
          13839.464,
          10379.567,
          13688.298,
          13045.966,
          7846.975,
          10899.414,
          26460.477,
          2397.3228,
          60037.445
         ]
        },
        {
         "marker": {
          "color": "pink"
         },
         "name": "GDP Per Capita after Covid-19",
         "type": "bar",
         "x": [
          "United States",
          "Brazil",
          "India",
          "Russia",
          "Peru",
          "Mexico",
          "Spain",
          "South Africa",
          "Colombia",
          "United Kingdom",
          "Iran",
          "Chile",
          "Italy",
          "France",
          "Argentina",
          "Germany",
          "Turkey",
          "Saudi Arabia",
          "Pakistan",
          "Bangladesh",
          "Iraq",
          "Philippines",
          "China",
          "Indonesia",
          "Canada",
          "Qatar",
          "Israel",
          "Ukraine",
          "Belgium",
          "Ecuador",
          "Kazakhstan",
          "Netherlands",
          "Egypt",
          "Sweden",
          "Bolivia",
          "Romania",
          "Dominican Republic",
          "Kuwait",
          "Belarus",
          "Panama",
          "United Arab Emirates",
          "Oman",
          "Portugal",
          "Poland",
          "Singapore",
          "Morocco",
          "Japan",
          "Guatemala",
          "Switzerland",
          "Bahrain",
          "Honduras",
          "Nigeria",
          "Armenia",
          "Nepal",
          "Ireland",
          "Austria",
          "Ghana",
          "Algeria",
          "Ethiopia",
          "Moldova",
          "Costa Rica",
          "Uzbekistan",
          "Kyrgyzstan",
          "Azerbaijan",
          "Serbia",
          "Puerto Rico",
          "South Korea",
          "Kenya",
          "Palestine",
          "Denmark",
          "Australia",
          "El Salvador",
          "Cameroon",
          "Paraguay",
          "Bosnia and Herzegovina",
          "Cote d'Ivoire",
          "Norway",
          "Bulgaria",
          "Libya",
          "Malaysia",
          "Hungary",
          "Sudan",
          "Senegal",
          "Finland",
          "Madagascar",
          "Greece",
          "Kosovo",
          "Croatia",
          "Democratic Republic of Congo",
          "Guinea",
          "Luxembourg",
          "Zambia",
          "Tajikistan",
          "Albania",
          "Gabon",
          "Haiti",
          "Tunisia",
          "Maldives",
          "Mauritania",
          "Slovakia",
          "Djibouti",
          "Jordan",
          "Namibia",
          "Montenegro",
          "Thailand",
          "Myanmar",
          "Zimbabwe",
          "Central African Republic",
          "Equatorial Guinea",
          "Slovenia",
          "Malawi",
          "Nicaragua",
          "Mozambique",
          "Somalia",
          "Lithuania",
          "Congo",
          "Cape Verde",
          "Uganda",
          "Sri Lanka",
          "Estonia",
          "Georgia",
          "Iceland",
          "Mali",
          "Rwanda",
          "Jamaica",
          "Suriname",
          "Guinea-Bissau",
          "Angola",
          "Sierra Leone",
          "Latvia",
          "New Zealand",
          "Malta",
          "Benin",
          "Uruguay",
          "Bahamas",
          "Cyprus",
          "Burkina Faso",
          "Gambia",
          "Trinidad and Tobago",
          "Aruba",
          "Botswana",
          "Niger",
          "Togo",
          "Guyana",
          "Liberia",
          "Chad",
          "Vietnam",
          "Sao Tome and Principe",
          "Lesotho",
          "Belize",
          "Tanzania",
          "Mauritius",
          "Comoros",
          "Burundi",
          "Sint Maarten (Dutch part)",
          "Turks and Caicos Islands",
          "Mongolia",
          "Cambodia",
          "Papua New Guinea",
          "Cayman Islands",
          "Brunei",
          "Bermuda",
          "Barbados",
          "Curacao",
          "Seychelles",
          "Antigua and Barbuda",
          "Saint Vincent and the Grenadines",
          "Fiji",
          "Grenada",
          "Saint Lucia",
          "Laos",
          "Dominica",
          "Saint Kitts and Nevis",
          "Solomon Islands",
          "Hong Kong"
         ],
         "y": [
          64623.125,
          15093.465,
          7112.0396,
          27450.45,
          12743.942,
          20254.781,
          40223.01,
          13478.754,
          15616.752,
          47587.168,
          15461.079,
          25886.121,
          44292.19,
          45904.41,
          22461.441,
          53969.625,
          33149.5,
          50188.297,
          5376.967,
          6263.0044,
          9199.0205,
          8581.9375,
          18187.842,
          12409.759,
          49296.38,
          96557.81,
          44393.3,
          10731.44,
          53287.152,
          10859.218,
          26093.295,
          59249.168,
          12780.76,
          55359.344,
          8244.235,
          32495.908,
          19338.016,
          49400.355,
          19092.111,
          33266.477,
          74917.67,
          35336.895,
          35767.723,
          37706.605,
          108036.11,
          8083.365,
          41837.91,
          9162.053,
          72278.21,
          51854.715,
          5709.124,
          4963.16,
          16057.007,
          4001.7,
          112445.42,
          55867.184,
          5480.33,
          11198.233,
          2381.1658,
          13308.417,
          22070.922,
          8073.2104,
          5070.1504,
          15094.284,
          20885.889,
          34297.934,
          45560.125,
          4881.5317,
          5722.409,
          59935.12,
          51090.26,
          9396.014,
          3723.5322,
          13531.396,
          16737.227,
          5537.3696,
          67296.16,
          26961.291,
          19796.588,
          28383.62,
          35356.777,
          3570.6074,
          3564.6282,
          49275.152,
          1502.4822,
          31704.426,
          12675.068,
          34302.348,
          1132.6542,
          2699.129,
          117746.99,
          3365.8738,
          4137.278,
          15492.067,
          13939.787,
          2799.1125,
          10569.051,
          21271.318,
          5330.2144,
          33176.184,
          4989.4087,
          9490.667,
          9762.777,
          22108.73,
          17507.621,
          4249.876,
          2207.957,
          823.9822,
          14918.297,
          41015.227,
          1466.8794,
          5822.3535,
          1250.7725,
          1448.5568,
          39955.246,
          3670.1997,
          7379.2476,
          2280.0737,
          12200.138,
          37711.82,
          17078.342,
          55567.438,
          2132.6233,
          2364.802,
          10107.865,
          15047.614,
          1855.1119,
          5906.1157,
          1634.7638,
          32992.383,
          45185.312,
          48641.85,
          3435.1716,
          24426.66,
          34663.496,
          44996.316,
          2158.8584,
          2113.6147,
          23295.547,
          41273.613,
          15518.651,
          1274.6417,
          2202.7268,
          35634.688,
          1460.9233,
          1412.6708,
          11396.531,
          3438.8599,
          2240.3394,
          9473.706,
          2623.8616,
          22841.35,
          3245.7688,
          708.1783,
          41942.918,
          20718.389,
          12073.245,
          4533.8643,
          3752.945,
          71353.89,
          58669.902,
          81165.65,
          15417.297,
          23114.951,
          25205.736,
          22321.87,
          14572.607,
          12388.108,
          14462.937,
          15100.286,
          7947.6587,
          11463.598,
          28770.139,
          2247.785,
          58478.883
         ]
        }
       ],
       "layout": {
        "barmode": "group",
        "template": {
         "data": {
          "bar": [
           {
            "error_x": {
             "color": "#2a3f5f"
            },
            "error_y": {
             "color": "#2a3f5f"
            },
            "marker": {
             "line": {
              "color": "#E5ECF6",
              "width": 0.5
             },
             "pattern": {
              "fillmode": "overlay",
              "size": 10,
              "solidity": 0.2
             }
            },
            "type": "bar"
           }
          ],
          "barpolar": [
           {
            "marker": {
             "line": {
              "color": "#E5ECF6",
              "width": 0.5
             },
             "pattern": {
              "fillmode": "overlay",
              "size": 10,
              "solidity": 0.2
             }
            },
            "type": "barpolar"
           }
          ],
          "carpet": [
           {
            "aaxis": {
             "endlinecolor": "#2a3f5f",
             "gridcolor": "white",
             "linecolor": "white",
             "minorgridcolor": "white",
             "startlinecolor": "#2a3f5f"
            },
            "baxis": {
             "endlinecolor": "#2a3f5f",
             "gridcolor": "white",
             "linecolor": "white",
             "minorgridcolor": "white",
             "startlinecolor": "#2a3f5f"
            },
            "type": "carpet"
           }
          ],
          "choropleth": [
           {
            "colorbar": {
             "outlinewidth": 0,
             "ticks": ""
            },
            "type": "choropleth"
           }
          ],
          "contour": [
           {
            "colorbar": {
             "outlinewidth": 0,
             "ticks": ""
            },
            "colorscale": [
             [
              0,
              "#0d0887"
             ],
             [
              0.1111111111111111,
              "#46039f"
             ],
             [
              0.2222222222222222,
              "#7201a8"
             ],
             [
              0.3333333333333333,
              "#9c179e"
             ],
             [
              0.4444444444444444,
              "#bd3786"
             ],
             [
              0.5555555555555556,
              "#d8576b"
             ],
             [
              0.6666666666666666,
              "#ed7953"
             ],
             [
              0.7777777777777778,
              "#fb9f3a"
             ],
             [
              0.8888888888888888,
              "#fdca26"
             ],
             [
              1,
              "#f0f921"
             ]
            ],
            "type": "contour"
           }
          ],
          "contourcarpet": [
           {
            "colorbar": {
             "outlinewidth": 0,
             "ticks": ""
            },
            "type": "contourcarpet"
           }
          ],
          "heatmap": [
           {
            "colorbar": {
             "outlinewidth": 0,
             "ticks": ""
            },
            "colorscale": [
             [
              0,
              "#0d0887"
             ],
             [
              0.1111111111111111,
              "#46039f"
             ],
             [
              0.2222222222222222,
              "#7201a8"
             ],
             [
              0.3333333333333333,
              "#9c179e"
             ],
             [
              0.4444444444444444,
              "#bd3786"
             ],
             [
              0.5555555555555556,
              "#d8576b"
             ],
             [
              0.6666666666666666,
              "#ed7953"
             ],
             [
              0.7777777777777778,
              "#fb9f3a"
             ],
             [
              0.8888888888888888,
              "#fdca26"
             ],
             [
              1,
              "#f0f921"
             ]
            ],
            "type": "heatmap"
           }
          ],
          "heatmapgl": [
           {
            "colorbar": {
             "outlinewidth": 0,
             "ticks": ""
            },
            "colorscale": [
             [
              0,
              "#0d0887"
             ],
             [
              0.1111111111111111,
              "#46039f"
             ],
             [
              0.2222222222222222,
              "#7201a8"
             ],
             [
              0.3333333333333333,
              "#9c179e"
             ],
             [
              0.4444444444444444,
              "#bd3786"
             ],
             [
              0.5555555555555556,
              "#d8576b"
             ],
             [
              0.6666666666666666,
              "#ed7953"
             ],
             [
              0.7777777777777778,
              "#fb9f3a"
             ],
             [
              0.8888888888888888,
              "#fdca26"
             ],
             [
              1,
              "#f0f921"
             ]
            ],
            "type": "heatmapgl"
           }
          ],
          "histogram": [
           {
            "marker": {
             "pattern": {
              "fillmode": "overlay",
              "size": 10,
              "solidity": 0.2
             }
            },
            "type": "histogram"
           }
          ],
          "histogram2d": [
           {
            "colorbar": {
             "outlinewidth": 0,
             "ticks": ""
            },
            "colorscale": [
             [
              0,
              "#0d0887"
             ],
             [
              0.1111111111111111,
              "#46039f"
             ],
             [
              0.2222222222222222,
              "#7201a8"
             ],
             [
              0.3333333333333333,
              "#9c179e"
             ],
             [
              0.4444444444444444,
              "#bd3786"
             ],
             [
              0.5555555555555556,
              "#d8576b"
             ],
             [
              0.6666666666666666,
              "#ed7953"
             ],
             [
              0.7777777777777778,
              "#fb9f3a"
             ],
             [
              0.8888888888888888,
              "#fdca26"
             ],
             [
              1,
              "#f0f921"
             ]
            ],
            "type": "histogram2d"
           }
          ],
          "histogram2dcontour": [
           {
            "colorbar": {
             "outlinewidth": 0,
             "ticks": ""
            },
            "colorscale": [
             [
              0,
              "#0d0887"
             ],
             [
              0.1111111111111111,
              "#46039f"
             ],
             [
              0.2222222222222222,
              "#7201a8"
             ],
             [
              0.3333333333333333,
              "#9c179e"
             ],
             [
              0.4444444444444444,
              "#bd3786"
             ],
             [
              0.5555555555555556,
              "#d8576b"
             ],
             [
              0.6666666666666666,
              "#ed7953"
             ],
             [
              0.7777777777777778,
              "#fb9f3a"
             ],
             [
              0.8888888888888888,
              "#fdca26"
             ],
             [
              1,
              "#f0f921"
             ]
            ],
            "type": "histogram2dcontour"
           }
          ],
          "mesh3d": [
           {
            "colorbar": {
             "outlinewidth": 0,
             "ticks": ""
            },
            "type": "mesh3d"
           }
          ],
          "parcoords": [
           {
            "line": {
             "colorbar": {
              "outlinewidth": 0,
              "ticks": ""
             }
            },
            "type": "parcoords"
           }
          ],
          "pie": [
           {
            "automargin": true,
            "type": "pie"
           }
          ],
          "scatter": [
           {
            "fillpattern": {
             "fillmode": "overlay",
             "size": 10,
             "solidity": 0.2
            },
            "type": "scatter"
           }
          ],
          "scatter3d": [
           {
            "line": {
             "colorbar": {
              "outlinewidth": 0,
              "ticks": ""
             }
            },
            "marker": {
             "colorbar": {
              "outlinewidth": 0,
              "ticks": ""
             }
            },
            "type": "scatter3d"
           }
          ],
          "scattercarpet": [
           {
            "marker": {
             "colorbar": {
              "outlinewidth": 0,
              "ticks": ""
             }
            },
            "type": "scattercarpet"
           }
          ],
          "scattergeo": [
           {
            "marker": {
             "colorbar": {
              "outlinewidth": 0,
              "ticks": ""
             }
            },
            "type": "scattergeo"
           }
          ],
          "scattergl": [
           {
            "marker": {
             "colorbar": {
              "outlinewidth": 0,
              "ticks": ""
             }
            },
            "type": "scattergl"
           }
          ],
          "scattermapbox": [
           {
            "marker": {
             "colorbar": {
              "outlinewidth": 0,
              "ticks": ""
             }
            },
            "type": "scattermapbox"
           }
          ],
          "scatterpolar": [
           {
            "marker": {
             "colorbar": {
              "outlinewidth": 0,
              "ticks": ""
             }
            },
            "type": "scatterpolar"
           }
          ],
          "scatterpolargl": [
           {
            "marker": {
             "colorbar": {
              "outlinewidth": 0,
              "ticks": ""
             }
            },
            "type": "scatterpolargl"
           }
          ],
          "scatterternary": [
           {
            "marker": {
             "colorbar": {
              "outlinewidth": 0,
              "ticks": ""
             }
            },
            "type": "scatterternary"
           }
          ],
          "surface": [
           {
            "colorbar": {
             "outlinewidth": 0,
             "ticks": ""
            },
            "colorscale": [
             [
              0,
              "#0d0887"
             ],
             [
              0.1111111111111111,
              "#46039f"
             ],
             [
              0.2222222222222222,
              "#7201a8"
             ],
             [
              0.3333333333333333,
              "#9c179e"
             ],
             [
              0.4444444444444444,
              "#bd3786"
             ],
             [
              0.5555555555555556,
              "#d8576b"
             ],
             [
              0.6666666666666666,
              "#ed7953"
             ],
             [
              0.7777777777777778,
              "#fb9f3a"
             ],
             [
              0.8888888888888888,
              "#fdca26"
             ],
             [
              1,
              "#f0f921"
             ]
            ],
            "type": "surface"
           }
          ],
          "table": [
           {
            "cells": {
             "fill": {
              "color": "#EBF0F8"
             },
             "line": {
              "color": "white"
             }
            },
            "header": {
             "fill": {
              "color": "#C8D4E3"
             },
             "line": {
              "color": "white"
             }
            },
            "type": "table"
           }
          ]
         },
         "layout": {
          "annotationdefaults": {
           "arrowcolor": "#2a3f5f",
           "arrowhead": 0,
           "arrowwidth": 1
          },
          "autotypenumbers": "strict",
          "coloraxis": {
           "colorbar": {
            "outlinewidth": 0,
            "ticks": ""
           }
          },
          "colorscale": {
           "diverging": [
            [
             0,
             "#8e0152"
            ],
            [
             0.1,
             "#c51b7d"
            ],
            [
             0.2,
             "#de77ae"
            ],
            [
             0.3,
             "#f1b6da"
            ],
            [
             0.4,
             "#fde0ef"
            ],
            [
             0.5,
             "#f7f7f7"
            ],
            [
             0.6,
             "#e6f5d0"
            ],
            [
             0.7,
             "#b8e186"
            ],
            [
             0.8,
             "#7fbc41"
            ],
            [
             0.9,
             "#4d9221"
            ],
            [
             1,
             "#276419"
            ]
           ],
           "sequential": [
            [
             0,
             "#0d0887"
            ],
            [
             0.1111111111111111,
             "#46039f"
            ],
            [
             0.2222222222222222,
             "#7201a8"
            ],
            [
             0.3333333333333333,
             "#9c179e"
            ],
            [
             0.4444444444444444,
             "#bd3786"
            ],
            [
             0.5555555555555556,
             "#d8576b"
            ],
            [
             0.6666666666666666,
             "#ed7953"
            ],
            [
             0.7777777777777778,
             "#fb9f3a"
            ],
            [
             0.8888888888888888,
             "#fdca26"
            ],
            [
             1,
             "#f0f921"
            ]
           ],
           "sequentialminus": [
            [
             0,
             "#0d0887"
            ],
            [
             0.1111111111111111,
             "#46039f"
            ],
            [
             0.2222222222222222,
             "#7201a8"
            ],
            [
             0.3333333333333333,
             "#9c179e"
            ],
            [
             0.4444444444444444,
             "#bd3786"
            ],
            [
             0.5555555555555556,
             "#d8576b"
            ],
            [
             0.6666666666666666,
             "#ed7953"
            ],
            [
             0.7777777777777778,
             "#fb9f3a"
            ],
            [
             0.8888888888888888,
             "#fdca26"
            ],
            [
             1,
             "#f0f921"
            ]
           ]
          },
          "colorway": [
           "#636efa",
           "#EF553B",
           "#00cc96",
           "#ab63fa",
           "#FFA15A",
           "#19d3f3",
           "#FF6692",
           "#B6E880",
           "#FF97FF",
           "#FECB52"
          ],
          "font": {
           "color": "#2a3f5f"
          },
          "geo": {
           "bgcolor": "white",
           "lakecolor": "white",
           "landcolor": "#E5ECF6",
           "showlakes": true,
           "showland": true,
           "subunitcolor": "white"
          },
          "hoverlabel": {
           "align": "left"
          },
          "hovermode": "closest",
          "mapbox": {
           "style": "light"
          },
          "paper_bgcolor": "white",
          "plot_bgcolor": "#E5ECF6",
          "polar": {
           "angularaxis": {
            "gridcolor": "white",
            "linecolor": "white",
            "ticks": ""
           },
           "bgcolor": "#E5ECF6",
           "radialaxis": {
            "gridcolor": "white",
            "linecolor": "white",
            "ticks": ""
           }
          },
          "scene": {
           "xaxis": {
            "backgroundcolor": "#E5ECF6",
            "gridcolor": "white",
            "gridwidth": 2,
            "linecolor": "white",
            "showbackground": true,
            "ticks": "",
            "zerolinecolor": "white"
           },
           "yaxis": {
            "backgroundcolor": "#E5ECF6",
            "gridcolor": "white",
            "gridwidth": 2,
            "linecolor": "white",
            "showbackground": true,
            "ticks": "",
            "zerolinecolor": "white"
           },
           "zaxis": {
            "backgroundcolor": "#E5ECF6",
            "gridcolor": "white",
            "gridwidth": 2,
            "linecolor": "white",
            "showbackground": true,
            "ticks": "",
            "zerolinecolor": "white"
           }
          },
          "shapedefaults": {
           "line": {
            "color": "#2a3f5f"
           }
          },
          "ternary": {
           "aaxis": {
            "gridcolor": "white",
            "linecolor": "white",
            "ticks": ""
           },
           "baxis": {
            "gridcolor": "white",
            "linecolor": "white",
            "ticks": ""
           },
           "bgcolor": "#E5ECF6",
           "caxis": {
            "gridcolor": "white",
            "linecolor": "white",
            "ticks": ""
           }
          },
          "title": {
           "x": 0.05
          },
          "xaxis": {
           "automargin": true,
           "gridcolor": "white",
           "linecolor": "white",
           "ticks": "",
           "title": {
            "standoff": 15
           },
           "zerolinecolor": "white",
           "zerolinewidth": 2
          },
          "yaxis": {
           "automargin": true,
           "gridcolor": "white",
           "linecolor": "white",
           "ticks": "",
           "title": {
            "standoff": 15
           },
           "zerolinecolor": "white",
           "zerolinewidth": 2
          }
         }
        },
        "xaxis": {
         "tickangle": -45
        }
       }
      }
     },
     "metadata": {},
     "output_type": "display_data"
    }
   ],
   "source": [
    "# %%\n",
    "fig = go.Figure()\n",
    "fig.add_trace(go.Bar(\n",
    "    x = data[\"Country\"],\n",
    "    y = data[\"GDP Per Capita Before Covid\"],\n",
    "    name='GDP Per Capita before Covid-19',\n",
    "    marker_color='indianred'\n",
    "))\n",
    "fig.add_trace(go.Bar(\n",
    "    x = data[\"Country\"],\n",
    "    y = data[\"GDP Per Capita During Covid\"],\n",
    "    name='GDP Per Capita during Covid-19',\n",
    "    marker_color='lightsalmon'\n",
    "))\n",
    "fig.add_trace(go.Bar(\n",
    "    x = data[\"Country\"],\n",
    "    y = data[\"GDP Per Capita After Covid\"],\n",
    "    name='GDP Per Capita after Covid-19',\n",
    "    marker_color='pink'\n",
    "))\n",
    "fig.update_layout(barmode='group', xaxis_tickangle = -45)\n",
    "fig.show()"
   ]
  },
  {
   "cell_type": "code",
   "execution_count": 20,
   "metadata": {},
   "outputs": [
    {
     "data": {
      "application/vnd.plotly.v1+json": {
       "config": {
        "plotlyServerURL": "https://plot.ly"
       },
       "data": [
        {
         "alignmentgroup": "True",
         "customdata": [
          [
           15.58201085,
           26477574
          ],
          [
           13.55623711,
           14340567
          ],
          [
           17.25184806,
           7247327
          ],
          [
           17.25770384,
           2131571
          ],
          [
           18.67480153,
           3020038
          ],
          [
           14.47446683,
           7295850
          ],
          [
           18.51217534,
           5510624
          ],
          [
           15.78017657,
           1357682
          ],
          [
           13.22850199,
           1936134
          ],
          [
           15.89207108,
           7249573
          ],
          [
           16.15953083,
           2914070
          ],
          [
           17.09438451,
           1283880
          ],
          [
           16.70118056,
           6664225
          ],
          [
           16.68585306,
           5633444
          ],
          [
           17.3079574,
           1077426
          ],
          [
           15.08145118,
           1640691
          ],
          [
           12.2975619,
           1049757
          ],
          [
           15.38874766,
           442507
          ],
          [
           13.20032762,
           789557
          ],
          [
           16.13191719,
           484534
          ],
          [
           10.94679853,
           744253
          ],
          [
           15.21025983,
           448665
          ],
          [
           17.44628825,
           1066939
          ],
          [
           10.42498602,
           916111
          ],
          [
           12.98879313,
           1455549
          ],
          [
           8.516993171,
           23820
          ],
          [
           12.03636915,
           126278
          ],
          [
           15.73310882,
           343334
          ],
          [
           18.91957173,
           1798461
          ],
          [
           12.00823128,
           1083749
          ],
          [
           13.57542301,
           161480
          ],
          [
           10.54894022,
           1142410
          ],
          [
           13.68300607,
           644416
          ],
          [
           14.87366884,
           941063
          ],
          [
           12.89325457,
           578559
          ],
          [
           17.42400819,
           464952
          ],
          [
           16.24266591,
           209024
          ],
          [
           15.8300119,
           69104
          ],
          [
           14.34706955,
           88409
          ],
          [
           12.99802163,
           222435
          ],
          [
           11.49618614,
           58035
          ],
          [
           17.29261899,
           73391
          ],
          [
           15.00283311,
           302612
          ],
          [
           10.57755385,
           304001
          ],
          [
           15.5058355,
           4691
          ],
          [
           14.45007584,
           142270
          ],
          [
           16.39062287,
           194918
          ],
          [
           8.15564927,
           281588
          ],
          [
           16.77238152,
           320693
          ],
          [
           16.01344599,
           22413
          ],
          [
           14.61559461,
           200844
          ],
          [
           17.13661869,
           125473
          ],
          [
           9.615938805,
           102039
          ],
          [
           15.74286198,
           27737
          ],
          [
           11.63087738,
           310201
          ],
          [
           14.9017918,
           134945
          ],
          [
           14.09808385,
           29143
          ],
          [
           14.87253667,
           206429
          ],
          [
           13.80344,
           77686
          ],
          [
           15.26725623,
           129946
          ],
          [
           16.61436742,
           50352
          ],
          [
           15.51289396,
           31903
          ],
          [
           16.08354044,
           114922
          ],
          [
           11.5783948,
           59495
          ],
          [
           17.00213737,
           87503
          ],
          [
           13.35039417,
           54940
          ],
          [
           17.3111646,
           63333
          ],
          [
           16.24934608,
           59485
          ],
          [
           16.82370654,
           21522
          ],
          [
           15.44359631,
           113280
          ],
          [
           17.62651421,
           65029
          ],
          [
           16.18659339,
           71957
          ],
          [
           10.31682162,
           56606
          ],
          [
           14.05591783,
           42850
          ],
          [
           16.31063137,
           70578
          ],
          [
           16.76604717,
           14220
          ],
          [
           16.76676599,
           47158
          ],
          [
           10.1743159,
           72850
          ],
          [
           17.50993717,
           29730
          ],
          [
           14.90109198,
           24012
          ],
          [
           15.199095,
           110142
          ],
          [
           16.13757538,
           102825
          ],
          [
           15.70629361,
           30320
          ],
          [
           16.19948244,
           58377
          ],
          [
           15.97371025,
           17744
          ],
          [
           18.56012597,
           44805
          ],
          [
           16.10851066,
           47571
          ],
          [
           21.08743924,
           28757
          ],
          [
           15.52354271,
           32040
          ],
          [
           13.7061911,
           7283
          ],
          [
           11.35078294,
           21907
          ],
          [
           13.43991197,
           26475
          ],
          [
           18.79866817,
           9730
          ],
          [
           17.4772331,
           31056
          ],
          [
           18.44375647,
           6877
          ],
          [
           12.54576825,
           23891
          ],
          [
           10.43229061,
           19025
          ],
          [
           18.65556675,
           3054
          ],
          [
           16.74812767,
           19810
          ],
          [
           19.21318595,
           6055
          ],
          [
           17.08805131,
           8006
          ],
          [
           14.49252734,
           5653
          ],
          [
           15.43641784,
           6634
          ],
          [
           15.80003079,
           11356
          ],
          [
           10.88166329,
           11162
          ],
          [
           14.57736817,
           13973
          ],
          [
           16.5814031,
           15984
          ],
          [
           16.29127395,
           7108
          ],
          [
           18.31043503,
           8947
          ],
          [
           15.44502871,
           22165
          ],
          [
           17.91752278,
           15480
          ],
          [
           13.34706731,
           16410
          ],
          [
           15.73616766,
           3396
          ],
          [
           16.00683186,
           15001
          ],
          [
           15.41242964,
           14345
          ],
          [
           15.39030816,
           9298
          ],
          [
           15.75402845,
           4749
          ],
          [
           16.63354636,
           3748
          ],
          [
           17.44905184,
           2108
          ],
          [
           15.57202326,
           11802
          ],
          [
           14.15411267,
           4013
          ],
          [
           18.24375196,
           1968
          ],
          [
           11.52359831,
           18813
          ],
          [
           17.81205473,
           1744
          ],
          [
           11.11322372,
           5653
          ],
          [
           14.86662585,
           6961
          ],
          [
           15.52763465,
           4199
          ],
          [
           17.59630906,
           11820
          ],
          [
           10.96053104,
           10036
          ],
          [
           21.04535251,
           5376
          ],
          [
           14.81698436,
           4145
          ],
          [
           16.13820607,
           2409
          ],
          [
           16.06145345,
           4374
          ],
          [
           10.66620744,
           6083
          ],
          [
           17.05418434,
           5998
          ],
          [
           13.67578287,
           3735
          ],
          [
           15.00360243,
           10248
          ],
          [
           15.68518756,
           7201
          ],
          [
           11.61680789,
           4519
          ],
          [
           11.49198779,
           1624
          ],
          [
           11.03928322,
           895
          ],
          [
           14.54950213,
           11676
          ],
          [
           12.1206727,
           4197
          ],
          [
           17.99409688,
           5783
          ],
          [
           18.24624346,
           10087
          ],
          [
           16.63205462,
           12212
          ],
          [
           14.54736486,
           2318
          ],
          [
           12.56196578,
           2198
          ],
          [
           19.42689854,
           2680
          ],
          [
           12.56852934,
           1613
          ],
          [
           16.37677691,
           3733
          ],
          [
           17.80025043,
           1988
          ],
          [
           11.09315857,
           920
          ],
          [
           14.67061714,
           188
          ],
          [
           15.44604869,
           3146
          ],
          [
           17.36552634,
           476
          ],
          [
           15.69102752,
           0
          ],
          [
           19.17473208,
           0
          ],
          [
           15.35230466,
           417
          ],
          [
           16.85541655,
           213
          ],
          [
           16.27279152,
           475
          ],
          [
           16.26562008,
           1631
          ],
          [
           12.88219574,
           1321
          ],
          [
           17.74503716,
           207
          ],
          [
           19.1440641,
           0
          ],
          [
           11.25499635,
           568
          ],
          [
           16.6566263,
           0
          ],
          [
           11.18429639,
           132
          ],
          [
           10.79681667,
           0
          ],
          [
           17.18751281,
           0
          ],
          [
           12.74037063,
           0
          ],
          [
           15.22778158,
           0
          ],
          [
           14.7480352,
           0
          ],
          [
           15.27755412,
           0
          ],
          [
           14.69789863,
           0
          ]
         ],
         "hovertemplate": "Country=%{x}<br>Total Cases=%{y}<br>Population=%{customdata[0]}<br>Total Deaths=%{customdata[1]}<br>HDI=%{marker.color}<extra></extra>",
         "legendgroup": "",
         "marker": {
          "color": [
           0.9240000000000003,
           0.7590000000000001,
           0.64,
           0.816,
           0.5994897959183674,
           0.774,
           0.887969387755102,
           0.6086530612244898,
           0.5818469387755102,
           0.9219999999999999,
           0.798,
           0.6566224489795919,
           0.8799999999999999,
           0.901,
           0.7071428571428571,
           0.9360000000000003,
           0.591904761904762,
           0.6731156462585033,
           0.5620000000000002,
           0.47771428571428576,
           0.6850000000000002,
           0.699,
           0.7519999999999999,
           0.694,
           0.926,
           0.856,
           0.9030000000000002,
           0.5747448979591837,
           0.9097687074829933,
           0.7519999999999999,
           0.6013605442176871,
           0.9310000000000002,
           0.6959999999999998,
           0.9234795918367349,
           0.5232857142857141,
           0.811,
           0.7359999999999999,
           0.8029999999999999,
           0.8079999999999998,
           0.6038265306122448,
           0.8629999999999998,
           0.8209999999999998,
           0.6712619047619045,
           0.6708163265306123,
           0.9320000000000002,
           0.5807891156462585,
           0.9089999999999999,
           0.5438775510204084,
           0.9439999999999998,
           0.846,
           0.461700680272109,
           0.5319999999999999,
           0.7550000000000001,
           0.574,
           0.9379999999999997,
           0.908,
           0.4429931972789114,
           0.754,
           0.34803741496598645,
           0.5333333333333333,
           0.6103537414965988,
           0.5264625850340137,
           0.49142857142857127,
           0.7569999999999998,
           0.634418367346939,
           0,
           0.9030000000000002,
           0.4575510204081633,
           0.5296666666666668,
           0.9290000000000002,
           0.9389999999999997,
           0.4928911564625853,
           0.4217278911564626,
           0.5420204081632652,
           0.582530612244898,
           0.36816326530612237,
           0.9530000000000001,
           0.6194285714285716,
           0.5523129251700679,
           0.8019999999999998,
           0.6555782312925167,
           0.3756462585034013,
           0.403656462585034,
           0.92,
           0.37601020408163266,
           0.87,
           0,
           0.8309999999999997,
           0.3435272108843537,
           0.3419081632653061,
           0.904,
           0.42999999999999994,
           0.38027210884353746,
           0.6007653061224489,
           0.5253061224489796,
           0.3624897959183674,
           0.565,
           0.5462857142857142,
           0.3873469387755101,
           0.6630612244897962,
           0.34809523809523807,
           0.5674999999999999,
           0.48194897959183686,
           0.5980408163265306,
           0.7550000000000001,
           0.4167891156462586,
           0.38760204081632654,
           0.27212925170068025,
           0.44023469387755104,
           0.6948571428571431,
           0.3326020408163265,
           0.4811904761904763,
           0.31362925170068023,
           0,
           0.8579999999999999,
           0.44934693877551013,
           0.47381632653061223,
           0.3720816326530612,
           0.77,
           0.8710000000000002,
           0.7800000000000001,
           0.9350000000000004,
           0.30209523809523803,
           0.3903265306122449,
           0.5502448979591836,
           0.5240816326530612,
           0.32035714285714284,
           0.41895238095238085,
           0.2878843537414965,
           0.6741428571428569,
           0.917,
           0.7675034013605443,
           0.3801190476190475,
           0.5988979591836735,
           0.5928979591836737,
           0.6561836734693877,
           0.31796938775510203,
           0.33795918367346944,
           0.5893333333333335,
           0,
           0.49263265306122433,
           0.25646938775510203,
           0.39350340136054424,
           0.4871632653061225,
           0.3210714285714285,
           0.29406802721088443,
           0.694,
           0.3886598639455783,
           0.2794557823129252,
           0.5057142857142858,
           0.3970952380952382,
           0.5750340136054423,
           0.29256122448979593,
           0.2865102040816326,
           0,
           0,
           0.5544897959183672,
           0.582,
           0.3941224489795919,
           0,
           0.647003401360544,
           0,
           0.5877551020408164,
           0,
           0.5936836734693878,
           0.5677551020408164,
           0.5311836734693878,
           0.6653877551020407,
           0.5540544217687077,
           0.5564387755102042,
           0.4272414965986394,
           0.5131462585034013,
           0.5504217687074832,
           0.007428571428571429,
           0.1618469387755102
          ],
          "coloraxis": "coloraxis",
          "pattern": {
           "shape": ""
          }
         },
         "name": "",
         "offsetgroup": "",
         "orientation": "v",
         "showlegend": false,
         "textposition": "auto",
         "type": "bar",
         "x": [
          "United States",
          "Brazil",
          "India",
          "Russia",
          "Peru",
          "Mexico",
          "Spain",
          "South Africa",
          "Colombia",
          "United Kingdom",
          "Iran",
          "Chile",
          "Italy",
          "France",
          "Argentina",
          "Germany",
          "Turkey",
          "Saudi Arabia",
          "Pakistan",
          "Bangladesh",
          "Iraq",
          "Philippines",
          "China",
          "Indonesia",
          "Canada",
          "Qatar",
          "Israel",
          "Ukraine",
          "Belgium",
          "Ecuador",
          "Kazakhstan",
          "Netherlands",
          "Egypt",
          "Sweden",
          "Bolivia",
          "Romania",
          "Dominican Republic",
          "Kuwait",
          "Belarus",
          "Panama",
          "United Arab Emirates",
          "Oman",
          "Portugal",
          "Poland",
          "Singapore",
          "Morocco",
          "Japan",
          "Guatemala",
          "Switzerland",
          "Bahrain",
          "Honduras",
          "Nigeria",
          "Armenia",
          "Nepal",
          "Ireland",
          "Austria",
          "Ghana",
          "Algeria",
          "Ethiopia",
          "Moldova",
          "Costa Rica",
          "Uzbekistan",
          "Kyrgyzstan",
          "Azerbaijan",
          "Serbia",
          "Puerto Rico",
          "South Korea",
          "Kenya",
          "Palestine",
          "Denmark",
          "Australia",
          "El Salvador",
          "Cameroon",
          "Paraguay",
          "Bosnia and Herzegovina",
          "Cote d'Ivoire",
          "Norway",
          "Bulgaria",
          "Libya",
          "Malaysia",
          "Hungary",
          "Sudan",
          "Senegal",
          "Finland",
          "Madagascar",
          "Greece",
          "Kosovo",
          "Croatia",
          "Democratic Republic of Congo",
          "Guinea",
          "Luxembourg",
          "Zambia",
          "Tajikistan",
          "Albania",
          "Gabon",
          "Haiti",
          "Tunisia",
          "Maldives",
          "Mauritania",
          "Slovakia",
          "Djibouti",
          "Jordan",
          "Namibia",
          "Montenegro",
          "Thailand",
          "Myanmar",
          "Zimbabwe",
          "Central African Republic",
          "Equatorial Guinea",
          "Slovenia",
          "Malawi",
          "Nicaragua",
          "Mozambique",
          "Somalia",
          "Lithuania",
          "Congo",
          "Cape Verde",
          "Uganda",
          "Sri Lanka",
          "Estonia",
          "Georgia",
          "Iceland",
          "Mali",
          "Rwanda",
          "Jamaica",
          "Suriname",
          "Guinea-Bissau",
          "Angola",
          "Sierra Leone",
          "Latvia",
          "New Zealand",
          "Malta",
          "Benin",
          "Uruguay",
          "Bahamas",
          "Cyprus",
          "Burkina Faso",
          "Gambia",
          "Trinidad and Tobago",
          "Aruba",
          "Botswana",
          "Niger",
          "Togo",
          "Guyana",
          "Liberia",
          "Chad",
          "Vietnam",
          "Sao Tome and Principe",
          "Lesotho",
          "Belize",
          "Tanzania",
          "Mauritius",
          "Comoros",
          "Burundi",
          "Sint Maarten (Dutch part)",
          "Turks and Caicos Islands",
          "Mongolia",
          "Cambodia",
          "Papua New Guinea",
          "Cayman Islands",
          "Brunei",
          "Bermuda",
          "Barbados",
          "Curacao",
          "Seychelles",
          "Antigua and Barbuda",
          "Saint Vincent and the Grenadines",
          "Fiji",
          "Grenada",
          "Saint Lucia",
          "Laos",
          "Dominica",
          "Saint Kitts and Nevis",
          "Solomon Islands",
          "Hong Kong"
         ],
         "xaxis": "x",
         "y": [
          746014098,
          425704517,
          407771615,
          132888951,
          74882695,
          74347548,
          73717676,
          63027659,
          60543682,
          59475032,
          52421884,
          51268034,
          50752853,
          50084335,
          47155234,
          42447678,
          41431948,
          38585191,
          37738077,
          35266178,
          25280332,
          22409936,
          21632319,
          21570149,
          20902374,
          16351440,
          16202474,
          15805665,
          15192468,
          14408757,
          13194863,
          13026629,
          12422845,
          11910109,
          11858838,
          10672859,
          10649646,
          10622205,
          10595186,
          10371724,
          10247326,
          10060093,
          9266263,
          9239657,
          8191161,
          7839270,
          7659484,
          7644426,
          7552067,
          6549995,
          6545499,
          6107371,
          5474629,
          5243653,
          5239798,
          4909197,
          4900649,
          4893999,
          4876417,
          4632482,
          4631835,
          4421215,
          4287847,
          4236782,
          3984174,
          3586463,
          3333075,
          3277734,
          3249458,
          3030088,
          3012377,
          2573206,
          2476502,
          2265640,
          2200057,
          2132883,
          1985889,
          1890380,
          1817274,
          1774181,
          1708798,
          1663545,
          1586747,
          1458484,
          1443321,
          1421470,
          1345940,
          1314031,
          1271391,
          1195836,
          1146724,
          1129913,
          1117391,
          1071951,
          1031803,
          1023155,
          1000626,
          844040,
          799222,
          798665,
          781771,
          716514,
          681299,
          675912,
          655703,
          644209,
          593699,
          593048,
          557355,
          547075,
          536447,
          524410,
          510578,
          491145,
          488057,
          473368,
          463888,
          448728,
          446643,
          445402,
          431689,
          421210,
          390637,
          388775,
          370890,
          358632,
          306564,
          304005,
          268396,
          255964,
          253203,
          251261,
          245893,
          239884,
          237908,
          236673,
          231452,
          229521,
          225550,
          215110,
          205758,
          199978,
          169903,
          166917,
          159880,
          154173,
          122618,
          121909,
          107948,
          106383,
          91526,
          69524,
          52437,
          49745,
          48026,
          44432,
          42465,
          39539,
          35966,
          33173,
          30140,
          28876,
          24998,
          19777,
          14701,
          12619,
          7824,
          4742,
          4470,
          4450,
          4039,
          3977,
          3246,
          11,
          0
         ],
         "yaxis": "y"
        }
       ],
       "layout": {
        "barmode": "relative",
        "coloraxis": {
         "colorbar": {
          "title": {
           "text": "HDI"
          }
         },
         "colorscale": [
          [
           0,
           "#0d0887"
          ],
          [
           0.1111111111111111,
           "#46039f"
          ],
          [
           0.2222222222222222,
           "#7201a8"
          ],
          [
           0.3333333333333333,
           "#9c179e"
          ],
          [
           0.4444444444444444,
           "#bd3786"
          ],
          [
           0.5555555555555556,
           "#d8576b"
          ],
          [
           0.6666666666666666,
           "#ed7953"
          ],
          [
           0.7777777777777778,
           "#fb9f3a"
          ],
          [
           0.8888888888888888,
           "#fdca26"
          ],
          [
           1,
           "#f0f921"
          ]
         ]
        },
        "height": 400,
        "legend": {
         "tracegroupgap": 0
        },
        "template": {
         "data": {
          "bar": [
           {
            "error_x": {
             "color": "#2a3f5f"
            },
            "error_y": {
             "color": "#2a3f5f"
            },
            "marker": {
             "line": {
              "color": "#E5ECF6",
              "width": 0.5
             },
             "pattern": {
              "fillmode": "overlay",
              "size": 10,
              "solidity": 0.2
             }
            },
            "type": "bar"
           }
          ],
          "barpolar": [
           {
            "marker": {
             "line": {
              "color": "#E5ECF6",
              "width": 0.5
             },
             "pattern": {
              "fillmode": "overlay",
              "size": 10,
              "solidity": 0.2
             }
            },
            "type": "barpolar"
           }
          ],
          "carpet": [
           {
            "aaxis": {
             "endlinecolor": "#2a3f5f",
             "gridcolor": "white",
             "linecolor": "white",
             "minorgridcolor": "white",
             "startlinecolor": "#2a3f5f"
            },
            "baxis": {
             "endlinecolor": "#2a3f5f",
             "gridcolor": "white",
             "linecolor": "white",
             "minorgridcolor": "white",
             "startlinecolor": "#2a3f5f"
            },
            "type": "carpet"
           }
          ],
          "choropleth": [
           {
            "colorbar": {
             "outlinewidth": 0,
             "ticks": ""
            },
            "type": "choropleth"
           }
          ],
          "contour": [
           {
            "colorbar": {
             "outlinewidth": 0,
             "ticks": ""
            },
            "colorscale": [
             [
              0,
              "#0d0887"
             ],
             [
              0.1111111111111111,
              "#46039f"
             ],
             [
              0.2222222222222222,
              "#7201a8"
             ],
             [
              0.3333333333333333,
              "#9c179e"
             ],
             [
              0.4444444444444444,
              "#bd3786"
             ],
             [
              0.5555555555555556,
              "#d8576b"
             ],
             [
              0.6666666666666666,
              "#ed7953"
             ],
             [
              0.7777777777777778,
              "#fb9f3a"
             ],
             [
              0.8888888888888888,
              "#fdca26"
             ],
             [
              1,
              "#f0f921"
             ]
            ],
            "type": "contour"
           }
          ],
          "contourcarpet": [
           {
            "colorbar": {
             "outlinewidth": 0,
             "ticks": ""
            },
            "type": "contourcarpet"
           }
          ],
          "heatmap": [
           {
            "colorbar": {
             "outlinewidth": 0,
             "ticks": ""
            },
            "colorscale": [
             [
              0,
              "#0d0887"
             ],
             [
              0.1111111111111111,
              "#46039f"
             ],
             [
              0.2222222222222222,
              "#7201a8"
             ],
             [
              0.3333333333333333,
              "#9c179e"
             ],
             [
              0.4444444444444444,
              "#bd3786"
             ],
             [
              0.5555555555555556,
              "#d8576b"
             ],
             [
              0.6666666666666666,
              "#ed7953"
             ],
             [
              0.7777777777777778,
              "#fb9f3a"
             ],
             [
              0.8888888888888888,
              "#fdca26"
             ],
             [
              1,
              "#f0f921"
             ]
            ],
            "type": "heatmap"
           }
          ],
          "heatmapgl": [
           {
            "colorbar": {
             "outlinewidth": 0,
             "ticks": ""
            },
            "colorscale": [
             [
              0,
              "#0d0887"
             ],
             [
              0.1111111111111111,
              "#46039f"
             ],
             [
              0.2222222222222222,
              "#7201a8"
             ],
             [
              0.3333333333333333,
              "#9c179e"
             ],
             [
              0.4444444444444444,
              "#bd3786"
             ],
             [
              0.5555555555555556,
              "#d8576b"
             ],
             [
              0.6666666666666666,
              "#ed7953"
             ],
             [
              0.7777777777777778,
              "#fb9f3a"
             ],
             [
              0.8888888888888888,
              "#fdca26"
             ],
             [
              1,
              "#f0f921"
             ]
            ],
            "type": "heatmapgl"
           }
          ],
          "histogram": [
           {
            "marker": {
             "pattern": {
              "fillmode": "overlay",
              "size": 10,
              "solidity": 0.2
             }
            },
            "type": "histogram"
           }
          ],
          "histogram2d": [
           {
            "colorbar": {
             "outlinewidth": 0,
             "ticks": ""
            },
            "colorscale": [
             [
              0,
              "#0d0887"
             ],
             [
              0.1111111111111111,
              "#46039f"
             ],
             [
              0.2222222222222222,
              "#7201a8"
             ],
             [
              0.3333333333333333,
              "#9c179e"
             ],
             [
              0.4444444444444444,
              "#bd3786"
             ],
             [
              0.5555555555555556,
              "#d8576b"
             ],
             [
              0.6666666666666666,
              "#ed7953"
             ],
             [
              0.7777777777777778,
              "#fb9f3a"
             ],
             [
              0.8888888888888888,
              "#fdca26"
             ],
             [
              1,
              "#f0f921"
             ]
            ],
            "type": "histogram2d"
           }
          ],
          "histogram2dcontour": [
           {
            "colorbar": {
             "outlinewidth": 0,
             "ticks": ""
            },
            "colorscale": [
             [
              0,
              "#0d0887"
             ],
             [
              0.1111111111111111,
              "#46039f"
             ],
             [
              0.2222222222222222,
              "#7201a8"
             ],
             [
              0.3333333333333333,
              "#9c179e"
             ],
             [
              0.4444444444444444,
              "#bd3786"
             ],
             [
              0.5555555555555556,
              "#d8576b"
             ],
             [
              0.6666666666666666,
              "#ed7953"
             ],
             [
              0.7777777777777778,
              "#fb9f3a"
             ],
             [
              0.8888888888888888,
              "#fdca26"
             ],
             [
              1,
              "#f0f921"
             ]
            ],
            "type": "histogram2dcontour"
           }
          ],
          "mesh3d": [
           {
            "colorbar": {
             "outlinewidth": 0,
             "ticks": ""
            },
            "type": "mesh3d"
           }
          ],
          "parcoords": [
           {
            "line": {
             "colorbar": {
              "outlinewidth": 0,
              "ticks": ""
             }
            },
            "type": "parcoords"
           }
          ],
          "pie": [
           {
            "automargin": true,
            "type": "pie"
           }
          ],
          "scatter": [
           {
            "fillpattern": {
             "fillmode": "overlay",
             "size": 10,
             "solidity": 0.2
            },
            "type": "scatter"
           }
          ],
          "scatter3d": [
           {
            "line": {
             "colorbar": {
              "outlinewidth": 0,
              "ticks": ""
             }
            },
            "marker": {
             "colorbar": {
              "outlinewidth": 0,
              "ticks": ""
             }
            },
            "type": "scatter3d"
           }
          ],
          "scattercarpet": [
           {
            "marker": {
             "colorbar": {
              "outlinewidth": 0,
              "ticks": ""
             }
            },
            "type": "scattercarpet"
           }
          ],
          "scattergeo": [
           {
            "marker": {
             "colorbar": {
              "outlinewidth": 0,
              "ticks": ""
             }
            },
            "type": "scattergeo"
           }
          ],
          "scattergl": [
           {
            "marker": {
             "colorbar": {
              "outlinewidth": 0,
              "ticks": ""
             }
            },
            "type": "scattergl"
           }
          ],
          "scattermapbox": [
           {
            "marker": {
             "colorbar": {
              "outlinewidth": 0,
              "ticks": ""
             }
            },
            "type": "scattermapbox"
           }
          ],
          "scatterpolar": [
           {
            "marker": {
             "colorbar": {
              "outlinewidth": 0,
              "ticks": ""
             }
            },
            "type": "scatterpolar"
           }
          ],
          "scatterpolargl": [
           {
            "marker": {
             "colorbar": {
              "outlinewidth": 0,
              "ticks": ""
             }
            },
            "type": "scatterpolargl"
           }
          ],
          "scatterternary": [
           {
            "marker": {
             "colorbar": {
              "outlinewidth": 0,
              "ticks": ""
             }
            },
            "type": "scatterternary"
           }
          ],
          "surface": [
           {
            "colorbar": {
             "outlinewidth": 0,
             "ticks": ""
            },
            "colorscale": [
             [
              0,
              "#0d0887"
             ],
             [
              0.1111111111111111,
              "#46039f"
             ],
             [
              0.2222222222222222,
              "#7201a8"
             ],
             [
              0.3333333333333333,
              "#9c179e"
             ],
             [
              0.4444444444444444,
              "#bd3786"
             ],
             [
              0.5555555555555556,
              "#d8576b"
             ],
             [
              0.6666666666666666,
              "#ed7953"
             ],
             [
              0.7777777777777778,
              "#fb9f3a"
             ],
             [
              0.8888888888888888,
              "#fdca26"
             ],
             [
              1,
              "#f0f921"
             ]
            ],
            "type": "surface"
           }
          ],
          "table": [
           {
            "cells": {
             "fill": {
              "color": "#EBF0F8"
             },
             "line": {
              "color": "white"
             }
            },
            "header": {
             "fill": {
              "color": "#C8D4E3"
             },
             "line": {
              "color": "white"
             }
            },
            "type": "table"
           }
          ]
         },
         "layout": {
          "annotationdefaults": {
           "arrowcolor": "#2a3f5f",
           "arrowhead": 0,
           "arrowwidth": 1
          },
          "autotypenumbers": "strict",
          "coloraxis": {
           "colorbar": {
            "outlinewidth": 0,
            "ticks": ""
           }
          },
          "colorscale": {
           "diverging": [
            [
             0,
             "#8e0152"
            ],
            [
             0.1,
             "#c51b7d"
            ],
            [
             0.2,
             "#de77ae"
            ],
            [
             0.3,
             "#f1b6da"
            ],
            [
             0.4,
             "#fde0ef"
            ],
            [
             0.5,
             "#f7f7f7"
            ],
            [
             0.6,
             "#e6f5d0"
            ],
            [
             0.7,
             "#b8e186"
            ],
            [
             0.8,
             "#7fbc41"
            ],
            [
             0.9,
             "#4d9221"
            ],
            [
             1,
             "#276419"
            ]
           ],
           "sequential": [
            [
             0,
             "#0d0887"
            ],
            [
             0.1111111111111111,
             "#46039f"
            ],
            [
             0.2222222222222222,
             "#7201a8"
            ],
            [
             0.3333333333333333,
             "#9c179e"
            ],
            [
             0.4444444444444444,
             "#bd3786"
            ],
            [
             0.5555555555555556,
             "#d8576b"
            ],
            [
             0.6666666666666666,
             "#ed7953"
            ],
            [
             0.7777777777777778,
             "#fb9f3a"
            ],
            [
             0.8888888888888888,
             "#fdca26"
            ],
            [
             1,
             "#f0f921"
            ]
           ],
           "sequentialminus": [
            [
             0,
             "#0d0887"
            ],
            [
             0.1111111111111111,
             "#46039f"
            ],
            [
             0.2222222222222222,
             "#7201a8"
            ],
            [
             0.3333333333333333,
             "#9c179e"
            ],
            [
             0.4444444444444444,
             "#bd3786"
            ],
            [
             0.5555555555555556,
             "#d8576b"
            ],
            [
             0.6666666666666666,
             "#ed7953"
            ],
            [
             0.7777777777777778,
             "#fb9f3a"
            ],
            [
             0.8888888888888888,
             "#fdca26"
            ],
            [
             1,
             "#f0f921"
            ]
           ]
          },
          "colorway": [
           "#636efa",
           "#EF553B",
           "#00cc96",
           "#ab63fa",
           "#FFA15A",
           "#19d3f3",
           "#FF6692",
           "#B6E880",
           "#FF97FF",
           "#FECB52"
          ],
          "font": {
           "color": "#2a3f5f"
          },
          "geo": {
           "bgcolor": "white",
           "lakecolor": "white",
           "landcolor": "#E5ECF6",
           "showlakes": true,
           "showland": true,
           "subunitcolor": "white"
          },
          "hoverlabel": {
           "align": "left"
          },
          "hovermode": "closest",
          "mapbox": {
           "style": "light"
          },
          "paper_bgcolor": "white",
          "plot_bgcolor": "#E5ECF6",
          "polar": {
           "angularaxis": {
            "gridcolor": "white",
            "linecolor": "white",
            "ticks": ""
           },
           "bgcolor": "#E5ECF6",
           "radialaxis": {
            "gridcolor": "white",
            "linecolor": "white",
            "ticks": ""
           }
          },
          "scene": {
           "xaxis": {
            "backgroundcolor": "#E5ECF6",
            "gridcolor": "white",
            "gridwidth": 2,
            "linecolor": "white",
            "showbackground": true,
            "ticks": "",
            "zerolinecolor": "white"
           },
           "yaxis": {
            "backgroundcolor": "#E5ECF6",
            "gridcolor": "white",
            "gridwidth": 2,
            "linecolor": "white",
            "showbackground": true,
            "ticks": "",
            "zerolinecolor": "white"
           },
           "zaxis": {
            "backgroundcolor": "#E5ECF6",
            "gridcolor": "white",
            "gridwidth": 2,
            "linecolor": "white",
            "showbackground": true,
            "ticks": "",
            "zerolinecolor": "white"
           }
          },
          "shapedefaults": {
           "line": {
            "color": "#2a3f5f"
           }
          },
          "ternary": {
           "aaxis": {
            "gridcolor": "white",
            "linecolor": "white",
            "ticks": ""
           },
           "baxis": {
            "gridcolor": "white",
            "linecolor": "white",
            "ticks": ""
           },
           "bgcolor": "#E5ECF6",
           "caxis": {
            "gridcolor": "white",
            "linecolor": "white",
            "ticks": ""
           }
          },
          "title": {
           "x": 0.05
          },
          "xaxis": {
           "automargin": true,
           "gridcolor": "white",
           "linecolor": "white",
           "ticks": "",
           "title": {
            "standoff": 15
           },
           "zerolinecolor": "white",
           "zerolinewidth": 2
          },
          "yaxis": {
           "automargin": true,
           "gridcolor": "white",
           "linecolor": "white",
           "ticks": "",
           "title": {
            "standoff": 15
           },
           "zerolinecolor": "white",
           "zerolinewidth": 2
          }
         }
        },
        "title": {
         "text": "Human Development Index during Covid-19"
        },
        "xaxis": {
         "anchor": "y",
         "domain": [
          0,
          1
         ],
         "title": {
          "text": "Country"
         }
        },
        "yaxis": {
         "anchor": "x",
         "domain": [
          0,
          1
         ],
         "title": {
          "text": "Total Cases"
         }
        }
       }
      }
     },
     "metadata": {},
     "output_type": "display_data"
    }
   ],
   "source": [
    "# %%\n",
    "# Human Development Index. It is a statistic composite index of life expectancy, education, and per capita indicators\n",
    "fig = px.bar(data, x = 'Country', y = 'Total Cases', \n",
    "             hover_data=['Population', 'Total Deaths'],\n",
    "             color = \"HDI\", height= 400,\n",
    "             title = \"Human Development Index during Covid-19\")\n",
    "fig.show()"
   ]
  },
  {
   "cell_type": "code",
   "execution_count": 21,
   "metadata": {},
   "outputs": [],
   "source": [
    "# %%\n"
   ]
  }
 ],
 "metadata": {
  "kernelspec": {
   "display_name": "covid-analysis-Mi26Hpf4-py3.12",
   "language": "python",
   "name": "python3"
  },
  "language_info": {
   "codemirror_mode": {
    "name": "ipython",
    "version": 3
   },
   "file_extension": ".py",
   "mimetype": "text/x-python",
   "name": "python",
   "nbconvert_exporter": "python",
   "pygments_lexer": "ipython3",
   "version": "3.12.4"
  }
 },
 "nbformat": 4,
 "nbformat_minor": 2
}
