{
 "cells": [
  {
   "cell_type": "markdown",
   "metadata": {},
   "source": [
    "In this project we're going to analyze Covid data along with economic data of different countries to see what kind of effect Covid had on the economies."
   ]
  },
  {
   "cell_type": "code",
   "execution_count": 1,
   "metadata": {},
   "outputs": [],
   "source": [
    "# %%\n",
    "import pandas as pd\n",
    "import plotly.express as px\n",
    "import plotly.graph_objects as go"
   ]
  },
  {
   "cell_type": "markdown",
   "metadata": {},
   "source": [
    "We have three datasets.\n",
    "\n",
    "Two of them are taken from here : [Kaggle Dataset: Impact of Covid-19 Pandemic on the Global Economy](https://www.kaggle.com/datasets/shashwatwork/impact-of-covid19-pandemic-on-the-global-economy), \\\n",
    "which in turn is taken from: Vitenu-Sackey, Prince Asare (2020), “The Impact of Covid-19 Pandemic on the Global Economy: Emphasis on Poverty Alleviation and Economic Growth”, Mendeley Data, V1, doi: 10.17632/b2wvnbnpj9.1\n",
    "\n",
    "The columns in the first dataset are: ['CODE', 'COUNTRY', 'DATE', 'HDI', 'TC', 'TD', 'STI', 'POP', 'GDPCAP'] \\\n",
    "The columns in the second dataset (a transformed dataset) are: ['iso_code', 'location', 'date', 'total_cases', 'total_deaths', \\\n",
    "'stringency_index', 'population', 'gdp_per_capita'] and some other unnamed columns. The data is available upto 2022.\n",
    "\n",
    "Sadly, the GDP Per Capita data in these datasets has no variance in it over time, so I had to resort to finding that data from another source. I found this data here: \\\n",
    "[Our world in data: GDP per capitaIn constant 2017 international $ – World Bank](https://ourworldindata.org/grapher/gdp-per-capita-worldbank?tab=chart)\n",
    "\n",
    "The columns in this dataset are: ['Entity', 'Code', 'Year', 'GDP per capita, PPP (constant 2017 international $)']"
   ]
  },
  {
   "cell_type": "code",
   "execution_count": 2,
   "metadata": {},
   "outputs": [],
   "source": [
    "# %%\n",
    "data = pd.read_csv(\"../data/transformed_data.csv\")\n",
    "data2 = pd.read_csv(\"../data/raw_data.csv\")\n",
    "gdp_per_capita_data = pd.read_csv(\"../data/gdp-per-capita-worldbank.csv\")"
   ]
  },
  {
   "cell_type": "markdown",
   "metadata": {},
   "source": [
    "I initially did the data analysis here in interactive python and a Python file using VSCode and later converted it to this notebook, thus the markdown # %% syntax for cells."
   ]
  },
  {
   "cell_type": "code",
   "execution_count": 3,
   "metadata": {},
   "outputs": [
    {
     "data": {
      "text/html": [
       "<div>\n",
       "<style scoped>\n",
       "    .dataframe tbody tr th:only-of-type {\n",
       "        vertical-align: middle;\n",
       "    }\n",
       "\n",
       "    .dataframe tbody tr th {\n",
       "        vertical-align: top;\n",
       "    }\n",
       "\n",
       "    .dataframe thead th {\n",
       "        text-align: right;\n",
       "    }\n",
       "</style>\n",
       "<table border=\"1\" class=\"dataframe\">\n",
       "  <thead>\n",
       "    <tr style=\"text-align: right;\">\n",
       "      <th></th>\n",
       "      <th>CODE</th>\n",
       "      <th>COUNTRY</th>\n",
       "      <th>DATE</th>\n",
       "      <th>HDI</th>\n",
       "      <th>TC</th>\n",
       "      <th>TD</th>\n",
       "      <th>STI</th>\n",
       "      <th>POP</th>\n",
       "      <th>GDPCAP</th>\n",
       "    </tr>\n",
       "  </thead>\n",
       "  <tbody>\n",
       "    <tr>\n",
       "      <th>0</th>\n",
       "      <td>AFG</td>\n",
       "      <td>Afghanistan</td>\n",
       "      <td>2019-12-31</td>\n",
       "      <td>0.498</td>\n",
       "      <td>0.0</td>\n",
       "      <td>0.0</td>\n",
       "      <td>0.0</td>\n",
       "      <td>17.477233</td>\n",
       "      <td>7.497754</td>\n",
       "    </tr>\n",
       "    <tr>\n",
       "      <th>1</th>\n",
       "      <td>AFG</td>\n",
       "      <td>Afghanistan</td>\n",
       "      <td>2020-01-01</td>\n",
       "      <td>0.498</td>\n",
       "      <td>0.0</td>\n",
       "      <td>0.0</td>\n",
       "      <td>0.0</td>\n",
       "      <td>17.477233</td>\n",
       "      <td>7.497754</td>\n",
       "    </tr>\n",
       "    <tr>\n",
       "      <th>2</th>\n",
       "      <td>AFG</td>\n",
       "      <td>Afghanistan</td>\n",
       "      <td>2020-01-02</td>\n",
       "      <td>0.498</td>\n",
       "      <td>0.0</td>\n",
       "      <td>0.0</td>\n",
       "      <td>0.0</td>\n",
       "      <td>17.477233</td>\n",
       "      <td>7.497754</td>\n",
       "    </tr>\n",
       "    <tr>\n",
       "      <th>3</th>\n",
       "      <td>AFG</td>\n",
       "      <td>Afghanistan</td>\n",
       "      <td>2020-01-03</td>\n",
       "      <td>0.498</td>\n",
       "      <td>0.0</td>\n",
       "      <td>0.0</td>\n",
       "      <td>0.0</td>\n",
       "      <td>17.477233</td>\n",
       "      <td>7.497754</td>\n",
       "    </tr>\n",
       "    <tr>\n",
       "      <th>4</th>\n",
       "      <td>AFG</td>\n",
       "      <td>Afghanistan</td>\n",
       "      <td>2020-01-04</td>\n",
       "      <td>0.498</td>\n",
       "      <td>0.0</td>\n",
       "      <td>0.0</td>\n",
       "      <td>0.0</td>\n",
       "      <td>17.477233</td>\n",
       "      <td>7.497754</td>\n",
       "    </tr>\n",
       "  </tbody>\n",
       "</table>\n",
       "</div>"
      ],
      "text/plain": [
       "  CODE      COUNTRY        DATE    HDI   TC   TD  STI        POP    GDPCAP\n",
       "0  AFG  Afghanistan  2019-12-31  0.498  0.0  0.0  0.0  17.477233  7.497754\n",
       "1  AFG  Afghanistan  2020-01-01  0.498  0.0  0.0  0.0  17.477233  7.497754\n",
       "2  AFG  Afghanistan  2020-01-02  0.498  0.0  0.0  0.0  17.477233  7.497754\n",
       "3  AFG  Afghanistan  2020-01-03  0.498  0.0  0.0  0.0  17.477233  7.497754\n",
       "4  AFG  Afghanistan  2020-01-04  0.498  0.0  0.0  0.0  17.477233  7.497754"
      ]
     },
     "execution_count": 3,
     "metadata": {},
     "output_type": "execute_result"
    }
   ],
   "source": [
    "# %%\n",
    "data.head()"
   ]
  },
  {
   "cell_type": "code",
   "execution_count": 4,
   "metadata": {},
   "outputs": [
    {
     "data": {
      "text/html": [
       "<div>\n",
       "<style scoped>\n",
       "    .dataframe tbody tr th:only-of-type {\n",
       "        vertical-align: middle;\n",
       "    }\n",
       "\n",
       "    .dataframe tbody tr th {\n",
       "        vertical-align: top;\n",
       "    }\n",
       "\n",
       "    .dataframe thead th {\n",
       "        text-align: right;\n",
       "    }\n",
       "</style>\n",
       "<table border=\"1\" class=\"dataframe\">\n",
       "  <thead>\n",
       "    <tr style=\"text-align: right;\">\n",
       "      <th></th>\n",
       "      <th>iso_code</th>\n",
       "      <th>location</th>\n",
       "      <th>date</th>\n",
       "      <th>total_cases</th>\n",
       "      <th>total_deaths</th>\n",
       "      <th>stringency_index</th>\n",
       "      <th>population</th>\n",
       "      <th>gdp_per_capita</th>\n",
       "      <th>human_development_index</th>\n",
       "      <th>Unnamed: 9</th>\n",
       "      <th>Unnamed: 10</th>\n",
       "      <th>Unnamed: 11</th>\n",
       "      <th>Unnamed: 12</th>\n",
       "      <th>Unnamed: 13</th>\n",
       "    </tr>\n",
       "  </thead>\n",
       "  <tbody>\n",
       "    <tr>\n",
       "      <th>0</th>\n",
       "      <td>AFG</td>\n",
       "      <td>Afghanistan</td>\n",
       "      <td>2019-12-31</td>\n",
       "      <td>0.0</td>\n",
       "      <td>0.0</td>\n",
       "      <td>0.0</td>\n",
       "      <td>38928341</td>\n",
       "      <td>1803.987</td>\n",
       "      <td>0.498</td>\n",
       "      <td>#NUM!</td>\n",
       "      <td>#NUM!</td>\n",
       "      <td>#NUM!</td>\n",
       "      <td>17.477233</td>\n",
       "      <td>7.497754494</td>\n",
       "    </tr>\n",
       "    <tr>\n",
       "      <th>1</th>\n",
       "      <td>AFG</td>\n",
       "      <td>Afghanistan</td>\n",
       "      <td>2020-01-01</td>\n",
       "      <td>0.0</td>\n",
       "      <td>0.0</td>\n",
       "      <td>0.0</td>\n",
       "      <td>38928341</td>\n",
       "      <td>1803.987</td>\n",
       "      <td>0.498</td>\n",
       "      <td>#NUM!</td>\n",
       "      <td>#NUM!</td>\n",
       "      <td>#NUM!</td>\n",
       "      <td>17.477233</td>\n",
       "      <td>7.497754494</td>\n",
       "    </tr>\n",
       "    <tr>\n",
       "      <th>2</th>\n",
       "      <td>AFG</td>\n",
       "      <td>Afghanistan</td>\n",
       "      <td>2020-01-02</td>\n",
       "      <td>0.0</td>\n",
       "      <td>0.0</td>\n",
       "      <td>0.0</td>\n",
       "      <td>38928341</td>\n",
       "      <td>1803.987</td>\n",
       "      <td>0.498</td>\n",
       "      <td>#NUM!</td>\n",
       "      <td>#NUM!</td>\n",
       "      <td>#NUM!</td>\n",
       "      <td>17.477233</td>\n",
       "      <td>7.497754494</td>\n",
       "    </tr>\n",
       "    <tr>\n",
       "      <th>3</th>\n",
       "      <td>AFG</td>\n",
       "      <td>Afghanistan</td>\n",
       "      <td>2020-01-03</td>\n",
       "      <td>0.0</td>\n",
       "      <td>0.0</td>\n",
       "      <td>0.0</td>\n",
       "      <td>38928341</td>\n",
       "      <td>1803.987</td>\n",
       "      <td>0.498</td>\n",
       "      <td>#NUM!</td>\n",
       "      <td>#NUM!</td>\n",
       "      <td>#NUM!</td>\n",
       "      <td>17.477233</td>\n",
       "      <td>7.497754494</td>\n",
       "    </tr>\n",
       "    <tr>\n",
       "      <th>4</th>\n",
       "      <td>AFG</td>\n",
       "      <td>Afghanistan</td>\n",
       "      <td>2020-01-04</td>\n",
       "      <td>0.0</td>\n",
       "      <td>0.0</td>\n",
       "      <td>0.0</td>\n",
       "      <td>38928341</td>\n",
       "      <td>1803.987</td>\n",
       "      <td>0.498</td>\n",
       "      <td>#NUM!</td>\n",
       "      <td>#NUM!</td>\n",
       "      <td>#NUM!</td>\n",
       "      <td>17.477233</td>\n",
       "      <td>7.497754494</td>\n",
       "    </tr>\n",
       "  </tbody>\n",
       "</table>\n",
       "</div>"
      ],
      "text/plain": [
       "  iso_code     location        date  total_cases  total_deaths  \\\n",
       "0      AFG  Afghanistan  2019-12-31          0.0           0.0   \n",
       "1      AFG  Afghanistan  2020-01-01          0.0           0.0   \n",
       "2      AFG  Afghanistan  2020-01-02          0.0           0.0   \n",
       "3      AFG  Afghanistan  2020-01-03          0.0           0.0   \n",
       "4      AFG  Afghanistan  2020-01-04          0.0           0.0   \n",
       "\n",
       "   stringency_index  population  gdp_per_capita  human_development_index  \\\n",
       "0               0.0    38928341        1803.987                    0.498   \n",
       "1               0.0    38928341        1803.987                    0.498   \n",
       "2               0.0    38928341        1803.987                    0.498   \n",
       "3               0.0    38928341        1803.987                    0.498   \n",
       "4               0.0    38928341        1803.987                    0.498   \n",
       "\n",
       "  Unnamed: 9 Unnamed: 10 Unnamed: 11  Unnamed: 12  Unnamed: 13  \n",
       "0      #NUM!       #NUM!       #NUM!    17.477233  7.497754494  \n",
       "1      #NUM!       #NUM!       #NUM!    17.477233  7.497754494  \n",
       "2      #NUM!       #NUM!       #NUM!    17.477233  7.497754494  \n",
       "3      #NUM!       #NUM!       #NUM!    17.477233  7.497754494  \n",
       "4      #NUM!       #NUM!       #NUM!    17.477233  7.497754494  "
      ]
     },
     "execution_count": 4,
     "metadata": {},
     "output_type": "execute_result"
    }
   ],
   "source": [
    "# %%\n",
    "data2.head()"
   ]
  },
  {
   "cell_type": "code",
   "execution_count": 5,
   "metadata": {},
   "outputs": [
    {
     "data": {
      "text/html": [
       "<div>\n",
       "<style scoped>\n",
       "    .dataframe tbody tr th:only-of-type {\n",
       "        vertical-align: middle;\n",
       "    }\n",
       "\n",
       "    .dataframe tbody tr th {\n",
       "        vertical-align: top;\n",
       "    }\n",
       "\n",
       "    .dataframe thead th {\n",
       "        text-align: right;\n",
       "    }\n",
       "</style>\n",
       "<table border=\"1\" class=\"dataframe\">\n",
       "  <thead>\n",
       "    <tr style=\"text-align: right;\">\n",
       "      <th></th>\n",
       "      <th>Entity</th>\n",
       "      <th>Code</th>\n",
       "      <th>Year</th>\n",
       "      <th>GDP per capita, PPP (constant 2017 international $)</th>\n",
       "    </tr>\n",
       "  </thead>\n",
       "  <tbody>\n",
       "    <tr>\n",
       "      <th>0</th>\n",
       "      <td>Afghanistan</td>\n",
       "      <td>AFG</td>\n",
       "      <td>2002</td>\n",
       "      <td>1280.4631</td>\n",
       "    </tr>\n",
       "    <tr>\n",
       "      <th>1</th>\n",
       "      <td>Afghanistan</td>\n",
       "      <td>AFG</td>\n",
       "      <td>2003</td>\n",
       "      <td>1292.3335</td>\n",
       "    </tr>\n",
       "    <tr>\n",
       "      <th>2</th>\n",
       "      <td>Afghanistan</td>\n",
       "      <td>AFG</td>\n",
       "      <td>2004</td>\n",
       "      <td>1260.0605</td>\n",
       "    </tr>\n",
       "    <tr>\n",
       "      <th>3</th>\n",
       "      <td>Afghanistan</td>\n",
       "      <td>AFG</td>\n",
       "      <td>2005</td>\n",
       "      <td>1352.3207</td>\n",
       "    </tr>\n",
       "    <tr>\n",
       "      <th>4</th>\n",
       "      <td>Afghanistan</td>\n",
       "      <td>AFG</td>\n",
       "      <td>2006</td>\n",
       "      <td>1366.9932</td>\n",
       "    </tr>\n",
       "  </tbody>\n",
       "</table>\n",
       "</div>"
      ],
      "text/plain": [
       "        Entity Code  Year  GDP per capita, PPP (constant 2017 international $)\n",
       "0  Afghanistan  AFG  2002                                          1280.4631  \n",
       "1  Afghanistan  AFG  2003                                          1292.3335  \n",
       "2  Afghanistan  AFG  2004                                          1260.0605  \n",
       "3  Afghanistan  AFG  2005                                          1352.3207  \n",
       "4  Afghanistan  AFG  2006                                          1366.9932  "
      ]
     },
     "execution_count": 5,
     "metadata": {},
     "output_type": "execute_result"
    }
   ],
   "source": [
    "gdp_per_capita_data.head()"
   ]
  },
  {
   "cell_type": "markdown",
   "metadata": {},
   "source": [
    "We'll only need some of these columns, let's get a sense for how many countries we have data for before we do some data preprocessing and aggregation."
   ]
  },
  {
   "cell_type": "code",
   "execution_count": 6,
   "metadata": {},
   "outputs": [
    {
     "data": {
      "text/plain": [
       "COUNTRY\n",
       "Afghanistan        294\n",
       "Indonesia          294\n",
       "Macedonia          294\n",
       "Luxembourg         294\n",
       "Lithuania          294\n",
       "                  ... \n",
       "Tajikistan         172\n",
       "Comoros            171\n",
       "Lesotho            158\n",
       "Hong Kong           51\n",
       "Solomon Islands      4\n",
       "Name: count, Length: 210, dtype: int64"
      ]
     },
     "execution_count": 6,
     "metadata": {},
     "output_type": "execute_result"
    }
   ],
   "source": [
    "# %%\n",
    "data[\"COUNTRY\"].value_counts()"
   ]
  },
  {
   "cell_type": "code",
   "execution_count": 7,
   "metadata": {},
   "outputs": [
    {
     "data": {
      "text/plain": [
       "0    294\n",
       "Name: count, dtype: int64"
      ]
     },
     "execution_count": 7,
     "metadata": {},
     "output_type": "execute_result"
    }
   ],
   "source": [
    "# %%\n",
    "data[\"COUNTRY\"].value_counts().mode()"
   ]
  },
  {
   "cell_type": "markdown",
   "metadata": {},
   "source": [
    "We have 294 entries for most of the countries, as expressed by the mode above. We will need to use it for dividing the sum of all the samples related to the human development index and the population, to get an aggregate."
   ]
  },
  {
   "cell_type": "code",
   "execution_count": 8,
   "metadata": {},
   "outputs": [
    {
     "data": {
      "text/plain": [
       "210"
      ]
     },
     "execution_count": 8,
     "metadata": {},
     "output_type": "execute_result"
    }
   ],
   "source": [
    "len(data[\"COUNTRY\"].unique())"
   ]
  },
  {
   "cell_type": "code",
   "execution_count": 9,
   "metadata": {},
   "outputs": [
    {
     "data": {
      "text/plain": [
       "202"
      ]
     },
     "execution_count": 9,
     "metadata": {},
     "output_type": "execute_result"
    }
   ],
   "source": [
    "len(gdp_per_capita_data.loc[gdp_per_capita_data[\"Year\"] == 2022][\"Entity\"].unique())"
   ]
  },
  {
   "cell_type": "markdown",
   "metadata": {},
   "source": [
    "Since our GDP Per Capita and Covid data are taken from different sources, we don't have completely matching data in both the datasets. One has data for 210 countries, while the other has data for 202 countries. (for 2022) We'll thus have to merge our data and see how many countries we can get all our required data for."
   ]
  },
  {
   "cell_type": "code",
   "execution_count": 10,
   "metadata": {},
   "outputs": [
    {
     "name": "stdout",
     "output_type": "stream",
     "text": [
      "175\n"
     ]
    }
   ],
   "source": [
    "# %%\n",
    "code = data[\"CODE\"].unique().tolist()\n",
    "country = sorted(list(set(data[\"COUNTRY\"].unique()) & \n",
    "                      set(\n",
    "                          gdp_per_capita_data.loc[gdp_per_capita_data[\"Year\"] == 2022][\"Entity\"].unique()\n",
    "                          )))\n",
    "\n",
    "print(len(country))\n",
    "\n",
    "population = []\n",
    "hdi = []\n",
    "tc = []\n",
    "td = []\n",
    "sti = []\n",
    "gdp = []\n",
    "gdp_per_capita_before_covid = []\n",
    "gdp_per_capita_during_covid = []\n",
    "gdp_per_capita_after_covid = []"
   ]
  },
  {
   "cell_type": "markdown",
   "metadata": {},
   "source": [
    "We have adequate data for 175 countries, which for our purposes might be enough because we won't be able to visually analyze the data for all the countries.\n",
    "\n",
    "I'm taking 2019 as the year \"before covid\", 2021 as \"during covid\", and 2022 as \"after covid\", though technically the effects of covid still ravage the world's economies. This is just for the sake of easy analysis."
   ]
  },
  {
   "cell_type": "code",
   "execution_count": 11,
   "metadata": {},
   "outputs": [
    {
     "data": {
      "text/html": [
       "<div>\n",
       "<style scoped>\n",
       "    .dataframe tbody tr th:only-of-type {\n",
       "        vertical-align: middle;\n",
       "    }\n",
       "\n",
       "    .dataframe tbody tr th {\n",
       "        vertical-align: top;\n",
       "    }\n",
       "\n",
       "    .dataframe thead th {\n",
       "        text-align: right;\n",
       "    }\n",
       "</style>\n",
       "<table border=\"1\" class=\"dataframe\">\n",
       "  <thead>\n",
       "    <tr style=\"text-align: right;\">\n",
       "      <th></th>\n",
       "      <th>Country Code</th>\n",
       "      <th>Country</th>\n",
       "      <th>HDI</th>\n",
       "      <th>Total Cases</th>\n",
       "      <th>Total Deaths</th>\n",
       "      <th>Stringency Index</th>\n",
       "      <th>Population</th>\n",
       "      <th>GDP Per Capita Before Covid</th>\n",
       "      <th>GDP Per Capita During Covid</th>\n",
       "      <th>GDP Per Capita After Covid</th>\n",
       "    </tr>\n",
       "  </thead>\n",
       "  <tbody>\n",
       "    <tr>\n",
       "      <th>0</th>\n",
       "      <td>AFG</td>\n",
       "      <td>Albania</td>\n",
       "      <td>0.600765</td>\n",
       "      <td>1071951.0</td>\n",
       "      <td>31056.0</td>\n",
       "      <td>3.005624</td>\n",
       "      <td>2.202398e+06</td>\n",
       "      <td>13653.249</td>\n",
       "      <td>14596.0160</td>\n",
       "      <td>15492.0670</td>\n",
       "    </tr>\n",
       "    <tr>\n",
       "      <th>1</th>\n",
       "      <td>ALB</td>\n",
       "      <td>Algeria</td>\n",
       "      <td>0.754000</td>\n",
       "      <td>4893999.0</td>\n",
       "      <td>206429.0</td>\n",
       "      <td>3.195168</td>\n",
       "      <td>4.385104e+07</td>\n",
       "      <td>11627.280</td>\n",
       "      <td>11029.1390</td>\n",
       "      <td>11198.2330</td>\n",
       "    </tr>\n",
       "    <tr>\n",
       "      <th>2</th>\n",
       "      <td>DZA</td>\n",
       "      <td>Angola</td>\n",
       "      <td>0.418952</td>\n",
       "      <td>304005.0</td>\n",
       "      <td>11820.0</td>\n",
       "      <td>2.965560</td>\n",
       "      <td>2.369949e+07</td>\n",
       "      <td>6602.269</td>\n",
       "      <td>5911.8354</td>\n",
       "      <td>5906.1157</td>\n",
       "    </tr>\n",
       "    <tr>\n",
       "      <th>3</th>\n",
       "      <td>AND</td>\n",
       "      <td>Antigua and Barbuda</td>\n",
       "      <td>0.567755</td>\n",
       "      <td>12619.0</td>\n",
       "      <td>568.0</td>\n",
       "      <td>0.000000</td>\n",
       "      <td>7.128093e+04</td>\n",
       "      <td>23638.686</td>\n",
       "      <td>20501.1620</td>\n",
       "      <td>22321.8700</td>\n",
       "    </tr>\n",
       "    <tr>\n",
       "      <th>4</th>\n",
       "      <td>AGO</td>\n",
       "      <td>Argentina</td>\n",
       "      <td>0.707143</td>\n",
       "      <td>47155234.0</td>\n",
       "      <td>1077426.0</td>\n",
       "      <td>3.475438</td>\n",
       "      <td>3.873924e+07</td>\n",
       "      <td>22071.748</td>\n",
       "      <td>21599.7970</td>\n",
       "      <td>22461.4410</td>\n",
       "    </tr>\n",
       "  </tbody>\n",
       "</table>\n",
       "</div>"
      ],
      "text/plain": [
       "  Country Code              Country       HDI  Total Cases  Total Deaths  \\\n",
       "0          AFG              Albania  0.600765    1071951.0       31056.0   \n",
       "1          ALB              Algeria  0.754000    4893999.0      206429.0   \n",
       "2          DZA               Angola  0.418952     304005.0       11820.0   \n",
       "3          AND  Antigua and Barbuda  0.567755      12619.0         568.0   \n",
       "4          AGO            Argentina  0.707143   47155234.0     1077426.0   \n",
       "\n",
       "   Stringency Index    Population  GDP Per Capita Before Covid  \\\n",
       "0          3.005624  2.202398e+06                    13653.249   \n",
       "1          3.195168  4.385104e+07                    11627.280   \n",
       "2          2.965560  2.369949e+07                     6602.269   \n",
       "3          0.000000  7.128093e+04                    23638.686   \n",
       "4          3.475438  3.873924e+07                    22071.748   \n",
       "\n",
       "   GDP Per Capita During Covid  GDP Per Capita After Covid  \n",
       "0                   14596.0160                  15492.0670  \n",
       "1                   11029.1390                  11198.2330  \n",
       "2                    5911.8354                   5906.1157  \n",
       "3                   20501.1620                  22321.8700  \n",
       "4                   21599.7970                  22461.4410  "
      ]
     },
     "execution_count": 11,
     "metadata": {},
     "output_type": "execute_result"
    }
   ],
   "source": [
    "# %%\n",
    "for i in country:\n",
    "    hdi.append((data.loc[data[\"COUNTRY\"] == i, \"HDI\"]).sum()/294) #dividing by mode to get the aggregate\n",
    "    tc.append((data2.loc[data2[\"location\"] == i, \"total_cases\"]).sum())\n",
    "    td.append((data2.loc[data2[\"location\"] == i, \"total_deaths\"]).sum())\n",
    "    sti.append((data.loc[data[\"COUNTRY\"] == i, \"STI\"]).sum()/294)\n",
    "    population.append((data2.loc[data2[\"location\"] == i, \"population\"]).sum()/294)\n",
    "    gdp_per_capita_before_covid.append(\n",
    "        gdp_per_capita_data.loc[(gdp_per_capita_data[\"Entity\"] == i) \n",
    "                                & (gdp_per_capita_data[\"Year\"] == 2019), \n",
    "                                \"GDP per capita, PPP (constant 2017 international $)\"].item()\n",
    "        )\n",
    "    gdp_per_capita_during_covid.append(\n",
    "        gdp_per_capita_data.loc[(gdp_per_capita_data[\"Entity\"] == i) \n",
    "                                & (gdp_per_capita_data[\"Year\"] == 2021), \n",
    "                                \"GDP per capita, PPP (constant 2017 international $)\"].item()\n",
    "        )\n",
    "    gdp_per_capita_after_covid.append(\n",
    "        gdp_per_capita_data.loc[(gdp_per_capita_data[\"Entity\"] == i) \n",
    "                                & (gdp_per_capita_data[\"Year\"] == 2022), \n",
    "                                \"GDP per capita, PPP (constant 2017 international $)\"].item()\n",
    "        )\n",
    "\n",
    "aggregated_data = pd.DataFrame(list(zip(code, country, hdi, tc, td, sti, population, \n",
    "                                        gdp_per_capita_before_covid, \n",
    "                                        gdp_per_capita_during_covid, \n",
    "                                        gdp_per_capita_after_covid)), \n",
    "                               columns = [\"Country Code\", \"Country\", \"HDI\", \n",
    "                                          \"Total Cases\", \"Total Deaths\", \n",
    "                                          \"Stringency Index\", \"Population\", \n",
    "                                          \"GDP Per Capita Before Covid\", \n",
    "                                          \"GDP Per Capita During Covid\",\n",
    "                                          \"GDP Per Capita After Covid\"])\n",
    "\n",
    "aggregated_data.head()"
   ]
  },
  {
   "cell_type": "markdown",
   "metadata": {},
   "source": [
    "Let's see the top 20 countries by total cases."
   ]
  },
  {
   "cell_type": "code",
   "execution_count": 12,
   "metadata": {},
   "outputs": [
    {
     "data": {
      "text/html": [
       "<div>\n",
       "<style scoped>\n",
       "    .dataframe tbody tr th:only-of-type {\n",
       "        vertical-align: middle;\n",
       "    }\n",
       "\n",
       "    .dataframe tbody tr th {\n",
       "        vertical-align: top;\n",
       "    }\n",
       "\n",
       "    .dataframe thead th {\n",
       "        text-align: right;\n",
       "    }\n",
       "</style>\n",
       "<table border=\"1\" class=\"dataframe\">\n",
       "  <thead>\n",
       "    <tr style=\"text-align: right;\">\n",
       "      <th></th>\n",
       "      <th>Country Code</th>\n",
       "      <th>Country</th>\n",
       "      <th>HDI</th>\n",
       "      <th>Total Cases</th>\n",
       "      <th>Total Deaths</th>\n",
       "      <th>Stringency Index</th>\n",
       "      <th>Population</th>\n",
       "      <th>GDP Per Capita Before Covid</th>\n",
       "      <th>GDP Per Capita During Covid</th>\n",
       "      <th>GDP Per Capita After Covid</th>\n",
       "    </tr>\n",
       "  </thead>\n",
       "  <tbody>\n",
       "    <tr>\n",
       "      <th>169</th>\n",
       "      <td>SGP</td>\n",
       "      <td>United States</td>\n",
       "      <td>0.924000</td>\n",
       "      <td>746014098.0</td>\n",
       "      <td>26477574.0</td>\n",
       "      <td>3.350949</td>\n",
       "      <td>3.310026e+08</td>\n",
       "      <td>62470.9300</td>\n",
       "      <td>63635.8240</td>\n",
       "      <td>64623.1250</td>\n",
       "    </tr>\n",
       "    <tr>\n",
       "      <th>22</th>\n",
       "      <td>BTN</td>\n",
       "      <td>Brazil</td>\n",
       "      <td>0.759000</td>\n",
       "      <td>425704517.0</td>\n",
       "      <td>14340567.0</td>\n",
       "      <td>3.136028</td>\n",
       "      <td>2.125594e+08</td>\n",
       "      <td>14685.1280</td>\n",
       "      <td>14735.5820</td>\n",
       "      <td>15093.4650</td>\n",
       "    </tr>\n",
       "    <tr>\n",
       "      <th>74</th>\n",
       "      <td>GHA</td>\n",
       "      <td>India</td>\n",
       "      <td>0.640000</td>\n",
       "      <td>407771615.0</td>\n",
       "      <td>7247327.0</td>\n",
       "      <td>3.610552</td>\n",
       "      <td>1.380004e+09</td>\n",
       "      <td>6617.1300</td>\n",
       "      <td>6677.1850</td>\n",
       "      <td>7112.0396</td>\n",
       "    </tr>\n",
       "    <tr>\n",
       "      <th>132</th>\n",
       "      <td>MOZ</td>\n",
       "      <td>Russia</td>\n",
       "      <td>0.816000</td>\n",
       "      <td>132888951.0</td>\n",
       "      <td>2131571.0</td>\n",
       "      <td>3.380088</td>\n",
       "      <td>1.459345e+08</td>\n",
       "      <td>27254.5740</td>\n",
       "      <td>28057.0310</td>\n",
       "      <td>27450.4500</td>\n",
       "    </tr>\n",
       "    <tr>\n",
       "      <th>125</th>\n",
       "      <td>MEX</td>\n",
       "      <td>Peru</td>\n",
       "      <td>0.599490</td>\n",
       "      <td>74882695.0</td>\n",
       "      <td>3020038.0</td>\n",
       "      <td>3.430126</td>\n",
       "      <td>2.635505e+07</td>\n",
       "      <td>12735.1680</td>\n",
       "      <td>12533.8420</td>\n",
       "      <td>12743.9420</td>\n",
       "    </tr>\n",
       "    <tr>\n",
       "      <th>104</th>\n",
       "      <td>OWID_KOS</td>\n",
       "      <td>Mexico</td>\n",
       "      <td>0.774000</td>\n",
       "      <td>74347548.0</td>\n",
       "      <td>7295850.0</td>\n",
       "      <td>3.019289</td>\n",
       "      <td>1.289328e+08</td>\n",
       "      <td>20553.9550</td>\n",
       "      <td>19617.7600</td>\n",
       "      <td>20254.7810</td>\n",
       "    </tr>\n",
       "    <tr>\n",
       "      <th>151</th>\n",
       "      <td>PHL</td>\n",
       "      <td>Spain</td>\n",
       "      <td>0.887969</td>\n",
       "      <td>73717676.0</td>\n",
       "      <td>5510624.0</td>\n",
       "      <td>3.393922</td>\n",
       "      <td>4.659575e+07</td>\n",
       "      <td>40782.2340</td>\n",
       "      <td>38319.2900</td>\n",
       "      <td>40223.0100</td>\n",
       "    </tr>\n",
       "    <tr>\n",
       "      <th>149</th>\n",
       "      <td>PRY</td>\n",
       "      <td>South Africa</td>\n",
       "      <td>0.608653</td>\n",
       "      <td>63027659.0</td>\n",
       "      <td>1357682.0</td>\n",
       "      <td>3.364333</td>\n",
       "      <td>5.164294e+07</td>\n",
       "      <td>13850.8955</td>\n",
       "      <td>13337.7900</td>\n",
       "      <td>13478.7540</td>\n",
       "    </tr>\n",
       "    <tr>\n",
       "      <th>36</th>\n",
       "      <td>CPV</td>\n",
       "      <td>Colombia</td>\n",
       "      <td>0.581847</td>\n",
       "      <td>60543682.0</td>\n",
       "      <td>1936134.0</td>\n",
       "      <td>3.357923</td>\n",
       "      <td>3.963327e+07</td>\n",
       "      <td>14616.1350</td>\n",
       "      <td>14661.2130</td>\n",
       "      <td>15616.7520</td>\n",
       "    </tr>\n",
       "    <tr>\n",
       "      <th>168</th>\n",
       "      <td>SLE</td>\n",
       "      <td>United Kingdom</td>\n",
       "      <td>0.922000</td>\n",
       "      <td>59475032.0</td>\n",
       "      <td>7249573.0</td>\n",
       "      <td>3.353883</td>\n",
       "      <td>6.788600e+07</td>\n",
       "      <td>46909.0800</td>\n",
       "      <td>45567.5700</td>\n",
       "      <td>47587.1680</td>\n",
       "    </tr>\n",
       "    <tr>\n",
       "      <th>76</th>\n",
       "      <td>GRC</td>\n",
       "      <td>Iran</td>\n",
       "      <td>0.798000</td>\n",
       "      <td>52421884.0</td>\n",
       "      <td>2914070.0</td>\n",
       "      <td>3.207064</td>\n",
       "      <td>8.399295e+07</td>\n",
       "      <td>14084.3540</td>\n",
       "      <td>15004.6875</td>\n",
       "      <td>15461.0790</td>\n",
       "    </tr>\n",
       "    <tr>\n",
       "      <th>34</th>\n",
       "      <td>CMR</td>\n",
       "      <td>Chile</td>\n",
       "      <td>0.656622</td>\n",
       "      <td>51268034.0</td>\n",
       "      <td>1283880.0</td>\n",
       "      <td>2.989194</td>\n",
       "      <td>1.488984e+07</td>\n",
       "      <td>24809.8610</td>\n",
       "      <td>25412.7520</td>\n",
       "      <td>25886.1210</td>\n",
       "    </tr>\n",
       "    <tr>\n",
       "      <th>80</th>\n",
       "      <td>GTM</td>\n",
       "      <td>Italy</td>\n",
       "      <td>0.880000</td>\n",
       "      <td>50752853.0</td>\n",
       "      <td>6664225.0</td>\n",
       "      <td>3.629838</td>\n",
       "      <td>6.046183e+07</td>\n",
       "      <td>42739.0500</td>\n",
       "      <td>42562.5550</td>\n",
       "      <td>44292.1900</td>\n",
       "    </tr>\n",
       "    <tr>\n",
       "      <th>57</th>\n",
       "      <td>ECU</td>\n",
       "      <td>France</td>\n",
       "      <td>0.901000</td>\n",
       "      <td>50084335.0</td>\n",
       "      <td>5633444.0</td>\n",
       "      <td>3.385794</td>\n",
       "      <td>6.527351e+07</td>\n",
       "      <td>45922.7930</td>\n",
       "      <td>44941.4380</td>\n",
       "      <td>45904.4100</td>\n",
       "    </tr>\n",
       "    <tr>\n",
       "      <th>4</th>\n",
       "      <td>AGO</td>\n",
       "      <td>Argentina</td>\n",
       "      <td>0.707143</td>\n",
       "      <td>47155234.0</td>\n",
       "      <td>1077426.0</td>\n",
       "      <td>3.475438</td>\n",
       "      <td>3.873924e+07</td>\n",
       "      <td>22071.7480</td>\n",
       "      <td>21599.7970</td>\n",
       "      <td>22461.4410</td>\n",
       "    </tr>\n",
       "    <tr>\n",
       "      <th>61</th>\n",
       "      <td>ERI</td>\n",
       "      <td>Germany</td>\n",
       "      <td>0.936000</td>\n",
       "      <td>42447678.0</td>\n",
       "      <td>1640691.0</td>\n",
       "      <td>3.284516</td>\n",
       "      <td>8.378394e+07</td>\n",
       "      <td>53884.3750</td>\n",
       "      <td>53395.6500</td>\n",
       "      <td>53969.6250</td>\n",
       "    </tr>\n",
       "    <tr>\n",
       "      <th>163</th>\n",
       "      <td>STP</td>\n",
       "      <td>Turkey</td>\n",
       "      <td>0.591905</td>\n",
       "      <td>41431948.0</td>\n",
       "      <td>1049757.0</td>\n",
       "      <td>3.041418</td>\n",
       "      <td>6.311087e+07</td>\n",
       "      <td>28476.6840</td>\n",
       "      <td>31722.1600</td>\n",
       "      <td>33149.5000</td>\n",
       "    </tr>\n",
       "    <tr>\n",
       "      <th>138</th>\n",
       "      <td>NZL</td>\n",
       "      <td>Saudi Arabia</td>\n",
       "      <td>0.673116</td>\n",
       "      <td>38585191.0</td>\n",
       "      <td>442507.0</td>\n",
       "      <td>3.263361</td>\n",
       "      <td>2.747217e+07</td>\n",
       "      <td>47024.5430</td>\n",
       "      <td>46768.4340</td>\n",
       "      <td>50188.2970</td>\n",
       "    </tr>\n",
       "    <tr>\n",
       "      <th>120</th>\n",
       "      <td>MDV</td>\n",
       "      <td>Pakistan</td>\n",
       "      <td>0.562000</td>\n",
       "      <td>37738077.0</td>\n",
       "      <td>789557.0</td>\n",
       "      <td>3.385802</td>\n",
       "      <td>2.208923e+08</td>\n",
       "      <td>5157.5464</td>\n",
       "      <td>5233.4595</td>\n",
       "      <td>5376.9670</td>\n",
       "    </tr>\n",
       "    <tr>\n",
       "      <th>12</th>\n",
       "      <td>AZE</td>\n",
       "      <td>Bangladesh</td>\n",
       "      <td>0.477714</td>\n",
       "      <td>35266178.0</td>\n",
       "      <td>484534.0</td>\n",
       "      <td>3.186410</td>\n",
       "      <td>1.293988e+08</td>\n",
       "      <td>5467.2075</td>\n",
       "      <td>5911.0130</td>\n",
       "      <td>6263.0044</td>\n",
       "    </tr>\n",
       "  </tbody>\n",
       "</table>\n",
       "</div>"
      ],
      "text/plain": [
       "    Country Code         Country       HDI  Total Cases  Total Deaths  \\\n",
       "169          SGP   United States  0.924000  746014098.0    26477574.0   \n",
       "22           BTN          Brazil  0.759000  425704517.0    14340567.0   \n",
       "74           GHA           India  0.640000  407771615.0     7247327.0   \n",
       "132          MOZ          Russia  0.816000  132888951.0     2131571.0   \n",
       "125          MEX            Peru  0.599490   74882695.0     3020038.0   \n",
       "104     OWID_KOS          Mexico  0.774000   74347548.0     7295850.0   \n",
       "151          PHL           Spain  0.887969   73717676.0     5510624.0   \n",
       "149          PRY    South Africa  0.608653   63027659.0     1357682.0   \n",
       "36           CPV        Colombia  0.581847   60543682.0     1936134.0   \n",
       "168          SLE  United Kingdom  0.922000   59475032.0     7249573.0   \n",
       "76           GRC            Iran  0.798000   52421884.0     2914070.0   \n",
       "34           CMR           Chile  0.656622   51268034.0     1283880.0   \n",
       "80           GTM           Italy  0.880000   50752853.0     6664225.0   \n",
       "57           ECU          France  0.901000   50084335.0     5633444.0   \n",
       "4            AGO       Argentina  0.707143   47155234.0     1077426.0   \n",
       "61           ERI         Germany  0.936000   42447678.0     1640691.0   \n",
       "163          STP          Turkey  0.591905   41431948.0     1049757.0   \n",
       "138          NZL    Saudi Arabia  0.673116   38585191.0      442507.0   \n",
       "120          MDV        Pakistan  0.562000   37738077.0      789557.0   \n",
       "12           AZE      Bangladesh  0.477714   35266178.0      484534.0   \n",
       "\n",
       "     Stringency Index    Population  GDP Per Capita Before Covid  \\\n",
       "169          3.350949  3.310026e+08                   62470.9300   \n",
       "22           3.136028  2.125594e+08                   14685.1280   \n",
       "74           3.610552  1.380004e+09                    6617.1300   \n",
       "132          3.380088  1.459345e+08                   27254.5740   \n",
       "125          3.430126  2.635505e+07                   12735.1680   \n",
       "104          3.019289  1.289328e+08                   20553.9550   \n",
       "151          3.393922  4.659575e+07                   40782.2340   \n",
       "149          3.364333  5.164294e+07                   13850.8955   \n",
       "36           3.357923  3.963327e+07                   14616.1350   \n",
       "168          3.353883  6.788600e+07                   46909.0800   \n",
       "76           3.207064  8.399295e+07                   14084.3540   \n",
       "34           2.989194  1.488984e+07                   24809.8610   \n",
       "80           3.629838  6.046183e+07                   42739.0500   \n",
       "57           3.385794  6.527351e+07                   45922.7930   \n",
       "4            3.475438  3.873924e+07                   22071.7480   \n",
       "61           3.284516  8.378394e+07                   53884.3750   \n",
       "163          3.041418  6.311087e+07                   28476.6840   \n",
       "138          3.263361  2.747217e+07                   47024.5430   \n",
       "120          3.385802  2.208923e+08                    5157.5464   \n",
       "12           3.186410  1.293988e+08                    5467.2075   \n",
       "\n",
       "     GDP Per Capita During Covid  GDP Per Capita After Covid  \n",
       "169                   63635.8240                  64623.1250  \n",
       "22                    14735.5820                  15093.4650  \n",
       "74                     6677.1850                   7112.0396  \n",
       "132                   28057.0310                  27450.4500  \n",
       "125                   12533.8420                  12743.9420  \n",
       "104                   19617.7600                  20254.7810  \n",
       "151                   38319.2900                  40223.0100  \n",
       "149                   13337.7900                  13478.7540  \n",
       "36                    14661.2130                  15616.7520  \n",
       "168                   45567.5700                  47587.1680  \n",
       "76                    15004.6875                  15461.0790  \n",
       "34                    25412.7520                  25886.1210  \n",
       "80                    42562.5550                  44292.1900  \n",
       "57                    44941.4380                  45904.4100  \n",
       "4                     21599.7970                  22461.4410  \n",
       "61                    53395.6500                  53969.6250  \n",
       "163                   31722.1600                  33149.5000  \n",
       "138                   46768.4340                  50188.2970  \n",
       "120                    5233.4595                   5376.9670  \n",
       "12                     5911.0130                   6263.0044  "
      ]
     },
     "execution_count": 12,
     "metadata": {},
     "output_type": "execute_result"
    }
   ],
   "source": [
    "# %%\n",
    "data = aggregated_data.sort_values(by=[\"Total Cases\"], ascending=False)\n",
    "data.head(20)"
   ]
  },
  {
   "cell_type": "markdown",
   "metadata": {},
   "source": [
    "Understandably, the countries with bigger populations, like the USA, Brazil, India, and Russia were leading in the number of cases over the data that we have. \n",
    "The US and India reportedly handled their cases catastrophically, so that might reflect in the number of deaths. We'll look at this later. For now, let's see which countries had more than 10 million covid cases."
   ]
  },
  {
   "cell_type": "code",
   "execution_count": 13,
   "metadata": {},
   "outputs": [
    {
     "data": {
      "application/vnd.plotly.v1+json": {
       "config": {
        "plotlyServerURL": "https://plot.ly"
       },
       "data": [
        {
         "alignmentgroup": "True",
         "hovertemplate": "Country=%{x}<br>Total Cases=%{y}<extra></extra>",
         "legendgroup": "",
         "marker": {
          "color": "#636efa",
          "pattern": {
           "shape": ""
          }
         },
         "name": "",
         "offsetgroup": "",
         "orientation": "v",
         "showlegend": false,
         "textposition": "auto",
         "type": "bar",
         "x": [
          "United States",
          "Brazil",
          "India",
          "Russia",
          "Peru",
          "Mexico",
          "Spain",
          "South Africa",
          "Colombia",
          "United Kingdom",
          "Iran",
          "Chile",
          "Italy",
          "France",
          "Argentina",
          "Germany",
          "Turkey",
          "Saudi Arabia",
          "Pakistan",
          "Bangladesh",
          "Iraq",
          "Philippines",
          "China",
          "Indonesia",
          "Canada",
          "Qatar",
          "Israel",
          "Ukraine",
          "Belgium",
          "Ecuador",
          "Kazakhstan",
          "Netherlands",
          "Egypt",
          "Sweden",
          "Bolivia",
          "Romania",
          "Dominican Republic",
          "Kuwait",
          "Belarus",
          "Panama",
          "United Arab Emirates",
          "Oman"
         ],
         "xaxis": "x",
         "y": [
          746014098,
          425704517,
          407771615,
          132888951,
          74882695,
          74347548,
          73717676,
          63027659,
          60543682,
          59475032,
          52421884,
          51268034,
          50752853,
          50084335,
          47155234,
          42447678,
          41431948,
          38585191,
          37738077,
          35266178,
          25280332,
          22409936,
          21632319,
          21570149,
          20902374,
          16351440,
          16202474,
          15805665,
          15192468,
          14408757,
          13194863,
          13026629,
          12422845,
          11910109,
          11858838,
          10672859,
          10649646,
          10622205,
          10595186,
          10371724,
          10247326,
          10060093
         ],
         "yaxis": "y"
        }
       ],
       "layout": {
        "barmode": "relative",
        "legend": {
         "tracegroupgap": 0
        },
        "template": {
         "data": {
          "bar": [
           {
            "error_x": {
             "color": "#2a3f5f"
            },
            "error_y": {
             "color": "#2a3f5f"
            },
            "marker": {
             "line": {
              "color": "#E5ECF6",
              "width": 0.5
             },
             "pattern": {
              "fillmode": "overlay",
              "size": 10,
              "solidity": 0.2
             }
            },
            "type": "bar"
           }
          ],
          "barpolar": [
           {
            "marker": {
             "line": {
              "color": "#E5ECF6",
              "width": 0.5
             },
             "pattern": {
              "fillmode": "overlay",
              "size": 10,
              "solidity": 0.2
             }
            },
            "type": "barpolar"
           }
          ],
          "carpet": [
           {
            "aaxis": {
             "endlinecolor": "#2a3f5f",
             "gridcolor": "white",
             "linecolor": "white",
             "minorgridcolor": "white",
             "startlinecolor": "#2a3f5f"
            },
            "baxis": {
             "endlinecolor": "#2a3f5f",
             "gridcolor": "white",
             "linecolor": "white",
             "minorgridcolor": "white",
             "startlinecolor": "#2a3f5f"
            },
            "type": "carpet"
           }
          ],
          "choropleth": [
           {
            "colorbar": {
             "outlinewidth": 0,
             "ticks": ""
            },
            "type": "choropleth"
           }
          ],
          "contour": [
           {
            "colorbar": {
             "outlinewidth": 0,
             "ticks": ""
            },
            "colorscale": [
             [
              0,
              "#0d0887"
             ],
             [
              0.1111111111111111,
              "#46039f"
             ],
             [
              0.2222222222222222,
              "#7201a8"
             ],
             [
              0.3333333333333333,
              "#9c179e"
             ],
             [
              0.4444444444444444,
              "#bd3786"
             ],
             [
              0.5555555555555556,
              "#d8576b"
             ],
             [
              0.6666666666666666,
              "#ed7953"
             ],
             [
              0.7777777777777778,
              "#fb9f3a"
             ],
             [
              0.8888888888888888,
              "#fdca26"
             ],
             [
              1,
              "#f0f921"
             ]
            ],
            "type": "contour"
           }
          ],
          "contourcarpet": [
           {
            "colorbar": {
             "outlinewidth": 0,
             "ticks": ""
            },
            "type": "contourcarpet"
           }
          ],
          "heatmap": [
           {
            "colorbar": {
             "outlinewidth": 0,
             "ticks": ""
            },
            "colorscale": [
             [
              0,
              "#0d0887"
             ],
             [
              0.1111111111111111,
              "#46039f"
             ],
             [
              0.2222222222222222,
              "#7201a8"
             ],
             [
              0.3333333333333333,
              "#9c179e"
             ],
             [
              0.4444444444444444,
              "#bd3786"
             ],
             [
              0.5555555555555556,
              "#d8576b"
             ],
             [
              0.6666666666666666,
              "#ed7953"
             ],
             [
              0.7777777777777778,
              "#fb9f3a"
             ],
             [
              0.8888888888888888,
              "#fdca26"
             ],
             [
              1,
              "#f0f921"
             ]
            ],
            "type": "heatmap"
           }
          ],
          "heatmapgl": [
           {
            "colorbar": {
             "outlinewidth": 0,
             "ticks": ""
            },
            "colorscale": [
             [
              0,
              "#0d0887"
             ],
             [
              0.1111111111111111,
              "#46039f"
             ],
             [
              0.2222222222222222,
              "#7201a8"
             ],
             [
              0.3333333333333333,
              "#9c179e"
             ],
             [
              0.4444444444444444,
              "#bd3786"
             ],
             [
              0.5555555555555556,
              "#d8576b"
             ],
             [
              0.6666666666666666,
              "#ed7953"
             ],
             [
              0.7777777777777778,
              "#fb9f3a"
             ],
             [
              0.8888888888888888,
              "#fdca26"
             ],
             [
              1,
              "#f0f921"
             ]
            ],
            "type": "heatmapgl"
           }
          ],
          "histogram": [
           {
            "marker": {
             "pattern": {
              "fillmode": "overlay",
              "size": 10,
              "solidity": 0.2
             }
            },
            "type": "histogram"
           }
          ],
          "histogram2d": [
           {
            "colorbar": {
             "outlinewidth": 0,
             "ticks": ""
            },
            "colorscale": [
             [
              0,
              "#0d0887"
             ],
             [
              0.1111111111111111,
              "#46039f"
             ],
             [
              0.2222222222222222,
              "#7201a8"
             ],
             [
              0.3333333333333333,
              "#9c179e"
             ],
             [
              0.4444444444444444,
              "#bd3786"
             ],
             [
              0.5555555555555556,
              "#d8576b"
             ],
             [
              0.6666666666666666,
              "#ed7953"
             ],
             [
              0.7777777777777778,
              "#fb9f3a"
             ],
             [
              0.8888888888888888,
              "#fdca26"
             ],
             [
              1,
              "#f0f921"
             ]
            ],
            "type": "histogram2d"
           }
          ],
          "histogram2dcontour": [
           {
            "colorbar": {
             "outlinewidth": 0,
             "ticks": ""
            },
            "colorscale": [
             [
              0,
              "#0d0887"
             ],
             [
              0.1111111111111111,
              "#46039f"
             ],
             [
              0.2222222222222222,
              "#7201a8"
             ],
             [
              0.3333333333333333,
              "#9c179e"
             ],
             [
              0.4444444444444444,
              "#bd3786"
             ],
             [
              0.5555555555555556,
              "#d8576b"
             ],
             [
              0.6666666666666666,
              "#ed7953"
             ],
             [
              0.7777777777777778,
              "#fb9f3a"
             ],
             [
              0.8888888888888888,
              "#fdca26"
             ],
             [
              1,
              "#f0f921"
             ]
            ],
            "type": "histogram2dcontour"
           }
          ],
          "mesh3d": [
           {
            "colorbar": {
             "outlinewidth": 0,
             "ticks": ""
            },
            "type": "mesh3d"
           }
          ],
          "parcoords": [
           {
            "line": {
             "colorbar": {
              "outlinewidth": 0,
              "ticks": ""
             }
            },
            "type": "parcoords"
           }
          ],
          "pie": [
           {
            "automargin": true,
            "type": "pie"
           }
          ],
          "scatter": [
           {
            "fillpattern": {
             "fillmode": "overlay",
             "size": 10,
             "solidity": 0.2
            },
            "type": "scatter"
           }
          ],
          "scatter3d": [
           {
            "line": {
             "colorbar": {
              "outlinewidth": 0,
              "ticks": ""
             }
            },
            "marker": {
             "colorbar": {
              "outlinewidth": 0,
              "ticks": ""
             }
            },
            "type": "scatter3d"
           }
          ],
          "scattercarpet": [
           {
            "marker": {
             "colorbar": {
              "outlinewidth": 0,
              "ticks": ""
             }
            },
            "type": "scattercarpet"
           }
          ],
          "scattergeo": [
           {
            "marker": {
             "colorbar": {
              "outlinewidth": 0,
              "ticks": ""
             }
            },
            "type": "scattergeo"
           }
          ],
          "scattergl": [
           {
            "marker": {
             "colorbar": {
              "outlinewidth": 0,
              "ticks": ""
             }
            },
            "type": "scattergl"
           }
          ],
          "scattermapbox": [
           {
            "marker": {
             "colorbar": {
              "outlinewidth": 0,
              "ticks": ""
             }
            },
            "type": "scattermapbox"
           }
          ],
          "scatterpolar": [
           {
            "marker": {
             "colorbar": {
              "outlinewidth": 0,
              "ticks": ""
             }
            },
            "type": "scatterpolar"
           }
          ],
          "scatterpolargl": [
           {
            "marker": {
             "colorbar": {
              "outlinewidth": 0,
              "ticks": ""
             }
            },
            "type": "scatterpolargl"
           }
          ],
          "scatterternary": [
           {
            "marker": {
             "colorbar": {
              "outlinewidth": 0,
              "ticks": ""
             }
            },
            "type": "scatterternary"
           }
          ],
          "surface": [
           {
            "colorbar": {
             "outlinewidth": 0,
             "ticks": ""
            },
            "colorscale": [
             [
              0,
              "#0d0887"
             ],
             [
              0.1111111111111111,
              "#46039f"
             ],
             [
              0.2222222222222222,
              "#7201a8"
             ],
             [
              0.3333333333333333,
              "#9c179e"
             ],
             [
              0.4444444444444444,
              "#bd3786"
             ],
             [
              0.5555555555555556,
              "#d8576b"
             ],
             [
              0.6666666666666666,
              "#ed7953"
             ],
             [
              0.7777777777777778,
              "#fb9f3a"
             ],
             [
              0.8888888888888888,
              "#fdca26"
             ],
             [
              1,
              "#f0f921"
             ]
            ],
            "type": "surface"
           }
          ],
          "table": [
           {
            "cells": {
             "fill": {
              "color": "#EBF0F8"
             },
             "line": {
              "color": "white"
             }
            },
            "header": {
             "fill": {
              "color": "#C8D4E3"
             },
             "line": {
              "color": "white"
             }
            },
            "type": "table"
           }
          ]
         },
         "layout": {
          "annotationdefaults": {
           "arrowcolor": "#2a3f5f",
           "arrowhead": 0,
           "arrowwidth": 1
          },
          "autotypenumbers": "strict",
          "coloraxis": {
           "colorbar": {
            "outlinewidth": 0,
            "ticks": ""
           }
          },
          "colorscale": {
           "diverging": [
            [
             0,
             "#8e0152"
            ],
            [
             0.1,
             "#c51b7d"
            ],
            [
             0.2,
             "#de77ae"
            ],
            [
             0.3,
             "#f1b6da"
            ],
            [
             0.4,
             "#fde0ef"
            ],
            [
             0.5,
             "#f7f7f7"
            ],
            [
             0.6,
             "#e6f5d0"
            ],
            [
             0.7,
             "#b8e186"
            ],
            [
             0.8,
             "#7fbc41"
            ],
            [
             0.9,
             "#4d9221"
            ],
            [
             1,
             "#276419"
            ]
           ],
           "sequential": [
            [
             0,
             "#0d0887"
            ],
            [
             0.1111111111111111,
             "#46039f"
            ],
            [
             0.2222222222222222,
             "#7201a8"
            ],
            [
             0.3333333333333333,
             "#9c179e"
            ],
            [
             0.4444444444444444,
             "#bd3786"
            ],
            [
             0.5555555555555556,
             "#d8576b"
            ],
            [
             0.6666666666666666,
             "#ed7953"
            ],
            [
             0.7777777777777778,
             "#fb9f3a"
            ],
            [
             0.8888888888888888,
             "#fdca26"
            ],
            [
             1,
             "#f0f921"
            ]
           ],
           "sequentialminus": [
            [
             0,
             "#0d0887"
            ],
            [
             0.1111111111111111,
             "#46039f"
            ],
            [
             0.2222222222222222,
             "#7201a8"
            ],
            [
             0.3333333333333333,
             "#9c179e"
            ],
            [
             0.4444444444444444,
             "#bd3786"
            ],
            [
             0.5555555555555556,
             "#d8576b"
            ],
            [
             0.6666666666666666,
             "#ed7953"
            ],
            [
             0.7777777777777778,
             "#fb9f3a"
            ],
            [
             0.8888888888888888,
             "#fdca26"
            ],
            [
             1,
             "#f0f921"
            ]
           ]
          },
          "colorway": [
           "#636efa",
           "#EF553B",
           "#00cc96",
           "#ab63fa",
           "#FFA15A",
           "#19d3f3",
           "#FF6692",
           "#B6E880",
           "#FF97FF",
           "#FECB52"
          ],
          "font": {
           "color": "#2a3f5f"
          },
          "geo": {
           "bgcolor": "white",
           "lakecolor": "white",
           "landcolor": "#E5ECF6",
           "showlakes": true,
           "showland": true,
           "subunitcolor": "white"
          },
          "hoverlabel": {
           "align": "left"
          },
          "hovermode": "closest",
          "mapbox": {
           "style": "light"
          },
          "paper_bgcolor": "white",
          "plot_bgcolor": "#E5ECF6",
          "polar": {
           "angularaxis": {
            "gridcolor": "white",
            "linecolor": "white",
            "ticks": ""
           },
           "bgcolor": "#E5ECF6",
           "radialaxis": {
            "gridcolor": "white",
            "linecolor": "white",
            "ticks": ""
           }
          },
          "scene": {
           "xaxis": {
            "backgroundcolor": "#E5ECF6",
            "gridcolor": "white",
            "gridwidth": 2,
            "linecolor": "white",
            "showbackground": true,
            "ticks": "",
            "zerolinecolor": "white"
           },
           "yaxis": {
            "backgroundcolor": "#E5ECF6",
            "gridcolor": "white",
            "gridwidth": 2,
            "linecolor": "white",
            "showbackground": true,
            "ticks": "",
            "zerolinecolor": "white"
           },
           "zaxis": {
            "backgroundcolor": "#E5ECF6",
            "gridcolor": "white",
            "gridwidth": 2,
            "linecolor": "white",
            "showbackground": true,
            "ticks": "",
            "zerolinecolor": "white"
           }
          },
          "shapedefaults": {
           "line": {
            "color": "#2a3f5f"
           }
          },
          "ternary": {
           "aaxis": {
            "gridcolor": "white",
            "linecolor": "white",
            "ticks": ""
           },
           "baxis": {
            "gridcolor": "white",
            "linecolor": "white",
            "ticks": ""
           },
           "bgcolor": "#E5ECF6",
           "caxis": {
            "gridcolor": "white",
            "linecolor": "white",
            "ticks": ""
           }
          },
          "title": {
           "x": 0.05
          },
          "xaxis": {
           "automargin": true,
           "gridcolor": "white",
           "linecolor": "white",
           "ticks": "",
           "title": {
            "standoff": 15
           },
           "zerolinecolor": "white",
           "zerolinewidth": 2
          },
          "yaxis": {
           "automargin": true,
           "gridcolor": "white",
           "linecolor": "white",
           "ticks": "",
           "title": {
            "standoff": 15
           },
           "zerolinecolor": "white",
           "zerolinewidth": 2
          }
         }
        },
        "title": {
         "text": "Countries with more than 10 million Covid cases"
        },
        "xaxis": {
         "anchor": "y",
         "domain": [
          0,
          1
         ],
         "title": {
          "text": "Country"
         }
        },
        "yaxis": {
         "anchor": "x",
         "domain": [
          0,
          1
         ],
         "title": {
          "text": "Total Cases"
         }
        }
       }
      }
     },
     "metadata": {},
     "output_type": "display_data"
    }
   ],
   "source": [
    "# %%\n",
    "figure = px.bar(data[data[\"Total Cases\"] > 1e7], \n",
    "                y = 'Total Cases', \n",
    "                x = 'Country',\n",
    "                title = \"Countries with more than 10 million Covid cases\")\n",
    "figure.show()"
   ]
  },
  {
   "cell_type": "markdown",
   "metadata": {},
   "source": [
    "Let's see which countries had the highest number of cases per capita."
   ]
  },
  {
   "cell_type": "code",
   "execution_count": 14,
   "metadata": {},
   "outputs": [
    {
     "data": {
      "text/html": [
       "<div>\n",
       "<style scoped>\n",
       "    .dataframe tbody tr th:only-of-type {\n",
       "        vertical-align: middle;\n",
       "    }\n",
       "\n",
       "    .dataframe tbody tr th {\n",
       "        vertical-align: top;\n",
       "    }\n",
       "\n",
       "    .dataframe thead th {\n",
       "        text-align: right;\n",
       "    }\n",
       "</style>\n",
       "<table border=\"1\" class=\"dataframe\">\n",
       "  <thead>\n",
       "    <tr style=\"text-align: right;\">\n",
       "      <th></th>\n",
       "      <th>Country Code</th>\n",
       "      <th>Country</th>\n",
       "      <th>HDI</th>\n",
       "      <th>Total Cases</th>\n",
       "      <th>Total Deaths</th>\n",
       "      <th>Stringency Index</th>\n",
       "      <th>Population</th>\n",
       "      <th>GDP Per Capita Before Covid</th>\n",
       "      <th>GDP Per Capita During Covid</th>\n",
       "      <th>GDP Per Capita After Covid</th>\n",
       "      <th>Cases Per Capita</th>\n",
       "      <th>Cases Per Thousand</th>\n",
       "    </tr>\n",
       "  </thead>\n",
       "  <tbody>\n",
       "    <tr>\n",
       "      <th>169</th>\n",
       "      <td>SGP</td>\n",
       "      <td>United States</td>\n",
       "      <td>0.92400</td>\n",
       "      <td>746014098.0</td>\n",
       "      <td>26477574.0</td>\n",
       "      <td>3.350949</td>\n",
       "      <td>3.310026e+08</td>\n",
       "      <td>62470.930</td>\n",
       "      <td>63635.824</td>\n",
       "      <td>64623.1250</td>\n",
       "      <td>2.253801</td>\n",
       "      <td>2253.801004</td>\n",
       "    </tr>\n",
       "    <tr>\n",
       "      <th>22</th>\n",
       "      <td>BTN</td>\n",
       "      <td>Brazil</td>\n",
       "      <td>0.75900</td>\n",
       "      <td>425704517.0</td>\n",
       "      <td>14340567.0</td>\n",
       "      <td>3.136028</td>\n",
       "      <td>2.125594e+08</td>\n",
       "      <td>14685.128</td>\n",
       "      <td>14735.582</td>\n",
       "      <td>15093.4650</td>\n",
       "      <td>2.002755</td>\n",
       "      <td>2002.755460</td>\n",
       "    </tr>\n",
       "    <tr>\n",
       "      <th>74</th>\n",
       "      <td>GHA</td>\n",
       "      <td>India</td>\n",
       "      <td>0.64000</td>\n",
       "      <td>407771615.0</td>\n",
       "      <td>7247327.0</td>\n",
       "      <td>3.610552</td>\n",
       "      <td>1.380004e+09</td>\n",
       "      <td>6617.130</td>\n",
       "      <td>6677.185</td>\n",
       "      <td>7112.0396</td>\n",
       "      <td>0.295486</td>\n",
       "      <td>295.485739</td>\n",
       "    </tr>\n",
       "    <tr>\n",
       "      <th>132</th>\n",
       "      <td>MOZ</td>\n",
       "      <td>Russia</td>\n",
       "      <td>0.81600</td>\n",
       "      <td>132888951.0</td>\n",
       "      <td>2131571.0</td>\n",
       "      <td>3.380088</td>\n",
       "      <td>1.459345e+08</td>\n",
       "      <td>27254.574</td>\n",
       "      <td>28057.031</td>\n",
       "      <td>27450.4500</td>\n",
       "      <td>0.910607</td>\n",
       "      <td>910.607070</td>\n",
       "    </tr>\n",
       "    <tr>\n",
       "      <th>125</th>\n",
       "      <td>MEX</td>\n",
       "      <td>Peru</td>\n",
       "      <td>0.59949</td>\n",
       "      <td>74882695.0</td>\n",
       "      <td>3020038.0</td>\n",
       "      <td>3.430126</td>\n",
       "      <td>2.635505e+07</td>\n",
       "      <td>12735.168</td>\n",
       "      <td>12533.842</td>\n",
       "      <td>12743.9420</td>\n",
       "      <td>2.841304</td>\n",
       "      <td>2841.303796</td>\n",
       "    </tr>\n",
       "  </tbody>\n",
       "</table>\n",
       "</div>"
      ],
      "text/plain": [
       "    Country Code        Country      HDI  Total Cases  Total Deaths  \\\n",
       "169          SGP  United States  0.92400  746014098.0    26477574.0   \n",
       "22           BTN         Brazil  0.75900  425704517.0    14340567.0   \n",
       "74           GHA          India  0.64000  407771615.0     7247327.0   \n",
       "132          MOZ         Russia  0.81600  132888951.0     2131571.0   \n",
       "125          MEX           Peru  0.59949   74882695.0     3020038.0   \n",
       "\n",
       "     Stringency Index    Population  GDP Per Capita Before Covid  \\\n",
       "169          3.350949  3.310026e+08                    62470.930   \n",
       "22           3.136028  2.125594e+08                    14685.128   \n",
       "74           3.610552  1.380004e+09                     6617.130   \n",
       "132          3.380088  1.459345e+08                    27254.574   \n",
       "125          3.430126  2.635505e+07                    12735.168   \n",
       "\n",
       "     GDP Per Capita During Covid  GDP Per Capita After Covid  \\\n",
       "169                    63635.824                  64623.1250   \n",
       "22                     14735.582                  15093.4650   \n",
       "74                      6677.185                   7112.0396   \n",
       "132                    28057.031                  27450.4500   \n",
       "125                    12533.842                  12743.9420   \n",
       "\n",
       "     Cases Per Capita  Cases Per Thousand  \n",
       "169          2.253801         2253.801004  \n",
       "22           2.002755         2002.755460  \n",
       "74           0.295486          295.485739  \n",
       "132          0.910607          910.607070  \n",
       "125          2.841304         2841.303796  "
      ]
     },
     "execution_count": 14,
     "metadata": {},
     "output_type": "execute_result"
    }
   ],
   "source": [
    "data[\"Cases Per Capita\"] = data[\"Total Cases\"] / data[\"Population\"]\n",
    "data[\"Cases Per Thousand\"] = data[\"Cases Per Capita\"] * 1000\n",
    "data.head()"
   ]
  },
  {
   "cell_type": "code",
   "execution_count": 15,
   "metadata": {},
   "outputs": [
    {
     "data": {
      "application/vnd.plotly.v1+json": {
       "config": {
        "plotlyServerURL": "https://plot.ly"
       },
       "data": [
        {
         "alignmentgroup": "True",
         "hovertemplate": "Country=%{x}<br>Cases Per Thousand=%{y}<extra></extra>",
         "legendgroup": "",
         "marker": {
          "color": "#636efa",
          "pattern": {
           "shape": ""
          }
         },
         "name": "",
         "offsetgroup": "",
         "orientation": "v",
         "showlegend": false,
         "textposition": "auto",
         "type": "bar",
         "x": [
          "Qatar",
          "Bahrain",
          "Chile",
          "Panama",
          "Peru",
          "Aruba",
          "Kuwait",
          "United States",
          "Maldives",
          "Brazil",
          "Oman",
          "Israel",
          "Armenia",
          "Luxembourg",
          "Puerto Rico",
          "Turks and Caicos Islands",
          "Spain",
          "Colombia",
          "Moldova",
          "Montenegro",
          "Sint Maarten (Dutch part)",
          "Saudi Arabia",
          "Singapore",
          "Bolivia",
          "Belgium",
          "Iceland",
          "South Africa",
          "Argentina",
          "Sweden",
          "Costa Rica"
         ],
         "xaxis": "x",
         "y": [
          5675.494436075611,
          3849.3538076015097,
          3443.156331488202,
          3140.930410781453,
          2841.303795713754,
          2742.3394255765984,
          2487.307879546561,
          2253.80100359137,
          2049.429091541453,
          2002.7554602393539,
          1970.0093329798053,
          1871.919271135103,
          1847.5182857648097,
          1831.8977085383465,
          1789.1753056981158,
          1614.2990501061408,
          1582.0685589284528,
          1527.597569035791,
          1507.235595616519,
          1464.8097374675324,
          1456.9353314900368,
          1404.51937338053,
          1400.1163692453588,
          1345.404660745863,
          1319.847525578069,
          1234.3150183150183,
          1220.4506141142638,
          1217.2473473941309,
          1191.4617223686446,
          1182.8326710055073
         ],
         "yaxis": "y"
        }
       ],
       "layout": {
        "barmode": "relative",
        "legend": {
         "tracegroupgap": 0
        },
        "template": {
         "data": {
          "bar": [
           {
            "error_x": {
             "color": "#2a3f5f"
            },
            "error_y": {
             "color": "#2a3f5f"
            },
            "marker": {
             "line": {
              "color": "#E5ECF6",
              "width": 0.5
             },
             "pattern": {
              "fillmode": "overlay",
              "size": 10,
              "solidity": 0.2
             }
            },
            "type": "bar"
           }
          ],
          "barpolar": [
           {
            "marker": {
             "line": {
              "color": "#E5ECF6",
              "width": 0.5
             },
             "pattern": {
              "fillmode": "overlay",
              "size": 10,
              "solidity": 0.2
             }
            },
            "type": "barpolar"
           }
          ],
          "carpet": [
           {
            "aaxis": {
             "endlinecolor": "#2a3f5f",
             "gridcolor": "white",
             "linecolor": "white",
             "minorgridcolor": "white",
             "startlinecolor": "#2a3f5f"
            },
            "baxis": {
             "endlinecolor": "#2a3f5f",
             "gridcolor": "white",
             "linecolor": "white",
             "minorgridcolor": "white",
             "startlinecolor": "#2a3f5f"
            },
            "type": "carpet"
           }
          ],
          "choropleth": [
           {
            "colorbar": {
             "outlinewidth": 0,
             "ticks": ""
            },
            "type": "choropleth"
           }
          ],
          "contour": [
           {
            "colorbar": {
             "outlinewidth": 0,
             "ticks": ""
            },
            "colorscale": [
             [
              0,
              "#0d0887"
             ],
             [
              0.1111111111111111,
              "#46039f"
             ],
             [
              0.2222222222222222,
              "#7201a8"
             ],
             [
              0.3333333333333333,
              "#9c179e"
             ],
             [
              0.4444444444444444,
              "#bd3786"
             ],
             [
              0.5555555555555556,
              "#d8576b"
             ],
             [
              0.6666666666666666,
              "#ed7953"
             ],
             [
              0.7777777777777778,
              "#fb9f3a"
             ],
             [
              0.8888888888888888,
              "#fdca26"
             ],
             [
              1,
              "#f0f921"
             ]
            ],
            "type": "contour"
           }
          ],
          "contourcarpet": [
           {
            "colorbar": {
             "outlinewidth": 0,
             "ticks": ""
            },
            "type": "contourcarpet"
           }
          ],
          "heatmap": [
           {
            "colorbar": {
             "outlinewidth": 0,
             "ticks": ""
            },
            "colorscale": [
             [
              0,
              "#0d0887"
             ],
             [
              0.1111111111111111,
              "#46039f"
             ],
             [
              0.2222222222222222,
              "#7201a8"
             ],
             [
              0.3333333333333333,
              "#9c179e"
             ],
             [
              0.4444444444444444,
              "#bd3786"
             ],
             [
              0.5555555555555556,
              "#d8576b"
             ],
             [
              0.6666666666666666,
              "#ed7953"
             ],
             [
              0.7777777777777778,
              "#fb9f3a"
             ],
             [
              0.8888888888888888,
              "#fdca26"
             ],
             [
              1,
              "#f0f921"
             ]
            ],
            "type": "heatmap"
           }
          ],
          "heatmapgl": [
           {
            "colorbar": {
             "outlinewidth": 0,
             "ticks": ""
            },
            "colorscale": [
             [
              0,
              "#0d0887"
             ],
             [
              0.1111111111111111,
              "#46039f"
             ],
             [
              0.2222222222222222,
              "#7201a8"
             ],
             [
              0.3333333333333333,
              "#9c179e"
             ],
             [
              0.4444444444444444,
              "#bd3786"
             ],
             [
              0.5555555555555556,
              "#d8576b"
             ],
             [
              0.6666666666666666,
              "#ed7953"
             ],
             [
              0.7777777777777778,
              "#fb9f3a"
             ],
             [
              0.8888888888888888,
              "#fdca26"
             ],
             [
              1,
              "#f0f921"
             ]
            ],
            "type": "heatmapgl"
           }
          ],
          "histogram": [
           {
            "marker": {
             "pattern": {
              "fillmode": "overlay",
              "size": 10,
              "solidity": 0.2
             }
            },
            "type": "histogram"
           }
          ],
          "histogram2d": [
           {
            "colorbar": {
             "outlinewidth": 0,
             "ticks": ""
            },
            "colorscale": [
             [
              0,
              "#0d0887"
             ],
             [
              0.1111111111111111,
              "#46039f"
             ],
             [
              0.2222222222222222,
              "#7201a8"
             ],
             [
              0.3333333333333333,
              "#9c179e"
             ],
             [
              0.4444444444444444,
              "#bd3786"
             ],
             [
              0.5555555555555556,
              "#d8576b"
             ],
             [
              0.6666666666666666,
              "#ed7953"
             ],
             [
              0.7777777777777778,
              "#fb9f3a"
             ],
             [
              0.8888888888888888,
              "#fdca26"
             ],
             [
              1,
              "#f0f921"
             ]
            ],
            "type": "histogram2d"
           }
          ],
          "histogram2dcontour": [
           {
            "colorbar": {
             "outlinewidth": 0,
             "ticks": ""
            },
            "colorscale": [
             [
              0,
              "#0d0887"
             ],
             [
              0.1111111111111111,
              "#46039f"
             ],
             [
              0.2222222222222222,
              "#7201a8"
             ],
             [
              0.3333333333333333,
              "#9c179e"
             ],
             [
              0.4444444444444444,
              "#bd3786"
             ],
             [
              0.5555555555555556,
              "#d8576b"
             ],
             [
              0.6666666666666666,
              "#ed7953"
             ],
             [
              0.7777777777777778,
              "#fb9f3a"
             ],
             [
              0.8888888888888888,
              "#fdca26"
             ],
             [
              1,
              "#f0f921"
             ]
            ],
            "type": "histogram2dcontour"
           }
          ],
          "mesh3d": [
           {
            "colorbar": {
             "outlinewidth": 0,
             "ticks": ""
            },
            "type": "mesh3d"
           }
          ],
          "parcoords": [
           {
            "line": {
             "colorbar": {
              "outlinewidth": 0,
              "ticks": ""
             }
            },
            "type": "parcoords"
           }
          ],
          "pie": [
           {
            "automargin": true,
            "type": "pie"
           }
          ],
          "scatter": [
           {
            "fillpattern": {
             "fillmode": "overlay",
             "size": 10,
             "solidity": 0.2
            },
            "type": "scatter"
           }
          ],
          "scatter3d": [
           {
            "line": {
             "colorbar": {
              "outlinewidth": 0,
              "ticks": ""
             }
            },
            "marker": {
             "colorbar": {
              "outlinewidth": 0,
              "ticks": ""
             }
            },
            "type": "scatter3d"
           }
          ],
          "scattercarpet": [
           {
            "marker": {
             "colorbar": {
              "outlinewidth": 0,
              "ticks": ""
             }
            },
            "type": "scattercarpet"
           }
          ],
          "scattergeo": [
           {
            "marker": {
             "colorbar": {
              "outlinewidth": 0,
              "ticks": ""
             }
            },
            "type": "scattergeo"
           }
          ],
          "scattergl": [
           {
            "marker": {
             "colorbar": {
              "outlinewidth": 0,
              "ticks": ""
             }
            },
            "type": "scattergl"
           }
          ],
          "scattermapbox": [
           {
            "marker": {
             "colorbar": {
              "outlinewidth": 0,
              "ticks": ""
             }
            },
            "type": "scattermapbox"
           }
          ],
          "scatterpolar": [
           {
            "marker": {
             "colorbar": {
              "outlinewidth": 0,
              "ticks": ""
             }
            },
            "type": "scatterpolar"
           }
          ],
          "scatterpolargl": [
           {
            "marker": {
             "colorbar": {
              "outlinewidth": 0,
              "ticks": ""
             }
            },
            "type": "scatterpolargl"
           }
          ],
          "scatterternary": [
           {
            "marker": {
             "colorbar": {
              "outlinewidth": 0,
              "ticks": ""
             }
            },
            "type": "scatterternary"
           }
          ],
          "surface": [
           {
            "colorbar": {
             "outlinewidth": 0,
             "ticks": ""
            },
            "colorscale": [
             [
              0,
              "#0d0887"
             ],
             [
              0.1111111111111111,
              "#46039f"
             ],
             [
              0.2222222222222222,
              "#7201a8"
             ],
             [
              0.3333333333333333,
              "#9c179e"
             ],
             [
              0.4444444444444444,
              "#bd3786"
             ],
             [
              0.5555555555555556,
              "#d8576b"
             ],
             [
              0.6666666666666666,
              "#ed7953"
             ],
             [
              0.7777777777777778,
              "#fb9f3a"
             ],
             [
              0.8888888888888888,
              "#fdca26"
             ],
             [
              1,
              "#f0f921"
             ]
            ],
            "type": "surface"
           }
          ],
          "table": [
           {
            "cells": {
             "fill": {
              "color": "#EBF0F8"
             },
             "line": {
              "color": "white"
             }
            },
            "header": {
             "fill": {
              "color": "#C8D4E3"
             },
             "line": {
              "color": "white"
             }
            },
            "type": "table"
           }
          ]
         },
         "layout": {
          "annotationdefaults": {
           "arrowcolor": "#2a3f5f",
           "arrowhead": 0,
           "arrowwidth": 1
          },
          "autotypenumbers": "strict",
          "coloraxis": {
           "colorbar": {
            "outlinewidth": 0,
            "ticks": ""
           }
          },
          "colorscale": {
           "diverging": [
            [
             0,
             "#8e0152"
            ],
            [
             0.1,
             "#c51b7d"
            ],
            [
             0.2,
             "#de77ae"
            ],
            [
             0.3,
             "#f1b6da"
            ],
            [
             0.4,
             "#fde0ef"
            ],
            [
             0.5,
             "#f7f7f7"
            ],
            [
             0.6,
             "#e6f5d0"
            ],
            [
             0.7,
             "#b8e186"
            ],
            [
             0.8,
             "#7fbc41"
            ],
            [
             0.9,
             "#4d9221"
            ],
            [
             1,
             "#276419"
            ]
           ],
           "sequential": [
            [
             0,
             "#0d0887"
            ],
            [
             0.1111111111111111,
             "#46039f"
            ],
            [
             0.2222222222222222,
             "#7201a8"
            ],
            [
             0.3333333333333333,
             "#9c179e"
            ],
            [
             0.4444444444444444,
             "#bd3786"
            ],
            [
             0.5555555555555556,
             "#d8576b"
            ],
            [
             0.6666666666666666,
             "#ed7953"
            ],
            [
             0.7777777777777778,
             "#fb9f3a"
            ],
            [
             0.8888888888888888,
             "#fdca26"
            ],
            [
             1,
             "#f0f921"
            ]
           ],
           "sequentialminus": [
            [
             0,
             "#0d0887"
            ],
            [
             0.1111111111111111,
             "#46039f"
            ],
            [
             0.2222222222222222,
             "#7201a8"
            ],
            [
             0.3333333333333333,
             "#9c179e"
            ],
            [
             0.4444444444444444,
             "#bd3786"
            ],
            [
             0.5555555555555556,
             "#d8576b"
            ],
            [
             0.6666666666666666,
             "#ed7953"
            ],
            [
             0.7777777777777778,
             "#fb9f3a"
            ],
            [
             0.8888888888888888,
             "#fdca26"
            ],
            [
             1,
             "#f0f921"
            ]
           ]
          },
          "colorway": [
           "#636efa",
           "#EF553B",
           "#00cc96",
           "#ab63fa",
           "#FFA15A",
           "#19d3f3",
           "#FF6692",
           "#B6E880",
           "#FF97FF",
           "#FECB52"
          ],
          "font": {
           "color": "#2a3f5f"
          },
          "geo": {
           "bgcolor": "white",
           "lakecolor": "white",
           "landcolor": "#E5ECF6",
           "showlakes": true,
           "showland": true,
           "subunitcolor": "white"
          },
          "hoverlabel": {
           "align": "left"
          },
          "hovermode": "closest",
          "mapbox": {
           "style": "light"
          },
          "paper_bgcolor": "white",
          "plot_bgcolor": "#E5ECF6",
          "polar": {
           "angularaxis": {
            "gridcolor": "white",
            "linecolor": "white",
            "ticks": ""
           },
           "bgcolor": "#E5ECF6",
           "radialaxis": {
            "gridcolor": "white",
            "linecolor": "white",
            "ticks": ""
           }
          },
          "scene": {
           "xaxis": {
            "backgroundcolor": "#E5ECF6",
            "gridcolor": "white",
            "gridwidth": 2,
            "linecolor": "white",
            "showbackground": true,
            "ticks": "",
            "zerolinecolor": "white"
           },
           "yaxis": {
            "backgroundcolor": "#E5ECF6",
            "gridcolor": "white",
            "gridwidth": 2,
            "linecolor": "white",
            "showbackground": true,
            "ticks": "",
            "zerolinecolor": "white"
           },
           "zaxis": {
            "backgroundcolor": "#E5ECF6",
            "gridcolor": "white",
            "gridwidth": 2,
            "linecolor": "white",
            "showbackground": true,
            "ticks": "",
            "zerolinecolor": "white"
           }
          },
          "shapedefaults": {
           "line": {
            "color": "#2a3f5f"
           }
          },
          "ternary": {
           "aaxis": {
            "gridcolor": "white",
            "linecolor": "white",
            "ticks": ""
           },
           "baxis": {
            "gridcolor": "white",
            "linecolor": "white",
            "ticks": ""
           },
           "bgcolor": "#E5ECF6",
           "caxis": {
            "gridcolor": "white",
            "linecolor": "white",
            "ticks": ""
           }
          },
          "title": {
           "x": 0.05
          },
          "xaxis": {
           "automargin": true,
           "gridcolor": "white",
           "linecolor": "white",
           "ticks": "",
           "title": {
            "standoff": 15
           },
           "zerolinecolor": "white",
           "zerolinewidth": 2
          },
          "yaxis": {
           "automargin": true,
           "gridcolor": "white",
           "linecolor": "white",
           "ticks": "",
           "title": {
            "standoff": 15
           },
           "zerolinecolor": "white",
           "zerolinewidth": 2
          }
         }
        },
        "title": {
         "text": "Highest number of cases of Covid per thousand people"
        },
        "xaxis": {
         "anchor": "y",
         "domain": [
          0,
          1
         ],
         "title": {
          "text": "Country"
         }
        },
        "yaxis": {
         "anchor": "x",
         "domain": [
          0,
          1
         ],
         "title": {
          "text": "Cases Per Thousand"
         }
        }
       }
      }
     },
     "metadata": {},
     "output_type": "display_data"
    }
   ],
   "source": [
    "# %%\n",
    "figure = px.bar(data.sort_values(by=[\"Cases Per Thousand\"], ascending=False).head(30), \n",
    "                y = 'Cases Per Thousand', \n",
    "                x = 'Country',\n",
    "                title = \"Highest number of cases of Covid per thousand people\")\n",
    "figure.show()"
   ]
  },
  {
   "cell_type": "markdown",
   "metadata": {},
   "source": [
    "Unless there's some fault in our data, it seems like many countries had more that a thousand cases per thousand people in their population. \\\n",
    "This could be because of cases of visitors, or because the same people got Covid multiple times over the three years we have data for. The latter is highly likely.\n",
    "\n",
    "Now let's take a look at countries with more than a million deaths."
   ]
  },
  {
   "cell_type": "code",
   "execution_count": 16,
   "metadata": {},
   "outputs": [
    {
     "data": {
      "application/vnd.plotly.v1+json": {
       "config": {
        "plotlyServerURL": "https://plot.ly"
       },
       "data": [
        {
         "alignmentgroup": "True",
         "hovertemplate": "Country=%{x}<br>Total Deaths=%{y}<extra></extra>",
         "legendgroup": "",
         "marker": {
          "color": "#636efa",
          "pattern": {
           "shape": ""
          }
         },
         "name": "",
         "offsetgroup": "",
         "orientation": "v",
         "showlegend": false,
         "textposition": "auto",
         "type": "bar",
         "x": [
          "United States",
          "Brazil",
          "India",
          "Russia",
          "Peru",
          "Mexico",
          "Spain",
          "South Africa",
          "Colombia",
          "United Kingdom",
          "Iran",
          "Chile",
          "Italy",
          "France",
          "Argentina",
          "Germany",
          "Turkey",
          "China",
          "Canada",
          "Belgium",
          "Ecuador",
          "Netherlands"
         ],
         "xaxis": "x",
         "y": [
          26477574,
          14340567,
          7247327,
          2131571,
          3020038,
          7295850,
          5510624,
          1357682,
          1936134,
          7249573,
          2914070,
          1283880,
          6664225,
          5633444,
          1077426,
          1640691,
          1049757,
          1066939,
          1455549,
          1798461,
          1083749,
          1142410
         ],
         "yaxis": "y"
        }
       ],
       "layout": {
        "barmode": "relative",
        "legend": {
         "tracegroupgap": 0
        },
        "template": {
         "data": {
          "bar": [
           {
            "error_x": {
             "color": "#2a3f5f"
            },
            "error_y": {
             "color": "#2a3f5f"
            },
            "marker": {
             "line": {
              "color": "#E5ECF6",
              "width": 0.5
             },
             "pattern": {
              "fillmode": "overlay",
              "size": 10,
              "solidity": 0.2
             }
            },
            "type": "bar"
           }
          ],
          "barpolar": [
           {
            "marker": {
             "line": {
              "color": "#E5ECF6",
              "width": 0.5
             },
             "pattern": {
              "fillmode": "overlay",
              "size": 10,
              "solidity": 0.2
             }
            },
            "type": "barpolar"
           }
          ],
          "carpet": [
           {
            "aaxis": {
             "endlinecolor": "#2a3f5f",
             "gridcolor": "white",
             "linecolor": "white",
             "minorgridcolor": "white",
             "startlinecolor": "#2a3f5f"
            },
            "baxis": {
             "endlinecolor": "#2a3f5f",
             "gridcolor": "white",
             "linecolor": "white",
             "minorgridcolor": "white",
             "startlinecolor": "#2a3f5f"
            },
            "type": "carpet"
           }
          ],
          "choropleth": [
           {
            "colorbar": {
             "outlinewidth": 0,
             "ticks": ""
            },
            "type": "choropleth"
           }
          ],
          "contour": [
           {
            "colorbar": {
             "outlinewidth": 0,
             "ticks": ""
            },
            "colorscale": [
             [
              0,
              "#0d0887"
             ],
             [
              0.1111111111111111,
              "#46039f"
             ],
             [
              0.2222222222222222,
              "#7201a8"
             ],
             [
              0.3333333333333333,
              "#9c179e"
             ],
             [
              0.4444444444444444,
              "#bd3786"
             ],
             [
              0.5555555555555556,
              "#d8576b"
             ],
             [
              0.6666666666666666,
              "#ed7953"
             ],
             [
              0.7777777777777778,
              "#fb9f3a"
             ],
             [
              0.8888888888888888,
              "#fdca26"
             ],
             [
              1,
              "#f0f921"
             ]
            ],
            "type": "contour"
           }
          ],
          "contourcarpet": [
           {
            "colorbar": {
             "outlinewidth": 0,
             "ticks": ""
            },
            "type": "contourcarpet"
           }
          ],
          "heatmap": [
           {
            "colorbar": {
             "outlinewidth": 0,
             "ticks": ""
            },
            "colorscale": [
             [
              0,
              "#0d0887"
             ],
             [
              0.1111111111111111,
              "#46039f"
             ],
             [
              0.2222222222222222,
              "#7201a8"
             ],
             [
              0.3333333333333333,
              "#9c179e"
             ],
             [
              0.4444444444444444,
              "#bd3786"
             ],
             [
              0.5555555555555556,
              "#d8576b"
             ],
             [
              0.6666666666666666,
              "#ed7953"
             ],
             [
              0.7777777777777778,
              "#fb9f3a"
             ],
             [
              0.8888888888888888,
              "#fdca26"
             ],
             [
              1,
              "#f0f921"
             ]
            ],
            "type": "heatmap"
           }
          ],
          "heatmapgl": [
           {
            "colorbar": {
             "outlinewidth": 0,
             "ticks": ""
            },
            "colorscale": [
             [
              0,
              "#0d0887"
             ],
             [
              0.1111111111111111,
              "#46039f"
             ],
             [
              0.2222222222222222,
              "#7201a8"
             ],
             [
              0.3333333333333333,
              "#9c179e"
             ],
             [
              0.4444444444444444,
              "#bd3786"
             ],
             [
              0.5555555555555556,
              "#d8576b"
             ],
             [
              0.6666666666666666,
              "#ed7953"
             ],
             [
              0.7777777777777778,
              "#fb9f3a"
             ],
             [
              0.8888888888888888,
              "#fdca26"
             ],
             [
              1,
              "#f0f921"
             ]
            ],
            "type": "heatmapgl"
           }
          ],
          "histogram": [
           {
            "marker": {
             "pattern": {
              "fillmode": "overlay",
              "size": 10,
              "solidity": 0.2
             }
            },
            "type": "histogram"
           }
          ],
          "histogram2d": [
           {
            "colorbar": {
             "outlinewidth": 0,
             "ticks": ""
            },
            "colorscale": [
             [
              0,
              "#0d0887"
             ],
             [
              0.1111111111111111,
              "#46039f"
             ],
             [
              0.2222222222222222,
              "#7201a8"
             ],
             [
              0.3333333333333333,
              "#9c179e"
             ],
             [
              0.4444444444444444,
              "#bd3786"
             ],
             [
              0.5555555555555556,
              "#d8576b"
             ],
             [
              0.6666666666666666,
              "#ed7953"
             ],
             [
              0.7777777777777778,
              "#fb9f3a"
             ],
             [
              0.8888888888888888,
              "#fdca26"
             ],
             [
              1,
              "#f0f921"
             ]
            ],
            "type": "histogram2d"
           }
          ],
          "histogram2dcontour": [
           {
            "colorbar": {
             "outlinewidth": 0,
             "ticks": ""
            },
            "colorscale": [
             [
              0,
              "#0d0887"
             ],
             [
              0.1111111111111111,
              "#46039f"
             ],
             [
              0.2222222222222222,
              "#7201a8"
             ],
             [
              0.3333333333333333,
              "#9c179e"
             ],
             [
              0.4444444444444444,
              "#bd3786"
             ],
             [
              0.5555555555555556,
              "#d8576b"
             ],
             [
              0.6666666666666666,
              "#ed7953"
             ],
             [
              0.7777777777777778,
              "#fb9f3a"
             ],
             [
              0.8888888888888888,
              "#fdca26"
             ],
             [
              1,
              "#f0f921"
             ]
            ],
            "type": "histogram2dcontour"
           }
          ],
          "mesh3d": [
           {
            "colorbar": {
             "outlinewidth": 0,
             "ticks": ""
            },
            "type": "mesh3d"
           }
          ],
          "parcoords": [
           {
            "line": {
             "colorbar": {
              "outlinewidth": 0,
              "ticks": ""
             }
            },
            "type": "parcoords"
           }
          ],
          "pie": [
           {
            "automargin": true,
            "type": "pie"
           }
          ],
          "scatter": [
           {
            "fillpattern": {
             "fillmode": "overlay",
             "size": 10,
             "solidity": 0.2
            },
            "type": "scatter"
           }
          ],
          "scatter3d": [
           {
            "line": {
             "colorbar": {
              "outlinewidth": 0,
              "ticks": ""
             }
            },
            "marker": {
             "colorbar": {
              "outlinewidth": 0,
              "ticks": ""
             }
            },
            "type": "scatter3d"
           }
          ],
          "scattercarpet": [
           {
            "marker": {
             "colorbar": {
              "outlinewidth": 0,
              "ticks": ""
             }
            },
            "type": "scattercarpet"
           }
          ],
          "scattergeo": [
           {
            "marker": {
             "colorbar": {
              "outlinewidth": 0,
              "ticks": ""
             }
            },
            "type": "scattergeo"
           }
          ],
          "scattergl": [
           {
            "marker": {
             "colorbar": {
              "outlinewidth": 0,
              "ticks": ""
             }
            },
            "type": "scattergl"
           }
          ],
          "scattermapbox": [
           {
            "marker": {
             "colorbar": {
              "outlinewidth": 0,
              "ticks": ""
             }
            },
            "type": "scattermapbox"
           }
          ],
          "scatterpolar": [
           {
            "marker": {
             "colorbar": {
              "outlinewidth": 0,
              "ticks": ""
             }
            },
            "type": "scatterpolar"
           }
          ],
          "scatterpolargl": [
           {
            "marker": {
             "colorbar": {
              "outlinewidth": 0,
              "ticks": ""
             }
            },
            "type": "scatterpolargl"
           }
          ],
          "scatterternary": [
           {
            "marker": {
             "colorbar": {
              "outlinewidth": 0,
              "ticks": ""
             }
            },
            "type": "scatterternary"
           }
          ],
          "surface": [
           {
            "colorbar": {
             "outlinewidth": 0,
             "ticks": ""
            },
            "colorscale": [
             [
              0,
              "#0d0887"
             ],
             [
              0.1111111111111111,
              "#46039f"
             ],
             [
              0.2222222222222222,
              "#7201a8"
             ],
             [
              0.3333333333333333,
              "#9c179e"
             ],
             [
              0.4444444444444444,
              "#bd3786"
             ],
             [
              0.5555555555555556,
              "#d8576b"
             ],
             [
              0.6666666666666666,
              "#ed7953"
             ],
             [
              0.7777777777777778,
              "#fb9f3a"
             ],
             [
              0.8888888888888888,
              "#fdca26"
             ],
             [
              1,
              "#f0f921"
             ]
            ],
            "type": "surface"
           }
          ],
          "table": [
           {
            "cells": {
             "fill": {
              "color": "#EBF0F8"
             },
             "line": {
              "color": "white"
             }
            },
            "header": {
             "fill": {
              "color": "#C8D4E3"
             },
             "line": {
              "color": "white"
             }
            },
            "type": "table"
           }
          ]
         },
         "layout": {
          "annotationdefaults": {
           "arrowcolor": "#2a3f5f",
           "arrowhead": 0,
           "arrowwidth": 1
          },
          "autotypenumbers": "strict",
          "coloraxis": {
           "colorbar": {
            "outlinewidth": 0,
            "ticks": ""
           }
          },
          "colorscale": {
           "diverging": [
            [
             0,
             "#8e0152"
            ],
            [
             0.1,
             "#c51b7d"
            ],
            [
             0.2,
             "#de77ae"
            ],
            [
             0.3,
             "#f1b6da"
            ],
            [
             0.4,
             "#fde0ef"
            ],
            [
             0.5,
             "#f7f7f7"
            ],
            [
             0.6,
             "#e6f5d0"
            ],
            [
             0.7,
             "#b8e186"
            ],
            [
             0.8,
             "#7fbc41"
            ],
            [
             0.9,
             "#4d9221"
            ],
            [
             1,
             "#276419"
            ]
           ],
           "sequential": [
            [
             0,
             "#0d0887"
            ],
            [
             0.1111111111111111,
             "#46039f"
            ],
            [
             0.2222222222222222,
             "#7201a8"
            ],
            [
             0.3333333333333333,
             "#9c179e"
            ],
            [
             0.4444444444444444,
             "#bd3786"
            ],
            [
             0.5555555555555556,
             "#d8576b"
            ],
            [
             0.6666666666666666,
             "#ed7953"
            ],
            [
             0.7777777777777778,
             "#fb9f3a"
            ],
            [
             0.8888888888888888,
             "#fdca26"
            ],
            [
             1,
             "#f0f921"
            ]
           ],
           "sequentialminus": [
            [
             0,
             "#0d0887"
            ],
            [
             0.1111111111111111,
             "#46039f"
            ],
            [
             0.2222222222222222,
             "#7201a8"
            ],
            [
             0.3333333333333333,
             "#9c179e"
            ],
            [
             0.4444444444444444,
             "#bd3786"
            ],
            [
             0.5555555555555556,
             "#d8576b"
            ],
            [
             0.6666666666666666,
             "#ed7953"
            ],
            [
             0.7777777777777778,
             "#fb9f3a"
            ],
            [
             0.8888888888888888,
             "#fdca26"
            ],
            [
             1,
             "#f0f921"
            ]
           ]
          },
          "colorway": [
           "#636efa",
           "#EF553B",
           "#00cc96",
           "#ab63fa",
           "#FFA15A",
           "#19d3f3",
           "#FF6692",
           "#B6E880",
           "#FF97FF",
           "#FECB52"
          ],
          "font": {
           "color": "#2a3f5f"
          },
          "geo": {
           "bgcolor": "white",
           "lakecolor": "white",
           "landcolor": "#E5ECF6",
           "showlakes": true,
           "showland": true,
           "subunitcolor": "white"
          },
          "hoverlabel": {
           "align": "left"
          },
          "hovermode": "closest",
          "mapbox": {
           "style": "light"
          },
          "paper_bgcolor": "white",
          "plot_bgcolor": "#E5ECF6",
          "polar": {
           "angularaxis": {
            "gridcolor": "white",
            "linecolor": "white",
            "ticks": ""
           },
           "bgcolor": "#E5ECF6",
           "radialaxis": {
            "gridcolor": "white",
            "linecolor": "white",
            "ticks": ""
           }
          },
          "scene": {
           "xaxis": {
            "backgroundcolor": "#E5ECF6",
            "gridcolor": "white",
            "gridwidth": 2,
            "linecolor": "white",
            "showbackground": true,
            "ticks": "",
            "zerolinecolor": "white"
           },
           "yaxis": {
            "backgroundcolor": "#E5ECF6",
            "gridcolor": "white",
            "gridwidth": 2,
            "linecolor": "white",
            "showbackground": true,
            "ticks": "",
            "zerolinecolor": "white"
           },
           "zaxis": {
            "backgroundcolor": "#E5ECF6",
            "gridcolor": "white",
            "gridwidth": 2,
            "linecolor": "white",
            "showbackground": true,
            "ticks": "",
            "zerolinecolor": "white"
           }
          },
          "shapedefaults": {
           "line": {
            "color": "#2a3f5f"
           }
          },
          "ternary": {
           "aaxis": {
            "gridcolor": "white",
            "linecolor": "white",
            "ticks": ""
           },
           "baxis": {
            "gridcolor": "white",
            "linecolor": "white",
            "ticks": ""
           },
           "bgcolor": "#E5ECF6",
           "caxis": {
            "gridcolor": "white",
            "linecolor": "white",
            "ticks": ""
           }
          },
          "title": {
           "x": 0.05
          },
          "xaxis": {
           "automargin": true,
           "gridcolor": "white",
           "linecolor": "white",
           "ticks": "",
           "title": {
            "standoff": 15
           },
           "zerolinecolor": "white",
           "zerolinewidth": 2
          },
          "yaxis": {
           "automargin": true,
           "gridcolor": "white",
           "linecolor": "white",
           "ticks": "",
           "title": {
            "standoff": 15
           },
           "zerolinecolor": "white",
           "zerolinewidth": 2
          }
         }
        },
        "title": {
         "text": "Countries with more than one million deaths"
        },
        "xaxis": {
         "anchor": "y",
         "domain": [
          0,
          1
         ],
         "title": {
          "text": "Country"
         }
        },
        "yaxis": {
         "anchor": "x",
         "domain": [
          0,
          1
         ],
         "title": {
          "text": "Total Deaths"
         }
        }
       }
      }
     },
     "metadata": {},
     "output_type": "display_data"
    }
   ],
   "source": [
    "# %%\n",
    "figure = px.bar(data[data[\"Total Deaths\"] > 1e6], \n",
    "                y = 'Total Deaths', \n",
    "                x = 'Country',\n",
    "                title = \"Countries with more than one million deaths\")\n",
    "figure.show()"
   ]
  },
  {
   "cell_type": "markdown",
   "metadata": {},
   "source": [
    "Now let's compare the total cases vs total deaths for the countries with the highest number of cases."
   ]
  },
  {
   "cell_type": "code",
   "execution_count": 17,
   "metadata": {},
   "outputs": [
    {
     "data": {
      "application/vnd.plotly.v1+json": {
       "config": {
        "plotlyServerURL": "https://plot.ly"
       },
       "data": [
        {
         "marker": {
          "color": "indianred"
         },
         "name": "Total Cases",
         "type": "bar",
         "x": [
          "United States",
          "Brazil",
          "India",
          "Russia",
          "Peru",
          "Mexico",
          "Spain",
          "South Africa",
          "Colombia",
          "United Kingdom",
          "Iran",
          "Chile",
          "Italy",
          "France",
          "Argentina",
          "Germany",
          "Turkey",
          "Saudi Arabia",
          "Pakistan",
          "Bangladesh"
         ],
         "y": [
          746014098,
          425704517,
          407771615,
          132888951,
          74882695,
          74347548,
          73717676,
          63027659,
          60543682,
          59475032,
          52421884,
          51268034,
          50752853,
          50084335,
          47155234,
          42447678,
          41431948,
          38585191,
          37738077,
          35266178
         ]
        },
        {
         "marker": {
          "color": "lightsalmon"
         },
         "name": "Total Deaths",
         "type": "bar",
         "x": [
          "United States",
          "Brazil",
          "India",
          "Russia",
          "Peru",
          "Mexico",
          "Spain",
          "South Africa",
          "Colombia",
          "United Kingdom",
          "Iran",
          "Chile",
          "Italy",
          "France",
          "Argentina",
          "Germany",
          "Turkey",
          "Saudi Arabia",
          "Pakistan",
          "Bangladesh"
         ],
         "y": [
          26477574,
          14340567,
          7247327,
          2131571,
          3020038,
          7295850,
          5510624,
          1357682,
          1936134,
          7249573,
          2914070,
          1283880,
          6664225,
          5633444,
          1077426,
          1640691,
          1049757,
          442507,
          789557,
          484534
         ]
        }
       ],
       "layout": {
        "barmode": "group",
        "template": {
         "data": {
          "bar": [
           {
            "error_x": {
             "color": "#2a3f5f"
            },
            "error_y": {
             "color": "#2a3f5f"
            },
            "marker": {
             "line": {
              "color": "#E5ECF6",
              "width": 0.5
             },
             "pattern": {
              "fillmode": "overlay",
              "size": 10,
              "solidity": 0.2
             }
            },
            "type": "bar"
           }
          ],
          "barpolar": [
           {
            "marker": {
             "line": {
              "color": "#E5ECF6",
              "width": 0.5
             },
             "pattern": {
              "fillmode": "overlay",
              "size": 10,
              "solidity": 0.2
             }
            },
            "type": "barpolar"
           }
          ],
          "carpet": [
           {
            "aaxis": {
             "endlinecolor": "#2a3f5f",
             "gridcolor": "white",
             "linecolor": "white",
             "minorgridcolor": "white",
             "startlinecolor": "#2a3f5f"
            },
            "baxis": {
             "endlinecolor": "#2a3f5f",
             "gridcolor": "white",
             "linecolor": "white",
             "minorgridcolor": "white",
             "startlinecolor": "#2a3f5f"
            },
            "type": "carpet"
           }
          ],
          "choropleth": [
           {
            "colorbar": {
             "outlinewidth": 0,
             "ticks": ""
            },
            "type": "choropleth"
           }
          ],
          "contour": [
           {
            "colorbar": {
             "outlinewidth": 0,
             "ticks": ""
            },
            "colorscale": [
             [
              0,
              "#0d0887"
             ],
             [
              0.1111111111111111,
              "#46039f"
             ],
             [
              0.2222222222222222,
              "#7201a8"
             ],
             [
              0.3333333333333333,
              "#9c179e"
             ],
             [
              0.4444444444444444,
              "#bd3786"
             ],
             [
              0.5555555555555556,
              "#d8576b"
             ],
             [
              0.6666666666666666,
              "#ed7953"
             ],
             [
              0.7777777777777778,
              "#fb9f3a"
             ],
             [
              0.8888888888888888,
              "#fdca26"
             ],
             [
              1,
              "#f0f921"
             ]
            ],
            "type": "contour"
           }
          ],
          "contourcarpet": [
           {
            "colorbar": {
             "outlinewidth": 0,
             "ticks": ""
            },
            "type": "contourcarpet"
           }
          ],
          "heatmap": [
           {
            "colorbar": {
             "outlinewidth": 0,
             "ticks": ""
            },
            "colorscale": [
             [
              0,
              "#0d0887"
             ],
             [
              0.1111111111111111,
              "#46039f"
             ],
             [
              0.2222222222222222,
              "#7201a8"
             ],
             [
              0.3333333333333333,
              "#9c179e"
             ],
             [
              0.4444444444444444,
              "#bd3786"
             ],
             [
              0.5555555555555556,
              "#d8576b"
             ],
             [
              0.6666666666666666,
              "#ed7953"
             ],
             [
              0.7777777777777778,
              "#fb9f3a"
             ],
             [
              0.8888888888888888,
              "#fdca26"
             ],
             [
              1,
              "#f0f921"
             ]
            ],
            "type": "heatmap"
           }
          ],
          "heatmapgl": [
           {
            "colorbar": {
             "outlinewidth": 0,
             "ticks": ""
            },
            "colorscale": [
             [
              0,
              "#0d0887"
             ],
             [
              0.1111111111111111,
              "#46039f"
             ],
             [
              0.2222222222222222,
              "#7201a8"
             ],
             [
              0.3333333333333333,
              "#9c179e"
             ],
             [
              0.4444444444444444,
              "#bd3786"
             ],
             [
              0.5555555555555556,
              "#d8576b"
             ],
             [
              0.6666666666666666,
              "#ed7953"
             ],
             [
              0.7777777777777778,
              "#fb9f3a"
             ],
             [
              0.8888888888888888,
              "#fdca26"
             ],
             [
              1,
              "#f0f921"
             ]
            ],
            "type": "heatmapgl"
           }
          ],
          "histogram": [
           {
            "marker": {
             "pattern": {
              "fillmode": "overlay",
              "size": 10,
              "solidity": 0.2
             }
            },
            "type": "histogram"
           }
          ],
          "histogram2d": [
           {
            "colorbar": {
             "outlinewidth": 0,
             "ticks": ""
            },
            "colorscale": [
             [
              0,
              "#0d0887"
             ],
             [
              0.1111111111111111,
              "#46039f"
             ],
             [
              0.2222222222222222,
              "#7201a8"
             ],
             [
              0.3333333333333333,
              "#9c179e"
             ],
             [
              0.4444444444444444,
              "#bd3786"
             ],
             [
              0.5555555555555556,
              "#d8576b"
             ],
             [
              0.6666666666666666,
              "#ed7953"
             ],
             [
              0.7777777777777778,
              "#fb9f3a"
             ],
             [
              0.8888888888888888,
              "#fdca26"
             ],
             [
              1,
              "#f0f921"
             ]
            ],
            "type": "histogram2d"
           }
          ],
          "histogram2dcontour": [
           {
            "colorbar": {
             "outlinewidth": 0,
             "ticks": ""
            },
            "colorscale": [
             [
              0,
              "#0d0887"
             ],
             [
              0.1111111111111111,
              "#46039f"
             ],
             [
              0.2222222222222222,
              "#7201a8"
             ],
             [
              0.3333333333333333,
              "#9c179e"
             ],
             [
              0.4444444444444444,
              "#bd3786"
             ],
             [
              0.5555555555555556,
              "#d8576b"
             ],
             [
              0.6666666666666666,
              "#ed7953"
             ],
             [
              0.7777777777777778,
              "#fb9f3a"
             ],
             [
              0.8888888888888888,
              "#fdca26"
             ],
             [
              1,
              "#f0f921"
             ]
            ],
            "type": "histogram2dcontour"
           }
          ],
          "mesh3d": [
           {
            "colorbar": {
             "outlinewidth": 0,
             "ticks": ""
            },
            "type": "mesh3d"
           }
          ],
          "parcoords": [
           {
            "line": {
             "colorbar": {
              "outlinewidth": 0,
              "ticks": ""
             }
            },
            "type": "parcoords"
           }
          ],
          "pie": [
           {
            "automargin": true,
            "type": "pie"
           }
          ],
          "scatter": [
           {
            "fillpattern": {
             "fillmode": "overlay",
             "size": 10,
             "solidity": 0.2
            },
            "type": "scatter"
           }
          ],
          "scatter3d": [
           {
            "line": {
             "colorbar": {
              "outlinewidth": 0,
              "ticks": ""
             }
            },
            "marker": {
             "colorbar": {
              "outlinewidth": 0,
              "ticks": ""
             }
            },
            "type": "scatter3d"
           }
          ],
          "scattercarpet": [
           {
            "marker": {
             "colorbar": {
              "outlinewidth": 0,
              "ticks": ""
             }
            },
            "type": "scattercarpet"
           }
          ],
          "scattergeo": [
           {
            "marker": {
             "colorbar": {
              "outlinewidth": 0,
              "ticks": ""
             }
            },
            "type": "scattergeo"
           }
          ],
          "scattergl": [
           {
            "marker": {
             "colorbar": {
              "outlinewidth": 0,
              "ticks": ""
             }
            },
            "type": "scattergl"
           }
          ],
          "scattermapbox": [
           {
            "marker": {
             "colorbar": {
              "outlinewidth": 0,
              "ticks": ""
             }
            },
            "type": "scattermapbox"
           }
          ],
          "scatterpolar": [
           {
            "marker": {
             "colorbar": {
              "outlinewidth": 0,
              "ticks": ""
             }
            },
            "type": "scatterpolar"
           }
          ],
          "scatterpolargl": [
           {
            "marker": {
             "colorbar": {
              "outlinewidth": 0,
              "ticks": ""
             }
            },
            "type": "scatterpolargl"
           }
          ],
          "scatterternary": [
           {
            "marker": {
             "colorbar": {
              "outlinewidth": 0,
              "ticks": ""
             }
            },
            "type": "scatterternary"
           }
          ],
          "surface": [
           {
            "colorbar": {
             "outlinewidth": 0,
             "ticks": ""
            },
            "colorscale": [
             [
              0,
              "#0d0887"
             ],
             [
              0.1111111111111111,
              "#46039f"
             ],
             [
              0.2222222222222222,
              "#7201a8"
             ],
             [
              0.3333333333333333,
              "#9c179e"
             ],
             [
              0.4444444444444444,
              "#bd3786"
             ],
             [
              0.5555555555555556,
              "#d8576b"
             ],
             [
              0.6666666666666666,
              "#ed7953"
             ],
             [
              0.7777777777777778,
              "#fb9f3a"
             ],
             [
              0.8888888888888888,
              "#fdca26"
             ],
             [
              1,
              "#f0f921"
             ]
            ],
            "type": "surface"
           }
          ],
          "table": [
           {
            "cells": {
             "fill": {
              "color": "#EBF0F8"
             },
             "line": {
              "color": "white"
             }
            },
            "header": {
             "fill": {
              "color": "#C8D4E3"
             },
             "line": {
              "color": "white"
             }
            },
            "type": "table"
           }
          ]
         },
         "layout": {
          "annotationdefaults": {
           "arrowcolor": "#2a3f5f",
           "arrowhead": 0,
           "arrowwidth": 1
          },
          "autotypenumbers": "strict",
          "coloraxis": {
           "colorbar": {
            "outlinewidth": 0,
            "ticks": ""
           }
          },
          "colorscale": {
           "diverging": [
            [
             0,
             "#8e0152"
            ],
            [
             0.1,
             "#c51b7d"
            ],
            [
             0.2,
             "#de77ae"
            ],
            [
             0.3,
             "#f1b6da"
            ],
            [
             0.4,
             "#fde0ef"
            ],
            [
             0.5,
             "#f7f7f7"
            ],
            [
             0.6,
             "#e6f5d0"
            ],
            [
             0.7,
             "#b8e186"
            ],
            [
             0.8,
             "#7fbc41"
            ],
            [
             0.9,
             "#4d9221"
            ],
            [
             1,
             "#276419"
            ]
           ],
           "sequential": [
            [
             0,
             "#0d0887"
            ],
            [
             0.1111111111111111,
             "#46039f"
            ],
            [
             0.2222222222222222,
             "#7201a8"
            ],
            [
             0.3333333333333333,
             "#9c179e"
            ],
            [
             0.4444444444444444,
             "#bd3786"
            ],
            [
             0.5555555555555556,
             "#d8576b"
            ],
            [
             0.6666666666666666,
             "#ed7953"
            ],
            [
             0.7777777777777778,
             "#fb9f3a"
            ],
            [
             0.8888888888888888,
             "#fdca26"
            ],
            [
             1,
             "#f0f921"
            ]
           ],
           "sequentialminus": [
            [
             0,
             "#0d0887"
            ],
            [
             0.1111111111111111,
             "#46039f"
            ],
            [
             0.2222222222222222,
             "#7201a8"
            ],
            [
             0.3333333333333333,
             "#9c179e"
            ],
            [
             0.4444444444444444,
             "#bd3786"
            ],
            [
             0.5555555555555556,
             "#d8576b"
            ],
            [
             0.6666666666666666,
             "#ed7953"
            ],
            [
             0.7777777777777778,
             "#fb9f3a"
            ],
            [
             0.8888888888888888,
             "#fdca26"
            ],
            [
             1,
             "#f0f921"
            ]
           ]
          },
          "colorway": [
           "#636efa",
           "#EF553B",
           "#00cc96",
           "#ab63fa",
           "#FFA15A",
           "#19d3f3",
           "#FF6692",
           "#B6E880",
           "#FF97FF",
           "#FECB52"
          ],
          "font": {
           "color": "#2a3f5f"
          },
          "geo": {
           "bgcolor": "white",
           "lakecolor": "white",
           "landcolor": "#E5ECF6",
           "showlakes": true,
           "showland": true,
           "subunitcolor": "white"
          },
          "hoverlabel": {
           "align": "left"
          },
          "hovermode": "closest",
          "mapbox": {
           "style": "light"
          },
          "paper_bgcolor": "white",
          "plot_bgcolor": "#E5ECF6",
          "polar": {
           "angularaxis": {
            "gridcolor": "white",
            "linecolor": "white",
            "ticks": ""
           },
           "bgcolor": "#E5ECF6",
           "radialaxis": {
            "gridcolor": "white",
            "linecolor": "white",
            "ticks": ""
           }
          },
          "scene": {
           "xaxis": {
            "backgroundcolor": "#E5ECF6",
            "gridcolor": "white",
            "gridwidth": 2,
            "linecolor": "white",
            "showbackground": true,
            "ticks": "",
            "zerolinecolor": "white"
           },
           "yaxis": {
            "backgroundcolor": "#E5ECF6",
            "gridcolor": "white",
            "gridwidth": 2,
            "linecolor": "white",
            "showbackground": true,
            "ticks": "",
            "zerolinecolor": "white"
           },
           "zaxis": {
            "backgroundcolor": "#E5ECF6",
            "gridcolor": "white",
            "gridwidth": 2,
            "linecolor": "white",
            "showbackground": true,
            "ticks": "",
            "zerolinecolor": "white"
           }
          },
          "shapedefaults": {
           "line": {
            "color": "#2a3f5f"
           }
          },
          "ternary": {
           "aaxis": {
            "gridcolor": "white",
            "linecolor": "white",
            "ticks": ""
           },
           "baxis": {
            "gridcolor": "white",
            "linecolor": "white",
            "ticks": ""
           },
           "bgcolor": "#E5ECF6",
           "caxis": {
            "gridcolor": "white",
            "linecolor": "white",
            "ticks": ""
           }
          },
          "title": {
           "x": 0.05
          },
          "xaxis": {
           "automargin": true,
           "gridcolor": "white",
           "linecolor": "white",
           "ticks": "",
           "title": {
            "standoff": 15
           },
           "zerolinecolor": "white",
           "zerolinewidth": 2
          },
          "yaxis": {
           "automargin": true,
           "gridcolor": "white",
           "linecolor": "white",
           "ticks": "",
           "title": {
            "standoff": 15
           },
           "zerolinecolor": "white",
           "zerolinewidth": 2
          }
         }
        },
        "xaxis": {
         "tickangle": -45
        }
       }
      }
     },
     "metadata": {},
     "output_type": "display_data"
    }
   ],
   "source": [
    "# %%\n",
    "top_performers = data.head(20)\n",
    "fig = go.Figure()\n",
    "fig.add_trace(go.Bar(\n",
    "    x = top_performers[\"Country\"],\n",
    "    y = top_performers[\"Total Cases\"],\n",
    "    name='Total Cases',\n",
    "    marker_color='indianred'\n",
    "))\n",
    "fig.add_trace(go.Bar(\n",
    "    x = top_performers[\"Country\"],\n",
    "    y = top_performers[\"Total Deaths\"],\n",
    "    name='Total Deaths',\n",
    "    marker_color='lightsalmon'\n",
    "))\n",
    "fig.update_layout(barmode='group', xaxis_tickangle = -45)\n",
    "fig.show()"
   ]
  },
  {
   "cell_type": "markdown",
   "metadata": {},
   "source": [
    "It might help us to look at these as a percentage."
   ]
  },
  {
   "cell_type": "code",
   "execution_count": 18,
   "metadata": {},
   "outputs": [
    {
     "data": {
      "application/vnd.plotly.v1+json": {
       "config": {
        "plotlyServerURL": "https://plot.ly"
       },
       "data": [
        {
         "alignmentgroup": "True",
         "hovertemplate": "Country=%{x}<br>percentage_of_deaths=%{y}<extra></extra>",
         "legendgroup": "",
         "marker": {
          "color": "#636efa",
          "pattern": {
           "shape": ""
          }
         },
         "name": "",
         "offsetgroup": "",
         "orientation": "v",
         "showlegend": false,
         "textposition": "auto",
         "type": "bar",
         "x": [
          "Italy",
          "United Kingdom",
          "Belgium",
          "France",
          "Mexico",
          "Netherlands",
          "Chad",
          "Sweden",
          "Ecuador",
          "Spain",
          "Canada",
          "Sint Maarten (Dutch part)",
          "Hungary",
          "Liberia",
          "Sudan",
          "Ireland",
          "Niger",
          "Bermuda",
          "Iran",
          "Barbados"
         ],
         "xaxis": "x",
         "y": [
          13.130739665019423,
          12.189271289505148,
          11.837846227485883,
          11.24791613984692,
          9.813168283639966,
          8.769805296519921,
          7.92097189520863,
          7.901380247653485,
          7.521460733913411,
          7.475308906916707,
          6.963558302037845,
          6.550618415025195,
          6.4455833866846755,
          6.309106830122592,
          6.181077157516027,
          5.920094629602134,
          5.838642250647571,
          5.648289236736391,
          5.558880714779347,
          5.284422753820306
         ],
         "yaxis": "y"
        }
       ],
       "layout": {
        "barmode": "relative",
        "legend": {
         "tracegroupgap": 0
        },
        "template": {
         "data": {
          "bar": [
           {
            "error_x": {
             "color": "#2a3f5f"
            },
            "error_y": {
             "color": "#2a3f5f"
            },
            "marker": {
             "line": {
              "color": "#E5ECF6",
              "width": 0.5
             },
             "pattern": {
              "fillmode": "overlay",
              "size": 10,
              "solidity": 0.2
             }
            },
            "type": "bar"
           }
          ],
          "barpolar": [
           {
            "marker": {
             "line": {
              "color": "#E5ECF6",
              "width": 0.5
             },
             "pattern": {
              "fillmode": "overlay",
              "size": 10,
              "solidity": 0.2
             }
            },
            "type": "barpolar"
           }
          ],
          "carpet": [
           {
            "aaxis": {
             "endlinecolor": "#2a3f5f",
             "gridcolor": "white",
             "linecolor": "white",
             "minorgridcolor": "white",
             "startlinecolor": "#2a3f5f"
            },
            "baxis": {
             "endlinecolor": "#2a3f5f",
             "gridcolor": "white",
             "linecolor": "white",
             "minorgridcolor": "white",
             "startlinecolor": "#2a3f5f"
            },
            "type": "carpet"
           }
          ],
          "choropleth": [
           {
            "colorbar": {
             "outlinewidth": 0,
             "ticks": ""
            },
            "type": "choropleth"
           }
          ],
          "contour": [
           {
            "colorbar": {
             "outlinewidth": 0,
             "ticks": ""
            },
            "colorscale": [
             [
              0,
              "#0d0887"
             ],
             [
              0.1111111111111111,
              "#46039f"
             ],
             [
              0.2222222222222222,
              "#7201a8"
             ],
             [
              0.3333333333333333,
              "#9c179e"
             ],
             [
              0.4444444444444444,
              "#bd3786"
             ],
             [
              0.5555555555555556,
              "#d8576b"
             ],
             [
              0.6666666666666666,
              "#ed7953"
             ],
             [
              0.7777777777777778,
              "#fb9f3a"
             ],
             [
              0.8888888888888888,
              "#fdca26"
             ],
             [
              1,
              "#f0f921"
             ]
            ],
            "type": "contour"
           }
          ],
          "contourcarpet": [
           {
            "colorbar": {
             "outlinewidth": 0,
             "ticks": ""
            },
            "type": "contourcarpet"
           }
          ],
          "heatmap": [
           {
            "colorbar": {
             "outlinewidth": 0,
             "ticks": ""
            },
            "colorscale": [
             [
              0,
              "#0d0887"
             ],
             [
              0.1111111111111111,
              "#46039f"
             ],
             [
              0.2222222222222222,
              "#7201a8"
             ],
             [
              0.3333333333333333,
              "#9c179e"
             ],
             [
              0.4444444444444444,
              "#bd3786"
             ],
             [
              0.5555555555555556,
              "#d8576b"
             ],
             [
              0.6666666666666666,
              "#ed7953"
             ],
             [
              0.7777777777777778,
              "#fb9f3a"
             ],
             [
              0.8888888888888888,
              "#fdca26"
             ],
             [
              1,
              "#f0f921"
             ]
            ],
            "type": "heatmap"
           }
          ],
          "heatmapgl": [
           {
            "colorbar": {
             "outlinewidth": 0,
             "ticks": ""
            },
            "colorscale": [
             [
              0,
              "#0d0887"
             ],
             [
              0.1111111111111111,
              "#46039f"
             ],
             [
              0.2222222222222222,
              "#7201a8"
             ],
             [
              0.3333333333333333,
              "#9c179e"
             ],
             [
              0.4444444444444444,
              "#bd3786"
             ],
             [
              0.5555555555555556,
              "#d8576b"
             ],
             [
              0.6666666666666666,
              "#ed7953"
             ],
             [
              0.7777777777777778,
              "#fb9f3a"
             ],
             [
              0.8888888888888888,
              "#fdca26"
             ],
             [
              1,
              "#f0f921"
             ]
            ],
            "type": "heatmapgl"
           }
          ],
          "histogram": [
           {
            "marker": {
             "pattern": {
              "fillmode": "overlay",
              "size": 10,
              "solidity": 0.2
             }
            },
            "type": "histogram"
           }
          ],
          "histogram2d": [
           {
            "colorbar": {
             "outlinewidth": 0,
             "ticks": ""
            },
            "colorscale": [
             [
              0,
              "#0d0887"
             ],
             [
              0.1111111111111111,
              "#46039f"
             ],
             [
              0.2222222222222222,
              "#7201a8"
             ],
             [
              0.3333333333333333,
              "#9c179e"
             ],
             [
              0.4444444444444444,
              "#bd3786"
             ],
             [
              0.5555555555555556,
              "#d8576b"
             ],
             [
              0.6666666666666666,
              "#ed7953"
             ],
             [
              0.7777777777777778,
              "#fb9f3a"
             ],
             [
              0.8888888888888888,
              "#fdca26"
             ],
             [
              1,
              "#f0f921"
             ]
            ],
            "type": "histogram2d"
           }
          ],
          "histogram2dcontour": [
           {
            "colorbar": {
             "outlinewidth": 0,
             "ticks": ""
            },
            "colorscale": [
             [
              0,
              "#0d0887"
             ],
             [
              0.1111111111111111,
              "#46039f"
             ],
             [
              0.2222222222222222,
              "#7201a8"
             ],
             [
              0.3333333333333333,
              "#9c179e"
             ],
             [
              0.4444444444444444,
              "#bd3786"
             ],
             [
              0.5555555555555556,
              "#d8576b"
             ],
             [
              0.6666666666666666,
              "#ed7953"
             ],
             [
              0.7777777777777778,
              "#fb9f3a"
             ],
             [
              0.8888888888888888,
              "#fdca26"
             ],
             [
              1,
              "#f0f921"
             ]
            ],
            "type": "histogram2dcontour"
           }
          ],
          "mesh3d": [
           {
            "colorbar": {
             "outlinewidth": 0,
             "ticks": ""
            },
            "type": "mesh3d"
           }
          ],
          "parcoords": [
           {
            "line": {
             "colorbar": {
              "outlinewidth": 0,
              "ticks": ""
             }
            },
            "type": "parcoords"
           }
          ],
          "pie": [
           {
            "automargin": true,
            "type": "pie"
           }
          ],
          "scatter": [
           {
            "fillpattern": {
             "fillmode": "overlay",
             "size": 10,
             "solidity": 0.2
            },
            "type": "scatter"
           }
          ],
          "scatter3d": [
           {
            "line": {
             "colorbar": {
              "outlinewidth": 0,
              "ticks": ""
             }
            },
            "marker": {
             "colorbar": {
              "outlinewidth": 0,
              "ticks": ""
             }
            },
            "type": "scatter3d"
           }
          ],
          "scattercarpet": [
           {
            "marker": {
             "colorbar": {
              "outlinewidth": 0,
              "ticks": ""
             }
            },
            "type": "scattercarpet"
           }
          ],
          "scattergeo": [
           {
            "marker": {
             "colorbar": {
              "outlinewidth": 0,
              "ticks": ""
             }
            },
            "type": "scattergeo"
           }
          ],
          "scattergl": [
           {
            "marker": {
             "colorbar": {
              "outlinewidth": 0,
              "ticks": ""
             }
            },
            "type": "scattergl"
           }
          ],
          "scattermapbox": [
           {
            "marker": {
             "colorbar": {
              "outlinewidth": 0,
              "ticks": ""
             }
            },
            "type": "scattermapbox"
           }
          ],
          "scatterpolar": [
           {
            "marker": {
             "colorbar": {
              "outlinewidth": 0,
              "ticks": ""
             }
            },
            "type": "scatterpolar"
           }
          ],
          "scatterpolargl": [
           {
            "marker": {
             "colorbar": {
              "outlinewidth": 0,
              "ticks": ""
             }
            },
            "type": "scatterpolargl"
           }
          ],
          "scatterternary": [
           {
            "marker": {
             "colorbar": {
              "outlinewidth": 0,
              "ticks": ""
             }
            },
            "type": "scatterternary"
           }
          ],
          "surface": [
           {
            "colorbar": {
             "outlinewidth": 0,
             "ticks": ""
            },
            "colorscale": [
             [
              0,
              "#0d0887"
             ],
             [
              0.1111111111111111,
              "#46039f"
             ],
             [
              0.2222222222222222,
              "#7201a8"
             ],
             [
              0.3333333333333333,
              "#9c179e"
             ],
             [
              0.4444444444444444,
              "#bd3786"
             ],
             [
              0.5555555555555556,
              "#d8576b"
             ],
             [
              0.6666666666666666,
              "#ed7953"
             ],
             [
              0.7777777777777778,
              "#fb9f3a"
             ],
             [
              0.8888888888888888,
              "#fdca26"
             ],
             [
              1,
              "#f0f921"
             ]
            ],
            "type": "surface"
           }
          ],
          "table": [
           {
            "cells": {
             "fill": {
              "color": "#EBF0F8"
             },
             "line": {
              "color": "white"
             }
            },
            "header": {
             "fill": {
              "color": "#C8D4E3"
             },
             "line": {
              "color": "white"
             }
            },
            "type": "table"
           }
          ]
         },
         "layout": {
          "annotationdefaults": {
           "arrowcolor": "#2a3f5f",
           "arrowhead": 0,
           "arrowwidth": 1
          },
          "autotypenumbers": "strict",
          "coloraxis": {
           "colorbar": {
            "outlinewidth": 0,
            "ticks": ""
           }
          },
          "colorscale": {
           "diverging": [
            [
             0,
             "#8e0152"
            ],
            [
             0.1,
             "#c51b7d"
            ],
            [
             0.2,
             "#de77ae"
            ],
            [
             0.3,
             "#f1b6da"
            ],
            [
             0.4,
             "#fde0ef"
            ],
            [
             0.5,
             "#f7f7f7"
            ],
            [
             0.6,
             "#e6f5d0"
            ],
            [
             0.7,
             "#b8e186"
            ],
            [
             0.8,
             "#7fbc41"
            ],
            [
             0.9,
             "#4d9221"
            ],
            [
             1,
             "#276419"
            ]
           ],
           "sequential": [
            [
             0,
             "#0d0887"
            ],
            [
             0.1111111111111111,
             "#46039f"
            ],
            [
             0.2222222222222222,
             "#7201a8"
            ],
            [
             0.3333333333333333,
             "#9c179e"
            ],
            [
             0.4444444444444444,
             "#bd3786"
            ],
            [
             0.5555555555555556,
             "#d8576b"
            ],
            [
             0.6666666666666666,
             "#ed7953"
            ],
            [
             0.7777777777777778,
             "#fb9f3a"
            ],
            [
             0.8888888888888888,
             "#fdca26"
            ],
            [
             1,
             "#f0f921"
            ]
           ],
           "sequentialminus": [
            [
             0,
             "#0d0887"
            ],
            [
             0.1111111111111111,
             "#46039f"
            ],
            [
             0.2222222222222222,
             "#7201a8"
            ],
            [
             0.3333333333333333,
             "#9c179e"
            ],
            [
             0.4444444444444444,
             "#bd3786"
            ],
            [
             0.5555555555555556,
             "#d8576b"
            ],
            [
             0.6666666666666666,
             "#ed7953"
            ],
            [
             0.7777777777777778,
             "#fb9f3a"
            ],
            [
             0.8888888888888888,
             "#fdca26"
            ],
            [
             1,
             "#f0f921"
            ]
           ]
          },
          "colorway": [
           "#636efa",
           "#EF553B",
           "#00cc96",
           "#ab63fa",
           "#FFA15A",
           "#19d3f3",
           "#FF6692",
           "#B6E880",
           "#FF97FF",
           "#FECB52"
          ],
          "font": {
           "color": "#2a3f5f"
          },
          "geo": {
           "bgcolor": "white",
           "lakecolor": "white",
           "landcolor": "#E5ECF6",
           "showlakes": true,
           "showland": true,
           "subunitcolor": "white"
          },
          "hoverlabel": {
           "align": "left"
          },
          "hovermode": "closest",
          "mapbox": {
           "style": "light"
          },
          "paper_bgcolor": "white",
          "plot_bgcolor": "#E5ECF6",
          "polar": {
           "angularaxis": {
            "gridcolor": "white",
            "linecolor": "white",
            "ticks": ""
           },
           "bgcolor": "#E5ECF6",
           "radialaxis": {
            "gridcolor": "white",
            "linecolor": "white",
            "ticks": ""
           }
          },
          "scene": {
           "xaxis": {
            "backgroundcolor": "#E5ECF6",
            "gridcolor": "white",
            "gridwidth": 2,
            "linecolor": "white",
            "showbackground": true,
            "ticks": "",
            "zerolinecolor": "white"
           },
           "yaxis": {
            "backgroundcolor": "#E5ECF6",
            "gridcolor": "white",
            "gridwidth": 2,
            "linecolor": "white",
            "showbackground": true,
            "ticks": "",
            "zerolinecolor": "white"
           },
           "zaxis": {
            "backgroundcolor": "#E5ECF6",
            "gridcolor": "white",
            "gridwidth": 2,
            "linecolor": "white",
            "showbackground": true,
            "ticks": "",
            "zerolinecolor": "white"
           }
          },
          "shapedefaults": {
           "line": {
            "color": "#2a3f5f"
           }
          },
          "ternary": {
           "aaxis": {
            "gridcolor": "white",
            "linecolor": "white",
            "ticks": ""
           },
           "baxis": {
            "gridcolor": "white",
            "linecolor": "white",
            "ticks": ""
           },
           "bgcolor": "#E5ECF6",
           "caxis": {
            "gridcolor": "white",
            "linecolor": "white",
            "ticks": ""
           }
          },
          "title": {
           "x": 0.05
          },
          "xaxis": {
           "automargin": true,
           "gridcolor": "white",
           "linecolor": "white",
           "ticks": "",
           "title": {
            "standoff": 15
           },
           "zerolinecolor": "white",
           "zerolinewidth": 2
          },
          "yaxis": {
           "automargin": true,
           "gridcolor": "white",
           "linecolor": "white",
           "ticks": "",
           "title": {
            "standoff": 15
           },
           "zerolinecolor": "white",
           "zerolinewidth": 2
          }
         }
        },
        "title": {
         "text": "Highest number of deaths as a percentage of detected covid cases"
        },
        "xaxis": {
         "anchor": "y",
         "domain": [
          0,
          1
         ],
         "title": {
          "text": "Country"
         }
        },
        "yaxis": {
         "anchor": "x",
         "domain": [
          0,
          1
         ],
         "title": {
          "text": "percentage_of_deaths"
         }
        }
       }
      }
     },
     "metadata": {},
     "output_type": "display_data"
    }
   ],
   "source": [
    "data[\"percentage_of_deaths\"] = (data[\"Total Deaths\"] / data[\"Total Cases\"]) * 100\n",
    "figure = px.bar(data.sort_values(by = [\"percentage_of_deaths\"], ascending=False).head(20), \n",
    "                y = 'percentage_of_deaths', \n",
    "                x = 'Country',\n",
    "                title = \"Highest number of deaths as a percentage of detected covid cases\")\n",
    "figure.show()"
   ]
  },
  {
   "cell_type": "markdown",
   "metadata": {},
   "source": [
    "This is unsurprising - there was news all over media of how terribly Italy had done at managing Covid-19, to the point where everything in the country was shut down and there were mass deaths.\\\n",
    "The next three top countries leading at percentage of deaths are also western European countries - some of these countries didn't take covid as seriously and refused to regiment a lockdown.\\\n",
    "Later we will look at the stringency index, an index of how strictly countries abided by lockdown rules, and see if that correlates with these percentages.\\\n",
    "For now, let as look at the percentage of deaths vs detected cases all over the world."
   ]
  },
  {
   "cell_type": "code",
   "execution_count": 19,
   "metadata": {},
   "outputs": [
    {
     "data": {
      "application/vnd.plotly.v1+json": {
       "config": {
        "plotlyServerURL": "https://plot.ly"
       },
       "data": [
        {
         "domain": {
          "x": [
           0,
           1
          ],
          "y": [
           0,
           1
          ]
         },
         "hole": 0.5,
         "hovertemplate": "label=%{label}<br>value=%{value}<extra></extra>",
         "labels": [
          "Total Cases",
          "Total Deaths"
         ],
         "legendgroup": "",
         "name": "",
         "showlegend": true,
         "type": "pie",
         "values": [
          3111543890,
          116321884
         ]
        }
       ],
       "layout": {
        "legend": {
         "tracegroupgap": 0
        },
        "template": {
         "data": {
          "bar": [
           {
            "error_x": {
             "color": "#2a3f5f"
            },
            "error_y": {
             "color": "#2a3f5f"
            },
            "marker": {
             "line": {
              "color": "#E5ECF6",
              "width": 0.5
             },
             "pattern": {
              "fillmode": "overlay",
              "size": 10,
              "solidity": 0.2
             }
            },
            "type": "bar"
           }
          ],
          "barpolar": [
           {
            "marker": {
             "line": {
              "color": "#E5ECF6",
              "width": 0.5
             },
             "pattern": {
              "fillmode": "overlay",
              "size": 10,
              "solidity": 0.2
             }
            },
            "type": "barpolar"
           }
          ],
          "carpet": [
           {
            "aaxis": {
             "endlinecolor": "#2a3f5f",
             "gridcolor": "white",
             "linecolor": "white",
             "minorgridcolor": "white",
             "startlinecolor": "#2a3f5f"
            },
            "baxis": {
             "endlinecolor": "#2a3f5f",
             "gridcolor": "white",
             "linecolor": "white",
             "minorgridcolor": "white",
             "startlinecolor": "#2a3f5f"
            },
            "type": "carpet"
           }
          ],
          "choropleth": [
           {
            "colorbar": {
             "outlinewidth": 0,
             "ticks": ""
            },
            "type": "choropleth"
           }
          ],
          "contour": [
           {
            "colorbar": {
             "outlinewidth": 0,
             "ticks": ""
            },
            "colorscale": [
             [
              0,
              "#0d0887"
             ],
             [
              0.1111111111111111,
              "#46039f"
             ],
             [
              0.2222222222222222,
              "#7201a8"
             ],
             [
              0.3333333333333333,
              "#9c179e"
             ],
             [
              0.4444444444444444,
              "#bd3786"
             ],
             [
              0.5555555555555556,
              "#d8576b"
             ],
             [
              0.6666666666666666,
              "#ed7953"
             ],
             [
              0.7777777777777778,
              "#fb9f3a"
             ],
             [
              0.8888888888888888,
              "#fdca26"
             ],
             [
              1,
              "#f0f921"
             ]
            ],
            "type": "contour"
           }
          ],
          "contourcarpet": [
           {
            "colorbar": {
             "outlinewidth": 0,
             "ticks": ""
            },
            "type": "contourcarpet"
           }
          ],
          "heatmap": [
           {
            "colorbar": {
             "outlinewidth": 0,
             "ticks": ""
            },
            "colorscale": [
             [
              0,
              "#0d0887"
             ],
             [
              0.1111111111111111,
              "#46039f"
             ],
             [
              0.2222222222222222,
              "#7201a8"
             ],
             [
              0.3333333333333333,
              "#9c179e"
             ],
             [
              0.4444444444444444,
              "#bd3786"
             ],
             [
              0.5555555555555556,
              "#d8576b"
             ],
             [
              0.6666666666666666,
              "#ed7953"
             ],
             [
              0.7777777777777778,
              "#fb9f3a"
             ],
             [
              0.8888888888888888,
              "#fdca26"
             ],
             [
              1,
              "#f0f921"
             ]
            ],
            "type": "heatmap"
           }
          ],
          "heatmapgl": [
           {
            "colorbar": {
             "outlinewidth": 0,
             "ticks": ""
            },
            "colorscale": [
             [
              0,
              "#0d0887"
             ],
             [
              0.1111111111111111,
              "#46039f"
             ],
             [
              0.2222222222222222,
              "#7201a8"
             ],
             [
              0.3333333333333333,
              "#9c179e"
             ],
             [
              0.4444444444444444,
              "#bd3786"
             ],
             [
              0.5555555555555556,
              "#d8576b"
             ],
             [
              0.6666666666666666,
              "#ed7953"
             ],
             [
              0.7777777777777778,
              "#fb9f3a"
             ],
             [
              0.8888888888888888,
              "#fdca26"
             ],
             [
              1,
              "#f0f921"
             ]
            ],
            "type": "heatmapgl"
           }
          ],
          "histogram": [
           {
            "marker": {
             "pattern": {
              "fillmode": "overlay",
              "size": 10,
              "solidity": 0.2
             }
            },
            "type": "histogram"
           }
          ],
          "histogram2d": [
           {
            "colorbar": {
             "outlinewidth": 0,
             "ticks": ""
            },
            "colorscale": [
             [
              0,
              "#0d0887"
             ],
             [
              0.1111111111111111,
              "#46039f"
             ],
             [
              0.2222222222222222,
              "#7201a8"
             ],
             [
              0.3333333333333333,
              "#9c179e"
             ],
             [
              0.4444444444444444,
              "#bd3786"
             ],
             [
              0.5555555555555556,
              "#d8576b"
             ],
             [
              0.6666666666666666,
              "#ed7953"
             ],
             [
              0.7777777777777778,
              "#fb9f3a"
             ],
             [
              0.8888888888888888,
              "#fdca26"
             ],
             [
              1,
              "#f0f921"
             ]
            ],
            "type": "histogram2d"
           }
          ],
          "histogram2dcontour": [
           {
            "colorbar": {
             "outlinewidth": 0,
             "ticks": ""
            },
            "colorscale": [
             [
              0,
              "#0d0887"
             ],
             [
              0.1111111111111111,
              "#46039f"
             ],
             [
              0.2222222222222222,
              "#7201a8"
             ],
             [
              0.3333333333333333,
              "#9c179e"
             ],
             [
              0.4444444444444444,
              "#bd3786"
             ],
             [
              0.5555555555555556,
              "#d8576b"
             ],
             [
              0.6666666666666666,
              "#ed7953"
             ],
             [
              0.7777777777777778,
              "#fb9f3a"
             ],
             [
              0.8888888888888888,
              "#fdca26"
             ],
             [
              1,
              "#f0f921"
             ]
            ],
            "type": "histogram2dcontour"
           }
          ],
          "mesh3d": [
           {
            "colorbar": {
             "outlinewidth": 0,
             "ticks": ""
            },
            "type": "mesh3d"
           }
          ],
          "parcoords": [
           {
            "line": {
             "colorbar": {
              "outlinewidth": 0,
              "ticks": ""
             }
            },
            "type": "parcoords"
           }
          ],
          "pie": [
           {
            "automargin": true,
            "type": "pie"
           }
          ],
          "scatter": [
           {
            "fillpattern": {
             "fillmode": "overlay",
             "size": 10,
             "solidity": 0.2
            },
            "type": "scatter"
           }
          ],
          "scatter3d": [
           {
            "line": {
             "colorbar": {
              "outlinewidth": 0,
              "ticks": ""
             }
            },
            "marker": {
             "colorbar": {
              "outlinewidth": 0,
              "ticks": ""
             }
            },
            "type": "scatter3d"
           }
          ],
          "scattercarpet": [
           {
            "marker": {
             "colorbar": {
              "outlinewidth": 0,
              "ticks": ""
             }
            },
            "type": "scattercarpet"
           }
          ],
          "scattergeo": [
           {
            "marker": {
             "colorbar": {
              "outlinewidth": 0,
              "ticks": ""
             }
            },
            "type": "scattergeo"
           }
          ],
          "scattergl": [
           {
            "marker": {
             "colorbar": {
              "outlinewidth": 0,
              "ticks": ""
             }
            },
            "type": "scattergl"
           }
          ],
          "scattermapbox": [
           {
            "marker": {
             "colorbar": {
              "outlinewidth": 0,
              "ticks": ""
             }
            },
            "type": "scattermapbox"
           }
          ],
          "scatterpolar": [
           {
            "marker": {
             "colorbar": {
              "outlinewidth": 0,
              "ticks": ""
             }
            },
            "type": "scatterpolar"
           }
          ],
          "scatterpolargl": [
           {
            "marker": {
             "colorbar": {
              "outlinewidth": 0,
              "ticks": ""
             }
            },
            "type": "scatterpolargl"
           }
          ],
          "scatterternary": [
           {
            "marker": {
             "colorbar": {
              "outlinewidth": 0,
              "ticks": ""
             }
            },
            "type": "scatterternary"
           }
          ],
          "surface": [
           {
            "colorbar": {
             "outlinewidth": 0,
             "ticks": ""
            },
            "colorscale": [
             [
              0,
              "#0d0887"
             ],
             [
              0.1111111111111111,
              "#46039f"
             ],
             [
              0.2222222222222222,
              "#7201a8"
             ],
             [
              0.3333333333333333,
              "#9c179e"
             ],
             [
              0.4444444444444444,
              "#bd3786"
             ],
             [
              0.5555555555555556,
              "#d8576b"
             ],
             [
              0.6666666666666666,
              "#ed7953"
             ],
             [
              0.7777777777777778,
              "#fb9f3a"
             ],
             [
              0.8888888888888888,
              "#fdca26"
             ],
             [
              1,
              "#f0f921"
             ]
            ],
            "type": "surface"
           }
          ],
          "table": [
           {
            "cells": {
             "fill": {
              "color": "#EBF0F8"
             },
             "line": {
              "color": "white"
             }
            },
            "header": {
             "fill": {
              "color": "#C8D4E3"
             },
             "line": {
              "color": "white"
             }
            },
            "type": "table"
           }
          ]
         },
         "layout": {
          "annotationdefaults": {
           "arrowcolor": "#2a3f5f",
           "arrowhead": 0,
           "arrowwidth": 1
          },
          "autotypenumbers": "strict",
          "coloraxis": {
           "colorbar": {
            "outlinewidth": 0,
            "ticks": ""
           }
          },
          "colorscale": {
           "diverging": [
            [
             0,
             "#8e0152"
            ],
            [
             0.1,
             "#c51b7d"
            ],
            [
             0.2,
             "#de77ae"
            ],
            [
             0.3,
             "#f1b6da"
            ],
            [
             0.4,
             "#fde0ef"
            ],
            [
             0.5,
             "#f7f7f7"
            ],
            [
             0.6,
             "#e6f5d0"
            ],
            [
             0.7,
             "#b8e186"
            ],
            [
             0.8,
             "#7fbc41"
            ],
            [
             0.9,
             "#4d9221"
            ],
            [
             1,
             "#276419"
            ]
           ],
           "sequential": [
            [
             0,
             "#0d0887"
            ],
            [
             0.1111111111111111,
             "#46039f"
            ],
            [
             0.2222222222222222,
             "#7201a8"
            ],
            [
             0.3333333333333333,
             "#9c179e"
            ],
            [
             0.4444444444444444,
             "#bd3786"
            ],
            [
             0.5555555555555556,
             "#d8576b"
            ],
            [
             0.6666666666666666,
             "#ed7953"
            ],
            [
             0.7777777777777778,
             "#fb9f3a"
            ],
            [
             0.8888888888888888,
             "#fdca26"
            ],
            [
             1,
             "#f0f921"
            ]
           ],
           "sequentialminus": [
            [
             0,
             "#0d0887"
            ],
            [
             0.1111111111111111,
             "#46039f"
            ],
            [
             0.2222222222222222,
             "#7201a8"
            ],
            [
             0.3333333333333333,
             "#9c179e"
            ],
            [
             0.4444444444444444,
             "#bd3786"
            ],
            [
             0.5555555555555556,
             "#d8576b"
            ],
            [
             0.6666666666666666,
             "#ed7953"
            ],
            [
             0.7777777777777778,
             "#fb9f3a"
            ],
            [
             0.8888888888888888,
             "#fdca26"
            ],
            [
             1,
             "#f0f921"
            ]
           ]
          },
          "colorway": [
           "#636efa",
           "#EF553B",
           "#00cc96",
           "#ab63fa",
           "#FFA15A",
           "#19d3f3",
           "#FF6692",
           "#B6E880",
           "#FF97FF",
           "#FECB52"
          ],
          "font": {
           "color": "#2a3f5f"
          },
          "geo": {
           "bgcolor": "white",
           "lakecolor": "white",
           "landcolor": "#E5ECF6",
           "showlakes": true,
           "showland": true,
           "subunitcolor": "white"
          },
          "hoverlabel": {
           "align": "left"
          },
          "hovermode": "closest",
          "mapbox": {
           "style": "light"
          },
          "paper_bgcolor": "white",
          "plot_bgcolor": "#E5ECF6",
          "polar": {
           "angularaxis": {
            "gridcolor": "white",
            "linecolor": "white",
            "ticks": ""
           },
           "bgcolor": "#E5ECF6",
           "radialaxis": {
            "gridcolor": "white",
            "linecolor": "white",
            "ticks": ""
           }
          },
          "scene": {
           "xaxis": {
            "backgroundcolor": "#E5ECF6",
            "gridcolor": "white",
            "gridwidth": 2,
            "linecolor": "white",
            "showbackground": true,
            "ticks": "",
            "zerolinecolor": "white"
           },
           "yaxis": {
            "backgroundcolor": "#E5ECF6",
            "gridcolor": "white",
            "gridwidth": 2,
            "linecolor": "white",
            "showbackground": true,
            "ticks": "",
            "zerolinecolor": "white"
           },
           "zaxis": {
            "backgroundcolor": "#E5ECF6",
            "gridcolor": "white",
            "gridwidth": 2,
            "linecolor": "white",
            "showbackground": true,
            "ticks": "",
            "zerolinecolor": "white"
           }
          },
          "shapedefaults": {
           "line": {
            "color": "#2a3f5f"
           }
          },
          "ternary": {
           "aaxis": {
            "gridcolor": "white",
            "linecolor": "white",
            "ticks": ""
           },
           "baxis": {
            "gridcolor": "white",
            "linecolor": "white",
            "ticks": ""
           },
           "bgcolor": "#E5ECF6",
           "caxis": {
            "gridcolor": "white",
            "linecolor": "white",
            "ticks": ""
           }
          },
          "title": {
           "x": 0.05
          },
          "xaxis": {
           "automargin": true,
           "gridcolor": "white",
           "linecolor": "white",
           "ticks": "",
           "title": {
            "standoff": 15
           },
           "zerolinecolor": "white",
           "zerolinewidth": 2
          },
          "yaxis": {
           "automargin": true,
           "gridcolor": "white",
           "linecolor": "white",
           "ticks": "",
           "title": {
            "standoff": 15
           },
           "zerolinecolor": "white",
           "zerolinewidth": 2
          }
         }
        },
        "title": {
         "text": "Percentage of Deaths vs Cases"
        }
       }
      }
     },
     "metadata": {},
     "output_type": "display_data"
    }
   ],
   "source": [
    "# %%\n",
    "cases = data[\"Total Cases\"].sum()\n",
    "deceased = data[\"Total Deaths\"].sum()\n",
    "\n",
    "labels = [\"Total Cases\", \"Total Deaths\"]\n",
    "values = [cases, deceased]\n",
    "\n",
    "fig = px.pie(data, values=values, names = labels,\n",
    "             title = \"Percentage of Deaths vs Cases\", hole = 0.5)\n",
    "fig.show()"
   ]
  },
  {
   "cell_type": "markdown",
   "metadata": {},
   "source": [
    "We have 3.6% overall death rate, and as we saw before, there are some countries that overshot this."
   ]
  },
  {
   "cell_type": "code",
   "execution_count": 20,
   "metadata": {},
   "outputs": [
    {
     "name": "stderr",
     "output_type": "stream",
     "text": [
      "/var/folders/9d/wpysbld95rg17k1z5kgx_jfh0000gn/T/ipykernel_46967/1703584054.py:1: UserWarning:\n",
      "\n",
      "Boolean Series key will be reindexed to match DataFrame index.\n",
      "\n"
     ]
    },
    {
     "data": {
      "application/vnd.plotly.v1+json": {
       "config": {
        "plotlyServerURL": "https://plot.ly"
       },
       "data": [
        {
         "alignmentgroup": "True",
         "hovertemplate": "Country=%{x}<br>percentage_of_deaths=%{y}<extra></extra>",
         "legendgroup": "",
         "marker": {
          "color": "#636efa",
          "pattern": {
           "shape": ""
          }
         },
         "name": "",
         "offsetgroup": "",
         "orientation": "v",
         "showlegend": false,
         "textposition": "auto",
         "type": "bar",
         "x": [
          "Italy",
          "United Kingdom",
          "Belgium",
          "France",
          "Mexico",
          "Netherlands",
          "Chad",
          "Sweden",
          "Ecuador",
          "Spain",
          "Canada",
          "Sint Maarten (Dutch part)",
          "Hungary",
          "Liberia",
          "Sudan",
          "Ireland",
          "Niger",
          "Bermuda",
          "Iran",
          "Barbados",
          "Egypt",
          "China",
          "Bolivia",
          "Mali",
          "Antigua and Barbuda",
          "Burkina Faso",
          "Romania",
          "Indonesia",
          "Switzerland",
          "Algeria",
          "Tanzania",
          "Slovenia",
          "Peru",
          "Finland",
          "Angola",
          "Germany",
          "Bulgaria",
          "Sierra Leone",
          "Denmark",
          "Guatemala"
         ],
         "xaxis": "x",
         "y": [
          13.130739665019423,
          12.189271289505148,
          11.837846227485883,
          11.24791613984692,
          9.813168283639966,
          8.769805296519921,
          7.92097189520863,
          7.901380247653485,
          7.521460733913411,
          7.475308906916707,
          6.963558302037845,
          6.550618415025195,
          6.4455833866846755,
          6.309106830122592,
          6.181077157516027,
          5.920094629602134,
          5.838642250647571,
          5.648289236736391,
          5.558880714779347,
          5.284422753820306,
          5.187346376776012,
          4.932152673968981,
          4.878715772995634,
          4.815980053092769,
          4.501149060939853,
          4.427699911860775,
          4.356395975998558,
          4.247124115832487,
          4.2464268391686675,
          4.218002496526869,
          4.078622467932609,
          4.051546862861581,
          4.033025253698468,
          4.002580761941852,
          3.8880939458232593,
          3.8652078919369863,
          3.8537225319776978,
          3.7392509575403508,
          3.738505284334977,
          3.6835728411786577
         ],
         "yaxis": "y"
        }
       ],
       "layout": {
        "barmode": "relative",
        "legend": {
         "tracegroupgap": 0
        },
        "template": {
         "data": {
          "bar": [
           {
            "error_x": {
             "color": "#2a3f5f"
            },
            "error_y": {
             "color": "#2a3f5f"
            },
            "marker": {
             "line": {
              "color": "#E5ECF6",
              "width": 0.5
             },
             "pattern": {
              "fillmode": "overlay",
              "size": 10,
              "solidity": 0.2
             }
            },
            "type": "bar"
           }
          ],
          "barpolar": [
           {
            "marker": {
             "line": {
              "color": "#E5ECF6",
              "width": 0.5
             },
             "pattern": {
              "fillmode": "overlay",
              "size": 10,
              "solidity": 0.2
             }
            },
            "type": "barpolar"
           }
          ],
          "carpet": [
           {
            "aaxis": {
             "endlinecolor": "#2a3f5f",
             "gridcolor": "white",
             "linecolor": "white",
             "minorgridcolor": "white",
             "startlinecolor": "#2a3f5f"
            },
            "baxis": {
             "endlinecolor": "#2a3f5f",
             "gridcolor": "white",
             "linecolor": "white",
             "minorgridcolor": "white",
             "startlinecolor": "#2a3f5f"
            },
            "type": "carpet"
           }
          ],
          "choropleth": [
           {
            "colorbar": {
             "outlinewidth": 0,
             "ticks": ""
            },
            "type": "choropleth"
           }
          ],
          "contour": [
           {
            "colorbar": {
             "outlinewidth": 0,
             "ticks": ""
            },
            "colorscale": [
             [
              0,
              "#0d0887"
             ],
             [
              0.1111111111111111,
              "#46039f"
             ],
             [
              0.2222222222222222,
              "#7201a8"
             ],
             [
              0.3333333333333333,
              "#9c179e"
             ],
             [
              0.4444444444444444,
              "#bd3786"
             ],
             [
              0.5555555555555556,
              "#d8576b"
             ],
             [
              0.6666666666666666,
              "#ed7953"
             ],
             [
              0.7777777777777778,
              "#fb9f3a"
             ],
             [
              0.8888888888888888,
              "#fdca26"
             ],
             [
              1,
              "#f0f921"
             ]
            ],
            "type": "contour"
           }
          ],
          "contourcarpet": [
           {
            "colorbar": {
             "outlinewidth": 0,
             "ticks": ""
            },
            "type": "contourcarpet"
           }
          ],
          "heatmap": [
           {
            "colorbar": {
             "outlinewidth": 0,
             "ticks": ""
            },
            "colorscale": [
             [
              0,
              "#0d0887"
             ],
             [
              0.1111111111111111,
              "#46039f"
             ],
             [
              0.2222222222222222,
              "#7201a8"
             ],
             [
              0.3333333333333333,
              "#9c179e"
             ],
             [
              0.4444444444444444,
              "#bd3786"
             ],
             [
              0.5555555555555556,
              "#d8576b"
             ],
             [
              0.6666666666666666,
              "#ed7953"
             ],
             [
              0.7777777777777778,
              "#fb9f3a"
             ],
             [
              0.8888888888888888,
              "#fdca26"
             ],
             [
              1,
              "#f0f921"
             ]
            ],
            "type": "heatmap"
           }
          ],
          "heatmapgl": [
           {
            "colorbar": {
             "outlinewidth": 0,
             "ticks": ""
            },
            "colorscale": [
             [
              0,
              "#0d0887"
             ],
             [
              0.1111111111111111,
              "#46039f"
             ],
             [
              0.2222222222222222,
              "#7201a8"
             ],
             [
              0.3333333333333333,
              "#9c179e"
             ],
             [
              0.4444444444444444,
              "#bd3786"
             ],
             [
              0.5555555555555556,
              "#d8576b"
             ],
             [
              0.6666666666666666,
              "#ed7953"
             ],
             [
              0.7777777777777778,
              "#fb9f3a"
             ],
             [
              0.8888888888888888,
              "#fdca26"
             ],
             [
              1,
              "#f0f921"
             ]
            ],
            "type": "heatmapgl"
           }
          ],
          "histogram": [
           {
            "marker": {
             "pattern": {
              "fillmode": "overlay",
              "size": 10,
              "solidity": 0.2
             }
            },
            "type": "histogram"
           }
          ],
          "histogram2d": [
           {
            "colorbar": {
             "outlinewidth": 0,
             "ticks": ""
            },
            "colorscale": [
             [
              0,
              "#0d0887"
             ],
             [
              0.1111111111111111,
              "#46039f"
             ],
             [
              0.2222222222222222,
              "#7201a8"
             ],
             [
              0.3333333333333333,
              "#9c179e"
             ],
             [
              0.4444444444444444,
              "#bd3786"
             ],
             [
              0.5555555555555556,
              "#d8576b"
             ],
             [
              0.6666666666666666,
              "#ed7953"
             ],
             [
              0.7777777777777778,
              "#fb9f3a"
             ],
             [
              0.8888888888888888,
              "#fdca26"
             ],
             [
              1,
              "#f0f921"
             ]
            ],
            "type": "histogram2d"
           }
          ],
          "histogram2dcontour": [
           {
            "colorbar": {
             "outlinewidth": 0,
             "ticks": ""
            },
            "colorscale": [
             [
              0,
              "#0d0887"
             ],
             [
              0.1111111111111111,
              "#46039f"
             ],
             [
              0.2222222222222222,
              "#7201a8"
             ],
             [
              0.3333333333333333,
              "#9c179e"
             ],
             [
              0.4444444444444444,
              "#bd3786"
             ],
             [
              0.5555555555555556,
              "#d8576b"
             ],
             [
              0.6666666666666666,
              "#ed7953"
             ],
             [
              0.7777777777777778,
              "#fb9f3a"
             ],
             [
              0.8888888888888888,
              "#fdca26"
             ],
             [
              1,
              "#f0f921"
             ]
            ],
            "type": "histogram2dcontour"
           }
          ],
          "mesh3d": [
           {
            "colorbar": {
             "outlinewidth": 0,
             "ticks": ""
            },
            "type": "mesh3d"
           }
          ],
          "parcoords": [
           {
            "line": {
             "colorbar": {
              "outlinewidth": 0,
              "ticks": ""
             }
            },
            "type": "parcoords"
           }
          ],
          "pie": [
           {
            "automargin": true,
            "type": "pie"
           }
          ],
          "scatter": [
           {
            "fillpattern": {
             "fillmode": "overlay",
             "size": 10,
             "solidity": 0.2
            },
            "type": "scatter"
           }
          ],
          "scatter3d": [
           {
            "line": {
             "colorbar": {
              "outlinewidth": 0,
              "ticks": ""
             }
            },
            "marker": {
             "colorbar": {
              "outlinewidth": 0,
              "ticks": ""
             }
            },
            "type": "scatter3d"
           }
          ],
          "scattercarpet": [
           {
            "marker": {
             "colorbar": {
              "outlinewidth": 0,
              "ticks": ""
             }
            },
            "type": "scattercarpet"
           }
          ],
          "scattergeo": [
           {
            "marker": {
             "colorbar": {
              "outlinewidth": 0,
              "ticks": ""
             }
            },
            "type": "scattergeo"
           }
          ],
          "scattergl": [
           {
            "marker": {
             "colorbar": {
              "outlinewidth": 0,
              "ticks": ""
             }
            },
            "type": "scattergl"
           }
          ],
          "scattermapbox": [
           {
            "marker": {
             "colorbar": {
              "outlinewidth": 0,
              "ticks": ""
             }
            },
            "type": "scattermapbox"
           }
          ],
          "scatterpolar": [
           {
            "marker": {
             "colorbar": {
              "outlinewidth": 0,
              "ticks": ""
             }
            },
            "type": "scatterpolar"
           }
          ],
          "scatterpolargl": [
           {
            "marker": {
             "colorbar": {
              "outlinewidth": 0,
              "ticks": ""
             }
            },
            "type": "scatterpolargl"
           }
          ],
          "scatterternary": [
           {
            "marker": {
             "colorbar": {
              "outlinewidth": 0,
              "ticks": ""
             }
            },
            "type": "scatterternary"
           }
          ],
          "surface": [
           {
            "colorbar": {
             "outlinewidth": 0,
             "ticks": ""
            },
            "colorscale": [
             [
              0,
              "#0d0887"
             ],
             [
              0.1111111111111111,
              "#46039f"
             ],
             [
              0.2222222222222222,
              "#7201a8"
             ],
             [
              0.3333333333333333,
              "#9c179e"
             ],
             [
              0.4444444444444444,
              "#bd3786"
             ],
             [
              0.5555555555555556,
              "#d8576b"
             ],
             [
              0.6666666666666666,
              "#ed7953"
             ],
             [
              0.7777777777777778,
              "#fb9f3a"
             ],
             [
              0.8888888888888888,
              "#fdca26"
             ],
             [
              1,
              "#f0f921"
             ]
            ],
            "type": "surface"
           }
          ],
          "table": [
           {
            "cells": {
             "fill": {
              "color": "#EBF0F8"
             },
             "line": {
              "color": "white"
             }
            },
            "header": {
             "fill": {
              "color": "#C8D4E3"
             },
             "line": {
              "color": "white"
             }
            },
            "type": "table"
           }
          ]
         },
         "layout": {
          "annotationdefaults": {
           "arrowcolor": "#2a3f5f",
           "arrowhead": 0,
           "arrowwidth": 1
          },
          "autotypenumbers": "strict",
          "coloraxis": {
           "colorbar": {
            "outlinewidth": 0,
            "ticks": ""
           }
          },
          "colorscale": {
           "diverging": [
            [
             0,
             "#8e0152"
            ],
            [
             0.1,
             "#c51b7d"
            ],
            [
             0.2,
             "#de77ae"
            ],
            [
             0.3,
             "#f1b6da"
            ],
            [
             0.4,
             "#fde0ef"
            ],
            [
             0.5,
             "#f7f7f7"
            ],
            [
             0.6,
             "#e6f5d0"
            ],
            [
             0.7,
             "#b8e186"
            ],
            [
             0.8,
             "#7fbc41"
            ],
            [
             0.9,
             "#4d9221"
            ],
            [
             1,
             "#276419"
            ]
           ],
           "sequential": [
            [
             0,
             "#0d0887"
            ],
            [
             0.1111111111111111,
             "#46039f"
            ],
            [
             0.2222222222222222,
             "#7201a8"
            ],
            [
             0.3333333333333333,
             "#9c179e"
            ],
            [
             0.4444444444444444,
             "#bd3786"
            ],
            [
             0.5555555555555556,
             "#d8576b"
            ],
            [
             0.6666666666666666,
             "#ed7953"
            ],
            [
             0.7777777777777778,
             "#fb9f3a"
            ],
            [
             0.8888888888888888,
             "#fdca26"
            ],
            [
             1,
             "#f0f921"
            ]
           ],
           "sequentialminus": [
            [
             0,
             "#0d0887"
            ],
            [
             0.1111111111111111,
             "#46039f"
            ],
            [
             0.2222222222222222,
             "#7201a8"
            ],
            [
             0.3333333333333333,
             "#9c179e"
            ],
            [
             0.4444444444444444,
             "#bd3786"
            ],
            [
             0.5555555555555556,
             "#d8576b"
            ],
            [
             0.6666666666666666,
             "#ed7953"
            ],
            [
             0.7777777777777778,
             "#fb9f3a"
            ],
            [
             0.8888888888888888,
             "#fdca26"
            ],
            [
             1,
             "#f0f921"
            ]
           ]
          },
          "colorway": [
           "#636efa",
           "#EF553B",
           "#00cc96",
           "#ab63fa",
           "#FFA15A",
           "#19d3f3",
           "#FF6692",
           "#B6E880",
           "#FF97FF",
           "#FECB52"
          ],
          "font": {
           "color": "#2a3f5f"
          },
          "geo": {
           "bgcolor": "white",
           "lakecolor": "white",
           "landcolor": "#E5ECF6",
           "showlakes": true,
           "showland": true,
           "subunitcolor": "white"
          },
          "hoverlabel": {
           "align": "left"
          },
          "hovermode": "closest",
          "mapbox": {
           "style": "light"
          },
          "paper_bgcolor": "white",
          "plot_bgcolor": "#E5ECF6",
          "polar": {
           "angularaxis": {
            "gridcolor": "white",
            "linecolor": "white",
            "ticks": ""
           },
           "bgcolor": "#E5ECF6",
           "radialaxis": {
            "gridcolor": "white",
            "linecolor": "white",
            "ticks": ""
           }
          },
          "scene": {
           "xaxis": {
            "backgroundcolor": "#E5ECF6",
            "gridcolor": "white",
            "gridwidth": 2,
            "linecolor": "white",
            "showbackground": true,
            "ticks": "",
            "zerolinecolor": "white"
           },
           "yaxis": {
            "backgroundcolor": "#E5ECF6",
            "gridcolor": "white",
            "gridwidth": 2,
            "linecolor": "white",
            "showbackground": true,
            "ticks": "",
            "zerolinecolor": "white"
           },
           "zaxis": {
            "backgroundcolor": "#E5ECF6",
            "gridcolor": "white",
            "gridwidth": 2,
            "linecolor": "white",
            "showbackground": true,
            "ticks": "",
            "zerolinecolor": "white"
           }
          },
          "shapedefaults": {
           "line": {
            "color": "#2a3f5f"
           }
          },
          "ternary": {
           "aaxis": {
            "gridcolor": "white",
            "linecolor": "white",
            "ticks": ""
           },
           "baxis": {
            "gridcolor": "white",
            "linecolor": "white",
            "ticks": ""
           },
           "bgcolor": "#E5ECF6",
           "caxis": {
            "gridcolor": "white",
            "linecolor": "white",
            "ticks": ""
           }
          },
          "title": {
           "x": 0.05
          },
          "xaxis": {
           "automargin": true,
           "gridcolor": "white",
           "linecolor": "white",
           "ticks": "",
           "title": {
            "standoff": 15
           },
           "zerolinecolor": "white",
           "zerolinewidth": 2
          },
          "yaxis": {
           "automargin": true,
           "gridcolor": "white",
           "linecolor": "white",
           "ticks": "",
           "title": {
            "standoff": 15
           },
           "zerolinecolor": "white",
           "zerolinewidth": 2
          }
         }
        },
        "title": {
         "text": "Countries with higher than average percentage of deaths"
        },
        "xaxis": {
         "anchor": "y",
         "domain": [
          0,
          1
         ],
         "title": {
          "text": "Country"
         }
        },
        "yaxis": {
         "anchor": "x",
         "domain": [
          0,
          1
         ],
         "title": {
          "text": "percentage_of_deaths"
         }
        }
       }
      }
     },
     "metadata": {},
     "output_type": "display_data"
    }
   ],
   "source": [
    "figure = px.bar(data.sort_values(by = [\"percentage_of_deaths\"], ascending=False)[data[\"percentage_of_deaths\"] > 3.6], \n",
    "                y = 'percentage_of_deaths', \n",
    "                x = 'Country',\n",
    "                title = \"Countries with higher than average percentage of deaths\")\n",
    "figure.show()"
   ]
  },
  {
   "cell_type": "markdown",
   "metadata": {},
   "source": [
    "Now, let's look at the stringency index: it is a composite measure of response indicators, including school closures, workplace closures, and travel bans. It shows how strictly countries are following these measures to control the spread of covid-19."
   ]
  },
  {
   "cell_type": "code",
   "execution_count": 21,
   "metadata": {},
   "outputs": [
    {
     "data": {
      "application/vnd.plotly.v1+json": {
       "config": {
        "plotlyServerURL": "https://plot.ly"
       },
       "data": [
        {
         "alignmentgroup": "True",
         "customdata": [
          [
           331002647,
           26477574
          ],
          [
           212559409,
           14340567
          ],
          [
           1380004385,
           7247327
          ],
          [
           145934460,
           2131571
          ],
          [
           26355046.972789116,
           3020038
          ],
          [
           128932753,
           7295850
          ],
          [
           46595753.12585034,
           5510624
          ],
          [
           51642940.952380955,
           1357682
          ],
          [
           39633266.789115645,
           1936134
          ],
          [
           67886004,
           7249573
          ],
          [
           83992953,
           2914070
          ],
          [
           14889836.261904761,
           1283880
          ],
          [
           60461828,
           6664225
          ],
          [
           65273512,
           5633444
          ],
          [
           38739237.428571425,
           1077426
          ],
          [
           83783945,
           1640691
          ],
          [
           63110866.46258503,
           1049757
          ],
          [
           27472167.156462584,
           442507
          ],
          [
           220892331,
           789557
          ],
          [
           129398800.92857143,
           484534
          ]
         ],
         "hovertemplate": "Country=%{x}<br>Total Cases=%{y}<br>Population=%{customdata[0]}<br>Total Deaths=%{customdata[1]}<br>Stringency Index=%{marker.color}<extra></extra>",
         "legendgroup": "",
         "marker": {
          "color": [
           3.3509486690850343,
           3.136027957462585,
           3.6105521148129256,
           3.380088191482993,
           3.4301264381156464,
           3.0192894045204084,
           3.393922273142857,
           3.3643329908979593,
           3.3579230454251703,
           3.3538831399625852,
           3.207064113278912,
           2.989193634731293,
           3.629838088122449,
           3.3857936759115645,
           3.4754380163809526,
           3.28451614412585,
           3.0414184019965984,
           3.2633605816360545,
           3.38580207355102,
           3.186409532867346
          ],
          "coloraxis": "coloraxis",
          "pattern": {
           "shape": ""
          }
         },
         "name": "",
         "offsetgroup": "",
         "orientation": "v",
         "showlegend": false,
         "textposition": "auto",
         "type": "bar",
         "x": [
          "United States",
          "Brazil",
          "India",
          "Russia",
          "Peru",
          "Mexico",
          "Spain",
          "South Africa",
          "Colombia",
          "United Kingdom",
          "Iran",
          "Chile",
          "Italy",
          "France",
          "Argentina",
          "Germany",
          "Turkey",
          "Saudi Arabia",
          "Pakistan",
          "Bangladesh"
         ],
         "xaxis": "x",
         "y": [
          746014098,
          425704517,
          407771615,
          132888951,
          74882695,
          74347548,
          73717676,
          63027659,
          60543682,
          59475032,
          52421884,
          51268034,
          50752853,
          50084335,
          47155234,
          42447678,
          41431948,
          38585191,
          37738077,
          35266178
         ],
         "yaxis": "y"
        }
       ],
       "layout": {
        "barmode": "relative",
        "coloraxis": {
         "colorbar": {
          "title": {
           "text": "Stringency Index"
          }
         },
         "colorscale": [
          [
           0,
           "#0d0887"
          ],
          [
           0.1111111111111111,
           "#46039f"
          ],
          [
           0.2222222222222222,
           "#7201a8"
          ],
          [
           0.3333333333333333,
           "#9c179e"
          ],
          [
           0.4444444444444444,
           "#bd3786"
          ],
          [
           0.5555555555555556,
           "#d8576b"
          ],
          [
           0.6666666666666666,
           "#ed7953"
          ],
          [
           0.7777777777777778,
           "#fb9f3a"
          ],
          [
           0.8888888888888888,
           "#fdca26"
          ],
          [
           1,
           "#f0f921"
          ]
         ]
        },
        "legend": {
         "tracegroupgap": 0
        },
        "template": {
         "data": {
          "bar": [
           {
            "error_x": {
             "color": "#2a3f5f"
            },
            "error_y": {
             "color": "#2a3f5f"
            },
            "marker": {
             "line": {
              "color": "#E5ECF6",
              "width": 0.5
             },
             "pattern": {
              "fillmode": "overlay",
              "size": 10,
              "solidity": 0.2
             }
            },
            "type": "bar"
           }
          ],
          "barpolar": [
           {
            "marker": {
             "line": {
              "color": "#E5ECF6",
              "width": 0.5
             },
             "pattern": {
              "fillmode": "overlay",
              "size": 10,
              "solidity": 0.2
             }
            },
            "type": "barpolar"
           }
          ],
          "carpet": [
           {
            "aaxis": {
             "endlinecolor": "#2a3f5f",
             "gridcolor": "white",
             "linecolor": "white",
             "minorgridcolor": "white",
             "startlinecolor": "#2a3f5f"
            },
            "baxis": {
             "endlinecolor": "#2a3f5f",
             "gridcolor": "white",
             "linecolor": "white",
             "minorgridcolor": "white",
             "startlinecolor": "#2a3f5f"
            },
            "type": "carpet"
           }
          ],
          "choropleth": [
           {
            "colorbar": {
             "outlinewidth": 0,
             "ticks": ""
            },
            "type": "choropleth"
           }
          ],
          "contour": [
           {
            "colorbar": {
             "outlinewidth": 0,
             "ticks": ""
            },
            "colorscale": [
             [
              0,
              "#0d0887"
             ],
             [
              0.1111111111111111,
              "#46039f"
             ],
             [
              0.2222222222222222,
              "#7201a8"
             ],
             [
              0.3333333333333333,
              "#9c179e"
             ],
             [
              0.4444444444444444,
              "#bd3786"
             ],
             [
              0.5555555555555556,
              "#d8576b"
             ],
             [
              0.6666666666666666,
              "#ed7953"
             ],
             [
              0.7777777777777778,
              "#fb9f3a"
             ],
             [
              0.8888888888888888,
              "#fdca26"
             ],
             [
              1,
              "#f0f921"
             ]
            ],
            "type": "contour"
           }
          ],
          "contourcarpet": [
           {
            "colorbar": {
             "outlinewidth": 0,
             "ticks": ""
            },
            "type": "contourcarpet"
           }
          ],
          "heatmap": [
           {
            "colorbar": {
             "outlinewidth": 0,
             "ticks": ""
            },
            "colorscale": [
             [
              0,
              "#0d0887"
             ],
             [
              0.1111111111111111,
              "#46039f"
             ],
             [
              0.2222222222222222,
              "#7201a8"
             ],
             [
              0.3333333333333333,
              "#9c179e"
             ],
             [
              0.4444444444444444,
              "#bd3786"
             ],
             [
              0.5555555555555556,
              "#d8576b"
             ],
             [
              0.6666666666666666,
              "#ed7953"
             ],
             [
              0.7777777777777778,
              "#fb9f3a"
             ],
             [
              0.8888888888888888,
              "#fdca26"
             ],
             [
              1,
              "#f0f921"
             ]
            ],
            "type": "heatmap"
           }
          ],
          "heatmapgl": [
           {
            "colorbar": {
             "outlinewidth": 0,
             "ticks": ""
            },
            "colorscale": [
             [
              0,
              "#0d0887"
             ],
             [
              0.1111111111111111,
              "#46039f"
             ],
             [
              0.2222222222222222,
              "#7201a8"
             ],
             [
              0.3333333333333333,
              "#9c179e"
             ],
             [
              0.4444444444444444,
              "#bd3786"
             ],
             [
              0.5555555555555556,
              "#d8576b"
             ],
             [
              0.6666666666666666,
              "#ed7953"
             ],
             [
              0.7777777777777778,
              "#fb9f3a"
             ],
             [
              0.8888888888888888,
              "#fdca26"
             ],
             [
              1,
              "#f0f921"
             ]
            ],
            "type": "heatmapgl"
           }
          ],
          "histogram": [
           {
            "marker": {
             "pattern": {
              "fillmode": "overlay",
              "size": 10,
              "solidity": 0.2
             }
            },
            "type": "histogram"
           }
          ],
          "histogram2d": [
           {
            "colorbar": {
             "outlinewidth": 0,
             "ticks": ""
            },
            "colorscale": [
             [
              0,
              "#0d0887"
             ],
             [
              0.1111111111111111,
              "#46039f"
             ],
             [
              0.2222222222222222,
              "#7201a8"
             ],
             [
              0.3333333333333333,
              "#9c179e"
             ],
             [
              0.4444444444444444,
              "#bd3786"
             ],
             [
              0.5555555555555556,
              "#d8576b"
             ],
             [
              0.6666666666666666,
              "#ed7953"
             ],
             [
              0.7777777777777778,
              "#fb9f3a"
             ],
             [
              0.8888888888888888,
              "#fdca26"
             ],
             [
              1,
              "#f0f921"
             ]
            ],
            "type": "histogram2d"
           }
          ],
          "histogram2dcontour": [
           {
            "colorbar": {
             "outlinewidth": 0,
             "ticks": ""
            },
            "colorscale": [
             [
              0,
              "#0d0887"
             ],
             [
              0.1111111111111111,
              "#46039f"
             ],
             [
              0.2222222222222222,
              "#7201a8"
             ],
             [
              0.3333333333333333,
              "#9c179e"
             ],
             [
              0.4444444444444444,
              "#bd3786"
             ],
             [
              0.5555555555555556,
              "#d8576b"
             ],
             [
              0.6666666666666666,
              "#ed7953"
             ],
             [
              0.7777777777777778,
              "#fb9f3a"
             ],
             [
              0.8888888888888888,
              "#fdca26"
             ],
             [
              1,
              "#f0f921"
             ]
            ],
            "type": "histogram2dcontour"
           }
          ],
          "mesh3d": [
           {
            "colorbar": {
             "outlinewidth": 0,
             "ticks": ""
            },
            "type": "mesh3d"
           }
          ],
          "parcoords": [
           {
            "line": {
             "colorbar": {
              "outlinewidth": 0,
              "ticks": ""
             }
            },
            "type": "parcoords"
           }
          ],
          "pie": [
           {
            "automargin": true,
            "type": "pie"
           }
          ],
          "scatter": [
           {
            "fillpattern": {
             "fillmode": "overlay",
             "size": 10,
             "solidity": 0.2
            },
            "type": "scatter"
           }
          ],
          "scatter3d": [
           {
            "line": {
             "colorbar": {
              "outlinewidth": 0,
              "ticks": ""
             }
            },
            "marker": {
             "colorbar": {
              "outlinewidth": 0,
              "ticks": ""
             }
            },
            "type": "scatter3d"
           }
          ],
          "scattercarpet": [
           {
            "marker": {
             "colorbar": {
              "outlinewidth": 0,
              "ticks": ""
             }
            },
            "type": "scattercarpet"
           }
          ],
          "scattergeo": [
           {
            "marker": {
             "colorbar": {
              "outlinewidth": 0,
              "ticks": ""
             }
            },
            "type": "scattergeo"
           }
          ],
          "scattergl": [
           {
            "marker": {
             "colorbar": {
              "outlinewidth": 0,
              "ticks": ""
             }
            },
            "type": "scattergl"
           }
          ],
          "scattermapbox": [
           {
            "marker": {
             "colorbar": {
              "outlinewidth": 0,
              "ticks": ""
             }
            },
            "type": "scattermapbox"
           }
          ],
          "scatterpolar": [
           {
            "marker": {
             "colorbar": {
              "outlinewidth": 0,
              "ticks": ""
             }
            },
            "type": "scatterpolar"
           }
          ],
          "scatterpolargl": [
           {
            "marker": {
             "colorbar": {
              "outlinewidth": 0,
              "ticks": ""
             }
            },
            "type": "scatterpolargl"
           }
          ],
          "scatterternary": [
           {
            "marker": {
             "colorbar": {
              "outlinewidth": 0,
              "ticks": ""
             }
            },
            "type": "scatterternary"
           }
          ],
          "surface": [
           {
            "colorbar": {
             "outlinewidth": 0,
             "ticks": ""
            },
            "colorscale": [
             [
              0,
              "#0d0887"
             ],
             [
              0.1111111111111111,
              "#46039f"
             ],
             [
              0.2222222222222222,
              "#7201a8"
             ],
             [
              0.3333333333333333,
              "#9c179e"
             ],
             [
              0.4444444444444444,
              "#bd3786"
             ],
             [
              0.5555555555555556,
              "#d8576b"
             ],
             [
              0.6666666666666666,
              "#ed7953"
             ],
             [
              0.7777777777777778,
              "#fb9f3a"
             ],
             [
              0.8888888888888888,
              "#fdca26"
             ],
             [
              1,
              "#f0f921"
             ]
            ],
            "type": "surface"
           }
          ],
          "table": [
           {
            "cells": {
             "fill": {
              "color": "#EBF0F8"
             },
             "line": {
              "color": "white"
             }
            },
            "header": {
             "fill": {
              "color": "#C8D4E3"
             },
             "line": {
              "color": "white"
             }
            },
            "type": "table"
           }
          ]
         },
         "layout": {
          "annotationdefaults": {
           "arrowcolor": "#2a3f5f",
           "arrowhead": 0,
           "arrowwidth": 1
          },
          "autotypenumbers": "strict",
          "coloraxis": {
           "colorbar": {
            "outlinewidth": 0,
            "ticks": ""
           }
          },
          "colorscale": {
           "diverging": [
            [
             0,
             "#8e0152"
            ],
            [
             0.1,
             "#c51b7d"
            ],
            [
             0.2,
             "#de77ae"
            ],
            [
             0.3,
             "#f1b6da"
            ],
            [
             0.4,
             "#fde0ef"
            ],
            [
             0.5,
             "#f7f7f7"
            ],
            [
             0.6,
             "#e6f5d0"
            ],
            [
             0.7,
             "#b8e186"
            ],
            [
             0.8,
             "#7fbc41"
            ],
            [
             0.9,
             "#4d9221"
            ],
            [
             1,
             "#276419"
            ]
           ],
           "sequential": [
            [
             0,
             "#0d0887"
            ],
            [
             0.1111111111111111,
             "#46039f"
            ],
            [
             0.2222222222222222,
             "#7201a8"
            ],
            [
             0.3333333333333333,
             "#9c179e"
            ],
            [
             0.4444444444444444,
             "#bd3786"
            ],
            [
             0.5555555555555556,
             "#d8576b"
            ],
            [
             0.6666666666666666,
             "#ed7953"
            ],
            [
             0.7777777777777778,
             "#fb9f3a"
            ],
            [
             0.8888888888888888,
             "#fdca26"
            ],
            [
             1,
             "#f0f921"
            ]
           ],
           "sequentialminus": [
            [
             0,
             "#0d0887"
            ],
            [
             0.1111111111111111,
             "#46039f"
            ],
            [
             0.2222222222222222,
             "#7201a8"
            ],
            [
             0.3333333333333333,
             "#9c179e"
            ],
            [
             0.4444444444444444,
             "#bd3786"
            ],
            [
             0.5555555555555556,
             "#d8576b"
            ],
            [
             0.6666666666666666,
             "#ed7953"
            ],
            [
             0.7777777777777778,
             "#fb9f3a"
            ],
            [
             0.8888888888888888,
             "#fdca26"
            ],
            [
             1,
             "#f0f921"
            ]
           ]
          },
          "colorway": [
           "#636efa",
           "#EF553B",
           "#00cc96",
           "#ab63fa",
           "#FFA15A",
           "#19d3f3",
           "#FF6692",
           "#B6E880",
           "#FF97FF",
           "#FECB52"
          ],
          "font": {
           "color": "#2a3f5f"
          },
          "geo": {
           "bgcolor": "white",
           "lakecolor": "white",
           "landcolor": "#E5ECF6",
           "showlakes": true,
           "showland": true,
           "subunitcolor": "white"
          },
          "hoverlabel": {
           "align": "left"
          },
          "hovermode": "closest",
          "mapbox": {
           "style": "light"
          },
          "paper_bgcolor": "white",
          "plot_bgcolor": "#E5ECF6",
          "polar": {
           "angularaxis": {
            "gridcolor": "white",
            "linecolor": "white",
            "ticks": ""
           },
           "bgcolor": "#E5ECF6",
           "radialaxis": {
            "gridcolor": "white",
            "linecolor": "white",
            "ticks": ""
           }
          },
          "scene": {
           "xaxis": {
            "backgroundcolor": "#E5ECF6",
            "gridcolor": "white",
            "gridwidth": 2,
            "linecolor": "white",
            "showbackground": true,
            "ticks": "",
            "zerolinecolor": "white"
           },
           "yaxis": {
            "backgroundcolor": "#E5ECF6",
            "gridcolor": "white",
            "gridwidth": 2,
            "linecolor": "white",
            "showbackground": true,
            "ticks": "",
            "zerolinecolor": "white"
           },
           "zaxis": {
            "backgroundcolor": "#E5ECF6",
            "gridcolor": "white",
            "gridwidth": 2,
            "linecolor": "white",
            "showbackground": true,
            "ticks": "",
            "zerolinecolor": "white"
           }
          },
          "shapedefaults": {
           "line": {
            "color": "#2a3f5f"
           }
          },
          "ternary": {
           "aaxis": {
            "gridcolor": "white",
            "linecolor": "white",
            "ticks": ""
           },
           "baxis": {
            "gridcolor": "white",
            "linecolor": "white",
            "ticks": ""
           },
           "bgcolor": "#E5ECF6",
           "caxis": {
            "gridcolor": "white",
            "linecolor": "white",
            "ticks": ""
           }
          },
          "title": {
           "x": 0.05
          },
          "xaxis": {
           "automargin": true,
           "gridcolor": "white",
           "linecolor": "white",
           "ticks": "",
           "title": {
            "standoff": 15
           },
           "zerolinecolor": "white",
           "zerolinewidth": 2
          },
          "yaxis": {
           "automargin": true,
           "gridcolor": "white",
           "linecolor": "white",
           "ticks": "",
           "title": {
            "standoff": 15
           },
           "zerolinecolor": "white",
           "zerolinewidth": 2
          }
         }
        },
        "title": {
         "text": "Stringency Index by Country during Covid-19"
        },
        "xaxis": {
         "anchor": "y",
         "domain": [
          0,
          1
         ],
         "title": {
          "text": "Country"
         }
        },
        "yaxis": {
         "anchor": "x",
         "domain": [
          0,
          1
         ],
         "title": {
          "text": "Total Cases"
         }
        }
       }
      }
     },
     "metadata": {},
     "output_type": "display_data"
    }
   ],
   "source": [
    "# %%\n",
    "fig = px.bar(data.head(20), x ='Country', y = 'Total Cases', \n",
    "             hover_data=['Population', 'Total Deaths'],\n",
    "             color = 'Stringency Index',\n",
    "             title = \"Stringency Index by Country during Covid-19\")\n",
    "fig.show()"
   ]
  },
  {
   "cell_type": "markdown",
   "metadata": {},
   "source": [
    "We can clearly see that some countries acted more strictly compared to others when it came to responding to covid. India and Italy both had a really high number of deaths at different points, and it makes sense that they \\\n",
    "would then have very stringently followed lockdown rules, whereas with some other countries like the US and Brazil, we see a comparatively lower stringency index. These countries chose to flout lockdown etiquette \\\n",
    "in favor of letting the economy reopen more quickly. We will later see if this is reflected in their economies rebouncing quickly."
   ]
  },
  {
   "cell_type": "code",
   "execution_count": 22,
   "metadata": {},
   "outputs": [
    {
     "data": {
      "application/vnd.plotly.v1+json": {
       "config": {
        "plotlyServerURL": "https://plot.ly"
       },
       "data": [
        {
         "alignmentgroup": "True",
         "customdata": [
          [
           331002647,
           26477574
          ],
          [
           212559409,
           14340567
          ],
          [
           1380004385,
           7247327
          ],
          [
           145934460,
           2131571
          ],
          [
           26355046.972789116,
           3020038
          ],
          [
           128932753,
           7295850
          ],
          [
           46595753.12585034,
           5510624
          ],
          [
           51642940.952380955,
           1357682
          ],
          [
           39633266.789115645,
           1936134
          ],
          [
           67886004,
           7249573
          ],
          [
           83992953,
           2914070
          ],
          [
           14889836.261904761,
           1283880
          ],
          [
           60461828,
           6664225
          ],
          [
           65273512,
           5633444
          ],
          [
           38739237.428571425,
           1077426
          ],
          [
           83783945,
           1640691
          ],
          [
           63110866.46258503,
           1049757
          ],
          [
           27472167.156462584,
           442507
          ],
          [
           220892331,
           789557
          ],
          [
           129398800.92857143,
           484534
          ]
         ],
         "hovertemplate": "Country=%{x}<br>Total Cases=%{y}<br>Population=%{customdata[0]}<br>Total Deaths=%{customdata[1]}<br>GDP Per Capita Before Covid=%{marker.color}<extra></extra>",
         "legendgroup": "",
         "marker": {
          "color": [
           62470.93,
           14685.128,
           6617.13,
           27254.574,
           12735.168,
           20553.955,
           40782.234,
           13850.8955,
           14616.135,
           46909.08,
           14084.354,
           24809.861,
           42739.05,
           45922.793,
           22071.748,
           53884.375,
           28476.684,
           47024.543,
           5157.5464,
           5467.2075
          ],
          "coloraxis": "coloraxis",
          "pattern": {
           "shape": ""
          }
         },
         "name": "",
         "offsetgroup": "",
         "orientation": "v",
         "showlegend": false,
         "textposition": "auto",
         "type": "bar",
         "x": [
          "United States",
          "Brazil",
          "India",
          "Russia",
          "Peru",
          "Mexico",
          "Spain",
          "South Africa",
          "Colombia",
          "United Kingdom",
          "Iran",
          "Chile",
          "Italy",
          "France",
          "Argentina",
          "Germany",
          "Turkey",
          "Saudi Arabia",
          "Pakistan",
          "Bangladesh"
         ],
         "xaxis": "x",
         "y": [
          746014098,
          425704517,
          407771615,
          132888951,
          74882695,
          74347548,
          73717676,
          63027659,
          60543682,
          59475032,
          52421884,
          51268034,
          50752853,
          50084335,
          47155234,
          42447678,
          41431948,
          38585191,
          37738077,
          35266178
         ],
         "yaxis": "y"
        }
       ],
       "layout": {
        "barmode": "relative",
        "coloraxis": {
         "colorbar": {
          "title": {
           "text": "GDP Per Capita Before Covid"
          }
         },
         "colorscale": [
          [
           0,
           "#0d0887"
          ],
          [
           0.1111111111111111,
           "#46039f"
          ],
          [
           0.2222222222222222,
           "#7201a8"
          ],
          [
           0.3333333333333333,
           "#9c179e"
          ],
          [
           0.4444444444444444,
           "#bd3786"
          ],
          [
           0.5555555555555556,
           "#d8576b"
          ],
          [
           0.6666666666666666,
           "#ed7953"
          ],
          [
           0.7777777777777778,
           "#fb9f3a"
          ],
          [
           0.8888888888888888,
           "#fdca26"
          ],
          [
           1,
           "#f0f921"
          ]
         ]
        },
        "legend": {
         "tracegroupgap": 0
        },
        "template": {
         "data": {
          "bar": [
           {
            "error_x": {
             "color": "#2a3f5f"
            },
            "error_y": {
             "color": "#2a3f5f"
            },
            "marker": {
             "line": {
              "color": "#E5ECF6",
              "width": 0.5
             },
             "pattern": {
              "fillmode": "overlay",
              "size": 10,
              "solidity": 0.2
             }
            },
            "type": "bar"
           }
          ],
          "barpolar": [
           {
            "marker": {
             "line": {
              "color": "#E5ECF6",
              "width": 0.5
             },
             "pattern": {
              "fillmode": "overlay",
              "size": 10,
              "solidity": 0.2
             }
            },
            "type": "barpolar"
           }
          ],
          "carpet": [
           {
            "aaxis": {
             "endlinecolor": "#2a3f5f",
             "gridcolor": "white",
             "linecolor": "white",
             "minorgridcolor": "white",
             "startlinecolor": "#2a3f5f"
            },
            "baxis": {
             "endlinecolor": "#2a3f5f",
             "gridcolor": "white",
             "linecolor": "white",
             "minorgridcolor": "white",
             "startlinecolor": "#2a3f5f"
            },
            "type": "carpet"
           }
          ],
          "choropleth": [
           {
            "colorbar": {
             "outlinewidth": 0,
             "ticks": ""
            },
            "type": "choropleth"
           }
          ],
          "contour": [
           {
            "colorbar": {
             "outlinewidth": 0,
             "ticks": ""
            },
            "colorscale": [
             [
              0,
              "#0d0887"
             ],
             [
              0.1111111111111111,
              "#46039f"
             ],
             [
              0.2222222222222222,
              "#7201a8"
             ],
             [
              0.3333333333333333,
              "#9c179e"
             ],
             [
              0.4444444444444444,
              "#bd3786"
             ],
             [
              0.5555555555555556,
              "#d8576b"
             ],
             [
              0.6666666666666666,
              "#ed7953"
             ],
             [
              0.7777777777777778,
              "#fb9f3a"
             ],
             [
              0.8888888888888888,
              "#fdca26"
             ],
             [
              1,
              "#f0f921"
             ]
            ],
            "type": "contour"
           }
          ],
          "contourcarpet": [
           {
            "colorbar": {
             "outlinewidth": 0,
             "ticks": ""
            },
            "type": "contourcarpet"
           }
          ],
          "heatmap": [
           {
            "colorbar": {
             "outlinewidth": 0,
             "ticks": ""
            },
            "colorscale": [
             [
              0,
              "#0d0887"
             ],
             [
              0.1111111111111111,
              "#46039f"
             ],
             [
              0.2222222222222222,
              "#7201a8"
             ],
             [
              0.3333333333333333,
              "#9c179e"
             ],
             [
              0.4444444444444444,
              "#bd3786"
             ],
             [
              0.5555555555555556,
              "#d8576b"
             ],
             [
              0.6666666666666666,
              "#ed7953"
             ],
             [
              0.7777777777777778,
              "#fb9f3a"
             ],
             [
              0.8888888888888888,
              "#fdca26"
             ],
             [
              1,
              "#f0f921"
             ]
            ],
            "type": "heatmap"
           }
          ],
          "heatmapgl": [
           {
            "colorbar": {
             "outlinewidth": 0,
             "ticks": ""
            },
            "colorscale": [
             [
              0,
              "#0d0887"
             ],
             [
              0.1111111111111111,
              "#46039f"
             ],
             [
              0.2222222222222222,
              "#7201a8"
             ],
             [
              0.3333333333333333,
              "#9c179e"
             ],
             [
              0.4444444444444444,
              "#bd3786"
             ],
             [
              0.5555555555555556,
              "#d8576b"
             ],
             [
              0.6666666666666666,
              "#ed7953"
             ],
             [
              0.7777777777777778,
              "#fb9f3a"
             ],
             [
              0.8888888888888888,
              "#fdca26"
             ],
             [
              1,
              "#f0f921"
             ]
            ],
            "type": "heatmapgl"
           }
          ],
          "histogram": [
           {
            "marker": {
             "pattern": {
              "fillmode": "overlay",
              "size": 10,
              "solidity": 0.2
             }
            },
            "type": "histogram"
           }
          ],
          "histogram2d": [
           {
            "colorbar": {
             "outlinewidth": 0,
             "ticks": ""
            },
            "colorscale": [
             [
              0,
              "#0d0887"
             ],
             [
              0.1111111111111111,
              "#46039f"
             ],
             [
              0.2222222222222222,
              "#7201a8"
             ],
             [
              0.3333333333333333,
              "#9c179e"
             ],
             [
              0.4444444444444444,
              "#bd3786"
             ],
             [
              0.5555555555555556,
              "#d8576b"
             ],
             [
              0.6666666666666666,
              "#ed7953"
             ],
             [
              0.7777777777777778,
              "#fb9f3a"
             ],
             [
              0.8888888888888888,
              "#fdca26"
             ],
             [
              1,
              "#f0f921"
             ]
            ],
            "type": "histogram2d"
           }
          ],
          "histogram2dcontour": [
           {
            "colorbar": {
             "outlinewidth": 0,
             "ticks": ""
            },
            "colorscale": [
             [
              0,
              "#0d0887"
             ],
             [
              0.1111111111111111,
              "#46039f"
             ],
             [
              0.2222222222222222,
              "#7201a8"
             ],
             [
              0.3333333333333333,
              "#9c179e"
             ],
             [
              0.4444444444444444,
              "#bd3786"
             ],
             [
              0.5555555555555556,
              "#d8576b"
             ],
             [
              0.6666666666666666,
              "#ed7953"
             ],
             [
              0.7777777777777778,
              "#fb9f3a"
             ],
             [
              0.8888888888888888,
              "#fdca26"
             ],
             [
              1,
              "#f0f921"
             ]
            ],
            "type": "histogram2dcontour"
           }
          ],
          "mesh3d": [
           {
            "colorbar": {
             "outlinewidth": 0,
             "ticks": ""
            },
            "type": "mesh3d"
           }
          ],
          "parcoords": [
           {
            "line": {
             "colorbar": {
              "outlinewidth": 0,
              "ticks": ""
             }
            },
            "type": "parcoords"
           }
          ],
          "pie": [
           {
            "automargin": true,
            "type": "pie"
           }
          ],
          "scatter": [
           {
            "fillpattern": {
             "fillmode": "overlay",
             "size": 10,
             "solidity": 0.2
            },
            "type": "scatter"
           }
          ],
          "scatter3d": [
           {
            "line": {
             "colorbar": {
              "outlinewidth": 0,
              "ticks": ""
             }
            },
            "marker": {
             "colorbar": {
              "outlinewidth": 0,
              "ticks": ""
             }
            },
            "type": "scatter3d"
           }
          ],
          "scattercarpet": [
           {
            "marker": {
             "colorbar": {
              "outlinewidth": 0,
              "ticks": ""
             }
            },
            "type": "scattercarpet"
           }
          ],
          "scattergeo": [
           {
            "marker": {
             "colorbar": {
              "outlinewidth": 0,
              "ticks": ""
             }
            },
            "type": "scattergeo"
           }
          ],
          "scattergl": [
           {
            "marker": {
             "colorbar": {
              "outlinewidth": 0,
              "ticks": ""
             }
            },
            "type": "scattergl"
           }
          ],
          "scattermapbox": [
           {
            "marker": {
             "colorbar": {
              "outlinewidth": 0,
              "ticks": ""
             }
            },
            "type": "scattermapbox"
           }
          ],
          "scatterpolar": [
           {
            "marker": {
             "colorbar": {
              "outlinewidth": 0,
              "ticks": ""
             }
            },
            "type": "scatterpolar"
           }
          ],
          "scatterpolargl": [
           {
            "marker": {
             "colorbar": {
              "outlinewidth": 0,
              "ticks": ""
             }
            },
            "type": "scatterpolargl"
           }
          ],
          "scatterternary": [
           {
            "marker": {
             "colorbar": {
              "outlinewidth": 0,
              "ticks": ""
             }
            },
            "type": "scatterternary"
           }
          ],
          "surface": [
           {
            "colorbar": {
             "outlinewidth": 0,
             "ticks": ""
            },
            "colorscale": [
             [
              0,
              "#0d0887"
             ],
             [
              0.1111111111111111,
              "#46039f"
             ],
             [
              0.2222222222222222,
              "#7201a8"
             ],
             [
              0.3333333333333333,
              "#9c179e"
             ],
             [
              0.4444444444444444,
              "#bd3786"
             ],
             [
              0.5555555555555556,
              "#d8576b"
             ],
             [
              0.6666666666666666,
              "#ed7953"
             ],
             [
              0.7777777777777778,
              "#fb9f3a"
             ],
             [
              0.8888888888888888,
              "#fdca26"
             ],
             [
              1,
              "#f0f921"
             ]
            ],
            "type": "surface"
           }
          ],
          "table": [
           {
            "cells": {
             "fill": {
              "color": "#EBF0F8"
             },
             "line": {
              "color": "white"
             }
            },
            "header": {
             "fill": {
              "color": "#C8D4E3"
             },
             "line": {
              "color": "white"
             }
            },
            "type": "table"
           }
          ]
         },
         "layout": {
          "annotationdefaults": {
           "arrowcolor": "#2a3f5f",
           "arrowhead": 0,
           "arrowwidth": 1
          },
          "autotypenumbers": "strict",
          "coloraxis": {
           "colorbar": {
            "outlinewidth": 0,
            "ticks": ""
           }
          },
          "colorscale": {
           "diverging": [
            [
             0,
             "#8e0152"
            ],
            [
             0.1,
             "#c51b7d"
            ],
            [
             0.2,
             "#de77ae"
            ],
            [
             0.3,
             "#f1b6da"
            ],
            [
             0.4,
             "#fde0ef"
            ],
            [
             0.5,
             "#f7f7f7"
            ],
            [
             0.6,
             "#e6f5d0"
            ],
            [
             0.7,
             "#b8e186"
            ],
            [
             0.8,
             "#7fbc41"
            ],
            [
             0.9,
             "#4d9221"
            ],
            [
             1,
             "#276419"
            ]
           ],
           "sequential": [
            [
             0,
             "#0d0887"
            ],
            [
             0.1111111111111111,
             "#46039f"
            ],
            [
             0.2222222222222222,
             "#7201a8"
            ],
            [
             0.3333333333333333,
             "#9c179e"
            ],
            [
             0.4444444444444444,
             "#bd3786"
            ],
            [
             0.5555555555555556,
             "#d8576b"
            ],
            [
             0.6666666666666666,
             "#ed7953"
            ],
            [
             0.7777777777777778,
             "#fb9f3a"
            ],
            [
             0.8888888888888888,
             "#fdca26"
            ],
            [
             1,
             "#f0f921"
            ]
           ],
           "sequentialminus": [
            [
             0,
             "#0d0887"
            ],
            [
             0.1111111111111111,
             "#46039f"
            ],
            [
             0.2222222222222222,
             "#7201a8"
            ],
            [
             0.3333333333333333,
             "#9c179e"
            ],
            [
             0.4444444444444444,
             "#bd3786"
            ],
            [
             0.5555555555555556,
             "#d8576b"
            ],
            [
             0.6666666666666666,
             "#ed7953"
            ],
            [
             0.7777777777777778,
             "#fb9f3a"
            ],
            [
             0.8888888888888888,
             "#fdca26"
            ],
            [
             1,
             "#f0f921"
            ]
           ]
          },
          "colorway": [
           "#636efa",
           "#EF553B",
           "#00cc96",
           "#ab63fa",
           "#FFA15A",
           "#19d3f3",
           "#FF6692",
           "#B6E880",
           "#FF97FF",
           "#FECB52"
          ],
          "font": {
           "color": "#2a3f5f"
          },
          "geo": {
           "bgcolor": "white",
           "lakecolor": "white",
           "landcolor": "#E5ECF6",
           "showlakes": true,
           "showland": true,
           "subunitcolor": "white"
          },
          "hoverlabel": {
           "align": "left"
          },
          "hovermode": "closest",
          "mapbox": {
           "style": "light"
          },
          "paper_bgcolor": "white",
          "plot_bgcolor": "#E5ECF6",
          "polar": {
           "angularaxis": {
            "gridcolor": "white",
            "linecolor": "white",
            "ticks": ""
           },
           "bgcolor": "#E5ECF6",
           "radialaxis": {
            "gridcolor": "white",
            "linecolor": "white",
            "ticks": ""
           }
          },
          "scene": {
           "xaxis": {
            "backgroundcolor": "#E5ECF6",
            "gridcolor": "white",
            "gridwidth": 2,
            "linecolor": "white",
            "showbackground": true,
            "ticks": "",
            "zerolinecolor": "white"
           },
           "yaxis": {
            "backgroundcolor": "#E5ECF6",
            "gridcolor": "white",
            "gridwidth": 2,
            "linecolor": "white",
            "showbackground": true,
            "ticks": "",
            "zerolinecolor": "white"
           },
           "zaxis": {
            "backgroundcolor": "#E5ECF6",
            "gridcolor": "white",
            "gridwidth": 2,
            "linecolor": "white",
            "showbackground": true,
            "ticks": "",
            "zerolinecolor": "white"
           }
          },
          "shapedefaults": {
           "line": {
            "color": "#2a3f5f"
           }
          },
          "ternary": {
           "aaxis": {
            "gridcolor": "white",
            "linecolor": "white",
            "ticks": ""
           },
           "baxis": {
            "gridcolor": "white",
            "linecolor": "white",
            "ticks": ""
           },
           "bgcolor": "#E5ECF6",
           "caxis": {
            "gridcolor": "white",
            "linecolor": "white",
            "ticks": ""
           }
          },
          "title": {
           "x": 0.05
          },
          "xaxis": {
           "automargin": true,
           "gridcolor": "white",
           "linecolor": "white",
           "ticks": "",
           "title": {
            "standoff": 15
           },
           "zerolinecolor": "white",
           "zerolinewidth": 2
          },
          "yaxis": {
           "automargin": true,
           "gridcolor": "white",
           "linecolor": "white",
           "ticks": "",
           "title": {
            "standoff": 15
           },
           "zerolinecolor": "white",
           "zerolinewidth": 2
          }
         }
        },
        "title": {
         "text": "GDP Per Capita before Covid-19"
        },
        "xaxis": {
         "anchor": "y",
         "domain": [
          0,
          1
         ],
         "title": {
          "text": "Country"
         }
        },
        "yaxis": {
         "anchor": "x",
         "domain": [
          0,
          1
         ],
         "title": {
          "text": "Total Cases"
         }
        }
       }
      }
     },
     "metadata": {},
     "output_type": "display_data"
    }
   ],
   "source": [
    "# %%\n",
    "# Analyzing Covid-19 Impacts on Economy\n",
    "fig = px.bar(data.head(20), x = 'Country', y = 'Total Cases', \n",
    "             hover_data=['Population', 'Total Deaths'],\n",
    "             color = \"GDP Per Capita Before Covid\",\n",
    "             title = \"GDP Per Capita before Covid-19\")\n",
    "fig.show()"
   ]
  },
  {
   "cell_type": "markdown",
   "metadata": {},
   "source": [
    "This way of visualising the GDP per capita is not very useful. Let's juxtapose the GDP Per Capita for the countries with the highest number of cases before, during, and after Covid."
   ]
  },
  {
   "cell_type": "code",
   "execution_count": 23,
   "metadata": {},
   "outputs": [
    {
     "data": {
      "application/vnd.plotly.v1+json": {
       "config": {
        "plotlyServerURL": "https://plot.ly"
       },
       "data": [
        {
         "marker": {
          "color": "indianred"
         },
         "name": "GDP Per Capita before Covid-19",
         "type": "bar",
         "x": [
          "United States",
          "Brazil",
          "India",
          "Russia",
          "Peru",
          "Mexico",
          "Spain",
          "South Africa",
          "Colombia",
          "United Kingdom",
          "Iran",
          "Chile",
          "Italy",
          "France",
          "Argentina",
          "Germany",
          "Turkey",
          "Saudi Arabia",
          "Pakistan",
          "Bangladesh"
         ],
         "y": [
          62470.93,
          14685.128,
          6617.13,
          27254.574,
          12735.168,
          20553.955,
          40782.234,
          13850.8955,
          14616.135,
          46909.08,
          14084.354,
          24809.861,
          42739.05,
          45922.793,
          22071.748,
          53884.375,
          28476.684,
          47024.543,
          5157.5464,
          5467.2075
         ]
        },
        {
         "marker": {
          "color": "lightsalmon"
         },
         "name": "GDP Per Capita during Covid-19",
         "type": "bar",
         "x": [
          "United States",
          "Brazil",
          "India",
          "Russia",
          "Peru",
          "Mexico",
          "Spain",
          "South Africa",
          "Colombia",
          "United Kingdom",
          "Iran",
          "Chile",
          "Italy",
          "France",
          "Argentina",
          "Germany",
          "Turkey",
          "Saudi Arabia",
          "Pakistan",
          "Bangladesh"
         ],
         "y": [
          63635.824,
          14735.582,
          6677.185,
          28057.031,
          12533.842,
          19617.76,
          38319.29,
          13337.79,
          14661.213,
          45567.57,
          15004.6875,
          25412.752,
          42562.555,
          44941.438,
          21599.797,
          53395.65,
          31722.16,
          46768.434,
          5233.4595,
          5911.013
         ]
        },
        {
         "marker": {
          "color": "pink"
         },
         "name": "GDP Per Capita after Covid-19",
         "type": "bar",
         "x": [
          "United States",
          "Brazil",
          "India",
          "Russia",
          "Peru",
          "Mexico",
          "Spain",
          "South Africa",
          "Colombia",
          "United Kingdom",
          "Iran",
          "Chile",
          "Italy",
          "France",
          "Argentina",
          "Germany",
          "Turkey",
          "Saudi Arabia",
          "Pakistan",
          "Bangladesh"
         ],
         "y": [
          64623.125,
          15093.465,
          7112.0396,
          27450.45,
          12743.942,
          20254.781,
          40223.01,
          13478.754,
          15616.752,
          47587.168,
          15461.079,
          25886.121,
          44292.19,
          45904.41,
          22461.441,
          53969.625,
          33149.5,
          50188.297,
          5376.967,
          6263.0044
         ]
        }
       ],
       "layout": {
        "barmode": "group",
        "template": {
         "data": {
          "bar": [
           {
            "error_x": {
             "color": "#2a3f5f"
            },
            "error_y": {
             "color": "#2a3f5f"
            },
            "marker": {
             "line": {
              "color": "#E5ECF6",
              "width": 0.5
             },
             "pattern": {
              "fillmode": "overlay",
              "size": 10,
              "solidity": 0.2
             }
            },
            "type": "bar"
           }
          ],
          "barpolar": [
           {
            "marker": {
             "line": {
              "color": "#E5ECF6",
              "width": 0.5
             },
             "pattern": {
              "fillmode": "overlay",
              "size": 10,
              "solidity": 0.2
             }
            },
            "type": "barpolar"
           }
          ],
          "carpet": [
           {
            "aaxis": {
             "endlinecolor": "#2a3f5f",
             "gridcolor": "white",
             "linecolor": "white",
             "minorgridcolor": "white",
             "startlinecolor": "#2a3f5f"
            },
            "baxis": {
             "endlinecolor": "#2a3f5f",
             "gridcolor": "white",
             "linecolor": "white",
             "minorgridcolor": "white",
             "startlinecolor": "#2a3f5f"
            },
            "type": "carpet"
           }
          ],
          "choropleth": [
           {
            "colorbar": {
             "outlinewidth": 0,
             "ticks": ""
            },
            "type": "choropleth"
           }
          ],
          "contour": [
           {
            "colorbar": {
             "outlinewidth": 0,
             "ticks": ""
            },
            "colorscale": [
             [
              0,
              "#0d0887"
             ],
             [
              0.1111111111111111,
              "#46039f"
             ],
             [
              0.2222222222222222,
              "#7201a8"
             ],
             [
              0.3333333333333333,
              "#9c179e"
             ],
             [
              0.4444444444444444,
              "#bd3786"
             ],
             [
              0.5555555555555556,
              "#d8576b"
             ],
             [
              0.6666666666666666,
              "#ed7953"
             ],
             [
              0.7777777777777778,
              "#fb9f3a"
             ],
             [
              0.8888888888888888,
              "#fdca26"
             ],
             [
              1,
              "#f0f921"
             ]
            ],
            "type": "contour"
           }
          ],
          "contourcarpet": [
           {
            "colorbar": {
             "outlinewidth": 0,
             "ticks": ""
            },
            "type": "contourcarpet"
           }
          ],
          "heatmap": [
           {
            "colorbar": {
             "outlinewidth": 0,
             "ticks": ""
            },
            "colorscale": [
             [
              0,
              "#0d0887"
             ],
             [
              0.1111111111111111,
              "#46039f"
             ],
             [
              0.2222222222222222,
              "#7201a8"
             ],
             [
              0.3333333333333333,
              "#9c179e"
             ],
             [
              0.4444444444444444,
              "#bd3786"
             ],
             [
              0.5555555555555556,
              "#d8576b"
             ],
             [
              0.6666666666666666,
              "#ed7953"
             ],
             [
              0.7777777777777778,
              "#fb9f3a"
             ],
             [
              0.8888888888888888,
              "#fdca26"
             ],
             [
              1,
              "#f0f921"
             ]
            ],
            "type": "heatmap"
           }
          ],
          "heatmapgl": [
           {
            "colorbar": {
             "outlinewidth": 0,
             "ticks": ""
            },
            "colorscale": [
             [
              0,
              "#0d0887"
             ],
             [
              0.1111111111111111,
              "#46039f"
             ],
             [
              0.2222222222222222,
              "#7201a8"
             ],
             [
              0.3333333333333333,
              "#9c179e"
             ],
             [
              0.4444444444444444,
              "#bd3786"
             ],
             [
              0.5555555555555556,
              "#d8576b"
             ],
             [
              0.6666666666666666,
              "#ed7953"
             ],
             [
              0.7777777777777778,
              "#fb9f3a"
             ],
             [
              0.8888888888888888,
              "#fdca26"
             ],
             [
              1,
              "#f0f921"
             ]
            ],
            "type": "heatmapgl"
           }
          ],
          "histogram": [
           {
            "marker": {
             "pattern": {
              "fillmode": "overlay",
              "size": 10,
              "solidity": 0.2
             }
            },
            "type": "histogram"
           }
          ],
          "histogram2d": [
           {
            "colorbar": {
             "outlinewidth": 0,
             "ticks": ""
            },
            "colorscale": [
             [
              0,
              "#0d0887"
             ],
             [
              0.1111111111111111,
              "#46039f"
             ],
             [
              0.2222222222222222,
              "#7201a8"
             ],
             [
              0.3333333333333333,
              "#9c179e"
             ],
             [
              0.4444444444444444,
              "#bd3786"
             ],
             [
              0.5555555555555556,
              "#d8576b"
             ],
             [
              0.6666666666666666,
              "#ed7953"
             ],
             [
              0.7777777777777778,
              "#fb9f3a"
             ],
             [
              0.8888888888888888,
              "#fdca26"
             ],
             [
              1,
              "#f0f921"
             ]
            ],
            "type": "histogram2d"
           }
          ],
          "histogram2dcontour": [
           {
            "colorbar": {
             "outlinewidth": 0,
             "ticks": ""
            },
            "colorscale": [
             [
              0,
              "#0d0887"
             ],
             [
              0.1111111111111111,
              "#46039f"
             ],
             [
              0.2222222222222222,
              "#7201a8"
             ],
             [
              0.3333333333333333,
              "#9c179e"
             ],
             [
              0.4444444444444444,
              "#bd3786"
             ],
             [
              0.5555555555555556,
              "#d8576b"
             ],
             [
              0.6666666666666666,
              "#ed7953"
             ],
             [
              0.7777777777777778,
              "#fb9f3a"
             ],
             [
              0.8888888888888888,
              "#fdca26"
             ],
             [
              1,
              "#f0f921"
             ]
            ],
            "type": "histogram2dcontour"
           }
          ],
          "mesh3d": [
           {
            "colorbar": {
             "outlinewidth": 0,
             "ticks": ""
            },
            "type": "mesh3d"
           }
          ],
          "parcoords": [
           {
            "line": {
             "colorbar": {
              "outlinewidth": 0,
              "ticks": ""
             }
            },
            "type": "parcoords"
           }
          ],
          "pie": [
           {
            "automargin": true,
            "type": "pie"
           }
          ],
          "scatter": [
           {
            "fillpattern": {
             "fillmode": "overlay",
             "size": 10,
             "solidity": 0.2
            },
            "type": "scatter"
           }
          ],
          "scatter3d": [
           {
            "line": {
             "colorbar": {
              "outlinewidth": 0,
              "ticks": ""
             }
            },
            "marker": {
             "colorbar": {
              "outlinewidth": 0,
              "ticks": ""
             }
            },
            "type": "scatter3d"
           }
          ],
          "scattercarpet": [
           {
            "marker": {
             "colorbar": {
              "outlinewidth": 0,
              "ticks": ""
             }
            },
            "type": "scattercarpet"
           }
          ],
          "scattergeo": [
           {
            "marker": {
             "colorbar": {
              "outlinewidth": 0,
              "ticks": ""
             }
            },
            "type": "scattergeo"
           }
          ],
          "scattergl": [
           {
            "marker": {
             "colorbar": {
              "outlinewidth": 0,
              "ticks": ""
             }
            },
            "type": "scattergl"
           }
          ],
          "scattermapbox": [
           {
            "marker": {
             "colorbar": {
              "outlinewidth": 0,
              "ticks": ""
             }
            },
            "type": "scattermapbox"
           }
          ],
          "scatterpolar": [
           {
            "marker": {
             "colorbar": {
              "outlinewidth": 0,
              "ticks": ""
             }
            },
            "type": "scatterpolar"
           }
          ],
          "scatterpolargl": [
           {
            "marker": {
             "colorbar": {
              "outlinewidth": 0,
              "ticks": ""
             }
            },
            "type": "scatterpolargl"
           }
          ],
          "scatterternary": [
           {
            "marker": {
             "colorbar": {
              "outlinewidth": 0,
              "ticks": ""
             }
            },
            "type": "scatterternary"
           }
          ],
          "surface": [
           {
            "colorbar": {
             "outlinewidth": 0,
             "ticks": ""
            },
            "colorscale": [
             [
              0,
              "#0d0887"
             ],
             [
              0.1111111111111111,
              "#46039f"
             ],
             [
              0.2222222222222222,
              "#7201a8"
             ],
             [
              0.3333333333333333,
              "#9c179e"
             ],
             [
              0.4444444444444444,
              "#bd3786"
             ],
             [
              0.5555555555555556,
              "#d8576b"
             ],
             [
              0.6666666666666666,
              "#ed7953"
             ],
             [
              0.7777777777777778,
              "#fb9f3a"
             ],
             [
              0.8888888888888888,
              "#fdca26"
             ],
             [
              1,
              "#f0f921"
             ]
            ],
            "type": "surface"
           }
          ],
          "table": [
           {
            "cells": {
             "fill": {
              "color": "#EBF0F8"
             },
             "line": {
              "color": "white"
             }
            },
            "header": {
             "fill": {
              "color": "#C8D4E3"
             },
             "line": {
              "color": "white"
             }
            },
            "type": "table"
           }
          ]
         },
         "layout": {
          "annotationdefaults": {
           "arrowcolor": "#2a3f5f",
           "arrowhead": 0,
           "arrowwidth": 1
          },
          "autotypenumbers": "strict",
          "coloraxis": {
           "colorbar": {
            "outlinewidth": 0,
            "ticks": ""
           }
          },
          "colorscale": {
           "diverging": [
            [
             0,
             "#8e0152"
            ],
            [
             0.1,
             "#c51b7d"
            ],
            [
             0.2,
             "#de77ae"
            ],
            [
             0.3,
             "#f1b6da"
            ],
            [
             0.4,
             "#fde0ef"
            ],
            [
             0.5,
             "#f7f7f7"
            ],
            [
             0.6,
             "#e6f5d0"
            ],
            [
             0.7,
             "#b8e186"
            ],
            [
             0.8,
             "#7fbc41"
            ],
            [
             0.9,
             "#4d9221"
            ],
            [
             1,
             "#276419"
            ]
           ],
           "sequential": [
            [
             0,
             "#0d0887"
            ],
            [
             0.1111111111111111,
             "#46039f"
            ],
            [
             0.2222222222222222,
             "#7201a8"
            ],
            [
             0.3333333333333333,
             "#9c179e"
            ],
            [
             0.4444444444444444,
             "#bd3786"
            ],
            [
             0.5555555555555556,
             "#d8576b"
            ],
            [
             0.6666666666666666,
             "#ed7953"
            ],
            [
             0.7777777777777778,
             "#fb9f3a"
            ],
            [
             0.8888888888888888,
             "#fdca26"
            ],
            [
             1,
             "#f0f921"
            ]
           ],
           "sequentialminus": [
            [
             0,
             "#0d0887"
            ],
            [
             0.1111111111111111,
             "#46039f"
            ],
            [
             0.2222222222222222,
             "#7201a8"
            ],
            [
             0.3333333333333333,
             "#9c179e"
            ],
            [
             0.4444444444444444,
             "#bd3786"
            ],
            [
             0.5555555555555556,
             "#d8576b"
            ],
            [
             0.6666666666666666,
             "#ed7953"
            ],
            [
             0.7777777777777778,
             "#fb9f3a"
            ],
            [
             0.8888888888888888,
             "#fdca26"
            ],
            [
             1,
             "#f0f921"
            ]
           ]
          },
          "colorway": [
           "#636efa",
           "#EF553B",
           "#00cc96",
           "#ab63fa",
           "#FFA15A",
           "#19d3f3",
           "#FF6692",
           "#B6E880",
           "#FF97FF",
           "#FECB52"
          ],
          "font": {
           "color": "#2a3f5f"
          },
          "geo": {
           "bgcolor": "white",
           "lakecolor": "white",
           "landcolor": "#E5ECF6",
           "showlakes": true,
           "showland": true,
           "subunitcolor": "white"
          },
          "hoverlabel": {
           "align": "left"
          },
          "hovermode": "closest",
          "mapbox": {
           "style": "light"
          },
          "paper_bgcolor": "white",
          "plot_bgcolor": "#E5ECF6",
          "polar": {
           "angularaxis": {
            "gridcolor": "white",
            "linecolor": "white",
            "ticks": ""
           },
           "bgcolor": "#E5ECF6",
           "radialaxis": {
            "gridcolor": "white",
            "linecolor": "white",
            "ticks": ""
           }
          },
          "scene": {
           "xaxis": {
            "backgroundcolor": "#E5ECF6",
            "gridcolor": "white",
            "gridwidth": 2,
            "linecolor": "white",
            "showbackground": true,
            "ticks": "",
            "zerolinecolor": "white"
           },
           "yaxis": {
            "backgroundcolor": "#E5ECF6",
            "gridcolor": "white",
            "gridwidth": 2,
            "linecolor": "white",
            "showbackground": true,
            "ticks": "",
            "zerolinecolor": "white"
           },
           "zaxis": {
            "backgroundcolor": "#E5ECF6",
            "gridcolor": "white",
            "gridwidth": 2,
            "linecolor": "white",
            "showbackground": true,
            "ticks": "",
            "zerolinecolor": "white"
           }
          },
          "shapedefaults": {
           "line": {
            "color": "#2a3f5f"
           }
          },
          "ternary": {
           "aaxis": {
            "gridcolor": "white",
            "linecolor": "white",
            "ticks": ""
           },
           "baxis": {
            "gridcolor": "white",
            "linecolor": "white",
            "ticks": ""
           },
           "bgcolor": "#E5ECF6",
           "caxis": {
            "gridcolor": "white",
            "linecolor": "white",
            "ticks": ""
           }
          },
          "title": {
           "x": 0.05
          },
          "xaxis": {
           "automargin": true,
           "gridcolor": "white",
           "linecolor": "white",
           "ticks": "",
           "title": {
            "standoff": 15
           },
           "zerolinecolor": "white",
           "zerolinewidth": 2
          },
          "yaxis": {
           "automargin": true,
           "gridcolor": "white",
           "linecolor": "white",
           "ticks": "",
           "title": {
            "standoff": 15
           },
           "zerolinecolor": "white",
           "zerolinewidth": 2
          }
         }
        },
        "xaxis": {
         "tickangle": -45
        }
       }
      }
     },
     "metadata": {},
     "output_type": "display_data"
    }
   ],
   "source": [
    "# %%\n",
    "fig = go.Figure()\n",
    "fig.add_trace(go.Bar(\n",
    "    x = top_performers[\"Country\"],\n",
    "    y = top_performers[\"GDP Per Capita Before Covid\"],\n",
    "    name='GDP Per Capita before Covid-19',\n",
    "    marker_color='indianred'\n",
    "))\n",
    "fig.add_trace(go.Bar(\n",
    "    x = top_performers[\"Country\"],\n",
    "    y = top_performers[\"GDP Per Capita During Covid\"],\n",
    "    name='GDP Per Capita during Covid-19',\n",
    "    marker_color='lightsalmon'\n",
    "))\n",
    "fig.add_trace(go.Bar(\n",
    "    x = top_performers[\"Country\"],\n",
    "    y = top_performers[\"GDP Per Capita After Covid\"],\n",
    "    name='GDP Per Capita after Covid-19',\n",
    "    marker_color='pink'\n",
    "))\n",
    "fig.update_layout(barmode='group', xaxis_tickangle = -45)\n",
    "fig.show()"
   ]
  },
  {
   "cell_type": "markdown",
   "metadata": {},
   "source": [
    "As we see, for most countries we see a slight drop during covid and subsequent bounce-back. For the US, curiously, it kept increasing year on year, while for Russia the GDP per capita was paradoxically higher during the peak of covid. \\\n",
    "\n",
    "Now, let look at some other metrics like HDI."
   ]
  },
  {
   "cell_type": "code",
   "execution_count": 24,
   "metadata": {},
   "outputs": [
    {
     "data": {
      "application/vnd.plotly.v1+json": {
       "config": {
        "plotlyServerURL": "https://plot.ly"
       },
       "data": [
        {
         "alignmentgroup": "True",
         "customdata": [
          [
           331002647,
           26477574
          ],
          [
           212559409,
           14340567
          ],
          [
           1380004385,
           7247327
          ],
          [
           145934460,
           2131571
          ],
          [
           26355046.972789116,
           3020038
          ],
          [
           128932753,
           7295850
          ],
          [
           46595753.12585034,
           5510624
          ],
          [
           51642940.952380955,
           1357682
          ],
          [
           39633266.789115645,
           1936134
          ],
          [
           67886004,
           7249573
          ],
          [
           83992953,
           2914070
          ],
          [
           14889836.261904761,
           1283880
          ],
          [
           60461828,
           6664225
          ],
          [
           65273512,
           5633444
          ],
          [
           38739237.428571425,
           1077426
          ],
          [
           83783945,
           1640691
          ],
          [
           63110866.46258503,
           1049757
          ],
          [
           27472167.156462584,
           442507
          ],
          [
           220892331,
           789557
          ],
          [
           129398800.92857143,
           484534
          ]
         ],
         "hovertemplate": "Country=%{x}<br>Total Cases=%{y}<br>Population=%{customdata[0]}<br>Total Deaths=%{customdata[1]}<br>HDI=%{marker.color}<extra></extra>",
         "legendgroup": "",
         "marker": {
          "color": [
           0.9240000000000003,
           0.7590000000000001,
           0.64,
           0.816,
           0.5994897959183674,
           0.774,
           0.887969387755102,
           0.6086530612244898,
           0.5818469387755102,
           0.9219999999999999,
           0.798,
           0.6566224489795919,
           0.8799999999999999,
           0.901,
           0.7071428571428571,
           0.9360000000000003,
           0.591904761904762,
           0.6731156462585033,
           0.5620000000000002,
           0.47771428571428576
          ],
          "coloraxis": "coloraxis",
          "pattern": {
           "shape": ""
          }
         },
         "name": "",
         "offsetgroup": "",
         "orientation": "v",
         "showlegend": false,
         "textposition": "auto",
         "type": "bar",
         "x": [
          "United States",
          "Brazil",
          "India",
          "Russia",
          "Peru",
          "Mexico",
          "Spain",
          "South Africa",
          "Colombia",
          "United Kingdom",
          "Iran",
          "Chile",
          "Italy",
          "France",
          "Argentina",
          "Germany",
          "Turkey",
          "Saudi Arabia",
          "Pakistan",
          "Bangladesh"
         ],
         "xaxis": "x",
         "y": [
          746014098,
          425704517,
          407771615,
          132888951,
          74882695,
          74347548,
          73717676,
          63027659,
          60543682,
          59475032,
          52421884,
          51268034,
          50752853,
          50084335,
          47155234,
          42447678,
          41431948,
          38585191,
          37738077,
          35266178
         ],
         "yaxis": "y"
        }
       ],
       "layout": {
        "barmode": "relative",
        "coloraxis": {
         "colorbar": {
          "title": {
           "text": "HDI"
          }
         },
         "colorscale": [
          [
           0,
           "#0d0887"
          ],
          [
           0.1111111111111111,
           "#46039f"
          ],
          [
           0.2222222222222222,
           "#7201a8"
          ],
          [
           0.3333333333333333,
           "#9c179e"
          ],
          [
           0.4444444444444444,
           "#bd3786"
          ],
          [
           0.5555555555555556,
           "#d8576b"
          ],
          [
           0.6666666666666666,
           "#ed7953"
          ],
          [
           0.7777777777777778,
           "#fb9f3a"
          ],
          [
           0.8888888888888888,
           "#fdca26"
          ],
          [
           1,
           "#f0f921"
          ]
         ]
        },
        "height": 400,
        "legend": {
         "tracegroupgap": 0
        },
        "template": {
         "data": {
          "bar": [
           {
            "error_x": {
             "color": "#2a3f5f"
            },
            "error_y": {
             "color": "#2a3f5f"
            },
            "marker": {
             "line": {
              "color": "#E5ECF6",
              "width": 0.5
             },
             "pattern": {
              "fillmode": "overlay",
              "size": 10,
              "solidity": 0.2
             }
            },
            "type": "bar"
           }
          ],
          "barpolar": [
           {
            "marker": {
             "line": {
              "color": "#E5ECF6",
              "width": 0.5
             },
             "pattern": {
              "fillmode": "overlay",
              "size": 10,
              "solidity": 0.2
             }
            },
            "type": "barpolar"
           }
          ],
          "carpet": [
           {
            "aaxis": {
             "endlinecolor": "#2a3f5f",
             "gridcolor": "white",
             "linecolor": "white",
             "minorgridcolor": "white",
             "startlinecolor": "#2a3f5f"
            },
            "baxis": {
             "endlinecolor": "#2a3f5f",
             "gridcolor": "white",
             "linecolor": "white",
             "minorgridcolor": "white",
             "startlinecolor": "#2a3f5f"
            },
            "type": "carpet"
           }
          ],
          "choropleth": [
           {
            "colorbar": {
             "outlinewidth": 0,
             "ticks": ""
            },
            "type": "choropleth"
           }
          ],
          "contour": [
           {
            "colorbar": {
             "outlinewidth": 0,
             "ticks": ""
            },
            "colorscale": [
             [
              0,
              "#0d0887"
             ],
             [
              0.1111111111111111,
              "#46039f"
             ],
             [
              0.2222222222222222,
              "#7201a8"
             ],
             [
              0.3333333333333333,
              "#9c179e"
             ],
             [
              0.4444444444444444,
              "#bd3786"
             ],
             [
              0.5555555555555556,
              "#d8576b"
             ],
             [
              0.6666666666666666,
              "#ed7953"
             ],
             [
              0.7777777777777778,
              "#fb9f3a"
             ],
             [
              0.8888888888888888,
              "#fdca26"
             ],
             [
              1,
              "#f0f921"
             ]
            ],
            "type": "contour"
           }
          ],
          "contourcarpet": [
           {
            "colorbar": {
             "outlinewidth": 0,
             "ticks": ""
            },
            "type": "contourcarpet"
           }
          ],
          "heatmap": [
           {
            "colorbar": {
             "outlinewidth": 0,
             "ticks": ""
            },
            "colorscale": [
             [
              0,
              "#0d0887"
             ],
             [
              0.1111111111111111,
              "#46039f"
             ],
             [
              0.2222222222222222,
              "#7201a8"
             ],
             [
              0.3333333333333333,
              "#9c179e"
             ],
             [
              0.4444444444444444,
              "#bd3786"
             ],
             [
              0.5555555555555556,
              "#d8576b"
             ],
             [
              0.6666666666666666,
              "#ed7953"
             ],
             [
              0.7777777777777778,
              "#fb9f3a"
             ],
             [
              0.8888888888888888,
              "#fdca26"
             ],
             [
              1,
              "#f0f921"
             ]
            ],
            "type": "heatmap"
           }
          ],
          "heatmapgl": [
           {
            "colorbar": {
             "outlinewidth": 0,
             "ticks": ""
            },
            "colorscale": [
             [
              0,
              "#0d0887"
             ],
             [
              0.1111111111111111,
              "#46039f"
             ],
             [
              0.2222222222222222,
              "#7201a8"
             ],
             [
              0.3333333333333333,
              "#9c179e"
             ],
             [
              0.4444444444444444,
              "#bd3786"
             ],
             [
              0.5555555555555556,
              "#d8576b"
             ],
             [
              0.6666666666666666,
              "#ed7953"
             ],
             [
              0.7777777777777778,
              "#fb9f3a"
             ],
             [
              0.8888888888888888,
              "#fdca26"
             ],
             [
              1,
              "#f0f921"
             ]
            ],
            "type": "heatmapgl"
           }
          ],
          "histogram": [
           {
            "marker": {
             "pattern": {
              "fillmode": "overlay",
              "size": 10,
              "solidity": 0.2
             }
            },
            "type": "histogram"
           }
          ],
          "histogram2d": [
           {
            "colorbar": {
             "outlinewidth": 0,
             "ticks": ""
            },
            "colorscale": [
             [
              0,
              "#0d0887"
             ],
             [
              0.1111111111111111,
              "#46039f"
             ],
             [
              0.2222222222222222,
              "#7201a8"
             ],
             [
              0.3333333333333333,
              "#9c179e"
             ],
             [
              0.4444444444444444,
              "#bd3786"
             ],
             [
              0.5555555555555556,
              "#d8576b"
             ],
             [
              0.6666666666666666,
              "#ed7953"
             ],
             [
              0.7777777777777778,
              "#fb9f3a"
             ],
             [
              0.8888888888888888,
              "#fdca26"
             ],
             [
              1,
              "#f0f921"
             ]
            ],
            "type": "histogram2d"
           }
          ],
          "histogram2dcontour": [
           {
            "colorbar": {
             "outlinewidth": 0,
             "ticks": ""
            },
            "colorscale": [
             [
              0,
              "#0d0887"
             ],
             [
              0.1111111111111111,
              "#46039f"
             ],
             [
              0.2222222222222222,
              "#7201a8"
             ],
             [
              0.3333333333333333,
              "#9c179e"
             ],
             [
              0.4444444444444444,
              "#bd3786"
             ],
             [
              0.5555555555555556,
              "#d8576b"
             ],
             [
              0.6666666666666666,
              "#ed7953"
             ],
             [
              0.7777777777777778,
              "#fb9f3a"
             ],
             [
              0.8888888888888888,
              "#fdca26"
             ],
             [
              1,
              "#f0f921"
             ]
            ],
            "type": "histogram2dcontour"
           }
          ],
          "mesh3d": [
           {
            "colorbar": {
             "outlinewidth": 0,
             "ticks": ""
            },
            "type": "mesh3d"
           }
          ],
          "parcoords": [
           {
            "line": {
             "colorbar": {
              "outlinewidth": 0,
              "ticks": ""
             }
            },
            "type": "parcoords"
           }
          ],
          "pie": [
           {
            "automargin": true,
            "type": "pie"
           }
          ],
          "scatter": [
           {
            "fillpattern": {
             "fillmode": "overlay",
             "size": 10,
             "solidity": 0.2
            },
            "type": "scatter"
           }
          ],
          "scatter3d": [
           {
            "line": {
             "colorbar": {
              "outlinewidth": 0,
              "ticks": ""
             }
            },
            "marker": {
             "colorbar": {
              "outlinewidth": 0,
              "ticks": ""
             }
            },
            "type": "scatter3d"
           }
          ],
          "scattercarpet": [
           {
            "marker": {
             "colorbar": {
              "outlinewidth": 0,
              "ticks": ""
             }
            },
            "type": "scattercarpet"
           }
          ],
          "scattergeo": [
           {
            "marker": {
             "colorbar": {
              "outlinewidth": 0,
              "ticks": ""
             }
            },
            "type": "scattergeo"
           }
          ],
          "scattergl": [
           {
            "marker": {
             "colorbar": {
              "outlinewidth": 0,
              "ticks": ""
             }
            },
            "type": "scattergl"
           }
          ],
          "scattermapbox": [
           {
            "marker": {
             "colorbar": {
              "outlinewidth": 0,
              "ticks": ""
             }
            },
            "type": "scattermapbox"
           }
          ],
          "scatterpolar": [
           {
            "marker": {
             "colorbar": {
              "outlinewidth": 0,
              "ticks": ""
             }
            },
            "type": "scatterpolar"
           }
          ],
          "scatterpolargl": [
           {
            "marker": {
             "colorbar": {
              "outlinewidth": 0,
              "ticks": ""
             }
            },
            "type": "scatterpolargl"
           }
          ],
          "scatterternary": [
           {
            "marker": {
             "colorbar": {
              "outlinewidth": 0,
              "ticks": ""
             }
            },
            "type": "scatterternary"
           }
          ],
          "surface": [
           {
            "colorbar": {
             "outlinewidth": 0,
             "ticks": ""
            },
            "colorscale": [
             [
              0,
              "#0d0887"
             ],
             [
              0.1111111111111111,
              "#46039f"
             ],
             [
              0.2222222222222222,
              "#7201a8"
             ],
             [
              0.3333333333333333,
              "#9c179e"
             ],
             [
              0.4444444444444444,
              "#bd3786"
             ],
             [
              0.5555555555555556,
              "#d8576b"
             ],
             [
              0.6666666666666666,
              "#ed7953"
             ],
             [
              0.7777777777777778,
              "#fb9f3a"
             ],
             [
              0.8888888888888888,
              "#fdca26"
             ],
             [
              1,
              "#f0f921"
             ]
            ],
            "type": "surface"
           }
          ],
          "table": [
           {
            "cells": {
             "fill": {
              "color": "#EBF0F8"
             },
             "line": {
              "color": "white"
             }
            },
            "header": {
             "fill": {
              "color": "#C8D4E3"
             },
             "line": {
              "color": "white"
             }
            },
            "type": "table"
           }
          ]
         },
         "layout": {
          "annotationdefaults": {
           "arrowcolor": "#2a3f5f",
           "arrowhead": 0,
           "arrowwidth": 1
          },
          "autotypenumbers": "strict",
          "coloraxis": {
           "colorbar": {
            "outlinewidth": 0,
            "ticks": ""
           }
          },
          "colorscale": {
           "diverging": [
            [
             0,
             "#8e0152"
            ],
            [
             0.1,
             "#c51b7d"
            ],
            [
             0.2,
             "#de77ae"
            ],
            [
             0.3,
             "#f1b6da"
            ],
            [
             0.4,
             "#fde0ef"
            ],
            [
             0.5,
             "#f7f7f7"
            ],
            [
             0.6,
             "#e6f5d0"
            ],
            [
             0.7,
             "#b8e186"
            ],
            [
             0.8,
             "#7fbc41"
            ],
            [
             0.9,
             "#4d9221"
            ],
            [
             1,
             "#276419"
            ]
           ],
           "sequential": [
            [
             0,
             "#0d0887"
            ],
            [
             0.1111111111111111,
             "#46039f"
            ],
            [
             0.2222222222222222,
             "#7201a8"
            ],
            [
             0.3333333333333333,
             "#9c179e"
            ],
            [
             0.4444444444444444,
             "#bd3786"
            ],
            [
             0.5555555555555556,
             "#d8576b"
            ],
            [
             0.6666666666666666,
             "#ed7953"
            ],
            [
             0.7777777777777778,
             "#fb9f3a"
            ],
            [
             0.8888888888888888,
             "#fdca26"
            ],
            [
             1,
             "#f0f921"
            ]
           ],
           "sequentialminus": [
            [
             0,
             "#0d0887"
            ],
            [
             0.1111111111111111,
             "#46039f"
            ],
            [
             0.2222222222222222,
             "#7201a8"
            ],
            [
             0.3333333333333333,
             "#9c179e"
            ],
            [
             0.4444444444444444,
             "#bd3786"
            ],
            [
             0.5555555555555556,
             "#d8576b"
            ],
            [
             0.6666666666666666,
             "#ed7953"
            ],
            [
             0.7777777777777778,
             "#fb9f3a"
            ],
            [
             0.8888888888888888,
             "#fdca26"
            ],
            [
             1,
             "#f0f921"
            ]
           ]
          },
          "colorway": [
           "#636efa",
           "#EF553B",
           "#00cc96",
           "#ab63fa",
           "#FFA15A",
           "#19d3f3",
           "#FF6692",
           "#B6E880",
           "#FF97FF",
           "#FECB52"
          ],
          "font": {
           "color": "#2a3f5f"
          },
          "geo": {
           "bgcolor": "white",
           "lakecolor": "white",
           "landcolor": "#E5ECF6",
           "showlakes": true,
           "showland": true,
           "subunitcolor": "white"
          },
          "hoverlabel": {
           "align": "left"
          },
          "hovermode": "closest",
          "mapbox": {
           "style": "light"
          },
          "paper_bgcolor": "white",
          "plot_bgcolor": "#E5ECF6",
          "polar": {
           "angularaxis": {
            "gridcolor": "white",
            "linecolor": "white",
            "ticks": ""
           },
           "bgcolor": "#E5ECF6",
           "radialaxis": {
            "gridcolor": "white",
            "linecolor": "white",
            "ticks": ""
           }
          },
          "scene": {
           "xaxis": {
            "backgroundcolor": "#E5ECF6",
            "gridcolor": "white",
            "gridwidth": 2,
            "linecolor": "white",
            "showbackground": true,
            "ticks": "",
            "zerolinecolor": "white"
           },
           "yaxis": {
            "backgroundcolor": "#E5ECF6",
            "gridcolor": "white",
            "gridwidth": 2,
            "linecolor": "white",
            "showbackground": true,
            "ticks": "",
            "zerolinecolor": "white"
           },
           "zaxis": {
            "backgroundcolor": "#E5ECF6",
            "gridcolor": "white",
            "gridwidth": 2,
            "linecolor": "white",
            "showbackground": true,
            "ticks": "",
            "zerolinecolor": "white"
           }
          },
          "shapedefaults": {
           "line": {
            "color": "#2a3f5f"
           }
          },
          "ternary": {
           "aaxis": {
            "gridcolor": "white",
            "linecolor": "white",
            "ticks": ""
           },
           "baxis": {
            "gridcolor": "white",
            "linecolor": "white",
            "ticks": ""
           },
           "bgcolor": "#E5ECF6",
           "caxis": {
            "gridcolor": "white",
            "linecolor": "white",
            "ticks": ""
           }
          },
          "title": {
           "x": 0.05
          },
          "xaxis": {
           "automargin": true,
           "gridcolor": "white",
           "linecolor": "white",
           "ticks": "",
           "title": {
            "standoff": 15
           },
           "zerolinecolor": "white",
           "zerolinewidth": 2
          },
          "yaxis": {
           "automargin": true,
           "gridcolor": "white",
           "linecolor": "white",
           "ticks": "",
           "title": {
            "standoff": 15
           },
           "zerolinecolor": "white",
           "zerolinewidth": 2
          }
         }
        },
        "title": {
         "text": "Human Development Index during Covid-19"
        },
        "xaxis": {
         "anchor": "y",
         "domain": [
          0,
          1
         ],
         "title": {
          "text": "Country"
         }
        },
        "yaxis": {
         "anchor": "x",
         "domain": [
          0,
          1
         ],
         "title": {
          "text": "Total Cases"
         }
        }
       }
      }
     },
     "metadata": {},
     "output_type": "display_data"
    }
   ],
   "source": [
    "# %%\n",
    "# Human Development Index. It is a statistic composite index of life expectancy, education, and per capita indicators\n",
    "fig = px.bar(data.head(20), x = 'Country', y = 'Total Cases', \n",
    "             hover_data=['Population', 'Total Deaths'],\n",
    "             color = \"HDI\", height= 400,\n",
    "             title = \"Human Development Index during Covid-19\")\n",
    "fig.show()"
   ]
  },
  {
   "cell_type": "markdown",
   "metadata": {},
   "source": [
    "As expected, for the most part. We have one thing left that we haven't confirmed from the data yet - how the stringency index correlates with the percentage death as well as the bounce-back in the economy.\n",
    "\n",
    "## Predictive Modelling"
   ]
  },
  {
   "cell_type": "code",
   "execution_count": 26,
   "metadata": {},
   "outputs": [
    {
     "data": {
      "text/html": [
       "<div>\n",
       "<style scoped>\n",
       "    .dataframe tbody tr th:only-of-type {\n",
       "        vertical-align: middle;\n",
       "    }\n",
       "\n",
       "    .dataframe tbody tr th {\n",
       "        vertical-align: top;\n",
       "    }\n",
       "\n",
       "    .dataframe thead th {\n",
       "        text-align: right;\n",
       "    }\n",
       "</style>\n",
       "<table border=\"1\" class=\"dataframe\">\n",
       "  <thead>\n",
       "    <tr style=\"text-align: right;\">\n",
       "      <th></th>\n",
       "      <th>Country Code</th>\n",
       "      <th>Country</th>\n",
       "      <th>HDI</th>\n",
       "      <th>Total Cases</th>\n",
       "      <th>Total Deaths</th>\n",
       "      <th>Stringency Index</th>\n",
       "      <th>Population</th>\n",
       "      <th>GDP Per Capita Before Covid</th>\n",
       "      <th>GDP Per Capita During Covid</th>\n",
       "      <th>GDP Per Capita After Covid</th>\n",
       "      <th>Cases Per Capita</th>\n",
       "      <th>Cases Per Thousand</th>\n",
       "      <th>percentage_of_deaths</th>\n",
       "    </tr>\n",
       "  </thead>\n",
       "  <tbody>\n",
       "    <tr>\n",
       "      <th>169</th>\n",
       "      <td>SGP</td>\n",
       "      <td>United States</td>\n",
       "      <td>0.92400</td>\n",
       "      <td>746014098.0</td>\n",
       "      <td>26477574.0</td>\n",
       "      <td>3.350949</td>\n",
       "      <td>3.310026e+08</td>\n",
       "      <td>62470.930</td>\n",
       "      <td>63635.824</td>\n",
       "      <td>64623.1250</td>\n",
       "      <td>2.253801</td>\n",
       "      <td>2253.801004</td>\n",
       "      <td>3.549206</td>\n",
       "    </tr>\n",
       "    <tr>\n",
       "      <th>22</th>\n",
       "      <td>BTN</td>\n",
       "      <td>Brazil</td>\n",
       "      <td>0.75900</td>\n",
       "      <td>425704517.0</td>\n",
       "      <td>14340567.0</td>\n",
       "      <td>3.136028</td>\n",
       "      <td>2.125594e+08</td>\n",
       "      <td>14685.128</td>\n",
       "      <td>14735.582</td>\n",
       "      <td>15093.4650</td>\n",
       "      <td>2.002755</td>\n",
       "      <td>2002.755460</td>\n",
       "      <td>3.368667</td>\n",
       "    </tr>\n",
       "    <tr>\n",
       "      <th>74</th>\n",
       "      <td>GHA</td>\n",
       "      <td>India</td>\n",
       "      <td>0.64000</td>\n",
       "      <td>407771615.0</td>\n",
       "      <td>7247327.0</td>\n",
       "      <td>3.610552</td>\n",
       "      <td>1.380004e+09</td>\n",
       "      <td>6617.130</td>\n",
       "      <td>6677.185</td>\n",
       "      <td>7112.0396</td>\n",
       "      <td>0.295486</td>\n",
       "      <td>295.485739</td>\n",
       "      <td>1.777301</td>\n",
       "    </tr>\n",
       "    <tr>\n",
       "      <th>132</th>\n",
       "      <td>MOZ</td>\n",
       "      <td>Russia</td>\n",
       "      <td>0.81600</td>\n",
       "      <td>132888951.0</td>\n",
       "      <td>2131571.0</td>\n",
       "      <td>3.380088</td>\n",
       "      <td>1.459345e+08</td>\n",
       "      <td>27254.574</td>\n",
       "      <td>28057.031</td>\n",
       "      <td>27450.4500</td>\n",
       "      <td>0.910607</td>\n",
       "      <td>910.607070</td>\n",
       "      <td>1.604024</td>\n",
       "    </tr>\n",
       "    <tr>\n",
       "      <th>125</th>\n",
       "      <td>MEX</td>\n",
       "      <td>Peru</td>\n",
       "      <td>0.59949</td>\n",
       "      <td>74882695.0</td>\n",
       "      <td>3020038.0</td>\n",
       "      <td>3.430126</td>\n",
       "      <td>2.635505e+07</td>\n",
       "      <td>12735.168</td>\n",
       "      <td>12533.842</td>\n",
       "      <td>12743.9420</td>\n",
       "      <td>2.841304</td>\n",
       "      <td>2841.303796</td>\n",
       "      <td>4.033025</td>\n",
       "    </tr>\n",
       "  </tbody>\n",
       "</table>\n",
       "</div>"
      ],
      "text/plain": [
       "    Country Code        Country      HDI  Total Cases  Total Deaths  \\\n",
       "169          SGP  United States  0.92400  746014098.0    26477574.0   \n",
       "22           BTN         Brazil  0.75900  425704517.0    14340567.0   \n",
       "74           GHA          India  0.64000  407771615.0     7247327.0   \n",
       "132          MOZ         Russia  0.81600  132888951.0     2131571.0   \n",
       "125          MEX           Peru  0.59949   74882695.0     3020038.0   \n",
       "\n",
       "     Stringency Index    Population  GDP Per Capita Before Covid  \\\n",
       "169          3.350949  3.310026e+08                    62470.930   \n",
       "22           3.136028  2.125594e+08                    14685.128   \n",
       "74           3.610552  1.380004e+09                     6617.130   \n",
       "132          3.380088  1.459345e+08                    27254.574   \n",
       "125          3.430126  2.635505e+07                    12735.168   \n",
       "\n",
       "     GDP Per Capita During Covid  GDP Per Capita After Covid  \\\n",
       "169                    63635.824                  64623.1250   \n",
       "22                     14735.582                  15093.4650   \n",
       "74                      6677.185                   7112.0396   \n",
       "132                    28057.031                  27450.4500   \n",
       "125                    12533.842                  12743.9420   \n",
       "\n",
       "     Cases Per Capita  Cases Per Thousand  percentage_of_deaths  \n",
       "169          2.253801         2253.801004              3.549206  \n",
       "22           2.002755         2002.755460              3.368667  \n",
       "74           0.295486          295.485739              1.777301  \n",
       "132          0.910607          910.607070              1.604024  \n",
       "125          2.841304         2841.303796              4.033025  "
      ]
     },
     "execution_count": 26,
     "metadata": {},
     "output_type": "execute_result"
    }
   ],
   "source": [
    "data.head()"
   ]
  },
  {
   "cell_type": "code",
   "execution_count": 32,
   "metadata": {},
   "outputs": [
    {
     "data": {
      "application/vnd.plotly.v1+json": {
       "config": {
        "plotlyServerURL": "https://plot.ly"
       },
       "data": [
        {
         "hovertemplate": "Country=United States<br>Stringency Index=%{x}<br>Bounce Back Percentage=%{y}<br>Total Cases=%{marker.size}<extra></extra>",
         "legendgroup": "United States",
         "marker": {
          "color": "#636efa",
          "size": [
           746014098
          ],
          "sizemode": "area",
          "sizeref": 1865035.245,
          "symbol": "circle"
         },
         "mode": "markers",
         "name": "United States",
         "orientation": "v",
         "showlegend": true,
         "type": "scatter",
         "x": [
          3.3509486690850343
         ],
         "xaxis": "x",
         "y": [
          1.551486156602607
         ],
         "yaxis": "y"
        },
        {
         "hovertemplate": "Country=Brazil<br>Stringency Index=%{x}<br>Bounce Back Percentage=%{y}<br>Total Cases=%{marker.size}<extra></extra>",
         "legendgroup": "Brazil",
         "marker": {
          "color": "#EF553B",
          "size": [
           425704517
          ],
          "sizemode": "area",
          "sizeref": 1865035.245,
          "symbol": "circle"
         },
         "mode": "markers",
         "name": "Brazil",
         "orientation": "v",
         "showlegend": true,
         "type": "scatter",
         "x": [
          3.136027957462585
         ],
         "xaxis": "x",
         "y": [
          2.4286994568656994
         ],
         "yaxis": "y"
        },
        {
         "hovertemplate": "Country=India<br>Stringency Index=%{x}<br>Bounce Back Percentage=%{y}<br>Total Cases=%{marker.size}<extra></extra>",
         "legendgroup": "India",
         "marker": {
          "color": "#00cc96",
          "size": [
           407771615
          ],
          "sizemode": "area",
          "sizeref": 1865035.245,
          "symbol": "circle"
         },
         "mode": "markers",
         "name": "India",
         "orientation": "v",
         "showlegend": true,
         "type": "scatter",
         "x": [
          3.6105521148129256
         ],
         "xaxis": "x",
         "y": [
          6.512543833965954
         ],
         "yaxis": "y"
        },
        {
         "hovertemplate": "Country=Russia<br>Stringency Index=%{x}<br>Bounce Back Percentage=%{y}<br>Total Cases=%{marker.size}<extra></extra>",
         "legendgroup": "Russia",
         "marker": {
          "color": "#ab63fa",
          "size": [
           132888951
          ],
          "sizemode": "area",
          "sizeref": 1865035.245,
          "symbol": "circle"
         },
         "mode": "markers",
         "name": "Russia",
         "orientation": "v",
         "showlegend": true,
         "type": "scatter",
         "x": [
          3.380088191482993
         ],
         "xaxis": "x",
         "y": [
          -2.161957193546239
         ],
         "yaxis": "y"
        },
        {
         "hovertemplate": "Country=Peru<br>Stringency Index=%{x}<br>Bounce Back Percentage=%{y}<br>Total Cases=%{marker.size}<extra></extra>",
         "legendgroup": "Peru",
         "marker": {
          "color": "#FFA15A",
          "size": [
           74882695
          ],
          "sizemode": "area",
          "sizeref": 1865035.245,
          "symbol": "circle"
         },
         "mode": "markers",
         "name": "Peru",
         "orientation": "v",
         "showlegend": true,
         "type": "scatter",
         "x": [
          3.4301264381156464
         ],
         "xaxis": "x",
         "y": [
          1.676261755972339
         ],
         "yaxis": "y"
        },
        {
         "hovertemplate": "Country=Mexico<br>Stringency Index=%{x}<br>Bounce Back Percentage=%{y}<br>Total Cases=%{marker.size}<extra></extra>",
         "legendgroup": "Mexico",
         "marker": {
          "color": "#19d3f3",
          "size": [
           74347548
          ],
          "sizemode": "area",
          "sizeref": 1865035.245,
          "symbol": "circle"
         },
         "mode": "markers",
         "name": "Mexico",
         "orientation": "v",
         "showlegend": true,
         "type": "scatter",
         "x": [
          3.0192894045204084
         ],
         "xaxis": "x",
         "y": [
          3.2471648139237135
         ],
         "yaxis": "y"
        },
        {
         "hovertemplate": "Country=Spain<br>Stringency Index=%{x}<br>Bounce Back Percentage=%{y}<br>Total Cases=%{marker.size}<extra></extra>",
         "legendgroup": "Spain",
         "marker": {
          "color": "#FF6692",
          "size": [
           73717676
          ],
          "sizemode": "area",
          "sizeref": 1865035.245,
          "symbol": "circle"
         },
         "mode": "markers",
         "name": "Spain",
         "orientation": "v",
         "showlegend": true,
         "type": "scatter",
         "x": [
          3.393922273142857
         ],
         "xaxis": "x",
         "y": [
          4.968046119852432
         ],
         "yaxis": "y"
        },
        {
         "hovertemplate": "Country=South Africa<br>Stringency Index=%{x}<br>Bounce Back Percentage=%{y}<br>Total Cases=%{marker.size}<extra></extra>",
         "legendgroup": "South Africa",
         "marker": {
          "color": "#B6E880",
          "size": [
           63027659
          ],
          "sizemode": "area",
          "sizeref": 1865035.245,
          "symbol": "circle"
         },
         "mode": "markers",
         "name": "South Africa",
         "orientation": "v",
         "showlegend": true,
         "type": "scatter",
         "x": [
          3.3643329908979593
         ],
         "xaxis": "x",
         "y": [
          1.0568767389500056
         ],
         "yaxis": "y"
        },
        {
         "hovertemplate": "Country=Colombia<br>Stringency Index=%{x}<br>Bounce Back Percentage=%{y}<br>Total Cases=%{marker.size}<extra></extra>",
         "legendgroup": "Colombia",
         "marker": {
          "color": "#FF97FF",
          "size": [
           60543682
          ],
          "sizemode": "area",
          "sizeref": 1865035.245,
          "symbol": "circle"
         },
         "mode": "markers",
         "name": "Colombia",
         "orientation": "v",
         "showlegend": true,
         "type": "scatter",
         "x": [
          3.3579230454251703
         ],
         "xaxis": "x",
         "y": [
          6.517462095394158
         ],
         "yaxis": "y"
        },
        {
         "hovertemplate": "Country=United Kingdom<br>Stringency Index=%{x}<br>Bounce Back Percentage=%{y}<br>Total Cases=%{marker.size}<extra></extra>",
         "legendgroup": "United Kingdom",
         "marker": {
          "color": "#FECB52",
          "size": [
           59475032
          ],
          "sizemode": "area",
          "sizeref": 1865035.245,
          "symbol": "circle"
         },
         "mode": "markers",
         "name": "United Kingdom",
         "orientation": "v",
         "showlegend": true,
         "type": "scatter",
         "x": [
          3.3538831399625852
         ],
         "xaxis": "x",
         "y": [
          4.432095018452812
         ],
         "yaxis": "y"
        },
        {
         "hovertemplate": "Country=Iran<br>Stringency Index=%{x}<br>Bounce Back Percentage=%{y}<br>Total Cases=%{marker.size}<extra></extra>",
         "legendgroup": "Iran",
         "marker": {
          "color": "#636efa",
          "size": [
           52421884
          ],
          "sizemode": "area",
          "sizeref": 1865035.245,
          "symbol": "circle"
         },
         "mode": "markers",
         "name": "Iran",
         "orientation": "v",
         "showlegend": true,
         "type": "scatter",
         "x": [
          3.207064113278912
         ],
         "xaxis": "x",
         "y": [
          3.041659481412057
         ],
         "yaxis": "y"
        },
        {
         "hovertemplate": "Country=Chile<br>Stringency Index=%{x}<br>Bounce Back Percentage=%{y}<br>Total Cases=%{marker.size}<extra></extra>",
         "legendgroup": "Chile",
         "marker": {
          "color": "#EF553B",
          "size": [
           51268034
          ],
          "sizemode": "area",
          "sizeref": 1865035.245,
          "symbol": "circle"
         },
         "mode": "markers",
         "name": "Chile",
         "orientation": "v",
         "showlegend": true,
         "type": "scatter",
         "x": [
          2.989193634731293
         ],
         "xaxis": "x",
         "y": [
          1.8627223057148583
         ],
         "yaxis": "y"
        },
        {
         "hovertemplate": "Country=Italy<br>Stringency Index=%{x}<br>Bounce Back Percentage=%{y}<br>Total Cases=%{marker.size}<extra></extra>",
         "legendgroup": "Italy",
         "marker": {
          "color": "#00cc96",
          "size": [
           50752853
          ],
          "sizemode": "area",
          "sizeref": 1865035.245,
          "symbol": "circle"
         },
         "mode": "markers",
         "name": "Italy",
         "orientation": "v",
         "showlegend": true,
         "type": "scatter",
         "x": [
          3.629838088122449
         ],
         "xaxis": "x",
         "y": [
          4.063748052719114
         ],
         "yaxis": "y"
        },
        {
         "hovertemplate": "Country=France<br>Stringency Index=%{x}<br>Bounce Back Percentage=%{y}<br>Total Cases=%{marker.size}<extra></extra>",
         "legendgroup": "France",
         "marker": {
          "color": "#ab63fa",
          "size": [
           50084335
          ],
          "sizemode": "area",
          "sizeref": 1865035.245,
          "symbol": "circle"
         },
         "mode": "markers",
         "name": "France",
         "orientation": "v",
         "showlegend": true,
         "type": "scatter",
         "x": [
          3.3857936759115645
         ],
         "xaxis": "x",
         "y": [
          2.1427262741348008
         ],
         "yaxis": "y"
        },
        {
         "hovertemplate": "Country=Argentina<br>Stringency Index=%{x}<br>Bounce Back Percentage=%{y}<br>Total Cases=%{marker.size}<extra></extra>",
         "legendgroup": "Argentina",
         "marker": {
          "color": "#FFA15A",
          "size": [
           47155234
          ],
          "sizemode": "area",
          "sizeref": 1865035.245,
          "symbol": "circle"
         },
         "mode": "markers",
         "name": "Argentina",
         "orientation": "v",
         "showlegend": true,
         "type": "scatter",
         "x": [
          3.4754380163809526
         ],
         "xaxis": "x",
         "y": [
          3.9891300830280967
         ],
         "yaxis": "y"
        },
        {
         "hovertemplate": "Country=Germany<br>Stringency Index=%{x}<br>Bounce Back Percentage=%{y}<br>Total Cases=%{marker.size}<extra></extra>",
         "legendgroup": "Germany",
         "marker": {
          "color": "#19d3f3",
          "size": [
           42447678
          ],
          "sizemode": "area",
          "sizeref": 1865035.245,
          "symbol": "circle"
         },
         "mode": "markers",
         "name": "Germany",
         "orientation": "v",
         "showlegend": true,
         "type": "scatter",
         "x": [
          3.28451614412585
         ],
         "xaxis": "x",
         "y": [
          1.0749471164785867
         ],
         "yaxis": "y"
        },
        {
         "hovertemplate": "Country=Turkey<br>Stringency Index=%{x}<br>Bounce Back Percentage=%{y}<br>Total Cases=%{marker.size}<extra></extra>",
         "legendgroup": "Turkey",
         "marker": {
          "color": "#FF6692",
          "size": [
           41431948
          ],
          "sizemode": "area",
          "sizeref": 1865035.245,
          "symbol": "circle"
         },
         "mode": "markers",
         "name": "Turkey",
         "orientation": "v",
         "showlegend": true,
         "type": "scatter",
         "x": [
          3.0414184019965984
         ],
         "xaxis": "x",
         "y": [
          4.499504447364241
         ],
         "yaxis": "y"
        },
        {
         "hovertemplate": "Country=Saudi Arabia<br>Stringency Index=%{x}<br>Bounce Back Percentage=%{y}<br>Total Cases=%{marker.size}<extra></extra>",
         "legendgroup": "Saudi Arabia",
         "marker": {
          "color": "#B6E880",
          "size": [
           38585191
          ],
          "sizemode": "area",
          "sizeref": 1865035.245,
          "symbol": "circle"
         },
         "mode": "markers",
         "name": "Saudi Arabia",
         "orientation": "v",
         "showlegend": true,
         "type": "scatter",
         "x": [
          3.2633605816360545
         ],
         "xaxis": "x",
         "y": [
          7.312331646597356
         ],
         "yaxis": "y"
        },
        {
         "hovertemplate": "Country=Pakistan<br>Stringency Index=%{x}<br>Bounce Back Percentage=%{y}<br>Total Cases=%{marker.size}<extra></extra>",
         "legendgroup": "Pakistan",
         "marker": {
          "color": "#FF97FF",
          "size": [
           37738077
          ],
          "sizemode": "area",
          "sizeref": 1865035.245,
          "symbol": "circle"
         },
         "mode": "markers",
         "name": "Pakistan",
         "orientation": "v",
         "showlegend": true,
         "type": "scatter",
         "x": [
          3.38580207355102
         ],
         "xaxis": "x",
         "y": [
          2.742115420975355
         ],
         "yaxis": "y"
        },
        {
         "hovertemplate": "Country=Bangladesh<br>Stringency Index=%{x}<br>Bounce Back Percentage=%{y}<br>Total Cases=%{marker.size}<extra></extra>",
         "legendgroup": "Bangladesh",
         "marker": {
          "color": "#FECB52",
          "size": [
           35266178
          ],
          "sizemode": "area",
          "sizeref": 1865035.245,
          "symbol": "circle"
         },
         "mode": "markers",
         "name": "Bangladesh",
         "orientation": "v",
         "showlegend": true,
         "type": "scatter",
         "x": [
          3.186409532867346
         ],
         "xaxis": "x",
         "y": [
          5.954840566244735
         ],
         "yaxis": "y"
        },
        {
         "hovertemplate": "Country=Iraq<br>Stringency Index=%{x}<br>Bounce Back Percentage=%{y}<br>Total Cases=%{marker.size}<extra></extra>",
         "legendgroup": "Iraq",
         "marker": {
          "color": "#636efa",
          "size": [
           25280332
          ],
          "sizemode": "area",
          "sizeref": 1865035.245,
          "symbol": "circle"
         },
         "mode": "markers",
         "name": "Iraq",
         "orientation": "v",
         "showlegend": true,
         "type": "scatter",
         "x": [
          3.6382597844795925
         ],
         "xaxis": "x",
         "y": [
          4.693958356047894
         ],
         "yaxis": "y"
        },
        {
         "hovertemplate": "Country=Philippines<br>Stringency Index=%{x}<br>Bounce Back Percentage=%{y}<br>Total Cases=%{marker.size}<extra></extra>",
         "legendgroup": "Philippines",
         "marker": {
          "color": "#EF553B",
          "size": [
           22409936
          ],
          "sizemode": "area",
          "sizeref": 1865035.245,
          "symbol": "circle"
         },
         "mode": "markers",
         "name": "Philippines",
         "orientation": "v",
         "showlegend": true,
         "type": "scatter",
         "x": [
          3.67810238272449
         ],
         "xaxis": "x",
         "y": [
          6.007697089409138
         ],
         "yaxis": "y"
        },
        {
         "hovertemplate": "Country=China<br>Stringency Index=%{x}<br>Bounce Back Percentage=%{y}<br>Total Cases=%{marker.size}<extra></extra>",
         "legendgroup": "China",
         "marker": {
          "color": "#00cc96",
          "size": [
           21632319
          ],
          "sizemode": "area",
          "sizeref": 1865035.245,
          "symbol": "circle"
         },
         "mode": "markers",
         "name": "China",
         "orientation": "v",
         "showlegend": true,
         "type": "scatter",
         "x": [
          3.8925538979353735
         ],
         "xaxis": "x",
         "y": [
          3.0025842614671028
         ],
         "yaxis": "y"
        },
        {
         "hovertemplate": "Country=Indonesia<br>Stringency Index=%{x}<br>Bounce Back Percentage=%{y}<br>Total Cases=%{marker.size}<extra></extra>",
         "legendgroup": "Indonesia",
         "marker": {
          "color": "#ab63fa",
          "size": [
           21570149
          ],
          "sizemode": "area",
          "sizeref": 1865035.245,
          "symbol": "circle"
         },
         "mode": "markers",
         "name": "Indonesia",
         "orientation": "v",
         "showlegend": true,
         "type": "scatter",
         "x": [
          3.6401493643061213
         ],
         "xaxis": "x",
         "y": [
          4.640372051388275
         ],
         "yaxis": "y"
        },
        {
         "hovertemplate": "Country=Canada<br>Stringency Index=%{x}<br>Bounce Back Percentage=%{y}<br>Total Cases=%{marker.size}<extra></extra>",
         "legendgroup": "Canada",
         "marker": {
          "color": "#FFA15A",
          "size": [
           20902374
          ],
          "sizemode": "area",
          "sizeref": 1865035.245,
          "symbol": "circle"
         },
         "mode": "markers",
         "name": "Canada",
         "orientation": "v",
         "showlegend": true,
         "type": "scatter",
         "x": [
          3.286389158969388
         ],
         "xaxis": "x",
         "y": [
          1.944001873425791
         ],
         "yaxis": "y"
        },
        {
         "hovertemplate": "Country=Qatar<br>Stringency Index=%{x}<br>Bounce Back Percentage=%{y}<br>Total Cases=%{marker.size}<extra></extra>",
         "legendgroup": "Qatar",
         "marker": {
          "color": "#19d3f3",
          "size": [
           16351440
          ],
          "sizemode": "area",
          "sizeref": 1865035.245,
          "symbol": "circle"
         },
         "mode": "markers",
         "name": "Qatar",
         "orientation": "v",
         "showlegend": true,
         "type": "scatter",
         "x": [
          3.561580438853742
         ],
         "xaxis": "x",
         "y": [
          3.942576667462546
         ],
         "yaxis": "y"
        },
        {
         "hovertemplate": "Country=Israel<br>Stringency Index=%{x}<br>Bounce Back Percentage=%{y}<br>Total Cases=%{marker.size}<extra></extra>",
         "legendgroup": "Israel",
         "marker": {
          "color": "#FF6692",
          "size": [
           16202474
          ],
          "sizemode": "area",
          "sizeref": 1865035.245,
          "symbol": "circle"
         },
         "mode": "markers",
         "name": "Israel",
         "orientation": "v",
         "showlegend": true,
         "type": "scatter",
         "x": [
          3.5793130338673467
         ],
         "xaxis": "x",
         "y": [
          4.752676056125328
         ],
         "yaxis": "y"
        },
        {
         "hovertemplate": "Country=Ukraine<br>Stringency Index=%{x}<br>Bounce Back Percentage=%{y}<br>Total Cases=%{marker.size}<extra></extra>",
         "legendgroup": "Ukraine",
         "marker": {
          "color": "#B6E880",
          "size": [
           15805665
          ],
          "sizemode": "area",
          "sizeref": 1865035.245,
          "symbol": "circle"
         },
         "mode": "markers",
         "name": "Ukraine",
         "orientation": "v",
         "showlegend": true,
         "type": "scatter",
         "x": [
          3.0981180947312925
         ],
         "xaxis": "x",
         "y": [
          -17.127424238141806
         ],
         "yaxis": "y"
        },
        {
         "hovertemplate": "Country=Belgium<br>Stringency Index=%{x}<br>Bounce Back Percentage=%{y}<br>Total Cases=%{marker.size}<extra></extra>",
         "legendgroup": "Belgium",
         "marker": {
          "color": "#FF97FF",
          "size": [
           15192468
          ],
          "sizemode": "area",
          "sizeref": 1865035.245,
          "symbol": "circle"
         },
         "mode": "markers",
         "name": "Belgium",
         "orientation": "v",
         "showlegend": true,
         "type": "scatter",
         "x": [
          3.4200551236938774
         ],
         "xaxis": "x",
         "y": [
          2.1317642623064796
         ],
         "yaxis": "y"
        },
        {
         "hovertemplate": "Country=Ecuador<br>Stringency Index=%{x}<br>Bounce Back Percentage=%{y}<br>Total Cases=%{marker.size}<extra></extra>",
         "legendgroup": "Ecuador",
         "marker": {
          "color": "#FECB52",
          "size": [
           14408757
          ],
          "sizemode": "area",
          "sizeref": 1865035.245,
          "symbol": "circle"
         },
         "mode": "markers",
         "name": "Ecuador",
         "orientation": "v",
         "showlegend": true,
         "type": "scatter",
         "x": [
          3.4756814307823136
         ],
         "xaxis": "x",
         "y": [
          1.7852124867768202
         ],
         "yaxis": "y"
        },
        {
         "hovertemplate": "Country=Kazakhstan<br>Stringency Index=%{x}<br>Bounce Back Percentage=%{y}<br>Total Cases=%{marker.size}<extra></extra>",
         "legendgroup": "Kazakhstan",
         "marker": {
          "color": "#636efa",
          "size": [
           13194863
          ],
          "sizemode": "area",
          "sizeref": 1865035.245,
          "symbol": "circle"
         },
         "mode": "markers",
         "name": "Kazakhstan",
         "orientation": "v",
         "showlegend": true,
         "type": "scatter",
         "x": [
          3.279181903081632
         ],
         "xaxis": "x",
         "y": [
          -0.06600785200453833
         ],
         "yaxis": "y"
        },
        {
         "hovertemplate": "Country=Netherlands<br>Stringency Index=%{x}<br>Bounce Back Percentage=%{y}<br>Total Cases=%{marker.size}<extra></extra>",
         "legendgroup": "Netherlands",
         "marker": {
          "color": "#EF553B",
          "size": [
           13026629
          ],
          "sizemode": "area",
          "sizeref": 1865035.245,
          "symbol": "circle"
         },
         "mode": "markers",
         "name": "Netherlands",
         "orientation": "v",
         "showlegend": true,
         "type": "scatter",
         "x": [
          2.922922530493197
         ],
         "xaxis": "x",
         "y": [
          3.3391033699084414
         ],
         "yaxis": "y"
        },
        {
         "hovertemplate": "Country=Egypt<br>Stringency Index=%{x}<br>Bounce Back Percentage=%{y}<br>Total Cases=%{marker.size}<extra></extra>",
         "legendgroup": "Egypt",
         "marker": {
          "color": "#00cc96",
          "size": [
           12422845
          ],
          "sizemode": "area",
          "sizeref": 1865035.245,
          "symbol": "circle"
         },
         "mode": "markers",
         "name": "Egypt",
         "orientation": "v",
         "showlegend": true,
         "type": "scatter",
         "x": [
          3.079215255792518
         ],
         "xaxis": "x",
         "y": [
          4.928462829496224
         ],
         "yaxis": "y"
        },
        {
         "hovertemplate": "Country=Sweden<br>Stringency Index=%{x}<br>Bounce Back Percentage=%{y}<br>Total Cases=%{marker.size}<extra></extra>",
         "legendgroup": "Sweden",
         "marker": {
          "color": "#ab63fa",
          "size": [
           11910109
          ],
          "sizemode": "area",
          "sizeref": 1865035.245,
          "symbol": "circle"
         },
         "mode": "markers",
         "name": "Sweden",
         "orientation": "v",
         "showlegend": true,
         "type": "scatter",
         "x": [
          2.75164141155102
         ],
         "xaxis": "x",
         "y": [
          2.213753462933512
         ],
         "yaxis": "y"
        },
        {
         "hovertemplate": "Country=Bolivia<br>Stringency Index=%{x}<br>Bounce Back Percentage=%{y}<br>Total Cases=%{marker.size}<extra></extra>",
         "legendgroup": "Bolivia",
         "marker": {
          "color": "#FFA15A",
          "size": [
           11858838
          ],
          "sizemode": "area",
          "sizeref": 1865035.245,
          "symbol": "circle"
         },
         "mode": "markers",
         "name": "Bolivia",
         "orientation": "v",
         "showlegend": true,
         "type": "scatter",
         "x": [
          3.2593630045034017
         ],
         "xaxis": "x",
         "y": [
          2.379790378262924
         ],
         "yaxis": "y"
        },
        {
         "hovertemplate": "Country=Romania<br>Stringency Index=%{x}<br>Bounce Back Percentage=%{y}<br>Total Cases=%{marker.size}<extra></extra>",
         "legendgroup": "Romania",
         "marker": {
          "color": "#19d3f3",
          "size": [
           10672859
          ],
          "sizemode": "area",
          "sizeref": 1865035.245,
          "symbol": "circle"
         },
         "mode": "markers",
         "name": "Romania",
         "orientation": "v",
         "showlegend": true,
         "type": "scatter",
         "x": [
          3.3440225178673466
         ],
         "xaxis": "x",
         "y": [
          5.007487653522914
         ],
         "yaxis": "y"
        },
        {
         "hovertemplate": "Country=Dominican Republic<br>Stringency Index=%{x}<br>Bounce Back Percentage=%{y}<br>Total Cases=%{marker.size}<extra></extra>",
         "legendgroup": "Dominican Republic",
         "marker": {
          "color": "#FF6692",
          "size": [
           10649646
          ],
          "sizemode": "area",
          "sizeref": 1865035.245,
          "symbol": "circle"
         },
         "mode": "markers",
         "name": "Dominican Republic",
         "orientation": "v",
         "showlegend": true,
         "type": "scatter",
         "x": [
          3.329886860812925
         ],
         "xaxis": "x",
         "y": [
          3.822264676439121
         ],
         "yaxis": "y"
        },
        {
         "hovertemplate": "Country=Kuwait<br>Stringency Index=%{x}<br>Bounce Back Percentage=%{y}<br>Total Cases=%{marker.size}<extra></extra>",
         "legendgroup": "Kuwait",
         "marker": {
          "color": "#B6E880",
          "size": [
           10622205
          ],
          "sizemode": "area",
          "sizeref": 1865035.245,
          "symbol": "circle"
         },
         "mode": "markers",
         "name": "Kuwait",
         "orientation": "v",
         "showlegend": true,
         "type": "scatter",
         "x": [
          3.6756516780068034
         ],
         "xaxis": "x",
         "y": [
          8.382389541587036
         ],
         "yaxis": "y"
        },
        {
         "hovertemplate": "Country=Belarus<br>Stringency Index=%{x}<br>Bounce Back Percentage=%{y}<br>Total Cases=%{marker.size}<extra></extra>",
         "legendgroup": "Belarus",
         "marker": {
          "color": "#FF97FF",
          "size": [
           10595186
          ],
          "sizemode": "area",
          "sizeref": 1865035.245,
          "symbol": "circle"
         },
         "mode": "markers",
         "name": "Belarus",
         "orientation": "v",
         "showlegend": true,
         "type": "scatter",
         "x": [
          1.7777885856122446
         ],
         "xaxis": "x",
         "y": [
          -3.9279125380742235
         ],
         "yaxis": "y"
        },
        {
         "hovertemplate": "Country=Panama<br>Stringency Index=%{x}<br>Bounce Back Percentage=%{y}<br>Total Cases=%{marker.size}<extra></extra>",
         "legendgroup": "Panama",
         "marker": {
          "color": "#FECB52",
          "size": [
           10371724
          ],
          "sizemode": "area",
          "sizeref": 1865035.245,
          "symbol": "circle"
         },
         "mode": "markers",
         "name": "Panama",
         "orientation": "v",
         "showlegend": true,
         "type": "scatter",
         "x": [
          3.347952237411565
         ],
         "xaxis": "x",
         "y": [
          9.368785197045584
         ],
         "yaxis": "y"
        },
        {
         "hovertemplate": "Country=United Arab Emirates<br>Stringency Index=%{x}<br>Bounce Back Percentage=%{y}<br>Total Cases=%{marker.size}<extra></extra>",
         "legendgroup": "United Arab Emirates",
         "marker": {
          "color": "#636efa",
          "size": [
           10247326
          ],
          "sizemode": "area",
          "sizeref": 1865035.245,
          "symbol": "circle"
         },
         "mode": "markers",
         "name": "United Arab Emirates",
         "orientation": "v",
         "showlegend": true,
         "type": "scatter",
         "x": [
          3.2094847001292517
         ],
         "xaxis": "x",
         "y": [
          6.9824193230081235
         ],
         "yaxis": "y"
        },
        {
         "hovertemplate": "Country=Oman<br>Stringency Index=%{x}<br>Bounce Back Percentage=%{y}<br>Total Cases=%{marker.size}<extra></extra>",
         "legendgroup": "Oman",
         "marker": {
          "color": "#EF553B",
          "size": [
           10060093
          ],
          "sizemode": "area",
          "sizeref": 1865035.245,
          "symbol": "circle"
         },
         "mode": "markers",
         "name": "Oman",
         "orientation": "v",
         "showlegend": true,
         "type": "scatter",
         "x": [
          3.730139465272109
         ],
         "xaxis": "x",
         "y": [
          3.038740663808563
         ],
         "yaxis": "y"
        },
        {
         "hovertemplate": "Country=Portugal<br>Stringency Index=%{x}<br>Bounce Back Percentage=%{y}<br>Total Cases=%{marker.size}<extra></extra>",
         "legendgroup": "Portugal",
         "marker": {
          "color": "#00cc96",
          "size": [
           9266263
          ],
          "sizemode": "area",
          "sizeref": 1865035.245,
          "symbol": "circle"
         },
         "mode": "markers",
         "name": "Portugal",
         "orientation": "v",
         "showlegend": true,
         "type": "scatter",
         "x": [
          3.266071855346939
         ],
         "xaxis": "x",
         "y": [
          6.336232371796764
         ],
         "yaxis": "y"
        },
        {
         "hovertemplate": "Country=Poland<br>Stringency Index=%{x}<br>Bounce Back Percentage=%{y}<br>Total Cases=%{marker.size}<extra></extra>",
         "legendgroup": "Poland",
         "marker": {
          "color": "#ab63fa",
          "size": [
           9239657
          ],
          "sizemode": "area",
          "sizeref": 1865035.245,
          "symbol": "circle"
         },
         "mode": "markers",
         "name": "Poland",
         "orientation": "v",
         "showlegend": true,
         "type": "scatter",
         "x": [
          2.854065180411564
         ],
         "xaxis": "x",
         "y": [
          7.90568291474026
         ],
         "yaxis": "y"
        },
        {
         "hovertemplate": "Country=Singapore<br>Stringency Index=%{x}<br>Bounce Back Percentage=%{y}<br>Total Cases=%{marker.size}<extra></extra>",
         "legendgroup": "Singapore",
         "marker": {
          "color": "#FFA15A",
          "size": [
           8191161
          ],
          "sizemode": "area",
          "sizeref": 1865035.245,
          "symbol": "circle"
         },
         "mode": "markers",
         "name": "Singapore",
         "orientation": "v",
         "showlegend": true,
         "type": "scatter",
         "x": [
          3.7307369099183667
         ],
         "xaxis": "x",
         "y": [
          0.2737951860905152
         ],
         "yaxis": "y"
        },
        {
         "hovertemplate": "Country=Morocco<br>Stringency Index=%{x}<br>Bounce Back Percentage=%{y}<br>Total Cases=%{marker.size}<extra></extra>",
         "legendgroup": "Morocco",
         "marker": {
          "color": "#19d3f3",
          "size": [
           7839270
          ],
          "sizemode": "area",
          "sizeref": 1865035.245,
          "symbol": "circle"
         },
         "mode": "markers",
         "name": "Morocco",
         "orientation": "v",
         "showlegend": true,
         "type": "scatter",
         "x": [
          3.2886413599217685
         ],
         "xaxis": "x",
         "y": [
          0.21546032933853226
         ],
         "yaxis": "y"
        },
        {
         "hovertemplate": "Country=Japan<br>Stringency Index=%{x}<br>Bounce Back Percentage=%{y}<br>Total Cases=%{marker.size}<extra></extra>",
         "legendgroup": "Japan",
         "marker": {
          "color": "#FF6692",
          "size": [
           7659484
          ],
          "sizemode": "area",
          "sizeref": 1865035.245,
          "symbol": "circle"
         },
         "mode": "markers",
         "name": "Japan",
         "orientation": "v",
         "showlegend": true,
         "type": "scatter",
         "x": [
          3.178413736503401
         ],
         "xaxis": "x",
         "y": [
          1.4038247923893026
         ],
         "yaxis": "y"
        },
        {
         "hovertemplate": "Country=Guatemala<br>Stringency Index=%{x}<br>Bounce Back Percentage=%{y}<br>Total Cases=%{marker.size}<extra></extra>",
         "legendgroup": "Guatemala",
         "marker": {
          "color": "#B6E880",
          "size": [
           7644426
          ],
          "sizemode": "area",
          "sizeref": 1865035.245,
          "symbol": "circle"
         },
         "mode": "markers",
         "name": "Guatemala",
         "orientation": "v",
         "showlegend": true,
         "type": "scatter",
         "x": [
          3.4795448106666664
         ],
         "xaxis": "x",
         "y": [
          2.6295850638860454
         ],
         "yaxis": "y"
        },
        {
         "hovertemplate": "Country=Switzerland<br>Stringency Index=%{x}<br>Bounce Back Percentage=%{y}<br>Total Cases=%{marker.size}<extra></extra>",
         "legendgroup": "Switzerland",
         "marker": {
          "color": "#FF97FF",
          "size": [
           7552067
          ],
          "sizemode": "area",
          "sizeref": 1865035.245,
          "symbol": "circle"
         },
         "mode": "markers",
         "name": "Switzerland",
         "orientation": "v",
         "showlegend": true,
         "type": "scatter",
         "x": [
          3.12802378279932
         ],
         "xaxis": "x",
         "y": [
          1.7360014875106549
         ],
         "yaxis": "y"
        },
        {
         "hovertemplate": "Country=Bahrain<br>Stringency Index=%{x}<br>Bounce Back Percentage=%{y}<br>Total Cases=%{marker.size}<extra></extra>",
         "legendgroup": "Bahrain",
         "marker": {
          "color": "#FECB52",
          "size": [
           6549995
          ],
          "sizemode": "area",
          "sizeref": 1865035.245,
          "symbol": "circle"
         },
         "mode": "markers",
         "name": "Bahrain",
         "orientation": "v",
         "showlegend": true,
         "type": "scatter",
         "x": [
          3.672654081911565
         ],
         "xaxis": "x",
         "y": [
          4.222104786772417
         ],
         "yaxis": "y"
        },
        {
         "hovertemplate": "Country=Honduras<br>Stringency Index=%{x}<br>Bounce Back Percentage=%{y}<br>Total Cases=%{marker.size}<extra></extra>",
         "legendgroup": "Honduras",
         "marker": {
          "color": "#636efa",
          "size": [
           6545499
          ],
          "sizemode": "area",
          "sizeref": 1865035.245,
          "symbol": "circle"
         },
         "mode": "markers",
         "name": "Honduras",
         "orientation": "v",
         "showlegend": true,
         "type": "scatter",
         "x": [
          3.310703392435374
         ],
         "xaxis": "x",
         "y": [
          2.4576929268399073
         ],
         "yaxis": "y"
        },
        {
         "hovertemplate": "Country=Nigeria<br>Stringency Index=%{x}<br>Bounce Back Percentage=%{y}<br>Total Cases=%{marker.size}<extra></extra>",
         "legendgroup": "Nigeria",
         "marker": {
          "color": "#EF553B",
          "size": [
           6107371
          ],
          "sizemode": "area",
          "sizeref": 1865035.245,
          "symbol": "circle"
         },
         "mode": "markers",
         "name": "Nigeria",
         "orientation": "v",
         "showlegend": true,
         "type": "scatter",
         "x": [
          3.504160797792516
         ],
         "xaxis": "x",
         "y": [
          0.8232932612090413
         ],
         "yaxis": "y"
        },
        {
         "hovertemplate": "Country=Armenia<br>Stringency Index=%{x}<br>Bounce Back Percentage=%{y}<br>Total Cases=%{marker.size}<extra></extra>",
         "legendgroup": "Armenia",
         "marker": {
          "color": "#00cc96",
          "size": [
           5474629
          ],
          "sizemode": "area",
          "sizeref": 1865035.245,
          "symbol": "circle"
         },
         "mode": "markers",
         "name": "Armenia",
         "orientation": "v",
         "showlegend": true,
         "type": "scatter",
         "x": [
          0
         ],
         "xaxis": "x",
         "y": [
          13.02541891782977
         ],
         "yaxis": "y"
        },
        {
         "hovertemplate": "Country=Nepal<br>Stringency Index=%{x}<br>Bounce Back Percentage=%{y}<br>Total Cases=%{marker.size}<extra></extra>",
         "legendgroup": "Nepal",
         "marker": {
          "color": "#ab63fa",
          "size": [
           5243653
          ],
          "sizemode": "area",
          "sizeref": 1865035.245,
          "symbol": "circle"
         },
         "mode": "markers",
         "name": "Nepal",
         "orientation": "v",
         "showlegend": true,
         "type": "scatter",
         "x": [
          3.677210356482993
         ],
         "xaxis": "x",
         "y": [
          3.840998534336088
         ],
         "yaxis": "y"
        },
        {
         "hovertemplate": "Country=Ireland<br>Stringency Index=%{x}<br>Bounce Back Percentage=%{y}<br>Total Cases=%{marker.size}<extra></extra>",
         "legendgroup": "Ireland",
         "marker": {
          "color": "#FFA15A",
          "size": [
           5239798
          ],
          "sizemode": "area",
          "sizeref": 1865035.245,
          "symbol": "circle"
         },
         "mode": "markers",
         "name": "Ireland",
         "orientation": "v",
         "showlegend": true,
         "type": "scatter",
         "x": [
          3.3750440923061227
         ],
         "xaxis": "x",
         "y": [
          7.426584266308403
         ],
         "yaxis": "y"
        },
        {
         "hovertemplate": "Country=Austria<br>Stringency Index=%{x}<br>Bounce Back Percentage=%{y}<br>Total Cases=%{marker.size}<extra></extra>",
         "legendgroup": "Austria",
         "marker": {
          "color": "#19d3f3",
          "size": [
           4909197
          ],
          "sizemode": "area",
          "sizeref": 1865035.245,
          "symbol": "circle"
         },
         "mode": "markers",
         "name": "Austria",
         "orientation": "v",
         "showlegend": true,
         "type": "scatter",
         "x": [
          2.999125721982993
         ],
         "xaxis": "x",
         "y": [
          3.808958846973108
         ],
         "yaxis": "y"
        },
        {
         "hovertemplate": "Country=Ghana<br>Stringency Index=%{x}<br>Bounce Back Percentage=%{y}<br>Total Cases=%{marker.size}<extra></extra>",
         "legendgroup": "Ghana",
         "marker": {
          "color": "#FF6692",
          "size": [
           4900649
          ],
          "sizemode": "area",
          "sizeref": 1865035.245,
          "symbol": "circle"
         },
         "mode": "markers",
         "name": "Ghana",
         "orientation": "v",
         "showlegend": true,
         "type": "scatter",
         "x": [
          2.845124538520408
         ],
         "xaxis": "x",
         "y": [
          1.0983265913910654
         ],
         "yaxis": "y"
        },
        {
         "hovertemplate": "Country=Algeria<br>Stringency Index=%{x}<br>Bounce Back Percentage=%{y}<br>Total Cases=%{marker.size}<extra></extra>",
         "legendgroup": "Algeria",
         "marker": {
          "color": "#B6E880",
          "size": [
           4893999
          ],
          "sizemode": "area",
          "sizeref": 1865035.245,
          "symbol": "circle"
         },
         "mode": "markers",
         "name": "Algeria",
         "orientation": "v",
         "showlegend": true,
         "type": "scatter",
         "x": [
          3.195168482772109
         ],
         "xaxis": "x",
         "y": [
          1.5331568493243306
         ],
         "yaxis": "y"
        },
        {
         "hovertemplate": "Country=Ethiopia<br>Stringency Index=%{x}<br>Bounce Back Percentage=%{y}<br>Total Cases=%{marker.size}<extra></extra>",
         "legendgroup": "Ethiopia",
         "marker": {
          "color": "#FF97FF",
          "size": [
           4876417
          ],
          "sizemode": "area",
          "sizeref": 1865035.245,
          "symbol": "circle"
         },
         "mode": "markers",
         "name": "Ethiopia",
         "orientation": "v",
         "showlegend": true,
         "type": "scatter",
         "x": [
          3.106953683829932
         ],
         "xaxis": "x",
         "y": [
          2.673583133142429
         ],
         "yaxis": "y"
        },
        {
         "hovertemplate": "Country=Moldova<br>Stringency Index=%{x}<br>Bounce Back Percentage=%{y}<br>Total Cases=%{marker.size}<extra></extra>",
         "legendgroup": "Moldova",
         "marker": {
          "color": "#FECB52",
          "size": [
           4632482
          ],
          "sizemode": "area",
          "sizeref": 1865035.245,
          "symbol": "circle"
         },
         "mode": "markers",
         "name": "Moldova",
         "orientation": "v",
         "showlegend": true,
         "type": "scatter",
         "x": [
          2.9956552940374146
         ],
         "xaxis": "x",
         "y": [
          -2.8861920649238213
         ],
         "yaxis": "y"
        },
        {
         "hovertemplate": "Country=Costa Rica<br>Stringency Index=%{x}<br>Bounce Back Percentage=%{y}<br>Total Cases=%{marker.size}<extra></extra>",
         "legendgroup": "Costa Rica",
         "marker": {
          "color": "#636efa",
          "size": [
           4631835
          ],
          "sizemode": "area",
          "sizeref": 1865035.245,
          "symbol": "circle"
         },
         "mode": "markers",
         "name": "Costa Rica",
         "orientation": "v",
         "showlegend": true,
         "type": "scatter",
         "x": [
          3.052990643608844
         ],
         "xaxis": "x",
         "y": [
          4.009205961764092
         ],
         "yaxis": "y"
        },
        {
         "hovertemplate": "Country=Uzbekistan<br>Stringency Index=%{x}<br>Bounce Back Percentage=%{y}<br>Total Cases=%{marker.size}<extra></extra>",
         "legendgroup": "Uzbekistan",
         "marker": {
          "color": "#EF553B",
          "size": [
           4421215
          ],
          "sizemode": "area",
          "sizeref": 1865035.245,
          "symbol": "circle"
         },
         "mode": "markers",
         "name": "Uzbekistan",
         "orientation": "v",
         "showlegend": true,
         "type": "scatter",
         "x": [
          3.130970957227891
         ],
         "xaxis": "x",
         "y": [
          3.4960431710704705
         ],
         "yaxis": "y"
        },
        {
         "hovertemplate": "Country=Kyrgyzstan<br>Stringency Index=%{x}<br>Bounce Back Percentage=%{y}<br>Total Cases=%{marker.size}<extra></extra>",
         "legendgroup": "Kyrgyzstan",
         "marker": {
          "color": "#00cc96",
          "size": [
           4287847
          ],
          "sizemode": "area",
          "sizeref": 1865035.245,
          "symbol": "circle"
         },
         "mode": "markers",
         "name": "Kyrgyzstan",
         "orientation": "v",
         "showlegend": true,
         "type": "scatter",
         "x": [
          3.1833747295
         ],
         "xaxis": "x",
         "y": [
          3.259901903151853
         ],
         "yaxis": "y"
        },
        {
         "hovertemplate": "Country=Azerbaijan<br>Stringency Index=%{x}<br>Bounce Back Percentage=%{y}<br>Total Cases=%{marker.size}<extra></extra>",
         "legendgroup": "Azerbaijan",
         "marker": {
          "color": "#ab63fa",
          "size": [
           4236782
          ],
          "sizemode": "area",
          "sizeref": 1865035.245,
          "symbol": "circle"
         },
         "mode": "markers",
         "name": "Azerbaijan",
         "orientation": "v",
         "showlegend": true,
         "type": "scatter",
         "x": [
          3.5610048554761904
         ],
         "xaxis": "x",
         "y": [
          4.575200167605377
         ],
         "yaxis": "y"
        },
        {
         "hovertemplate": "Country=Serbia<br>Stringency Index=%{x}<br>Bounce Back Percentage=%{y}<br>Total Cases=%{marker.size}<extra></extra>",
         "legendgroup": "Serbia",
         "marker": {
          "color": "#FFA15A",
          "size": [
           3984174
          ],
          "sizemode": "area",
          "sizeref": 1865035.245,
          "symbol": "circle"
         },
         "mode": "markers",
         "name": "Serbia",
         "orientation": "v",
         "showlegend": true,
         "type": "scatter",
         "x": [
          3.0738407065272106
         ],
         "xaxis": "x",
         "y": [
          5.163962697460402
         ],
         "yaxis": "y"
        },
        {
         "hovertemplate": "Country=Puerto Rico<br>Stringency Index=%{x}<br>Bounce Back Percentage=%{y}<br>Total Cases=%{marker.size}<extra></extra>",
         "legendgroup": "Puerto Rico",
         "marker": {
          "color": "#19d3f3",
          "size": [
           3586463
          ],
          "sizemode": "area",
          "sizeref": 1865035.245,
          "symbol": "circle"
         },
         "mode": "markers",
         "name": "Puerto Rico",
         "orientation": "v",
         "showlegend": true,
         "type": "scatter",
         "x": [
          3.0402436258537415
         ],
         "xaxis": "x",
         "y": [
          4.6732493321108715
         ],
         "yaxis": "y"
        },
        {
         "hovertemplate": "Country=South Korea<br>Stringency Index=%{x}<br>Bounce Back Percentage=%{y}<br>Total Cases=%{marker.size}<extra></extra>",
         "legendgroup": "South Korea",
         "marker": {
          "color": "#FF6692",
          "size": [
           3333075
          ],
          "sizemode": "area",
          "sizeref": 1865035.245,
          "symbol": "circle"
         },
         "mode": "markers",
         "name": "South Korea",
         "orientation": "v",
         "showlegend": true,
         "type": "scatter",
         "x": [
          3.422536914673469
         ],
         "xaxis": "x",
         "y": [
          2.8447348990099446
         ],
         "yaxis": "y"
        },
        {
         "hovertemplate": "Country=Kenya<br>Stringency Index=%{x}<br>Bounce Back Percentage=%{y}<br>Total Cases=%{marker.size}<extra></extra>",
         "legendgroup": "Kenya",
         "marker": {
          "color": "#B6E880",
          "size": [
           3277734
          ],
          "sizemode": "area",
          "sizeref": 1865035.245,
          "symbol": "circle"
         },
         "mode": "markers",
         "name": "Kenya",
         "orientation": "v",
         "showlegend": true,
         "type": "scatter",
         "x": [
          3.332929539568027
         ],
         "xaxis": "x",
         "y": [
          2.863571318244523
         ],
         "yaxis": "y"
        },
        {
         "hovertemplate": "Country=Palestine<br>Stringency Index=%{x}<br>Bounce Back Percentage=%{y}<br>Total Cases=%{marker.size}<extra></extra>",
         "legendgroup": "Palestine",
         "marker": {
          "color": "#FF97FF",
          "size": [
           3249458
          ],
          "sizemode": "area",
          "sizeref": 1865035.245,
          "symbol": "circle"
         },
         "mode": "markers",
         "name": "Palestine",
         "orientation": "v",
         "showlegend": true,
         "type": "scatter",
         "x": [
          3.2563697529931965
         ],
         "xaxis": "x",
         "y": [
          1.4423676580173679
         ],
         "yaxis": "y"
        },
        {
         "hovertemplate": "Country=Denmark<br>Stringency Index=%{x}<br>Bounce Back Percentage=%{y}<br>Total Cases=%{marker.size}<extra></extra>",
         "legendgroup": "Denmark",
         "marker": {
          "color": "#FECB52",
          "size": [
           3030088
          ],
          "sizemode": "area",
          "sizeref": 1865035.245,
          "symbol": "circle"
         },
         "mode": "markers",
         "name": "Denmark",
         "orientation": "v",
         "showlegend": true,
         "type": "scatter",
         "x": [
          3.069241891969387
         ],
         "xaxis": "x",
         "y": [
          1.9253452547286796
         ],
         "yaxis": "y"
        },
        {
         "hovertemplate": "Country=Australia<br>Stringency Index=%{x}<br>Bounce Back Percentage=%{y}<br>Total Cases=%{marker.size}<extra></extra>",
         "legendgroup": "Australia",
         "marker": {
          "color": "#636efa",
          "size": [
           3012377
          ],
          "sizemode": "area",
          "sizeref": 1865035.245,
          "symbol": "circle"
         },
         "mode": "markers",
         "name": "Australia",
         "orientation": "v",
         "showlegend": true,
         "type": "scatter",
         "x": [
          3.6220902177993195
         ],
         "xaxis": "x",
         "y": [
          2.9853920328938766
         ],
         "yaxis": "y"
        },
        {
         "hovertemplate": "Country=El Salvador<br>Stringency Index=%{x}<br>Bounce Back Percentage=%{y}<br>Total Cases=%{marker.size}<extra></extra>",
         "legendgroup": "El Salvador",
         "marker": {
          "color": "#EF553B",
          "size": [
           2573206
          ],
          "sizemode": "area",
          "sizeref": 1865035.245,
          "symbol": "circle"
         },
         "mode": "markers",
         "name": "El Salvador",
         "orientation": "v",
         "showlegend": true,
         "type": "scatter",
         "x": [
          3.228307817353741
         ],
         "xaxis": "x",
         "y": [
          2.2397834904975498
         ],
         "yaxis": "y"
        },
        {
         "hovertemplate": "Country=Cameroon<br>Stringency Index=%{x}<br>Bounce Back Percentage=%{y}<br>Total Cases=%{marker.size}<extra></extra>",
         "legendgroup": "Cameroon",
         "marker": {
          "color": "#00cc96",
          "size": [
           2476502
          ],
          "sizemode": "area",
          "sizeref": 1865035.245,
          "symbol": "circle"
         },
         "mode": "markers",
         "name": "Cameroon",
         "orientation": "v",
         "showlegend": true,
         "type": "scatter",
         "x": [
          2.9765738832653064
         ],
         "xaxis": "x",
         "y": [
          0.9262638848645572
         ],
         "yaxis": "y"
        },
        {
         "hovertemplate": "Country=Paraguay<br>Stringency Index=%{x}<br>Bounce Back Percentage=%{y}<br>Total Cases=%{marker.size}<extra></extra>",
         "legendgroup": "Paraguay",
         "marker": {
          "color": "#ab63fa",
          "size": [
           2265640
          ],
          "sizemode": "area",
          "sizeref": 1865035.245,
          "symbol": "circle"
         },
         "mode": "markers",
         "name": "Paraguay",
         "orientation": "v",
         "showlegend": true,
         "type": "scatter",
         "x": [
          3.171279047295919
         ],
         "xaxis": "x",
         "y": [
          -1.0601846642144042
         ],
         "yaxis": "y"
        },
        {
         "hovertemplate": "Country=Bosnia and Herzegovina<br>Stringency Index=%{x}<br>Bounce Back Percentage=%{y}<br>Total Cases=%{marker.size}<extra></extra>",
         "legendgroup": "Bosnia and Herzegovina",
         "marker": {
          "color": "#FFA15A",
          "size": [
           2200057
          ],
          "sizemode": "area",
          "sizeref": 1865035.245,
          "symbol": "circle"
         },
         "mode": "markers",
         "name": "Bosnia and Herzegovina",
         "orientation": "v",
         "showlegend": true,
         "type": "scatter",
         "x": [
          3.0345279388299318
         ],
         "xaxis": "x",
         "y": [
          5.310908670373575
         ],
         "yaxis": "y"
        },
        {
         "hovertemplate": "Country=Cote d'Ivoire<br>Stringency Index=%{x}<br>Bounce Back Percentage=%{y}<br>Total Cases=%{marker.size}<extra></extra>",
         "legendgroup": "Cote d'Ivoire",
         "marker": {
          "color": "#19d3f3",
          "size": [
           2132883
          ],
          "sizemode": "area",
          "sizeref": 1865035.245,
          "symbol": "circle"
         },
         "mode": "markers",
         "name": "Cote d'Ivoire",
         "orientation": "v",
         "showlegend": true,
         "type": "scatter",
         "x": [
          2.8512348956428575
         ],
         "xaxis": "x",
         "y": [
          4.155122652951286
         ],
         "yaxis": "y"
        },
        {
         "hovertemplate": "Country=Norway<br>Stringency Index=%{x}<br>Bounce Back Percentage=%{y}<br>Total Cases=%{marker.size}<extra></extra>",
         "legendgroup": "Norway",
         "marker": {
          "color": "#FF6692",
          "size": [
           1985889
          ],
          "sizemode": "area",
          "sizeref": 1865035.245,
          "symbol": "circle"
         },
         "mode": "markers",
         "name": "Norway",
         "orientation": "v",
         "showlegend": true,
         "type": "scatter",
         "x": [
          3.1960380252551017
         ],
         "xaxis": "x",
         "y": [
          2.0945443357582114
         ],
         "yaxis": "y"
        },
        {
         "hovertemplate": "Country=Bulgaria<br>Stringency Index=%{x}<br>Bounce Back Percentage=%{y}<br>Total Cases=%{marker.size}<extra></extra>",
         "legendgroup": "Bulgaria",
         "marker": {
          "color": "#B6E880",
          "size": [
           1890380
          ],
          "sizemode": "area",
          "sizeref": 1865035.245,
          "symbol": "circle"
         },
         "mode": "markers",
         "name": "Bulgaria",
         "orientation": "v",
         "showlegend": true,
         "type": "scatter",
         "x": [
          2.8532486089081637
         ],
         "xaxis": "x",
         "y": [
          10.55971455963993
         ],
         "yaxis": "y"
        },
        {
         "hovertemplate": "Country=Libya<br>Stringency Index=%{x}<br>Bounce Back Percentage=%{y}<br>Total Cases=%{marker.size}<extra></extra>",
         "legendgroup": "Libya",
         "marker": {
          "color": "#FF97FF",
          "size": [
           1817274
          ],
          "sizemode": "area",
          "sizeref": 1865035.245,
          "symbol": "circle"
         },
         "mode": "markers",
         "name": "Libya",
         "orientation": "v",
         "showlegend": true,
         "type": "scatter",
         "x": [
          3.411850270965986
         ],
         "xaxis": "x",
         "y": [
          -2.354221293605374
         ],
         "yaxis": "y"
        },
        {
         "hovertemplate": "Country=Malaysia<br>Stringency Index=%{x}<br>Bounce Back Percentage=%{y}<br>Total Cases=%{marker.size}<extra></extra>",
         "legendgroup": "Malaysia",
         "marker": {
          "color": "#FECB52",
          "size": [
           1774181
          ],
          "sizemode": "area",
          "sizeref": 1865035.245,
          "symbol": "circle"
         },
         "mode": "markers",
         "name": "Malaysia",
         "orientation": "v",
         "showlegend": true,
         "type": "scatter",
         "x": [
          3.6216474627346935
         ],
         "xaxis": "x",
         "y": [
          7.48392604534289
         ],
         "yaxis": "y"
        },
        {
         "hovertemplate": "Country=Hungary<br>Stringency Index=%{x}<br>Bounce Back Percentage=%{y}<br>Total Cases=%{marker.size}<extra></extra>",
         "legendgroup": "Hungary",
         "marker": {
          "color": "#636efa",
          "size": [
           1708798
          ],
          "sizemode": "area",
          "sizeref": 1865035.245,
          "symbol": "circle"
         },
         "mode": "markers",
         "name": "Hungary",
         "orientation": "v",
         "showlegend": true,
         "type": "scatter",
         "x": [
          3.01363418397619
         ],
         "xaxis": "x",
         "y": [
          5.279309643031595
         ],
         "yaxis": "y"
        },
        {
         "hovertemplate": "Country=Sudan<br>Stringency Index=%{x}<br>Bounce Back Percentage=%{y}<br>Total Cases=%{marker.size}<extra></extra>",
         "legendgroup": "Sudan",
         "marker": {
          "color": "#EF553B",
          "size": [
           1663545
          ],
          "sizemode": "area",
          "sizeref": 1865035.245,
          "symbol": "circle"
         },
         "mode": "markers",
         "name": "Sudan",
         "orientation": "v",
         "showlegend": true,
         "type": "scatter",
         "x": [
          3.196909016653061
         ],
         "xaxis": "x",
         "y": [
          -3.5249707584484398
         ],
         "yaxis": "y"
        },
        {
         "hovertemplate": "Country=Senegal<br>Stringency Index=%{x}<br>Bounce Back Percentage=%{y}<br>Total Cases=%{marker.size}<extra></extra>",
         "legendgroup": "Senegal",
         "marker": {
          "color": "#00cc96",
          "size": [
           1586747
          ],
          "sizemode": "area",
          "sizeref": 1865035.245,
          "symbol": "circle"
         },
         "mode": "markers",
         "name": "Senegal",
         "orientation": "v",
         "showlegend": true,
         "type": "scatter",
         "x": [
          2.66599380340136
         ],
         "xaxis": "x",
         "y": [
          1.5090025664665072
         ],
         "yaxis": "y"
        },
        {
         "hovertemplate": "Country=Finland<br>Stringency Index=%{x}<br>Bounce Back Percentage=%{y}<br>Total Cases=%{marker.size}<extra></extra>",
         "legendgroup": "Finland",
         "marker": {
          "color": "#ab63fa",
          "size": [
           1458484
          ],
          "sizemode": "area",
          "sizeref": 1865035.245,
          "symbol": "circle"
         },
         "mode": "markers",
         "name": "Finland",
         "orientation": "v",
         "showlegend": true,
         "type": "scatter",
         "x": [
          3.101641431479592
         ],
         "xaxis": "x",
         "y": [
          1.358293623220249
         ],
         "yaxis": "y"
        },
        {
         "hovertemplate": "Country=Madagascar<br>Stringency Index=%{x}<br>Bounce Back Percentage=%{y}<br>Total Cases=%{marker.size}<extra></extra>",
         "legendgroup": "Madagascar",
         "marker": {
          "color": "#FFA15A",
          "size": [
           1443321
          ],
          "sizemode": "area",
          "sizeref": 1865035.245,
          "symbol": "circle"
         },
         "mode": "markers",
         "name": "Madagascar",
         "orientation": "v",
         "showlegend": true,
         "type": "scatter",
         "x": [
          2.957421466741496
         ],
         "xaxis": "x",
         "y": [
          1.3563426987253755
         ],
         "yaxis": "y"
        },
        {
         "hovertemplate": "Country=Greece<br>Stringency Index=%{x}<br>Bounce Back Percentage=%{y}<br>Total Cases=%{marker.size}<extra></extra>",
         "legendgroup": "Greece",
         "marker": {
          "color": "#19d3f3",
          "size": [
           1421470
          ],
          "sizemode": "area",
          "sizeref": 1865035.245,
          "symbol": "circle"
         },
         "mode": "markers",
         "name": "Greece",
         "orientation": "v",
         "showlegend": true,
         "type": "scatter",
         "x": [
          3.1346855279761905
         ],
         "xaxis": "x",
         "y": [
          6.997741886602949
         ],
         "yaxis": "y"
        },
        {
         "hovertemplate": "Country=Kosovo<br>Stringency Index=%{x}<br>Bounce Back Percentage=%{y}<br>Total Cases=%{marker.size}<extra></extra>",
         "legendgroup": "Kosovo",
         "marker": {
          "color": "#FF6692",
          "size": [
           1345940
          ],
          "sizemode": "area",
          "sizeref": 1865035.245,
          "symbol": "circle"
         },
         "mode": "markers",
         "name": "Kosovo",
         "orientation": "v",
         "showlegend": true,
         "type": "scatter",
         "x": [
          3.1763816652925168
         ],
         "xaxis": "x",
         "y": [
          6.654946886542115
         ],
         "yaxis": "y"
        },
        {
         "hovertemplate": "Country=Croatia<br>Stringency Index=%{x}<br>Bounce Back Percentage=%{y}<br>Total Cases=%{marker.size}<extra></extra>",
         "legendgroup": "Croatia",
         "marker": {
          "color": "#B6E880",
          "size": [
           1314031
          ],
          "sizemode": "area",
          "sizeref": 1865035.245,
          "symbol": "circle"
         },
         "mode": "markers",
         "name": "Croatia",
         "orientation": "v",
         "showlegend": true,
         "type": "scatter",
         "x": [
          3.1440618902551023
         ],
         "xaxis": "x",
         "y": [
          6.99254135243787
         ],
         "yaxis": "y"
        },
        {
         "hovertemplate": "Country=Democratic Republic of Congo<br>Stringency Index=%{x}<br>Bounce Back Percentage=%{y}<br>Total Cases=%{marker.size}<extra></extra>",
         "legendgroup": "Democratic Republic of Congo",
         "marker": {
          "color": "#FF97FF",
          "size": [
           1271391
          ],
          "sizemode": "area",
          "sizeref": 1865035.245,
          "symbol": "circle"
         },
         "mode": "markers",
         "name": "Democratic Republic of Congo",
         "orientation": "v",
         "showlegend": true,
         "type": "scatter",
         "x": [
          3.0745801085034015
         ],
         "xaxis": "x",
         "y": [
          5.49632266135317
         ],
         "yaxis": "y"
        },
        {
         "hovertemplate": "Country=Guinea<br>Stringency Index=%{x}<br>Bounce Back Percentage=%{y}<br>Total Cases=%{marker.size}<extra></extra>",
         "legendgroup": "Guinea",
         "marker": {
          "color": "#FECB52",
          "size": [
           1195836
          ],
          "sizemode": "area",
          "sizeref": 1865035.245,
          "symbol": "circle"
         },
         "mode": "markers",
         "name": "Guinea",
         "orientation": "v",
         "showlegend": true,
         "type": "scatter",
         "x": [
          3.0001857734659865
         ],
         "xaxis": "x",
         "y": [
          2.2264066934909432
         ],
         "yaxis": "y"
        },
        {
         "hovertemplate": "Country=Luxembourg<br>Stringency Index=%{x}<br>Bounce Back Percentage=%{y}<br>Total Cases=%{marker.size}<extra></extra>",
         "legendgroup": "Luxembourg",
         "marker": {
          "color": "#636efa",
          "size": [
           1146724
          ],
          "sizemode": "area",
          "sizeref": 1865035.245,
          "symbol": "circle"
         },
         "mode": "markers",
         "name": "Luxembourg",
         "orientation": "v",
         "showlegend": true,
         "type": "scatter",
         "x": [
          2.905672398506803
         ],
         "xaxis": "x",
         "y": [
          -0.6438359632098513
         ],
         "yaxis": "y"
        },
        {
         "hovertemplate": "Country=Zambia<br>Stringency Index=%{x}<br>Bounce Back Percentage=%{y}<br>Total Cases=%{marker.size}<extra></extra>",
         "legendgroup": "Zambia",
         "marker": {
          "color": "#EF553B",
          "size": [
           1129913
          ],
          "sizemode": "area",
          "sizeref": 1865035.245,
          "symbol": "circle"
         },
         "mode": "markers",
         "name": "Zambia",
         "orientation": "v",
         "showlegend": true,
         "type": "scatter",
         "x": [
          2.645104184595238
         ],
         "xaxis": "x",
         "y": [
          2.3864729926236348
         ],
         "yaxis": "y"
        },
        {
         "hovertemplate": "Country=Tajikistan<br>Stringency Index=%{x}<br>Bounce Back Percentage=%{y}<br>Total Cases=%{marker.size}<extra></extra>",
         "legendgroup": "Tajikistan",
         "marker": {
          "color": "#00cc96",
          "size": [
           1117391
          ],
          "sizemode": "area",
          "sizeref": 1865035.245,
          "symbol": "circle"
         },
         "mode": "markers",
         "name": "Tajikistan",
         "orientation": "v",
         "showlegend": true,
         "type": "scatter",
         "x": [
          2.240074461547619
         ],
         "xaxis": "x",
         "y": [
          5.8002191351990025
         ],
         "yaxis": "y"
        },
        {
         "hovertemplate": "Country=Albania<br>Stringency Index=%{x}<br>Bounce Back Percentage=%{y}<br>Total Cases=%{marker.size}<extra></extra>",
         "legendgroup": "Albania",
         "marker": {
          "color": "#ab63fa",
          "size": [
           1071951
          ],
          "sizemode": "area",
          "sizeref": 1865035.245,
          "symbol": "circle"
         },
         "mode": "markers",
         "name": "Albania",
         "orientation": "v",
         "showlegend": true,
         "type": "scatter",
         "x": [
          3.0056236545748294
         ],
         "xaxis": "x",
         "y": [
          6.139010809525006
         ],
         "yaxis": "y"
        },
        {
         "hovertemplate": "Country=Gabon<br>Stringency Index=%{x}<br>Bounce Back Percentage=%{y}<br>Total Cases=%{marker.size}<extra></extra>",
         "legendgroup": "Gabon",
         "marker": {
          "color": "#FFA15A",
          "size": [
           1031803
          ],
          "sizemode": "area",
          "sizeref": 1865035.245,
          "symbol": "circle"
         },
         "mode": "markers",
         "name": "Gabon",
         "orientation": "v",
         "showlegend": true,
         "type": "scatter",
         "x": [
          3.1221241128979584
         ],
         "xaxis": "x",
         "y": [
          0.8484566730974835
         ],
         "yaxis": "y"
        },
        {
         "hovertemplate": "Country=Haiti<br>Stringency Index=%{x}<br>Bounce Back Percentage=%{y}<br>Total Cases=%{marker.size}<extra></extra>",
         "legendgroup": "Haiti",
         "marker": {
          "color": "#19d3f3",
          "size": [
           1023155
          ],
          "sizemode": "area",
          "sizeref": 1865035.245,
          "symbol": "circle"
         },
         "mode": "markers",
         "name": "Haiti",
         "orientation": "v",
         "showlegend": true,
         "type": "scatter",
         "x": [
          2.7754449377074826
         ],
         "xaxis": "x",
         "y": [
          -2.848280901916278
         ],
         "yaxis": "y"
        },
        {
         "hovertemplate": "Country=Tunisia<br>Stringency Index=%{x}<br>Bounce Back Percentage=%{y}<br>Total Cases=%{marker.size}<extra></extra>",
         "legendgroup": "Tunisia",
         "marker": {
          "color": "#FF6692",
          "size": [
           1000626
          ],
          "sizemode": "area",
          "sizeref": 1865035.245,
          "symbol": "circle"
         },
         "mode": "markers",
         "name": "Tunisia",
         "orientation": "v",
         "showlegend": true,
         "type": "scatter",
         "x": [
          2.8630195453367344
         ],
         "xaxis": "x",
         "y": [
          1.6654429485894986
         ],
         "yaxis": "y"
        },
        {
         "hovertemplate": "Country=Maldives<br>Stringency Index=%{x}<br>Bounce Back Percentage=%{y}<br>Total Cases=%{marker.size}<extra></extra>",
         "legendgroup": "Maldives",
         "marker": {
          "color": "#B6E880",
          "size": [
           844040
          ],
          "sizemode": "area",
          "sizeref": 1865035.245,
          "symbol": "circle"
         },
         "mode": "markers",
         "name": "Maldives",
         "orientation": "v",
         "showlegend": true,
         "type": "scatter",
         "x": [
          0
         ],
         "xaxis": "x",
         "y": [
          13.399975903331848
         ],
         "yaxis": "y"
        },
        {
         "hovertemplate": "Country=Mauritania<br>Stringency Index=%{x}<br>Bounce Back Percentage=%{y}<br>Total Cases=%{marker.size}<extra></extra>",
         "legendgroup": "Mauritania",
         "marker": {
          "color": "#FF97FF",
          "size": [
           799222
          ],
          "sizemode": "area",
          "sizeref": 1865035.245,
          "symbol": "circle"
         },
         "mode": "markers",
         "name": "Mauritania",
         "orientation": "v",
         "showlegend": true,
         "type": "scatter",
         "x": [
          2.6605094333877557
         ],
         "xaxis": "x",
         "y": [
          3.6546659486455053
         ],
         "yaxis": "y"
        },
        {
         "hovertemplate": "Country=Slovakia<br>Stringency Index=%{x}<br>Bounce Back Percentage=%{y}<br>Total Cases=%{marker.size}<extra></extra>",
         "legendgroup": "Slovakia",
         "marker": {
          "color": "#FECB52",
          "size": [
           798665
          ],
          "sizemode": "area",
          "sizeref": 1865035.245,
          "symbol": "circle"
         },
         "mode": "markers",
         "name": "Slovakia",
         "orientation": "v",
         "showlegend": true,
         "type": "scatter",
         "x": [
          2.8965280817040817
         ],
         "xaxis": "x",
         "y": [
          2.040707483646008
         ],
         "yaxis": "y"
        },
        {
         "hovertemplate": "Country=Djibouti<br>Stringency Index=%{x}<br>Bounce Back Percentage=%{y}<br>Total Cases=%{marker.size}<extra></extra>",
         "legendgroup": "Djibouti",
         "marker": {
          "color": "#636efa",
          "size": [
           781771
          ],
          "sizemode": "area",
          "sizeref": 1865035.245,
          "symbol": "circle"
         },
         "mode": "markers",
         "name": "Djibouti",
         "orientation": "v",
         "showlegend": true,
         "type": "scatter",
         "x": [
          2.910019280119047
         ],
         "xaxis": "x",
         "y": [
          1.7168889617368688
         ],
         "yaxis": "y"
        },
        {
         "hovertemplate": "Country=Jordan<br>Stringency Index=%{x}<br>Bounce Back Percentage=%{y}<br>Total Cases=%{marker.size}<extra></extra>",
         "legendgroup": "Jordan",
         "marker": {
          "color": "#EF553B",
          "size": [
           716514
          ],
          "sizemode": "area",
          "sizeref": 1865035.245,
          "symbol": "circle"
         },
         "mode": "markers",
         "name": "Jordan",
         "orientation": "v",
         "showlegend": true,
         "type": "scatter",
         "x": [
          3.179010039955782
         ],
         "xaxis": "x",
         "y": [
          1.1793333614071082
         ],
         "yaxis": "y"
        },
        {
         "hovertemplate": "Country=Namibia<br>Stringency Index=%{x}<br>Bounce Back Percentage=%{y}<br>Total Cases=%{marker.size}<extra></extra>",
         "legendgroup": "Namibia",
         "marker": {
          "color": "#00cc96",
          "size": [
           681299
          ],
          "sizemode": "area",
          "sizeref": 1865035.245,
          "symbol": "circle"
         },
         "mode": "markers",
         "name": "Namibia",
         "orientation": "v",
         "showlegend": true,
         "type": "scatter",
         "x": [
          2.996030525765306
         ],
         "xaxis": "x",
         "y": [
          6.018233206998291
         ],
         "yaxis": "y"
        },
        {
         "hovertemplate": "Country=Montenegro<br>Stringency Index=%{x}<br>Bounce Back Percentage=%{y}<br>Total Cases=%{marker.size}<extra></extra>",
         "legendgroup": "Montenegro",
         "marker": {
          "color": "#ab63fa",
          "size": [
           675912
          ],
          "sizemode": "area",
          "sizeref": 1865035.245,
          "symbol": "circle"
         },
         "mode": "markers",
         "name": "Montenegro",
         "orientation": "v",
         "showlegend": true,
         "type": "scatter",
         "x": [
          0
         ],
         "xaxis": "x",
         "y": [
          6.751129316553143
         ],
         "yaxis": "y"
        },
        {
         "hovertemplate": "Country=Thailand<br>Stringency Index=%{x}<br>Bounce Back Percentage=%{y}<br>Total Cases=%{marker.size}<extra></extra>",
         "legendgroup": "Thailand",
         "marker": {
          "color": "#FFA15A",
          "size": [
           655703
          ],
          "sizemode": "area",
          "sizeref": 1865035.245,
          "symbol": "circle"
         },
         "mode": "markers",
         "name": "Thailand",
         "orientation": "v",
         "showlegend": true,
         "type": "scatter",
         "x": [
          3.060495103527211
         ],
         "xaxis": "x",
         "y": [
          2.4603841118591046
         ],
         "yaxis": "y"
        },
        {
         "hovertemplate": "Country=Myanmar<br>Stringency Index=%{x}<br>Bounce Back Percentage=%{y}<br>Total Cases=%{marker.size}<extra></extra>",
         "legendgroup": "Myanmar",
         "marker": {
          "color": "#19d3f3",
          "size": [
           644209
          ],
          "sizemode": "area",
          "sizeref": 1865035.245,
          "symbol": "circle"
         },
         "mode": "markers",
         "name": "Myanmar",
         "orientation": "v",
         "showlegend": true,
         "type": "scatter",
         "x": [
          3.1433438754523806
         ],
         "xaxis": "x",
         "y": [
          3.305442804840647
         ],
         "yaxis": "y"
        },
        {
         "hovertemplate": "Country=Zimbabwe<br>Stringency Index=%{x}<br>Bounce Back Percentage=%{y}<br>Total Cases=%{marker.size}<extra></extra>",
         "legendgroup": "Zimbabwe",
         "marker": {
          "color": "#FF6692",
          "size": [
           593699
          ],
          "sizemode": "area",
          "sizeref": 1865035.245,
          "symbol": "circle"
         },
         "mode": "markers",
         "name": "Zimbabwe",
         "orientation": "v",
         "showlegend": true,
         "type": "scatter",
         "x": [
          3.1611319515748297
         ],
         "xaxis": "x",
         "y": [
          4.387998077672708
         ],
         "yaxis": "y"
        },
        {
         "hovertemplate": "Country=Central African Republic<br>Stringency Index=%{x}<br>Bounce Back Percentage=%{y}<br>Total Cases=%{marker.size}<extra></extra>",
         "legendgroup": "Central African Republic",
         "marker": {
          "color": "#B6E880",
          "size": [
           593048
          ],
          "sizemode": "area",
          "sizeref": 1865035.245,
          "symbol": "circle"
         },
         "mode": "markers",
         "name": "Central African Republic",
         "orientation": "v",
         "showlegend": true,
         "type": "scatter",
         "x": [
          2.9648505104047618
         ],
         "xaxis": "x",
         "y": [
          -1.6954008428584588
         ],
         "yaxis": "y"
        },
        {
         "hovertemplate": "Country=Equatorial Guinea<br>Stringency Index=%{x}<br>Bounce Back Percentage=%{y}<br>Total Cases=%{marker.size}<extra></extra>",
         "legendgroup": "Equatorial Guinea",
         "marker": {
          "color": "#FF97FF",
          "size": [
           557355
          ],
          "sizemode": "area",
          "sizeref": 1865035.245,
          "symbol": "circle"
         },
         "mode": "markers",
         "name": "Equatorial Guinea",
         "orientation": "v",
         "showlegend": true,
         "type": "scatter",
         "x": [
          0
         ],
         "xaxis": "x",
         "y": [
          1.2741910530330698
         ],
         "yaxis": "y"
        },
        {
         "hovertemplate": "Country=Slovenia<br>Stringency Index=%{x}<br>Bounce Back Percentage=%{y}<br>Total Cases=%{marker.size}<extra></extra>",
         "legendgroup": "Slovenia",
         "marker": {
          "color": "#FECB52",
          "size": [
           547075
          ],
          "sizemode": "area",
          "sizeref": 1865035.245,
          "symbol": "circle"
         },
         "mode": "markers",
         "name": "Slovenia",
         "orientation": "v",
         "showlegend": true,
         "type": "scatter",
         "x": [
          3.0012790250646257
         ],
         "xaxis": "x",
         "y": [
          2.2712418300653554
         ],
         "yaxis": "y"
        },
        {
         "hovertemplate": "Country=Malawi<br>Stringency Index=%{x}<br>Bounce Back Percentage=%{y}<br>Total Cases=%{marker.size}<extra></extra>",
         "legendgroup": "Malawi",
         "marker": {
          "color": "#636efa",
          "size": [
           536447
          ],
          "sizemode": "area",
          "sizeref": 1865035.245,
          "symbol": "circle"
         },
         "mode": "markers",
         "name": "Malawi",
         "orientation": "v",
         "showlegend": true,
         "type": "scatter",
         "x": [
          2.7483170985986396
         ],
         "xaxis": "x",
         "y": [
          -1.6265677584779994
         ],
         "yaxis": "y"
        },
        {
         "hovertemplate": "Country=Nicaragua<br>Stringency Index=%{x}<br>Bounce Back Percentage=%{y}<br>Total Cases=%{marker.size}<extra></extra>",
         "legendgroup": "Nicaragua",
         "marker": {
          "color": "#EF553B",
          "size": [
           524410
          ],
          "sizemode": "area",
          "sizeref": 1865035.245,
          "symbol": "circle"
         },
         "mode": "markers",
         "name": "Nicaragua",
         "orientation": "v",
         "showlegend": true,
         "type": "scatter",
         "x": [
          1.7787903315544213
         ],
         "xaxis": "x",
         "y": [
          2.2894887329399825
         ],
         "yaxis": "y"
        },
        {
         "hovertemplate": "Country=Mozambique<br>Stringency Index=%{x}<br>Bounce Back Percentage=%{y}<br>Total Cases=%{marker.size}<extra></extra>",
         "legendgroup": "Mozambique",
         "marker": {
          "color": "#00cc96",
          "size": [
           510578
          ],
          "sizemode": "area",
          "sizeref": 1865035.245,
          "symbol": "circle"
         },
         "mode": "markers",
         "name": "Mozambique",
         "orientation": "v",
         "showlegend": true,
         "type": "scatter",
         "x": [
          2.8819963542414953
         ],
         "xaxis": "x",
         "y": [
          1.534942044337523
         ],
         "yaxis": "y"
        },
        {
         "hovertemplate": "Country=Somalia<br>Stringency Index=%{x}<br>Bounce Back Percentage=%{y}<br>Total Cases=%{marker.size}<extra></extra>",
         "legendgroup": "Somalia",
         "marker": {
          "color": "#ab63fa",
          "size": [
           491145
          ],
          "sizemode": "area",
          "sizeref": 1865035.245,
          "symbol": "circle"
         },
         "mode": "markers",
         "name": "Somalia",
         "orientation": "v",
         "showlegend": true,
         "type": "scatter",
         "x": [
          2.5585456688027213
         ],
         "xaxis": "x",
         "y": [
          -0.6632090909795392
         ],
         "yaxis": "y"
        },
        {
         "hovertemplate": "Country=Lithuania<br>Stringency Index=%{x}<br>Bounce Back Percentage=%{y}<br>Total Cases=%{marker.size}<extra></extra>",
         "legendgroup": "Lithuania",
         "marker": {
          "color": "#FFA15A",
          "size": [
           488057
          ],
          "sizemode": "area",
          "sizeref": 1865035.245,
          "symbol": "circle"
         },
         "mode": "markers",
         "name": "Lithuania",
         "orientation": "v",
         "showlegend": true,
         "type": "scatter",
         "x": [
          2.79028876255102
         ],
         "xaxis": "x",
         "y": [
          1.3259248067109817
         ],
         "yaxis": "y"
        },
        {
         "hovertemplate": "Country=Congo<br>Stringency Index=%{x}<br>Bounce Back Percentage=%{y}<br>Total Cases=%{marker.size}<extra></extra>",
         "legendgroup": "Congo",
         "marker": {
          "color": "#19d3f3",
          "size": [
           473368
          ],
          "sizemode": "area",
          "sizeref": 1865035.245,
          "symbol": "circle"
         },
         "mode": "markers",
         "name": "Congo",
         "orientation": "v",
         "showlegend": true,
         "type": "scatter",
         "x": [
          3.029772100969388
         ],
         "xaxis": "x",
         "y": [
          -0.8126515092141887
         ],
         "yaxis": "y"
        },
        {
         "hovertemplate": "Country=Cape Verde<br>Stringency Index=%{x}<br>Bounce Back Percentage=%{y}<br>Total Cases=%{marker.size}<extra></extra>",
         "legendgroup": "Cape Verde",
         "marker": {
          "color": "#FF6692",
          "size": [
           463888
          ],
          "sizemode": "area",
          "sizeref": 1865035.245,
          "symbol": "circle"
         },
         "mode": "markers",
         "name": "Cape Verde",
         "orientation": "v",
         "showlegend": true,
         "type": "scatter",
         "x": [
          2.988857297673469
         ],
         "xaxis": "x",
         "y": [
          16.085317249630116
         ],
         "yaxis": "y"
        },
        {
         "hovertemplate": "Country=Uganda<br>Stringency Index=%{x}<br>Bounce Back Percentage=%{y}<br>Total Cases=%{marker.size}<extra></extra>",
         "legendgroup": "Uganda",
         "marker": {
          "color": "#B6E880",
          "size": [
           448728
          ],
          "sizemode": "area",
          "sizeref": 1865035.245,
          "symbol": "circle"
         },
         "mode": "markers",
         "name": "Uganda",
         "orientation": "v",
         "showlegend": true,
         "type": "scatter",
         "x": [
          3.177188289904762
         ],
         "xaxis": "x",
         "y": [
          1.4983747430348857
         ],
         "yaxis": "y"
        },
        {
         "hovertemplate": "Country=Sri Lanka<br>Stringency Index=%{x}<br>Bounce Back Percentage=%{y}<br>Total Cases=%{marker.size}<extra></extra>",
         "legendgroup": "Sri Lanka",
         "marker": {
          "color": "#FF97FF",
          "size": [
           446643
          ],
          "sizemode": "area",
          "sizeref": 1865035.245,
          "symbol": "circle"
         },
         "mode": "markers",
         "name": "Sri Lanka",
         "orientation": "v",
         "showlegend": true,
         "type": "scatter",
         "x": [
          3.2125340412482988
         ],
         "xaxis": "x",
         "y": [
          -7.927864561911384
         ],
         "yaxis": "y"
        },
        {
         "hovertemplate": "Country=Estonia<br>Stringency Index=%{x}<br>Bounce Back Percentage=%{y}<br>Total Cases=%{marker.size}<extra></extra>",
         "legendgroup": "Estonia",
         "marker": {
          "color": "#FECB52",
          "size": [
           445402
          ],
          "sizemode": "area",
          "sizeref": 1865035.245,
          "symbol": "circle"
         },
         "mode": "markers",
         "name": "Estonia",
         "orientation": "v",
         "showlegend": true,
         "type": "scatter",
         "x": [
          2.5380262833979588
         ],
         "xaxis": "x",
         "y": [
          -2.597972322474259
         ],
         "yaxis": "y"
        },
        {
         "hovertemplate": "Country=Georgia<br>Stringency Index=%{x}<br>Bounce Back Percentage=%{y}<br>Total Cases=%{marker.size}<extra></extra>",
         "legendgroup": "Georgia",
         "marker": {
          "color": "#636efa",
          "size": [
           431689
          ],
          "sizemode": "area",
          "sizeref": 1865035.245,
          "symbol": "circle"
         },
         "mode": "markers",
         "name": "Georgia",
         "orientation": "v",
         "showlegend": true,
         "type": "scatter",
         "x": [
          3.6389395285034007
         ],
         "xaxis": "x",
         "y": [
          10.277768755675455
         ],
         "yaxis": "y"
        },
        {
         "hovertemplate": "Country=Iceland<br>Stringency Index=%{x}<br>Bounce Back Percentage=%{y}<br>Total Cases=%{marker.size}<extra></extra>",
         "legendgroup": "Iceland",
         "marker": {
          "color": "#EF553B",
          "size": [
           421210
          ],
          "sizemode": "area",
          "sizeref": 1865035.245,
          "symbol": "circle"
         },
         "mode": "markers",
         "name": "Iceland",
         "orientation": "v",
         "showlegend": true,
         "type": "scatter",
         "x": [
          3.174260733585034
         ],
         "xaxis": "x",
         "y": [
          4.575969494703521
         ],
         "yaxis": "y"
        },
        {
         "hovertemplate": "Country=Mali<br>Stringency Index=%{x}<br>Bounce Back Percentage=%{y}<br>Total Cases=%{marker.size}<extra></extra>",
         "legendgroup": "Mali",
         "marker": {
          "color": "#00cc96",
          "size": [
           390637
          ],
          "sizemode": "area",
          "sizeref": 1865035.245,
          "symbol": "circle"
         },
         "mode": "markers",
         "name": "Mali",
         "orientation": "v",
         "showlegend": true,
         "type": "scatter",
         "x": [
          2.7711030407380943
         ],
         "xaxis": "x",
         "y": [
          0.5658713643295346
         ],
         "yaxis": "y"
        },
        {
         "hovertemplate": "Country=Rwanda<br>Stringency Index=%{x}<br>Bounce Back Percentage=%{y}<br>Total Cases=%{marker.size}<extra></extra>",
         "legendgroup": "Rwanda",
         "marker": {
          "color": "#ab63fa",
          "size": [
           388775
          ],
          "sizemode": "area",
          "sizeref": 1865035.245,
          "symbol": "circle"
         },
         "mode": "markers",
         "name": "Rwanda",
         "orientation": "v",
         "showlegend": true,
         "type": "scatter",
         "x": [
          3.0920467206394555
         ],
         "xaxis": "x",
         "y": [
          5.688813567200027
         ],
         "yaxis": "y"
        },
        {
         "hovertemplate": "Country=Jamaica<br>Stringency Index=%{x}<br>Bounce Back Percentage=%{y}<br>Total Cases=%{marker.size}<extra></extra>",
         "legendgroup": "Jamaica",
         "marker": {
          "color": "#FFA15A",
          "size": [
           370890
          ],
          "sizemode": "area",
          "sizeref": 1865035.245,
          "symbol": "circle"
         },
         "mode": "markers",
         "name": "Jamaica",
         "orientation": "v",
         "showlegend": true,
         "type": "scatter",
         "x": [
          3.239694818312925
         ],
         "xaxis": "x",
         "y": [
          5.233357670867753
         ],
         "yaxis": "y"
        },
        {
         "hovertemplate": "Country=Suriname<br>Stringency Index=%{x}<br>Bounce Back Percentage=%{y}<br>Total Cases=%{marker.size}<extra></extra>",
         "legendgroup": "Suriname",
         "marker": {
          "color": "#19d3f3",
          "size": [
           358632
          ],
          "sizemode": "area",
          "sizeref": 1865035.245,
          "symbol": "circle"
         },
         "mode": "markers",
         "name": "Suriname",
         "orientation": "v",
         "showlegend": true,
         "type": "scatter",
         "x": [
          3.167167094068027
         ],
         "xaxis": "x",
         "y": [
          1.5959095929847857
         ],
         "yaxis": "y"
        },
        {
         "hovertemplate": "Country=Guinea-Bissau<br>Stringency Index=%{x}<br>Bounce Back Percentage=%{y}<br>Total Cases=%{marker.size}<extra></extra>",
         "legendgroup": "Guinea-Bissau",
         "marker": {
          "color": "#FF6692",
          "size": [
           306564
          ],
          "sizemode": "area",
          "sizeref": 1865035.245,
          "symbol": "circle"
         },
         "mode": "markers",
         "name": "Guinea-Bissau",
         "orientation": "v",
         "showlegend": true,
         "type": "scatter",
         "x": [
          0
         ],
         "xaxis": "x",
         "y": [
          1.2956709442349432
         ],
         "yaxis": "y"
        },
        {
         "hovertemplate": "Country=Angola<br>Stringency Index=%{x}<br>Bounce Back Percentage=%{y}<br>Total Cases=%{marker.size}<extra></extra>",
         "legendgroup": "Angola",
         "marker": {
          "color": "#B6E880",
          "size": [
           304005
          ],
          "sizemode": "area",
          "sizeref": 1865035.245,
          "symbol": "circle"
         },
         "mode": "markers",
         "name": "Angola",
         "orientation": "v",
         "showlegend": true,
         "type": "scatter",
         "x": [
          2.965559714153062
         ],
         "xaxis": "x",
         "y": [
          -0.0967499873220362
         ],
         "yaxis": "y"
        },
        {
         "hovertemplate": "Country=Sierra Leone<br>Stringency Index=%{x}<br>Bounce Back Percentage=%{y}<br>Total Cases=%{marker.size}<extra></extra>",
         "legendgroup": "Sierra Leone",
         "marker": {
          "color": "#FF97FF",
          "size": [
           268396
          ],
          "sizemode": "area",
          "sizeref": 1865035.245,
          "symbol": "circle"
         },
         "mode": "markers",
         "name": "Sierra Leone",
         "orientation": "v",
         "showlegend": true,
         "type": "scatter",
         "x": [
          2.5651667428537417
         ],
         "xaxis": "x",
         "y": [
          1.2325465509422844
         ],
         "yaxis": "y"
        },
        {
         "hovertemplate": "Country=Latvia<br>Stringency Index=%{x}<br>Bounce Back Percentage=%{y}<br>Total Cases=%{marker.size}<extra></extra>",
         "legendgroup": "Latvia",
         "marker": {
          "color": "#FECB52",
          "size": [
           255964
          ],
          "sizemode": "area",
          "sizeref": 1865035.245,
          "symbol": "circle"
         },
         "mode": "markers",
         "name": "Latvia",
         "orientation": "v",
         "showlegend": true,
         "type": "scatter",
         "x": [
          3.0254631613775507
         ],
         "xaxis": "x",
         "y": [
          3.6393376583322903
         ],
         "yaxis": "y"
        },
        {
         "hovertemplate": "Country=New Zealand<br>Stringency Index=%{x}<br>Bounce Back Percentage=%{y}<br>Total Cases=%{marker.size}<extra></extra>",
         "legendgroup": "New Zealand",
         "marker": {
          "color": "#636efa",
          "size": [
           253203
          ],
          "sizemode": "area",
          "sizeref": 1865035.245,
          "symbol": "circle"
         },
         "mode": "markers",
         "name": "New Zealand",
         "orientation": "v",
         "showlegend": true,
         "type": "scatter",
         "x": [
          3.233197103585034
         ],
         "xaxis": "x",
         "y": [
          2.5961866951159287
         ],
         "yaxis": "y"
        },
        {
         "hovertemplate": "Country=Malta<br>Stringency Index=%{x}<br>Bounce Back Percentage=%{y}<br>Total Cases=%{marker.size}<extra></extra>",
         "legendgroup": "Malta",
         "marker": {
          "color": "#EF553B",
          "size": [
           251261
          ],
          "sizemode": "area",
          "sizeref": 1865035.245,
          "symbol": "circle"
         },
         "mode": "markers",
         "name": "Malta",
         "orientation": "v",
         "showlegend": true,
         "type": "scatter",
         "x": [
          0
         ],
         "xaxis": "x",
         "y": [
          4.383981960112413
         ],
         "yaxis": "y"
        },
        {
         "hovertemplate": "Country=Benin<br>Stringency Index=%{x}<br>Bounce Back Percentage=%{y}<br>Total Cases=%{marker.size}<extra></extra>",
         "legendgroup": "Benin",
         "marker": {
          "color": "#00cc96",
          "size": [
           245893
          ],
          "sizemode": "area",
          "sizeref": 1865035.245,
          "symbol": "circle"
         },
         "mode": "markers",
         "name": "Benin",
         "orientation": "v",
         "showlegend": true,
         "type": "scatter",
         "x": [
          2.7188522499115644
         ],
         "xaxis": "x",
         "y": [
          3.420678044480411
         ],
         "yaxis": "y"
        },
        {
         "hovertemplate": "Country=Uruguay<br>Stringency Index=%{x}<br>Bounce Back Percentage=%{y}<br>Total Cases=%{marker.size}<extra></extra>",
         "legendgroup": "Uruguay",
         "marker": {
          "color": "#ab63fa",
          "size": [
           239884
          ],
          "sizemode": "area",
          "sizeref": 1865035.245,
          "symbol": "circle"
         },
         "mode": "markers",
         "name": "Uruguay",
         "orientation": "v",
         "showlegend": true,
         "type": "scatter",
         "x": [
          2.777736691469387
         ],
         "xaxis": "x",
         "y": [
          5.028125415999198
         ],
         "yaxis": "y"
        },
        {
         "hovertemplate": "Country=Bahamas<br>Stringency Index=%{x}<br>Bounce Back Percentage=%{y}<br>Total Cases=%{marker.size}<extra></extra>",
         "legendgroup": "Bahamas",
         "marker": {
          "color": "#FFA15A",
          "size": [
           237908
          ],
          "sizemode": "area",
          "sizeref": 1865035.245,
          "symbol": "circle"
         },
         "mode": "markers",
         "name": "Bahamas",
         "orientation": "v",
         "showlegend": true,
         "type": "scatter",
         "x": [
          0
         ],
         "xaxis": "x",
         "y": [
          13.788531719244185
         ],
         "yaxis": "y"
        },
        {
         "hovertemplate": "Country=Cyprus<br>Stringency Index=%{x}<br>Bounce Back Percentage=%{y}<br>Total Cases=%{marker.size}<extra></extra>",
         "legendgroup": "Cyprus",
         "marker": {
          "color": "#19d3f3",
          "size": [
           236673
          ],
          "sizemode": "area",
          "sizeref": 1865035.245,
          "symbol": "circle"
         },
         "mode": "markers",
         "name": "Cyprus",
         "orientation": "v",
         "showlegend": true,
         "type": "scatter",
         "x": [
          3.110623018248299
         ],
         "xaxis": "x",
         "y": [
          3.6369076176369504
         ],
         "yaxis": "y"
        },
        {
         "hovertemplate": "Country=Burkina Faso<br>Stringency Index=%{x}<br>Bounce Back Percentage=%{y}<br>Total Cases=%{marker.size}<extra></extra>",
         "legendgroup": "Burkina Faso",
         "marker": {
          "color": "#FF6692",
          "size": [
           231452
          ],
          "sizemode": "area",
          "sizeref": 1865035.245,
          "symbol": "circle"
         },
         "mode": "markers",
         "name": "Burkina Faso",
         "orientation": "v",
         "showlegend": true,
         "type": "scatter",
         "x": [
          2.8844738915544217
         ],
         "xaxis": "x",
         "y": [
          -0.7920110778338376
         ],
         "yaxis": "y"
        },
        {
         "hovertemplate": "Country=Gambia<br>Stringency Index=%{x}<br>Bounce Back Percentage=%{y}<br>Total Cases=%{marker.size}<extra></extra>",
         "legendgroup": "Gambia",
         "marker": {
          "color": "#B6E880",
          "size": [
           229521
          ],
          "sizemode": "area",
          "sizeref": 1865035.245,
          "symbol": "circle"
         },
         "mode": "markers",
         "name": "Gambia",
         "orientation": "v",
         "showlegend": true,
         "type": "scatter",
         "x": [
          3.1054073187108853
         ],
         "xaxis": "x",
         "y": [
          1.784113428783203
         ],
         "yaxis": "y"
        },
        {
         "hovertemplate": "Country=Trinidad and Tobago<br>Stringency Index=%{x}<br>Bounce Back Percentage=%{y}<br>Total Cases=%{marker.size}<extra></extra>",
         "legendgroup": "Trinidad and Tobago",
         "marker": {
          "color": "#FF97FF",
          "size": [
           225550
          ],
          "sizemode": "area",
          "sizeref": 1865035.245,
          "symbol": "circle"
         },
         "mode": "markers",
         "name": "Trinidad and Tobago",
         "orientation": "v",
         "showlegend": true,
         "type": "scatter",
         "x": [
          3.0174295116428564
         ],
         "xaxis": "x",
         "y": [
          1.125577871681915
         ],
         "yaxis": "y"
        },
        {
         "hovertemplate": "Country=Aruba<br>Stringency Index=%{x}<br>Bounce Back Percentage=%{y}<br>Total Cases=%{marker.size}<extra></extra>",
         "legendgroup": "Aruba",
         "marker": {
          "color": "#FECB52",
          "size": [
           215110
          ],
          "sizemode": "area",
          "sizeref": 1865035.245,
          "symbol": "circle"
         },
         "mode": "markers",
         "name": "Aruba",
         "orientation": "v",
         "showlegend": true,
         "type": "scatter",
         "x": [
          2.7689076071326535
         ],
         "xaxis": "x",
         "y": [
          10.553779611864025
         ],
         "yaxis": "y"
        },
        {
         "hovertemplate": "Country=Botswana<br>Stringency Index=%{x}<br>Bounce Back Percentage=%{y}<br>Total Cases=%{marker.size}<extra></extra>",
         "legendgroup": "Botswana",
         "marker": {
          "color": "#636efa",
          "size": [
           205758
          ],
          "sizemode": "area",
          "sizeref": 1865035.245,
          "symbol": "circle"
         },
         "mode": "markers",
         "name": "Botswana",
         "orientation": "v",
         "showlegend": true,
         "type": "scatter",
         "x": [
          2.8325677352210885
         ],
         "xaxis": "x",
         "y": [
          4.103831937659454
         ],
         "yaxis": "y"
        },
        {
         "hovertemplate": "Country=Niger<br>Stringency Index=%{x}<br>Bounce Back Percentage=%{y}<br>Total Cases=%{marker.size}<extra></extra>",
         "legendgroup": "Niger",
         "marker": {
          "color": "#EF553B",
          "size": [
           199978
          ],
          "sizemode": "area",
          "sizeref": 1865035.245,
          "symbol": "circle"
         },
         "mode": "markers",
         "name": "Niger",
         "orientation": "v",
         "showlegend": true,
         "type": "scatter",
         "x": [
          2.2517598853673464
         ],
         "xaxis": "x",
         "y": [
          7.425998499827221
         ],
         "yaxis": "y"
        },
        {
         "hovertemplate": "Country=Togo<br>Stringency Index=%{x}<br>Bounce Back Percentage=%{y}<br>Total Cases=%{marker.size}<extra></extra>",
         "legendgroup": "Togo",
         "marker": {
          "color": "#00cc96",
          "size": [
           169903
          ],
          "sizemode": "area",
          "sizeref": 1865035.245,
          "symbol": "circle"
         },
         "mode": "markers",
         "name": "Togo",
         "orientation": "v",
         "showlegend": true,
         "type": "scatter",
         "x": [
          2.9374114366496604
         ],
         "xaxis": "x",
         "y": [
          3.3727149473522178
         ],
         "yaxis": "y"
        },
        {
         "hovertemplate": "Country=Guyana<br>Stringency Index=%{x}<br>Bounce Back Percentage=%{y}<br>Total Cases=%{marker.size}<extra></extra>",
         "legendgroup": "Guyana",
         "marker": {
          "color": "#ab63fa",
          "size": [
           166917
          ],
          "sizemode": "area",
          "sizeref": 1865035.245,
          "symbol": "circle"
         },
         "mode": "markers",
         "name": "Guyana",
         "orientation": "v",
         "showlegend": true,
         "type": "scatter",
         "x": [
          3.139448600384354
         ],
         "xaxis": "x",
         "y": [
          62.52828078419088
         ],
         "yaxis": "y"
        },
        {
         "hovertemplate": "Country=Liberia<br>Stringency Index=%{x}<br>Bounce Back Percentage=%{y}<br>Total Cases=%{marker.size}<extra></extra>",
         "legendgroup": "Liberia",
         "marker": {
          "color": "#FFA15A",
          "size": [
           159880
          ],
          "sizemode": "area",
          "sizeref": 1865035.245,
          "symbol": "circle"
         },
         "mode": "markers",
         "name": "Liberia",
         "orientation": "v",
         "showlegend": true,
         "type": "scatter",
         "x": [
          3.148329587809524
         ],
         "xaxis": "x",
         "y": [
          2.6484623422671953
         ],
         "yaxis": "y"
        },
        {
         "hovertemplate": "Country=Chad<br>Stringency Index=%{x}<br>Bounce Back Percentage=%{y}<br>Total Cases=%{marker.size}<extra></extra>",
         "legendgroup": "Chad",
         "marker": {
          "color": "#19d3f3",
          "size": [
           154173
          ],
          "sizemode": "area",
          "sizeref": 1865035.245,
          "symbol": "circle"
         },
         "mode": "markers",
         "name": "Chad",
         "orientation": "v",
         "showlegend": true,
         "type": "scatter",
         "x": [
          2.983968134125851
         ],
         "xaxis": "x",
         "y": [
          -0.8995965961285657
         ],
         "yaxis": "y"
        },
        {
         "hovertemplate": "Country=Vietnam<br>Stringency Index=%{x}<br>Bounce Back Percentage=%{y}<br>Total Cases=%{marker.size}<extra></extra>",
         "legendgroup": "Vietnam",
         "marker": {
          "color": "#FF6692",
          "size": [
           122618
          ],
          "sizemode": "area",
          "sizeref": 1865035.245,
          "symbol": "circle"
         },
         "mode": "markers",
         "name": "Vietnam",
         "orientation": "v",
         "showlegend": true,
         "type": "scatter",
         "x": [
          3.710868429755102
         ],
         "xaxis": "x",
         "y": [
          7.228971549328124
         ],
         "yaxis": "y"
        },
        {
         "hovertemplate": "Country=Sao Tome and Principe<br>Stringency Index=%{x}<br>Bounce Back Percentage=%{y}<br>Total Cases=%{marker.size}<extra></extra>",
         "legendgroup": "Sao Tome and Principe",
         "marker": {
          "color": "#B6E880",
          "size": [
           121909
          ],
          "sizemode": "area",
          "sizeref": 1865035.245,
          "symbol": "circle"
         },
         "mode": "markers",
         "name": "Sao Tome and Principe",
         "orientation": "v",
         "showlegend": true,
         "type": "scatter",
         "x": [
          0
         ],
         "xaxis": "x",
         "y": [
          -1.8151769998435139
         ],
         "yaxis": "y"
        },
        {
         "hovertemplate": "Country=Lesotho<br>Stringency Index=%{x}<br>Bounce Back Percentage=%{y}<br>Total Cases=%{marker.size}<extra></extra>",
         "legendgroup": "Lesotho",
         "marker": {
          "color": "#FF97FF",
          "size": [
           107948
          ],
          "sizemode": "area",
          "sizeref": 1865035.245,
          "symbol": "circle"
         },
         "mode": "markers",
         "name": "Lesotho",
         "orientation": "v",
         "showlegend": true,
         "type": "scatter",
         "x": [
          2.2233248549795923
         ],
         "xaxis": "x",
         "y": [
          0.04618396813440417
         ],
         "yaxis": "y"
        },
        {
         "hovertemplate": "Country=Belize<br>Stringency Index=%{x}<br>Bounce Back Percentage=%{y}<br>Total Cases=%{marker.size}<extra></extra>",
         "legendgroup": "Belize",
         "marker": {
          "color": "#FECB52",
          "size": [
           106383
          ],
          "sizemode": "area",
          "sizeref": 1865035.245,
          "symbol": "circle"
         },
         "mode": "markers",
         "name": "Belize",
         "orientation": "v",
         "showlegend": true,
         "type": "scatter",
         "x": [
          2.8959699335272107
         ],
         "xaxis": "x",
         "y": [
          7.32816735828679
         ],
         "yaxis": "y"
        },
        {
         "hovertemplate": "Country=Tanzania<br>Stringency Index=%{x}<br>Bounce Back Percentage=%{y}<br>Total Cases=%{marker.size}<extra></extra>",
         "legendgroup": "Tanzania",
         "marker": {
          "color": "#636efa",
          "size": [
           91526
          ],
          "sizemode": "area",
          "sizeref": 1865035.245,
          "symbol": "circle"
         },
         "mode": "markers",
         "name": "Tanzania",
         "orientation": "v",
         "showlegend": true,
         "type": "scatter",
         "x": [
          2.402485587190476
         ],
         "xaxis": "x",
         "y": [
          1.5270056926610094
         ],
         "yaxis": "y"
        },
        {
         "hovertemplate": "Country=Mauritius<br>Stringency Index=%{x}<br>Bounce Back Percentage=%{y}<br>Total Cases=%{marker.size}<extra></extra>",
         "legendgroup": "Mauritius",
         "marker": {
          "color": "#EF553B",
          "size": [
           69524
          ],
          "sizemode": "area",
          "sizeref": 1865035.245,
          "symbol": "circle"
         },
         "mode": "markers",
         "name": "Mauritius",
         "orientation": "v",
         "showlegend": true,
         "type": "scatter",
         "x": [
          2.5070728676870746
         ],
         "xaxis": "x",
         "y": [
          9.2092422469248
         ],
         "yaxis": "y"
        },
        {
         "hovertemplate": "Country=Comoros<br>Stringency Index=%{x}<br>Bounce Back Percentage=%{y}<br>Total Cases=%{marker.size}<extra></extra>",
         "legendgroup": "Comoros",
         "marker": {
          "color": "#00cc96",
          "size": [
           52437
          ],
          "sizemode": "area",
          "sizeref": 1865035.245,
          "symbol": "circle"
         },
         "mode": "markers",
         "name": "Comoros",
         "orientation": "v",
         "showlegend": true,
         "type": "scatter",
         "x": [
          0
         ],
         "xaxis": "x",
         "y": [
          0.5340485160585153
         ],
         "yaxis": "y"
        },
        {
         "hovertemplate": "Country=Burundi<br>Stringency Index=%{x}<br>Bounce Back Percentage=%{y}<br>Total Cases=%{marker.size}<extra></extra>",
         "legendgroup": "Burundi",
         "marker": {
          "color": "#ab63fa",
          "size": [
           49745
          ],
          "sizemode": "area",
          "sizeref": 1865035.245,
          "symbol": "circle"
         },
         "mode": "markers",
         "name": "Burundi",
         "orientation": "v",
         "showlegend": true,
         "type": "scatter",
         "x": [
          1.689712130088435
         ],
         "xaxis": "x",
         "y": [
          -0.8246288476972716
         ],
         "yaxis": "y"
        },
        {
         "hovertemplate": "Country=Sint Maarten (Dutch part)<br>Stringency Index=%{x}<br>Bounce Back Percentage=%{y}<br>Total Cases=%{marker.size}<extra></extra>",
         "legendgroup": "Sint Maarten (Dutch part)",
         "marker": {
          "color": "#FFA15A",
          "size": [
           48026
          ],
          "sizemode": "area",
          "sizeref": 1865035.245,
          "symbol": "circle"
         },
         "mode": "markers",
         "name": "Sint Maarten (Dutch part)",
         "orientation": "v",
         "showlegend": true,
         "type": "scatter",
         "x": [
          0
         ],
         "xaxis": "x",
         "y": [
          9.33874292185818
         ],
         "yaxis": "y"
        },
        {
         "hovertemplate": "Country=Turks and Caicos Islands<br>Stringency Index=%{x}<br>Bounce Back Percentage=%{y}<br>Total Cases=%{marker.size}<extra></extra>",
         "legendgroup": "Turks and Caicos Islands",
         "marker": {
          "color": "#19d3f3",
          "size": [
           44432
          ],
          "sizemode": "area",
          "sizeref": 1865035.245,
          "symbol": "circle"
         },
         "mode": "markers",
         "name": "Turks and Caicos Islands",
         "orientation": "v",
         "showlegend": true,
         "type": "scatter",
         "x": [
          2.2971052494115645
         ],
         "xaxis": "x",
         "y": [
          4.831339721694671
         ],
         "yaxis": "y"
        },
        {
         "hovertemplate": "Country=Mongolia<br>Stringency Index=%{x}<br>Bounce Back Percentage=%{y}<br>Total Cases=%{marker.size}<extra></extra>",
         "legendgroup": "Mongolia",
         "marker": {
          "color": "#FF6692",
          "size": [
           42465
          ],
          "sizemode": "area",
          "sizeref": 1865035.245,
          "symbol": "circle"
         },
         "mode": "markers",
         "name": "Mongolia",
         "orientation": "v",
         "showlegend": true,
         "type": "scatter",
         "x": [
          3.0700195609013603
         ],
         "xaxis": "x",
         "y": [
          3.4693096269755572
         ],
         "yaxis": "y"
        },
        {
         "hovertemplate": "Country=Cambodia<br>Stringency Index=%{x}<br>Bounce Back Percentage=%{y}<br>Total Cases=%{marker.size}<extra></extra>",
         "legendgroup": "Cambodia",
         "marker": {
          "color": "#B6E880",
          "size": [
           39539
          ],
          "sizemode": "area",
          "sizeref": 1865035.245,
          "symbol": "circle"
         },
         "mode": "markers",
         "name": "Cambodia",
         "orientation": "v",
         "showlegend": true,
         "type": "scatter",
         "x": [
          2.875571929306122
         ],
         "xaxis": "x",
         "y": [
          4.117492413823886
         ],
         "yaxis": "y"
        },
        {
         "hovertemplate": "Country=Papua New Guinea<br>Stringency Index=%{x}<br>Bounce Back Percentage=%{y}<br>Total Cases=%{marker.size}<extra></extra>",
         "legendgroup": "Papua New Guinea",
         "marker": {
          "color": "#FF97FF",
          "size": [
           35966
          ],
          "sizemode": "area",
          "sizeref": 1865035.245,
          "symbol": "circle"
         },
         "mode": "markers",
         "name": "Papua New Guinea",
         "orientation": "v",
         "showlegend": true,
         "type": "scatter",
         "x": [
          2.67551761532653
         ],
         "xaxis": "x",
         "y": [
          3.1620242296593486
         ],
         "yaxis": "y"
        },
        {
         "hovertemplate": "Country=Cayman Islands<br>Stringency Index=%{x}<br>Bounce Back Percentage=%{y}<br>Total Cases=%{marker.size}<extra></extra>",
         "legendgroup": "Cayman Islands",
         "marker": {
          "color": "#FECB52",
          "size": [
           33173
          ],
          "sizemode": "area",
          "sizeref": 1865035.245,
          "symbol": "circle"
         },
         "mode": "markers",
         "name": "Cayman Islands",
         "orientation": "v",
         "showlegend": true,
         "type": "scatter",
         "x": [
          1.5389167769829932
         ],
         "xaxis": "x",
         "y": [
          2.8144108695204255
         ],
         "yaxis": "y"
        },
        {
         "hovertemplate": "Country=Brunei<br>Stringency Index=%{x}<br>Bounce Back Percentage=%{y}<br>Total Cases=%{marker.size}<extra></extra>",
         "legendgroup": "Brunei",
         "marker": {
          "color": "#636efa",
          "size": [
           30140
          ],
          "sizemode": "area",
          "sizeref": 1865035.245,
          "symbol": "circle"
         },
         "mode": "markers",
         "name": "Brunei",
         "orientation": "v",
         "showlegend": true,
         "type": "scatter",
         "x": [
          2.8664489886020412
         ],
         "xaxis": "x",
         "y": [
          -2.4234045314367205
         ],
         "yaxis": "y"
        },
        {
         "hovertemplate": "Country=Bermuda<br>Stringency Index=%{x}<br>Bounce Back Percentage=%{y}<br>Total Cases=%{marker.size}<extra></extra>",
         "legendgroup": "Bermuda",
         "marker": {
          "color": "#EF553B",
          "size": [
           28876
          ],
          "sizemode": "area",
          "sizeref": 1865035.245,
          "symbol": "circle"
         },
         "mode": "markers",
         "name": "Bermuda",
         "orientation": "v",
         "showlegend": true,
         "type": "scatter",
         "x": [
          2.846286835465986
         ],
         "xaxis": "x",
         "y": [
          3.3029703645732496
         ],
         "yaxis": "y"
        },
        {
         "hovertemplate": "Country=Barbados<br>Stringency Index=%{x}<br>Bounce Back Percentage=%{y}<br>Total Cases=%{marker.size}<extra></extra>",
         "legendgroup": "Barbados",
         "marker": {
          "color": "#00cc96",
          "size": [
           24998
          ],
          "sizemode": "area",
          "sizeref": 1865035.245,
          "symbol": "circle"
         },
         "mode": "markers",
         "name": "Barbados",
         "orientation": "v",
         "showlegend": true,
         "type": "scatter",
         "x": [
          2.9471776484217687
         ],
         "xaxis": "x",
         "y": [
          11.161785193451815
         ],
         "yaxis": "y"
        },
        {
         "hovertemplate": "Country=Curacao<br>Stringency Index=%{x}<br>Bounce Back Percentage=%{y}<br>Total Cases=%{marker.size}<extra></extra>",
         "legendgroup": "Curacao",
         "marker": {
          "color": "#ab63fa",
          "size": [
           19777
          ],
          "sizemode": "area",
          "sizeref": 1865035.245,
          "symbol": "circle"
         },
         "mode": "markers",
         "name": "Curacao",
         "orientation": "v",
         "showlegend": true,
         "type": "scatter",
         "x": [
          0
         ],
         "xaxis": "x",
         "y": [
          9.596854831486723
         ],
         "yaxis": "y"
        },
        {
         "hovertemplate": "Country=Seychelles<br>Stringency Index=%{x}<br>Bounce Back Percentage=%{y}<br>Total Cases=%{marker.size}<extra></extra>",
         "legendgroup": "Seychelles",
         "marker": {
          "color": "#FFA15A",
          "size": [
           14701
          ],
          "sizemode": "area",
          "sizeref": 1865035.245,
          "symbol": "circle"
         },
         "mode": "markers",
         "name": "Seychelles",
         "orientation": "v",
         "showlegend": true,
         "type": "scatter",
         "x": [
          2.5486704868707477
         ],
         "xaxis": "x",
         "y": [
          -9.74864164124419
         ],
         "yaxis": "y"
        },
        {
         "hovertemplate": "Country=Antigua and Barbuda<br>Stringency Index=%{x}<br>Bounce Back Percentage=%{y}<br>Total Cases=%{marker.size}<extra></extra>",
         "legendgroup": "Antigua and Barbuda",
         "marker": {
          "color": "#19d3f3",
          "size": [
           12619
          ],
          "sizemode": "area",
          "sizeref": 1865035.245,
          "symbol": "circle"
         },
         "mode": "markers",
         "name": "Antigua and Barbuda",
         "orientation": "v",
         "showlegend": true,
         "type": "scatter",
         "x": [
          0
         ],
         "xaxis": "x",
         "y": [
          8.880999038005742
         ],
         "yaxis": "y"
        },
        {
         "hovertemplate": "Country=Saint Vincent and the Grenadines<br>Stringency Index=%{x}<br>Bounce Back Percentage=%{y}<br>Total Cases=%{marker.size}<extra></extra>",
         "legendgroup": "Saint Vincent and the Grenadines",
         "marker": {
          "color": "#FF6692",
          "size": [
           7824
          ],
          "sizemode": "area",
          "sizeref": 1865035.245,
          "symbol": "circle"
         },
         "mode": "markers",
         "name": "Saint Vincent and the Grenadines",
         "orientation": "v",
         "showlegend": true,
         "type": "scatter",
         "x": [
          0
         ],
         "xaxis": "x",
         "y": [
          5.297481174126397
         ],
         "yaxis": "y"
        },
        {
         "hovertemplate": "Country=Fiji<br>Stringency Index=%{x}<br>Bounce Back Percentage=%{y}<br>Total Cases=%{marker.size}<extra></extra>",
         "legendgroup": "Fiji",
         "marker": {
          "color": "#B6E880",
          "size": [
           4742
          ],
          "sizemode": "area",
          "sizeref": 1865035.245,
          "symbol": "circle"
         },
         "mode": "markers",
         "name": "Fiji",
         "orientation": "v",
         "showlegend": true,
         "type": "scatter",
         "x": [
          3.427270103061224
         ],
         "xaxis": "x",
         "y": [
          19.35091319319969
         ],
         "yaxis": "y"
        },
        {
         "hovertemplate": "Country=Grenada<br>Stringency Index=%{x}<br>Bounce Back Percentage=%{y}<br>Total Cases=%{marker.size}<extra></extra>",
         "legendgroup": "Grenada",
         "marker": {
          "color": "#FF97FF",
          "size": [
           4470
          ],
          "sizemode": "area",
          "sizeref": 1865035.245,
          "symbol": "circle"
         },
         "mode": "markers",
         "name": "Grenada",
         "orientation": "v",
         "showlegend": true,
         "type": "scatter",
         "x": [
          0
         ],
         "xaxis": "x",
         "y": [
          5.659133078487911
         ],
         "yaxis": "y"
        },
        {
         "hovertemplate": "Country=Saint Lucia<br>Stringency Index=%{x}<br>Bounce Back Percentage=%{y}<br>Total Cases=%{marker.size}<extra></extra>",
         "legendgroup": "Saint Lucia",
         "marker": {
          "color": "#FECB52",
          "size": [
           4450
          ],
          "sizemode": "area",
          "sizeref": 1865035.245,
          "symbol": "circle"
         },
         "mode": "markers",
         "name": "Saint Lucia",
         "orientation": "v",
         "showlegend": true,
         "type": "scatter",
         "x": [
          0
         ],
         "xaxis": "x",
         "y": [
          15.746783335170425
         ],
         "yaxis": "y"
        },
        {
         "hovertemplate": "Country=Laos<br>Stringency Index=%{x}<br>Bounce Back Percentage=%{y}<br>Total Cases=%{marker.size}<extra></extra>",
         "legendgroup": "Laos",
         "marker": {
          "color": "#636efa",
          "size": [
           4039
          ],
          "sizemode": "area",
          "sizeref": 1865035.245,
          "symbol": "circle"
         },
         "mode": "markers",
         "name": "Laos",
         "orientation": "v",
         "showlegend": true,
         "type": "scatter",
         "x": [
          2.516711985833333
         ],
         "xaxis": "x",
         "y": [
          1.283089343345679
         ],
         "yaxis": "y"
        },
        {
         "hovertemplate": "Country=Dominica<br>Stringency Index=%{x}<br>Bounce Back Percentage=%{y}<br>Total Cases=%{marker.size}<extra></extra>",
         "legendgroup": "Dominica",
         "marker": {
          "color": "#EF553B",
          "size": [
           3977
          ],
          "sizemode": "area",
          "sizeref": 1865035.245,
          "symbol": "circle"
         },
         "mode": "markers",
         "name": "Dominica",
         "orientation": "v",
         "showlegend": true,
         "type": "scatter",
         "x": [
          2.6819666489727885
         ],
         "xaxis": "x",
         "y": [
          5.176278284318765
         ],
         "yaxis": "y"
        },
        {
         "hovertemplate": "Country=Saint Kitts and Nevis<br>Stringency Index=%{x}<br>Bounce Back Percentage=%{y}<br>Total Cases=%{marker.size}<extra></extra>",
         "legendgroup": "Saint Kitts and Nevis",
         "marker": {
          "color": "#00cc96",
          "size": [
           3246
          ],
          "sizemode": "area",
          "sizeref": 1865035.245,
          "symbol": "circle"
         },
         "mode": "markers",
         "name": "Saint Kitts and Nevis",
         "orientation": "v",
         "showlegend": true,
         "type": "scatter",
         "x": [
          0
         ],
         "xaxis": "x",
         "y": [
          8.72872397576204
         ],
         "yaxis": "y"
        },
        {
         "hovertemplate": "Country=Solomon Islands<br>Stringency Index=%{x}<br>Bounce Back Percentage=%{y}<br>Total Cases=%{marker.size}<extra></extra>",
         "legendgroup": "Solomon Islands",
         "marker": {
          "color": "#ab63fa",
          "size": [
           11
          ],
          "sizemode": "area",
          "sizeref": 1865035.245,
          "symbol": "circle"
         },
         "mode": "markers",
         "name": "Solomon Islands",
         "orientation": "v",
         "showlegend": true,
         "type": "scatter",
         "x": [
          0
         ],
         "xaxis": "x",
         "y": [
          -6.237699820816791
         ],
         "yaxis": "y"
        },
        {
         "hovertemplate": "Country=Hong Kong<br>Stringency Index=%{x}<br>Bounce Back Percentage=%{y}<br>Total Cases=%{marker.size}<extra></extra>",
         "legendgroup": "Hong Kong",
         "marker": {
          "color": "#FFA15A",
          "size": [
           0
          ],
          "sizemode": "area",
          "sizeref": 1865035.245,
          "symbol": "circle"
         },
         "mode": "markers",
         "name": "Hong Kong",
         "orientation": "v",
         "showlegend": true,
         "type": "scatter",
         "x": [
          0.6439803426292516
         ],
         "xaxis": "x",
         "y": [
          -2.5959832234699496
         ],
         "yaxis": "y"
        }
       ],
       "layout": {
        "legend": {
         "itemsizing": "constant",
         "title": {
          "text": "Country"
         },
         "tracegroupgap": 0
        },
        "template": {
         "data": {
          "bar": [
           {
            "error_x": {
             "color": "#2a3f5f"
            },
            "error_y": {
             "color": "#2a3f5f"
            },
            "marker": {
             "line": {
              "color": "#E5ECF6",
              "width": 0.5
             },
             "pattern": {
              "fillmode": "overlay",
              "size": 10,
              "solidity": 0.2
             }
            },
            "type": "bar"
           }
          ],
          "barpolar": [
           {
            "marker": {
             "line": {
              "color": "#E5ECF6",
              "width": 0.5
             },
             "pattern": {
              "fillmode": "overlay",
              "size": 10,
              "solidity": 0.2
             }
            },
            "type": "barpolar"
           }
          ],
          "carpet": [
           {
            "aaxis": {
             "endlinecolor": "#2a3f5f",
             "gridcolor": "white",
             "linecolor": "white",
             "minorgridcolor": "white",
             "startlinecolor": "#2a3f5f"
            },
            "baxis": {
             "endlinecolor": "#2a3f5f",
             "gridcolor": "white",
             "linecolor": "white",
             "minorgridcolor": "white",
             "startlinecolor": "#2a3f5f"
            },
            "type": "carpet"
           }
          ],
          "choropleth": [
           {
            "colorbar": {
             "outlinewidth": 0,
             "ticks": ""
            },
            "type": "choropleth"
           }
          ],
          "contour": [
           {
            "colorbar": {
             "outlinewidth": 0,
             "ticks": ""
            },
            "colorscale": [
             [
              0,
              "#0d0887"
             ],
             [
              0.1111111111111111,
              "#46039f"
             ],
             [
              0.2222222222222222,
              "#7201a8"
             ],
             [
              0.3333333333333333,
              "#9c179e"
             ],
             [
              0.4444444444444444,
              "#bd3786"
             ],
             [
              0.5555555555555556,
              "#d8576b"
             ],
             [
              0.6666666666666666,
              "#ed7953"
             ],
             [
              0.7777777777777778,
              "#fb9f3a"
             ],
             [
              0.8888888888888888,
              "#fdca26"
             ],
             [
              1,
              "#f0f921"
             ]
            ],
            "type": "contour"
           }
          ],
          "contourcarpet": [
           {
            "colorbar": {
             "outlinewidth": 0,
             "ticks": ""
            },
            "type": "contourcarpet"
           }
          ],
          "heatmap": [
           {
            "colorbar": {
             "outlinewidth": 0,
             "ticks": ""
            },
            "colorscale": [
             [
              0,
              "#0d0887"
             ],
             [
              0.1111111111111111,
              "#46039f"
             ],
             [
              0.2222222222222222,
              "#7201a8"
             ],
             [
              0.3333333333333333,
              "#9c179e"
             ],
             [
              0.4444444444444444,
              "#bd3786"
             ],
             [
              0.5555555555555556,
              "#d8576b"
             ],
             [
              0.6666666666666666,
              "#ed7953"
             ],
             [
              0.7777777777777778,
              "#fb9f3a"
             ],
             [
              0.8888888888888888,
              "#fdca26"
             ],
             [
              1,
              "#f0f921"
             ]
            ],
            "type": "heatmap"
           }
          ],
          "heatmapgl": [
           {
            "colorbar": {
             "outlinewidth": 0,
             "ticks": ""
            },
            "colorscale": [
             [
              0,
              "#0d0887"
             ],
             [
              0.1111111111111111,
              "#46039f"
             ],
             [
              0.2222222222222222,
              "#7201a8"
             ],
             [
              0.3333333333333333,
              "#9c179e"
             ],
             [
              0.4444444444444444,
              "#bd3786"
             ],
             [
              0.5555555555555556,
              "#d8576b"
             ],
             [
              0.6666666666666666,
              "#ed7953"
             ],
             [
              0.7777777777777778,
              "#fb9f3a"
             ],
             [
              0.8888888888888888,
              "#fdca26"
             ],
             [
              1,
              "#f0f921"
             ]
            ],
            "type": "heatmapgl"
           }
          ],
          "histogram": [
           {
            "marker": {
             "pattern": {
              "fillmode": "overlay",
              "size": 10,
              "solidity": 0.2
             }
            },
            "type": "histogram"
           }
          ],
          "histogram2d": [
           {
            "colorbar": {
             "outlinewidth": 0,
             "ticks": ""
            },
            "colorscale": [
             [
              0,
              "#0d0887"
             ],
             [
              0.1111111111111111,
              "#46039f"
             ],
             [
              0.2222222222222222,
              "#7201a8"
             ],
             [
              0.3333333333333333,
              "#9c179e"
             ],
             [
              0.4444444444444444,
              "#bd3786"
             ],
             [
              0.5555555555555556,
              "#d8576b"
             ],
             [
              0.6666666666666666,
              "#ed7953"
             ],
             [
              0.7777777777777778,
              "#fb9f3a"
             ],
             [
              0.8888888888888888,
              "#fdca26"
             ],
             [
              1,
              "#f0f921"
             ]
            ],
            "type": "histogram2d"
           }
          ],
          "histogram2dcontour": [
           {
            "colorbar": {
             "outlinewidth": 0,
             "ticks": ""
            },
            "colorscale": [
             [
              0,
              "#0d0887"
             ],
             [
              0.1111111111111111,
              "#46039f"
             ],
             [
              0.2222222222222222,
              "#7201a8"
             ],
             [
              0.3333333333333333,
              "#9c179e"
             ],
             [
              0.4444444444444444,
              "#bd3786"
             ],
             [
              0.5555555555555556,
              "#d8576b"
             ],
             [
              0.6666666666666666,
              "#ed7953"
             ],
             [
              0.7777777777777778,
              "#fb9f3a"
             ],
             [
              0.8888888888888888,
              "#fdca26"
             ],
             [
              1,
              "#f0f921"
             ]
            ],
            "type": "histogram2dcontour"
           }
          ],
          "mesh3d": [
           {
            "colorbar": {
             "outlinewidth": 0,
             "ticks": ""
            },
            "type": "mesh3d"
           }
          ],
          "parcoords": [
           {
            "line": {
             "colorbar": {
              "outlinewidth": 0,
              "ticks": ""
             }
            },
            "type": "parcoords"
           }
          ],
          "pie": [
           {
            "automargin": true,
            "type": "pie"
           }
          ],
          "scatter": [
           {
            "fillpattern": {
             "fillmode": "overlay",
             "size": 10,
             "solidity": 0.2
            },
            "type": "scatter"
           }
          ],
          "scatter3d": [
           {
            "line": {
             "colorbar": {
              "outlinewidth": 0,
              "ticks": ""
             }
            },
            "marker": {
             "colorbar": {
              "outlinewidth": 0,
              "ticks": ""
             }
            },
            "type": "scatter3d"
           }
          ],
          "scattercarpet": [
           {
            "marker": {
             "colorbar": {
              "outlinewidth": 0,
              "ticks": ""
             }
            },
            "type": "scattercarpet"
           }
          ],
          "scattergeo": [
           {
            "marker": {
             "colorbar": {
              "outlinewidth": 0,
              "ticks": ""
             }
            },
            "type": "scattergeo"
           }
          ],
          "scattergl": [
           {
            "marker": {
             "colorbar": {
              "outlinewidth": 0,
              "ticks": ""
             }
            },
            "type": "scattergl"
           }
          ],
          "scattermapbox": [
           {
            "marker": {
             "colorbar": {
              "outlinewidth": 0,
              "ticks": ""
             }
            },
            "type": "scattermapbox"
           }
          ],
          "scatterpolar": [
           {
            "marker": {
             "colorbar": {
              "outlinewidth": 0,
              "ticks": ""
             }
            },
            "type": "scatterpolar"
           }
          ],
          "scatterpolargl": [
           {
            "marker": {
             "colorbar": {
              "outlinewidth": 0,
              "ticks": ""
             }
            },
            "type": "scatterpolargl"
           }
          ],
          "scatterternary": [
           {
            "marker": {
             "colorbar": {
              "outlinewidth": 0,
              "ticks": ""
             }
            },
            "type": "scatterternary"
           }
          ],
          "surface": [
           {
            "colorbar": {
             "outlinewidth": 0,
             "ticks": ""
            },
            "colorscale": [
             [
              0,
              "#0d0887"
             ],
             [
              0.1111111111111111,
              "#46039f"
             ],
             [
              0.2222222222222222,
              "#7201a8"
             ],
             [
              0.3333333333333333,
              "#9c179e"
             ],
             [
              0.4444444444444444,
              "#bd3786"
             ],
             [
              0.5555555555555556,
              "#d8576b"
             ],
             [
              0.6666666666666666,
              "#ed7953"
             ],
             [
              0.7777777777777778,
              "#fb9f3a"
             ],
             [
              0.8888888888888888,
              "#fdca26"
             ],
             [
              1,
              "#f0f921"
             ]
            ],
            "type": "surface"
           }
          ],
          "table": [
           {
            "cells": {
             "fill": {
              "color": "#EBF0F8"
             },
             "line": {
              "color": "white"
             }
            },
            "header": {
             "fill": {
              "color": "#C8D4E3"
             },
             "line": {
              "color": "white"
             }
            },
            "type": "table"
           }
          ]
         },
         "layout": {
          "annotationdefaults": {
           "arrowcolor": "#2a3f5f",
           "arrowhead": 0,
           "arrowwidth": 1
          },
          "autotypenumbers": "strict",
          "coloraxis": {
           "colorbar": {
            "outlinewidth": 0,
            "ticks": ""
           }
          },
          "colorscale": {
           "diverging": [
            [
             0,
             "#8e0152"
            ],
            [
             0.1,
             "#c51b7d"
            ],
            [
             0.2,
             "#de77ae"
            ],
            [
             0.3,
             "#f1b6da"
            ],
            [
             0.4,
             "#fde0ef"
            ],
            [
             0.5,
             "#f7f7f7"
            ],
            [
             0.6,
             "#e6f5d0"
            ],
            [
             0.7,
             "#b8e186"
            ],
            [
             0.8,
             "#7fbc41"
            ],
            [
             0.9,
             "#4d9221"
            ],
            [
             1,
             "#276419"
            ]
           ],
           "sequential": [
            [
             0,
             "#0d0887"
            ],
            [
             0.1111111111111111,
             "#46039f"
            ],
            [
             0.2222222222222222,
             "#7201a8"
            ],
            [
             0.3333333333333333,
             "#9c179e"
            ],
            [
             0.4444444444444444,
             "#bd3786"
            ],
            [
             0.5555555555555556,
             "#d8576b"
            ],
            [
             0.6666666666666666,
             "#ed7953"
            ],
            [
             0.7777777777777778,
             "#fb9f3a"
            ],
            [
             0.8888888888888888,
             "#fdca26"
            ],
            [
             1,
             "#f0f921"
            ]
           ],
           "sequentialminus": [
            [
             0,
             "#0d0887"
            ],
            [
             0.1111111111111111,
             "#46039f"
            ],
            [
             0.2222222222222222,
             "#7201a8"
            ],
            [
             0.3333333333333333,
             "#9c179e"
            ],
            [
             0.4444444444444444,
             "#bd3786"
            ],
            [
             0.5555555555555556,
             "#d8576b"
            ],
            [
             0.6666666666666666,
             "#ed7953"
            ],
            [
             0.7777777777777778,
             "#fb9f3a"
            ],
            [
             0.8888888888888888,
             "#fdca26"
            ],
            [
             1,
             "#f0f921"
            ]
           ]
          },
          "colorway": [
           "#636efa",
           "#EF553B",
           "#00cc96",
           "#ab63fa",
           "#FFA15A",
           "#19d3f3",
           "#FF6692",
           "#B6E880",
           "#FF97FF",
           "#FECB52"
          ],
          "font": {
           "color": "#2a3f5f"
          },
          "geo": {
           "bgcolor": "white",
           "lakecolor": "white",
           "landcolor": "#E5ECF6",
           "showlakes": true,
           "showland": true,
           "subunitcolor": "white"
          },
          "hoverlabel": {
           "align": "left"
          },
          "hovermode": "closest",
          "mapbox": {
           "style": "light"
          },
          "paper_bgcolor": "white",
          "plot_bgcolor": "#E5ECF6",
          "polar": {
           "angularaxis": {
            "gridcolor": "white",
            "linecolor": "white",
            "ticks": ""
           },
           "bgcolor": "#E5ECF6",
           "radialaxis": {
            "gridcolor": "white",
            "linecolor": "white",
            "ticks": ""
           }
          },
          "scene": {
           "xaxis": {
            "backgroundcolor": "#E5ECF6",
            "gridcolor": "white",
            "gridwidth": 2,
            "linecolor": "white",
            "showbackground": true,
            "ticks": "",
            "zerolinecolor": "white"
           },
           "yaxis": {
            "backgroundcolor": "#E5ECF6",
            "gridcolor": "white",
            "gridwidth": 2,
            "linecolor": "white",
            "showbackground": true,
            "ticks": "",
            "zerolinecolor": "white"
           },
           "zaxis": {
            "backgroundcolor": "#E5ECF6",
            "gridcolor": "white",
            "gridwidth": 2,
            "linecolor": "white",
            "showbackground": true,
            "ticks": "",
            "zerolinecolor": "white"
           }
          },
          "shapedefaults": {
           "line": {
            "color": "#2a3f5f"
           }
          },
          "ternary": {
           "aaxis": {
            "gridcolor": "white",
            "linecolor": "white",
            "ticks": ""
           },
           "baxis": {
            "gridcolor": "white",
            "linecolor": "white",
            "ticks": ""
           },
           "bgcolor": "#E5ECF6",
           "caxis": {
            "gridcolor": "white",
            "linecolor": "white",
            "ticks": ""
           }
          },
          "title": {
           "x": 0.05
          },
          "xaxis": {
           "automargin": true,
           "gridcolor": "white",
           "linecolor": "white",
           "ticks": "",
           "title": {
            "standoff": 15
           },
           "zerolinecolor": "white",
           "zerolinewidth": 2
          },
          "yaxis": {
           "automargin": true,
           "gridcolor": "white",
           "linecolor": "white",
           "ticks": "",
           "title": {
            "standoff": 15
           },
           "zerolinecolor": "white",
           "zerolinewidth": 2
          }
         }
        },
        "title": {
         "text": "Bounce Back Percentage vs Stringency Index"
        },
        "xaxis": {
         "anchor": "y",
         "domain": [
          0,
          1
         ],
         "range": [
          3,
          4
         ],
         "title": {
          "text": "Stringency Index"
         }
        },
        "yaxis": {
         "anchor": "x",
         "domain": [
          0,
          1
         ],
         "range": [
          0,
          10
         ],
         "title": {
          "text": "Bounce Back Percentage"
         }
        }
       }
      }
     },
     "metadata": {},
     "output_type": "display_data"
    }
   ],
   "source": [
    "data[\"Bounce Back\"] = data[\"GDP Per Capita After Covid\"] - data[\"GDP Per Capita During Covid\"]\n",
    "data[\"Bounce Back Percentage\"] = (data[\"Bounce Back\"] / data[\"GDP Per Capita During Covid\"]) * 100\n",
    "#plot of bounce back percentage against stringency index\n",
    "fig = px.scatter(data, x=\"Stringency Index\", y=\"Bounce Back Percentage\", \n",
    "                 color=\"Country\", size=\"Total Cases\", \n",
    "                 title=\"Bounce Back Percentage vs Stringency Index\")\n",
    "fig.update_layout(xaxis_range=[3, 4],\n",
    "                  yaxis_range=[0, 10])\n",
    "fig.show()"
   ]
  },
  {
   "cell_type": "code",
   "execution_count": 35,
   "metadata": {},
   "outputs": [
    {
     "data": {
      "text/html": [
       "<div>\n",
       "<style scoped>\n",
       "    .dataframe tbody tr th:only-of-type {\n",
       "        vertical-align: middle;\n",
       "    }\n",
       "\n",
       "    .dataframe tbody tr th {\n",
       "        vertical-align: top;\n",
       "    }\n",
       "\n",
       "    .dataframe thead th {\n",
       "        text-align: right;\n",
       "    }\n",
       "</style>\n",
       "<table border=\"1\" class=\"dataframe\">\n",
       "  <thead>\n",
       "    <tr style=\"text-align: right;\">\n",
       "      <th></th>\n",
       "      <th>Country Code</th>\n",
       "      <th>Country</th>\n",
       "      <th>HDI</th>\n",
       "      <th>Total Cases</th>\n",
       "      <th>Total Deaths</th>\n",
       "      <th>Stringency Index</th>\n",
       "      <th>Population</th>\n",
       "      <th>GDP Per Capita Before Covid</th>\n",
       "      <th>GDP Per Capita During Covid</th>\n",
       "      <th>GDP Per Capita After Covid</th>\n",
       "      <th>Cases Per Capita</th>\n",
       "      <th>Cases Per Thousand</th>\n",
       "      <th>percentage_of_deaths</th>\n",
       "      <th>Bounce Back</th>\n",
       "      <th>Bounce Back Percentage</th>\n",
       "    </tr>\n",
       "  </thead>\n",
       "  <tbody>\n",
       "    <tr>\n",
       "      <th>138</th>\n",
       "      <td>NZL</td>\n",
       "      <td>Saudi Arabia</td>\n",
       "      <td>0.673116</td>\n",
       "      <td>38585191.0</td>\n",
       "      <td>442507.0</td>\n",
       "      <td>3.263361</td>\n",
       "      <td>2.747217e+07</td>\n",
       "      <td>47024.5430</td>\n",
       "      <td>46768.4340</td>\n",
       "      <td>50188.2970</td>\n",
       "      <td>1.404519</td>\n",
       "      <td>1404.519373</td>\n",
       "      <td>1.146831</td>\n",
       "      <td>3419.8630</td>\n",
       "      <td>7.312332</td>\n",
       "    </tr>\n",
       "    <tr>\n",
       "      <th>36</th>\n",
       "      <td>CPV</td>\n",
       "      <td>Colombia</td>\n",
       "      <td>0.581847</td>\n",
       "      <td>60543682.0</td>\n",
       "      <td>1936134.0</td>\n",
       "      <td>3.357923</td>\n",
       "      <td>3.963327e+07</td>\n",
       "      <td>14616.1350</td>\n",
       "      <td>14661.2130</td>\n",
       "      <td>15616.7520</td>\n",
       "      <td>1.527598</td>\n",
       "      <td>1527.597569</td>\n",
       "      <td>3.197913</td>\n",
       "      <td>955.5390</td>\n",
       "      <td>6.517462</td>\n",
       "    </tr>\n",
       "    <tr>\n",
       "      <th>74</th>\n",
       "      <td>GHA</td>\n",
       "      <td>India</td>\n",
       "      <td>0.640000</td>\n",
       "      <td>407771615.0</td>\n",
       "      <td>7247327.0</td>\n",
       "      <td>3.610552</td>\n",
       "      <td>1.380004e+09</td>\n",
       "      <td>6617.1300</td>\n",
       "      <td>6677.1850</td>\n",
       "      <td>7112.0396</td>\n",
       "      <td>0.295486</td>\n",
       "      <td>295.485739</td>\n",
       "      <td>1.777301</td>\n",
       "      <td>434.8546</td>\n",
       "      <td>6.512544</td>\n",
       "    </tr>\n",
       "    <tr>\n",
       "      <th>12</th>\n",
       "      <td>AZE</td>\n",
       "      <td>Bangladesh</td>\n",
       "      <td>0.477714</td>\n",
       "      <td>35266178.0</td>\n",
       "      <td>484534.0</td>\n",
       "      <td>3.186410</td>\n",
       "      <td>1.293988e+08</td>\n",
       "      <td>5467.2075</td>\n",
       "      <td>5911.0130</td>\n",
       "      <td>6263.0044</td>\n",
       "      <td>0.272539</td>\n",
       "      <td>272.538677</td>\n",
       "      <td>1.373934</td>\n",
       "      <td>351.9914</td>\n",
       "      <td>5.954841</td>\n",
       "    </tr>\n",
       "    <tr>\n",
       "      <th>151</th>\n",
       "      <td>PHL</td>\n",
       "      <td>Spain</td>\n",
       "      <td>0.887969</td>\n",
       "      <td>73717676.0</td>\n",
       "      <td>5510624.0</td>\n",
       "      <td>3.393922</td>\n",
       "      <td>4.659575e+07</td>\n",
       "      <td>40782.2340</td>\n",
       "      <td>38319.2900</td>\n",
       "      <td>40223.0100</td>\n",
       "      <td>1.582069</td>\n",
       "      <td>1582.068559</td>\n",
       "      <td>7.475309</td>\n",
       "      <td>1903.7200</td>\n",
       "      <td>4.968046</td>\n",
       "    </tr>\n",
       "    <tr>\n",
       "      <th>163</th>\n",
       "      <td>STP</td>\n",
       "      <td>Turkey</td>\n",
       "      <td>0.591905</td>\n",
       "      <td>41431948.0</td>\n",
       "      <td>1049757.0</td>\n",
       "      <td>3.041418</td>\n",
       "      <td>6.311087e+07</td>\n",
       "      <td>28476.6840</td>\n",
       "      <td>31722.1600</td>\n",
       "      <td>33149.5000</td>\n",
       "      <td>0.656495</td>\n",
       "      <td>656.494679</td>\n",
       "      <td>2.533690</td>\n",
       "      <td>1427.3400</td>\n",
       "      <td>4.499504</td>\n",
       "    </tr>\n",
       "    <tr>\n",
       "      <th>168</th>\n",
       "      <td>SLE</td>\n",
       "      <td>United Kingdom</td>\n",
       "      <td>0.922000</td>\n",
       "      <td>59475032.0</td>\n",
       "      <td>7249573.0</td>\n",
       "      <td>3.353883</td>\n",
       "      <td>6.788600e+07</td>\n",
       "      <td>46909.0800</td>\n",
       "      <td>45567.5700</td>\n",
       "      <td>47587.1680</td>\n",
       "      <td>0.876102</td>\n",
       "      <td>876.101530</td>\n",
       "      <td>12.189271</td>\n",
       "      <td>2019.5980</td>\n",
       "      <td>4.432095</td>\n",
       "    </tr>\n",
       "    <tr>\n",
       "      <th>80</th>\n",
       "      <td>GTM</td>\n",
       "      <td>Italy</td>\n",
       "      <td>0.880000</td>\n",
       "      <td>50752853.0</td>\n",
       "      <td>6664225.0</td>\n",
       "      <td>3.629838</td>\n",
       "      <td>6.046183e+07</td>\n",
       "      <td>42739.0500</td>\n",
       "      <td>42562.5550</td>\n",
       "      <td>44292.1900</td>\n",
       "      <td>0.839420</td>\n",
       "      <td>839.419758</td>\n",
       "      <td>13.130740</td>\n",
       "      <td>1729.6350</td>\n",
       "      <td>4.063748</td>\n",
       "    </tr>\n",
       "    <tr>\n",
       "      <th>4</th>\n",
       "      <td>AGO</td>\n",
       "      <td>Argentina</td>\n",
       "      <td>0.707143</td>\n",
       "      <td>47155234.0</td>\n",
       "      <td>1077426.0</td>\n",
       "      <td>3.475438</td>\n",
       "      <td>3.873924e+07</td>\n",
       "      <td>22071.7480</td>\n",
       "      <td>21599.7970</td>\n",
       "      <td>22461.4410</td>\n",
       "      <td>1.217247</td>\n",
       "      <td>1217.247347</td>\n",
       "      <td>2.284849</td>\n",
       "      <td>861.6440</td>\n",
       "      <td>3.989130</td>\n",
       "    </tr>\n",
       "    <tr>\n",
       "      <th>104</th>\n",
       "      <td>OWID_KOS</td>\n",
       "      <td>Mexico</td>\n",
       "      <td>0.774000</td>\n",
       "      <td>74347548.0</td>\n",
       "      <td>7295850.0</td>\n",
       "      <td>3.019289</td>\n",
       "      <td>1.289328e+08</td>\n",
       "      <td>20553.9550</td>\n",
       "      <td>19617.7600</td>\n",
       "      <td>20254.7810</td>\n",
       "      <td>0.576638</td>\n",
       "      <td>576.638180</td>\n",
       "      <td>9.813168</td>\n",
       "      <td>637.0210</td>\n",
       "      <td>3.247165</td>\n",
       "    </tr>\n",
       "    <tr>\n",
       "      <th>76</th>\n",
       "      <td>GRC</td>\n",
       "      <td>Iran</td>\n",
       "      <td>0.798000</td>\n",
       "      <td>52421884.0</td>\n",
       "      <td>2914070.0</td>\n",
       "      <td>3.207064</td>\n",
       "      <td>8.399295e+07</td>\n",
       "      <td>14084.3540</td>\n",
       "      <td>15004.6875</td>\n",
       "      <td>15461.0790</td>\n",
       "      <td>0.624122</td>\n",
       "      <td>624.122407</td>\n",
       "      <td>5.558881</td>\n",
       "      <td>456.3915</td>\n",
       "      <td>3.041659</td>\n",
       "    </tr>\n",
       "    <tr>\n",
       "      <th>120</th>\n",
       "      <td>MDV</td>\n",
       "      <td>Pakistan</td>\n",
       "      <td>0.562000</td>\n",
       "      <td>37738077.0</td>\n",
       "      <td>789557.0</td>\n",
       "      <td>3.385802</td>\n",
       "      <td>2.208923e+08</td>\n",
       "      <td>5157.5464</td>\n",
       "      <td>5233.4595</td>\n",
       "      <td>5376.9670</td>\n",
       "      <td>0.170844</td>\n",
       "      <td>170.843763</td>\n",
       "      <td>2.092203</td>\n",
       "      <td>143.5075</td>\n",
       "      <td>2.742115</td>\n",
       "    </tr>\n",
       "    <tr>\n",
       "      <th>22</th>\n",
       "      <td>BTN</td>\n",
       "      <td>Brazil</td>\n",
       "      <td>0.759000</td>\n",
       "      <td>425704517.0</td>\n",
       "      <td>14340567.0</td>\n",
       "      <td>3.136028</td>\n",
       "      <td>2.125594e+08</td>\n",
       "      <td>14685.1280</td>\n",
       "      <td>14735.5820</td>\n",
       "      <td>15093.4650</td>\n",
       "      <td>2.002755</td>\n",
       "      <td>2002.755460</td>\n",
       "      <td>3.368667</td>\n",
       "      <td>357.8830</td>\n",
       "      <td>2.428699</td>\n",
       "    </tr>\n",
       "    <tr>\n",
       "      <th>57</th>\n",
       "      <td>ECU</td>\n",
       "      <td>France</td>\n",
       "      <td>0.901000</td>\n",
       "      <td>50084335.0</td>\n",
       "      <td>5633444.0</td>\n",
       "      <td>3.385794</td>\n",
       "      <td>6.527351e+07</td>\n",
       "      <td>45922.7930</td>\n",
       "      <td>44941.4380</td>\n",
       "      <td>45904.4100</td>\n",
       "      <td>0.767300</td>\n",
       "      <td>767.299529</td>\n",
       "      <td>11.247916</td>\n",
       "      <td>962.9720</td>\n",
       "      <td>2.142726</td>\n",
       "    </tr>\n",
       "    <tr>\n",
       "      <th>34</th>\n",
       "      <td>CMR</td>\n",
       "      <td>Chile</td>\n",
       "      <td>0.656622</td>\n",
       "      <td>51268034.0</td>\n",
       "      <td>1283880.0</td>\n",
       "      <td>2.989194</td>\n",
       "      <td>1.488984e+07</td>\n",
       "      <td>24809.8610</td>\n",
       "      <td>25412.7520</td>\n",
       "      <td>25886.1210</td>\n",
       "      <td>3.443156</td>\n",
       "      <td>3443.156331</td>\n",
       "      <td>2.504251</td>\n",
       "      <td>473.3690</td>\n",
       "      <td>1.862722</td>\n",
       "    </tr>\n",
       "    <tr>\n",
       "      <th>125</th>\n",
       "      <td>MEX</td>\n",
       "      <td>Peru</td>\n",
       "      <td>0.599490</td>\n",
       "      <td>74882695.0</td>\n",
       "      <td>3020038.0</td>\n",
       "      <td>3.430126</td>\n",
       "      <td>2.635505e+07</td>\n",
       "      <td>12735.1680</td>\n",
       "      <td>12533.8420</td>\n",
       "      <td>12743.9420</td>\n",
       "      <td>2.841304</td>\n",
       "      <td>2841.303796</td>\n",
       "      <td>4.033025</td>\n",
       "      <td>210.1000</td>\n",
       "      <td>1.676262</td>\n",
       "    </tr>\n",
       "    <tr>\n",
       "      <th>169</th>\n",
       "      <td>SGP</td>\n",
       "      <td>United States</td>\n",
       "      <td>0.924000</td>\n",
       "      <td>746014098.0</td>\n",
       "      <td>26477574.0</td>\n",
       "      <td>3.350949</td>\n",
       "      <td>3.310026e+08</td>\n",
       "      <td>62470.9300</td>\n",
       "      <td>63635.8240</td>\n",
       "      <td>64623.1250</td>\n",
       "      <td>2.253801</td>\n",
       "      <td>2253.801004</td>\n",
       "      <td>3.549206</td>\n",
       "      <td>987.3010</td>\n",
       "      <td>1.551486</td>\n",
       "    </tr>\n",
       "    <tr>\n",
       "      <th>61</th>\n",
       "      <td>ERI</td>\n",
       "      <td>Germany</td>\n",
       "      <td>0.936000</td>\n",
       "      <td>42447678.0</td>\n",
       "      <td>1640691.0</td>\n",
       "      <td>3.284516</td>\n",
       "      <td>8.378394e+07</td>\n",
       "      <td>53884.3750</td>\n",
       "      <td>53395.6500</td>\n",
       "      <td>53969.6250</td>\n",
       "      <td>0.506633</td>\n",
       "      <td>506.632601</td>\n",
       "      <td>3.865208</td>\n",
       "      <td>573.9750</td>\n",
       "      <td>1.074947</td>\n",
       "    </tr>\n",
       "    <tr>\n",
       "      <th>149</th>\n",
       "      <td>PRY</td>\n",
       "      <td>South Africa</td>\n",
       "      <td>0.608653</td>\n",
       "      <td>63027659.0</td>\n",
       "      <td>1357682.0</td>\n",
       "      <td>3.364333</td>\n",
       "      <td>5.164294e+07</td>\n",
       "      <td>13850.8955</td>\n",
       "      <td>13337.7900</td>\n",
       "      <td>13478.7540</td>\n",
       "      <td>1.220451</td>\n",
       "      <td>1220.450614</td>\n",
       "      <td>2.154105</td>\n",
       "      <td>140.9640</td>\n",
       "      <td>1.056877</td>\n",
       "    </tr>\n",
       "    <tr>\n",
       "      <th>132</th>\n",
       "      <td>MOZ</td>\n",
       "      <td>Russia</td>\n",
       "      <td>0.816000</td>\n",
       "      <td>132888951.0</td>\n",
       "      <td>2131571.0</td>\n",
       "      <td>3.380088</td>\n",
       "      <td>1.459345e+08</td>\n",
       "      <td>27254.5740</td>\n",
       "      <td>28057.0310</td>\n",
       "      <td>27450.4500</td>\n",
       "      <td>0.910607</td>\n",
       "      <td>910.607070</td>\n",
       "      <td>1.604024</td>\n",
       "      <td>-606.5810</td>\n",
       "      <td>-2.161957</td>\n",
       "    </tr>\n",
       "  </tbody>\n",
       "</table>\n",
       "</div>"
      ],
      "text/plain": [
       "    Country Code         Country       HDI  Total Cases  Total Deaths  \\\n",
       "138          NZL    Saudi Arabia  0.673116   38585191.0      442507.0   \n",
       "36           CPV        Colombia  0.581847   60543682.0     1936134.0   \n",
       "74           GHA           India  0.640000  407771615.0     7247327.0   \n",
       "12           AZE      Bangladesh  0.477714   35266178.0      484534.0   \n",
       "151          PHL           Spain  0.887969   73717676.0     5510624.0   \n",
       "163          STP          Turkey  0.591905   41431948.0     1049757.0   \n",
       "168          SLE  United Kingdom  0.922000   59475032.0     7249573.0   \n",
       "80           GTM           Italy  0.880000   50752853.0     6664225.0   \n",
       "4            AGO       Argentina  0.707143   47155234.0     1077426.0   \n",
       "104     OWID_KOS          Mexico  0.774000   74347548.0     7295850.0   \n",
       "76           GRC            Iran  0.798000   52421884.0     2914070.0   \n",
       "120          MDV        Pakistan  0.562000   37738077.0      789557.0   \n",
       "22           BTN          Brazil  0.759000  425704517.0    14340567.0   \n",
       "57           ECU          France  0.901000   50084335.0     5633444.0   \n",
       "34           CMR           Chile  0.656622   51268034.0     1283880.0   \n",
       "125          MEX            Peru  0.599490   74882695.0     3020038.0   \n",
       "169          SGP   United States  0.924000  746014098.0    26477574.0   \n",
       "61           ERI         Germany  0.936000   42447678.0     1640691.0   \n",
       "149          PRY    South Africa  0.608653   63027659.0     1357682.0   \n",
       "132          MOZ          Russia  0.816000  132888951.0     2131571.0   \n",
       "\n",
       "     Stringency Index    Population  GDP Per Capita Before Covid  \\\n",
       "138          3.263361  2.747217e+07                   47024.5430   \n",
       "36           3.357923  3.963327e+07                   14616.1350   \n",
       "74           3.610552  1.380004e+09                    6617.1300   \n",
       "12           3.186410  1.293988e+08                    5467.2075   \n",
       "151          3.393922  4.659575e+07                   40782.2340   \n",
       "163          3.041418  6.311087e+07                   28476.6840   \n",
       "168          3.353883  6.788600e+07                   46909.0800   \n",
       "80           3.629838  6.046183e+07                   42739.0500   \n",
       "4            3.475438  3.873924e+07                   22071.7480   \n",
       "104          3.019289  1.289328e+08                   20553.9550   \n",
       "76           3.207064  8.399295e+07                   14084.3540   \n",
       "120          3.385802  2.208923e+08                    5157.5464   \n",
       "22           3.136028  2.125594e+08                   14685.1280   \n",
       "57           3.385794  6.527351e+07                   45922.7930   \n",
       "34           2.989194  1.488984e+07                   24809.8610   \n",
       "125          3.430126  2.635505e+07                   12735.1680   \n",
       "169          3.350949  3.310026e+08                   62470.9300   \n",
       "61           3.284516  8.378394e+07                   53884.3750   \n",
       "149          3.364333  5.164294e+07                   13850.8955   \n",
       "132          3.380088  1.459345e+08                   27254.5740   \n",
       "\n",
       "     GDP Per Capita During Covid  GDP Per Capita After Covid  \\\n",
       "138                   46768.4340                  50188.2970   \n",
       "36                    14661.2130                  15616.7520   \n",
       "74                     6677.1850                   7112.0396   \n",
       "12                     5911.0130                   6263.0044   \n",
       "151                   38319.2900                  40223.0100   \n",
       "163                   31722.1600                  33149.5000   \n",
       "168                   45567.5700                  47587.1680   \n",
       "80                    42562.5550                  44292.1900   \n",
       "4                     21599.7970                  22461.4410   \n",
       "104                   19617.7600                  20254.7810   \n",
       "76                    15004.6875                  15461.0790   \n",
       "120                    5233.4595                   5376.9670   \n",
       "22                    14735.5820                  15093.4650   \n",
       "57                    44941.4380                  45904.4100   \n",
       "34                    25412.7520                  25886.1210   \n",
       "125                   12533.8420                  12743.9420   \n",
       "169                   63635.8240                  64623.1250   \n",
       "61                    53395.6500                  53969.6250   \n",
       "149                   13337.7900                  13478.7540   \n",
       "132                   28057.0310                  27450.4500   \n",
       "\n",
       "     Cases Per Capita  Cases Per Thousand  percentage_of_deaths  Bounce Back  \\\n",
       "138          1.404519         1404.519373              1.146831    3419.8630   \n",
       "36           1.527598         1527.597569              3.197913     955.5390   \n",
       "74           0.295486          295.485739              1.777301     434.8546   \n",
       "12           0.272539          272.538677              1.373934     351.9914   \n",
       "151          1.582069         1582.068559              7.475309    1903.7200   \n",
       "163          0.656495          656.494679              2.533690    1427.3400   \n",
       "168          0.876102          876.101530             12.189271    2019.5980   \n",
       "80           0.839420          839.419758             13.130740    1729.6350   \n",
       "4            1.217247         1217.247347              2.284849     861.6440   \n",
       "104          0.576638          576.638180              9.813168     637.0210   \n",
       "76           0.624122          624.122407              5.558881     456.3915   \n",
       "120          0.170844          170.843763              2.092203     143.5075   \n",
       "22           2.002755         2002.755460              3.368667     357.8830   \n",
       "57           0.767300          767.299529             11.247916     962.9720   \n",
       "34           3.443156         3443.156331              2.504251     473.3690   \n",
       "125          2.841304         2841.303796              4.033025     210.1000   \n",
       "169          2.253801         2253.801004              3.549206     987.3010   \n",
       "61           0.506633          506.632601              3.865208     573.9750   \n",
       "149          1.220451         1220.450614              2.154105     140.9640   \n",
       "132          0.910607          910.607070              1.604024    -606.5810   \n",
       "\n",
       "     Bounce Back Percentage  \n",
       "138                7.312332  \n",
       "36                 6.517462  \n",
       "74                 6.512544  \n",
       "12                 5.954841  \n",
       "151                4.968046  \n",
       "163                4.499504  \n",
       "168                4.432095  \n",
       "80                 4.063748  \n",
       "4                  3.989130  \n",
       "104                3.247165  \n",
       "76                 3.041659  \n",
       "120                2.742115  \n",
       "22                 2.428699  \n",
       "57                 2.142726  \n",
       "34                 1.862722  \n",
       "125                1.676262  \n",
       "169                1.551486  \n",
       "61                 1.074947  \n",
       "149                1.056877  \n",
       "132               -2.161957  "
      ]
     },
     "execution_count": 35,
     "metadata": {},
     "output_type": "execute_result"
    }
   ],
   "source": [
    "top_countries = data.sort_values(by=\"Total Cases\", ascending=False).head(20)\n",
    "top_countries_sorted = top_countries.sort_values(by=\"Bounce Back Percentage\", ascending=False)\n",
    "top_countries_sorted"
   ]
  },
  {
   "cell_type": "markdown",
   "metadata": {},
   "source": [
    "The above scatter plot and table tell us what kind of recovery in their economy countries were able to gain, vs what kind of stringency they showed with respect to the lockdown rules. \\\n",
    "We see that out of the countries that had a large number of cases, India seems to have gotten quite a bounce back in the economy, while having a comparatively high stringency index, \\\n",
    "whereas the United States, which had lower stringency, had a lower increase in the GDP per capita compared to covid. Do note that the US never had a drop in the GDP per capita during covid either and kept gradually increasing, which might play a factor here."
   ]
  }
 ],
 "metadata": {
  "kernelspec": {
   "display_name": "covid-analysis-py3.12",
   "language": "python",
   "name": "covid-analysis-py3.12"
  },
  "language_info": {
   "codemirror_mode": {
    "name": "ipython",
    "version": 3
   },
   "file_extension": ".py",
   "mimetype": "text/x-python",
   "name": "python",
   "nbconvert_exporter": "python",
   "pygments_lexer": "ipython3",
   "version": "3.12.4"
  }
 },
 "nbformat": 4,
 "nbformat_minor": 2
}
